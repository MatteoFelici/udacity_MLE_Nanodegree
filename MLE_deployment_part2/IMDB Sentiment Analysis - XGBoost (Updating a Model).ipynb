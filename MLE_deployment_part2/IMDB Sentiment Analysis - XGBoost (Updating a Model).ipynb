{
 "cells": [
  {
   "cell_type": "markdown",
   "metadata": {},
   "source": [
    "# Sentiment Analysis\n",
    "\n",
    "## Updating a Model in SageMaker\n",
    "\n",
    "_Deep Learning Nanodegree Program | Deployment_\n",
    "\n",
    "---\n",
    "\n",
    "In this notebook we will consider a situation in which a model that we constructed is no longer working as we intended. In particular, we will look at the XGBoost sentiment analysis model that we constructed earlier. In this case, however, we have some new data that our model doesn't seem to perform very well on. As a result, we will re-train our model and update an existing endpoint so that it uses our new model.\n",
    "\n",
    "This notebook starts by re-creating the XGBoost sentiment analysis model that was created in earlier notebooks. This means that you will have already seen the cells up to the end of Step 4. The new content in this notebook begins at Step 5.\n",
    "\n",
    "## Instructions\n",
    "\n",
    "Some template code has already been provided for you, and you will need to implement additional functionality to successfully complete this notebook. You will not need to modify the included code beyond what is requested. Sections that begin with '**TODO**' in the header indicate that you need to complete or implement some portion within them. Instructions will be provided for each section and the specifics of the implementation are marked in the code block with a `# TODO: ...` comment. Please be sure to read the instructions carefully!\n",
    "\n",
    "In addition to implementing code, there will be questions for you to answer which relate to the task and your implementation. Each section where you will answer a question is preceded by a '**Question:**' header. Carefully read each question and provide your answer below the '**Answer:**' header by editing the Markdown cell.\n",
    "\n",
    "> **Note**: Code and Markdown cells can be executed using the **Shift+Enter** keyboard shortcut. In addition, a cell can be edited by typically clicking it (double-click for Markdown cells) or by pressing **Enter** while it is highlighted."
   ]
  },
  {
   "cell_type": "markdown",
   "metadata": {},
   "source": [
    "## Step 1: Downloading the data\n",
    "\n",
    "The dataset we are going to use is very popular among researchers in Natural Language Processing, usually referred to as the [IMDb dataset](http://ai.stanford.edu/~amaas/data/sentiment/). It consists of movie reviews from the website [imdb.com](http://www.imdb.com/), each labeled as either '**pos**itive', if the reviewer enjoyed the film, or '**neg**ative' otherwise.\n",
    "\n",
    "> Maas, Andrew L., et al. [Learning Word Vectors for Sentiment Analysis](http://ai.stanford.edu/~amaas/data/sentiment/). In _Proceedings of the 49th Annual Meeting of the Association for Computational Linguistics: Human Language Technologies_. Association for Computational Linguistics, 2011.\n",
    "\n",
    "We begin by using some Jupyter Notebook magic to download and extract the dataset."
   ]
  },
  {
   "cell_type": "code",
   "execution_count": 1,
   "metadata": {},
   "outputs": [
    {
     "name": "stdout",
     "output_type": "stream",
     "text": [
      "mkdir: cannot create directory ‘../data’: File exists\n",
      "--2019-11-16 15:15:34--  http://ai.stanford.edu/~amaas/data/sentiment/aclImdb_v1.tar.gz\n",
      "Resolving ai.stanford.edu (ai.stanford.edu)... 171.64.68.10\n",
      "Connecting to ai.stanford.edu (ai.stanford.edu)|171.64.68.10|:80... connected.\n",
      "HTTP request sent, awaiting response... 200 OK\n",
      "Length: 84125825 (80M) [application/x-gzip]\n",
      "Saving to: ‘../data/aclImdb_v1.tar.gz’\n",
      "\n",
      "../data/aclImdb_v1. 100%[===================>]  80.23M  9.93MB/s    in 9.5s    \n",
      "\n",
      "2019-11-16 15:15:44 (8.47 MB/s) - ‘../data/aclImdb_v1.tar.gz’ saved [84125825/84125825]\n",
      "\n"
     ]
    }
   ],
   "source": [
    "%mkdir ../data\n",
    "!wget -O ../data/aclImdb_v1.tar.gz http://ai.stanford.edu/~amaas/data/sentiment/aclImdb_v1.tar.gz\n",
    "!tar -zxf ../data/aclImdb_v1.tar.gz -C ../data"
   ]
  },
  {
   "cell_type": "markdown",
   "metadata": {},
   "source": [
    "## Step 2: Preparing the data\n",
    "\n",
    "The data we have downloaded is split into various files, each of which contains a single review. It will be much easier going forward if we combine these individual files into two large files, one for training and one for testing."
   ]
  },
  {
   "cell_type": "code",
   "execution_count": 1,
   "metadata": {},
   "outputs": [],
   "source": [
    "import os\n",
    "import glob\n",
    "\n",
    "def read_imdb_data(data_dir='../data/aclImdb'):\n",
    "    data = {}\n",
    "    labels = {}\n",
    "    \n",
    "    for data_type in ['train', 'test']:\n",
    "        data[data_type] = {}\n",
    "        labels[data_type] = {}\n",
    "        \n",
    "        for sentiment in ['pos', 'neg']:\n",
    "            data[data_type][sentiment] = []\n",
    "            labels[data_type][sentiment] = []\n",
    "            \n",
    "            path = os.path.join(data_dir, data_type, sentiment, '*.txt')\n",
    "            files = glob.glob(path)\n",
    "            \n",
    "            for f in files:\n",
    "                with open(f) as review:\n",
    "                    data[data_type][sentiment].append(review.read())\n",
    "                    # Here we represent a positive review by '1' and a negative review by '0'\n",
    "                    labels[data_type][sentiment].append(1 if sentiment == 'pos' else 0)\n",
    "                    \n",
    "            assert len(data[data_type][sentiment]) == len(labels[data_type][sentiment]), \\\n",
    "                    \"{}/{} data size does not match labels size\".format(data_type, sentiment)\n",
    "                \n",
    "    return data, labels"
   ]
  },
  {
   "cell_type": "code",
   "execution_count": 2,
   "metadata": {},
   "outputs": [
    {
     "name": "stdout",
     "output_type": "stream",
     "text": [
      "IMDB reviews: train = 12500 pos / 12500 neg, test = 12500 pos / 12500 neg\n"
     ]
    }
   ],
   "source": [
    "data, labels = read_imdb_data()\n",
    "print(\"IMDB reviews: train = {} pos / {} neg, test = {} pos / {} neg\".format(\n",
    "            len(data['train']['pos']), len(data['train']['neg']),\n",
    "            len(data['test']['pos']), len(data['test']['neg'])))"
   ]
  },
  {
   "cell_type": "code",
   "execution_count": 3,
   "metadata": {},
   "outputs": [],
   "source": [
    "from sklearn.utils import shuffle\n",
    "\n",
    "def prepare_imdb_data(data, labels):\n",
    "    \"\"\"Prepare training and test sets from IMDb movie reviews.\"\"\"\n",
    "    \n",
    "    #Combine positive and negative reviews and labels\n",
    "    data_train = data['train']['pos'] + data['train']['neg']\n",
    "    data_test = data['test']['pos'] + data['test']['neg']\n",
    "    labels_train = labels['train']['pos'] + labels['train']['neg']\n",
    "    labels_test = labels['test']['pos'] + labels['test']['neg']\n",
    "    \n",
    "    #Shuffle reviews and corresponding labels within training and test sets\n",
    "    data_train, labels_train = shuffle(data_train, labels_train)\n",
    "    data_test, labels_test = shuffle(data_test, labels_test)\n",
    "    \n",
    "    # Return a unified training data, test data, training labels, test labets\n",
    "    return data_train, data_test, labels_train, labels_test"
   ]
  },
  {
   "cell_type": "code",
   "execution_count": 4,
   "metadata": {},
   "outputs": [
    {
     "name": "stdout",
     "output_type": "stream",
     "text": [
      "IMDb reviews (combined): train = 25000, test = 25000\n"
     ]
    }
   ],
   "source": [
    "train_X, test_X, train_y, test_y = prepare_imdb_data(data, labels)\n",
    "print(\"IMDb reviews (combined): train = {}, test = {}\".format(len(train_X), len(test_X)))"
   ]
  },
  {
   "cell_type": "code",
   "execution_count": 5,
   "metadata": {},
   "outputs": [
    {
     "data": {
      "text/plain": [
       "'I first saw this movie on a local station on the Sunday afternoon horror show back around 1969 or 1970. Uncut. I was just a little kid at the time, but I loved it and wasn\\'t really that scared by it. I thought it had such a cool and highly original storyline. Thinking back, I\\'m still surprised that it was shown during the day on T.V. uncut in those years. I\\'ve sought out this film ever since, seen it over and over again, and always loved it. One would think John Waters would have idolized this film. It\\'s got to be not only a scary film, but one of the sleaziest, trashiest films ever made at that time. And surprisingly, you don\\'t hear about this one as having the cult following that a movie such as \"Blood Feast\" or \"The Hills Have Eyes\" have acquired over the years. It has a cult following, but it should have really become a cult classic, in my opinion. As far as I know, this came out a little before Blood Feast came out, making this probably one of the first true \"gore\" films. In fact, this movie has elements of Hershell Gordon Lewis AND a little Russ Meyer thrown in for good measure.<br /><br />Anyway, I recommend this for anyone who likes trashy, sleazy, black and white horror films from the early \\'60\\'s (I think the date at the end of it read 1960).'"
      ]
     },
     "execution_count": 5,
     "metadata": {},
     "output_type": "execute_result"
    }
   ],
   "source": [
    "train_X[100]"
   ]
  },
  {
   "cell_type": "markdown",
   "metadata": {},
   "source": [
    "## Step 3: Processing the data\n",
    "\n",
    "Now that we have our training and testing datasets merged and ready to use, we need to start processing the raw data into something that will be useable by our machine learning algorithm. To begin with, we remove any html formatting that may appear in the reviews and perform some standard natural language processing in order to homogenize the data."
   ]
  },
  {
   "cell_type": "code",
   "execution_count": 6,
   "metadata": {},
   "outputs": [
    {
     "name": "stdout",
     "output_type": "stream",
     "text": [
      "[nltk_data] Downloading package stopwords to\n",
      "[nltk_data]     /home/ec2-user/nltk_data...\n",
      "[nltk_data]   Package stopwords is already up-to-date!\n"
     ]
    }
   ],
   "source": [
    "import nltk\n",
    "nltk.download(\"stopwords\")\n",
    "from nltk.corpus import stopwords\n",
    "from nltk.stem.porter import *\n",
    "stemmer = PorterStemmer()"
   ]
  },
  {
   "cell_type": "code",
   "execution_count": 7,
   "metadata": {},
   "outputs": [],
   "source": [
    "import re\n",
    "from bs4 import BeautifulSoup\n",
    "\n",
    "def review_to_words(review):\n",
    "    text = BeautifulSoup(review, \"html.parser\").get_text() # Remove HTML tags\n",
    "    text = re.sub(r\"[^a-zA-Z0-9]\", \" \", text.lower()) # Convert to lower case\n",
    "    words = text.split() # Split string into words\n",
    "    words = [w for w in words if w not in stopwords.words(\"english\")] # Remove stopwords\n",
    "    words = [PorterStemmer().stem(w) for w in words] # stem\n",
    "    \n",
    "    return words"
   ]
  },
  {
   "cell_type": "code",
   "execution_count": 8,
   "metadata": {
    "collapsed": true,
    "jupyter": {
     "outputs_hidden": true
    }
   },
   "outputs": [
    {
     "data": {
      "text/plain": [
       "['first',\n",
       " 'saw',\n",
       " 'movi',\n",
       " 'local',\n",
       " 'station',\n",
       " 'sunday',\n",
       " 'afternoon',\n",
       " 'horror',\n",
       " 'show',\n",
       " 'back',\n",
       " 'around',\n",
       " '1969',\n",
       " '1970',\n",
       " 'uncut',\n",
       " 'littl',\n",
       " 'kid',\n",
       " 'time',\n",
       " 'love',\n",
       " 'realli',\n",
       " 'scare',\n",
       " 'thought',\n",
       " 'cool',\n",
       " 'highli',\n",
       " 'origin',\n",
       " 'storylin',\n",
       " 'think',\n",
       " 'back',\n",
       " 'still',\n",
       " 'surpris',\n",
       " 'shown',\n",
       " 'day',\n",
       " 'v',\n",
       " 'uncut',\n",
       " 'year',\n",
       " 'sought',\n",
       " 'film',\n",
       " 'ever',\n",
       " 'sinc',\n",
       " 'seen',\n",
       " 'alway',\n",
       " 'love',\n",
       " 'one',\n",
       " 'would',\n",
       " 'think',\n",
       " 'john',\n",
       " 'water',\n",
       " 'would',\n",
       " 'idol',\n",
       " 'film',\n",
       " 'got',\n",
       " 'scari',\n",
       " 'film',\n",
       " 'one',\n",
       " 'sleaziest',\n",
       " 'trashiest',\n",
       " 'film',\n",
       " 'ever',\n",
       " 'made',\n",
       " 'time',\n",
       " 'surprisingli',\n",
       " 'hear',\n",
       " 'one',\n",
       " 'cult',\n",
       " 'follow',\n",
       " 'movi',\n",
       " 'blood',\n",
       " 'feast',\n",
       " 'hill',\n",
       " 'eye',\n",
       " 'acquir',\n",
       " 'year',\n",
       " 'cult',\n",
       " 'follow',\n",
       " 'realli',\n",
       " 'becom',\n",
       " 'cult',\n",
       " 'classic',\n",
       " 'opinion',\n",
       " 'far',\n",
       " 'know',\n",
       " 'came',\n",
       " 'littl',\n",
       " 'blood',\n",
       " 'feast',\n",
       " 'came',\n",
       " 'make',\n",
       " 'probabl',\n",
       " 'one',\n",
       " 'first',\n",
       " 'true',\n",
       " 'gore',\n",
       " 'film',\n",
       " 'fact',\n",
       " 'movi',\n",
       " 'element',\n",
       " 'hershel',\n",
       " 'gordon',\n",
       " 'lewi',\n",
       " 'littl',\n",
       " 'russ',\n",
       " 'meyer',\n",
       " 'thrown',\n",
       " 'good',\n",
       " 'measur',\n",
       " 'anyway',\n",
       " 'recommend',\n",
       " 'anyon',\n",
       " 'like',\n",
       " 'trashi',\n",
       " 'sleazi',\n",
       " 'black',\n",
       " 'white',\n",
       " 'horror',\n",
       " 'film',\n",
       " 'earli',\n",
       " '60',\n",
       " 'think',\n",
       " 'date',\n",
       " 'end',\n",
       " 'read',\n",
       " '1960']"
      ]
     },
     "execution_count": 8,
     "metadata": {},
     "output_type": "execute_result"
    }
   ],
   "source": [
    "review_to_words(train_X[100])"
   ]
  },
  {
   "cell_type": "code",
   "execution_count": 9,
   "metadata": {},
   "outputs": [],
   "source": [
    "import pickle\n",
    "\n",
    "cache_dir = os.path.join(\"../cache\", \"sentiment_analysis\")  # where to store cache files\n",
    "os.makedirs(cache_dir, exist_ok=True)  # ensure cache directory exists\n",
    "\n",
    "def preprocess_data(data_train, data_test, labels_train, labels_test,\n",
    "                    cache_dir=cache_dir, cache_file=\"preprocessed_data.pkl\"):\n",
    "    \"\"\"Convert each review to words; read from cache if available.\"\"\"\n",
    "\n",
    "    # If cache_file is not None, try to read from it first\n",
    "    cache_data = None\n",
    "    if cache_file is not None:\n",
    "        try:\n",
    "            with open(os.path.join(cache_dir, cache_file), \"rb\") as f:\n",
    "                cache_data = pickle.load(f)\n",
    "            print(\"Read preprocessed data from cache file:\", cache_file)\n",
    "        except:\n",
    "            pass  # unable to read from cache, but that's okay\n",
    "    \n",
    "    # If cache is missing, then do the heavy lifting\n",
    "    if cache_data is None:\n",
    "        # Preprocess training and test data to obtain words for each review\n",
    "        #words_train = list(map(review_to_words, data_train))\n",
    "        #words_test = list(map(review_to_words, data_test))\n",
    "        words_train = [review_to_words(review) for review in data_train]\n",
    "        words_test = [review_to_words(review) for review in data_test]\n",
    "        \n",
    "        # Write to cache file for future runs\n",
    "        if cache_file is not None:\n",
    "            cache_data = dict(words_train=words_train, words_test=words_test,\n",
    "                              labels_train=labels_train, labels_test=labels_test)\n",
    "            with open(os.path.join(cache_dir, cache_file), \"wb\") as f:\n",
    "                pickle.dump(cache_data, f)\n",
    "            print(\"Wrote preprocessed data to cache file:\", cache_file)\n",
    "    else:\n",
    "        # Unpack data loaded from cache file\n",
    "        words_train, words_test, labels_train, labels_test = (cache_data['words_train'],\n",
    "                cache_data['words_test'], cache_data['labels_train'], cache_data['labels_test'])\n",
    "    \n",
    "    return words_train, words_test, labels_train, labels_test"
   ]
  },
  {
   "cell_type": "code",
   "execution_count": 37,
   "metadata": {},
   "outputs": [
    {
     "name": "stdout",
     "output_type": "stream",
     "text": [
      "Read preprocessed data from cache file: preprocessed_data.pkl\n"
     ]
    }
   ],
   "source": [
    "# Preprocess data\n",
    "train_X, test_X, train_y, test_y = preprocess_data(train_X, test_X, train_y, test_y)"
   ]
  },
  {
   "cell_type": "code",
   "execution_count": 38,
   "metadata": {},
   "outputs": [
    {
     "data": {
      "text/plain": [
       "list"
      ]
     },
     "execution_count": 38,
     "metadata": {},
     "output_type": "execute_result"
    }
   ],
   "source": [
    "type(train_X)"
   ]
  },
  {
   "cell_type": "markdown",
   "metadata": {},
   "source": [
    "### Extract Bag-of-Words features\n",
    "\n",
    "For the model we will be implementing, rather than using the reviews directly, we are going to transform each review into a Bag-of-Words feature representation. Keep in mind that 'in the wild' we will only have access to the training set so our transformer can only use the training set to construct a representation."
   ]
  },
  {
   "cell_type": "code",
   "execution_count": 11,
   "metadata": {},
   "outputs": [],
   "source": [
    "import numpy as np\n",
    "from sklearn.feature_extraction.text import CountVectorizer\n",
    "from sklearn.externals import joblib\n",
    "# joblib is an enhanced version of pickle that is more efficient for storing NumPy arrays\n",
    "\n",
    "def extract_BoW_features(words_train, words_test, vocabulary_size=5000,\n",
    "                         cache_dir=cache_dir, cache_file=\"bow_features.pkl\"):\n",
    "    \"\"\"Extract Bag-of-Words for a given set of documents, already preprocessed into words.\"\"\"\n",
    "    \n",
    "    # If cache_file is not None, try to read from it first\n",
    "    cache_data = None\n",
    "    if cache_file is not None:\n",
    "        try:\n",
    "            with open(os.path.join(cache_dir, cache_file), \"rb\") as f:\n",
    "                cache_data = joblib.load(f)\n",
    "            print(\"Read features from cache file:\", cache_file)\n",
    "        except:\n",
    "            pass  # unable to read from cache, but that's okay\n",
    "    \n",
    "    # If cache is missing, then do the heavy lifting\n",
    "    if cache_data is None:\n",
    "        # Fit a vectorizer to training documents and use it to transform them\n",
    "        # NOTE: Training documents have already been preprocessed and tokenized into words;\n",
    "        #       pass in dummy functions to skip those steps, e.g. preprocessor=lambda x: x\n",
    "        vectorizer = CountVectorizer(max_features=vocabulary_size,\n",
    "                preprocessor=lambda x: x, tokenizer=lambda x: x)  # already preprocessed\n",
    "        features_train = vectorizer.fit_transform(words_train).toarray()\n",
    "\n",
    "        # Apply the same vectorizer to transform the test documents (ignore unknown words)\n",
    "        features_test = vectorizer.transform(words_test).toarray()\n",
    "        \n",
    "        # NOTE: Remember to convert the features using .toarray() for a compact representation\n",
    "        \n",
    "        # Write to cache file for future runs (store vocabulary as well)\n",
    "        if cache_file is not None:\n",
    "            vocabulary = vectorizer.vocabulary_\n",
    "            cache_data = dict(features_train=features_train, features_test=features_test,\n",
    "                             vocabulary=vocabulary)\n",
    "            with open(os.path.join(cache_dir, cache_file), \"wb\") as f:\n",
    "                joblib.dump(cache_data, f)\n",
    "            print(\"Wrote features to cache file:\", cache_file)\n",
    "    else:\n",
    "        # Unpack data loaded from cache file\n",
    "        features_train, features_test, vocabulary = (cache_data['features_train'],\n",
    "                cache_data['features_test'], cache_data['vocabulary'])\n",
    "    \n",
    "    # Return both the extracted features as well as the vocabulary\n",
    "    return features_train, features_test, vocabulary"
   ]
  },
  {
   "cell_type": "code",
   "execution_count": 12,
   "metadata": {},
   "outputs": [
    {
     "name": "stdout",
     "output_type": "stream",
     "text": [
      "Wrote features to cache file: bow_features.pkl\n"
     ]
    }
   ],
   "source": [
    "# Extract Bag of Words features for both training and test datasets\n",
    "train_X, test_X, vocabulary = extract_BoW_features(train_X, test_X)"
   ]
  },
  {
   "cell_type": "code",
   "execution_count": 13,
   "metadata": {},
   "outputs": [
    {
     "data": {
      "text/plain": [
       "5000"
      ]
     },
     "execution_count": 13,
     "metadata": {},
     "output_type": "execute_result"
    }
   ],
   "source": [
    "len(train_X[100])"
   ]
  },
  {
   "cell_type": "markdown",
   "metadata": {},
   "source": [
    "## Step 4: Classification using XGBoost\n",
    "\n",
    "Now that we have created the feature representation of our training (and testing) data, it is time to start setting up and using the XGBoost classifier provided by SageMaker.\n",
    "\n",
    "### Writing the dataset\n",
    "\n",
    "The XGBoost classifier that we will be using requires the dataset to be written to a file and stored using Amazon S3. To do this, we will start by splitting the training dataset into two parts, the data we will train the model with and a validation set. Then, we will write those datasets to a file and upload the files to S3. In addition, we will write the test set input to a file and upload the file to S3. This is so that we can use SageMakers Batch Transform functionality to test our model once we've fit it."
   ]
  },
  {
   "cell_type": "code",
   "execution_count": 14,
   "metadata": {},
   "outputs": [],
   "source": [
    "import pandas as pd\n",
    "\n",
    "# Earlier we shuffled the training dataset so to make things simple we can just assign\n",
    "# the first 10 000 reviews to the validation set and use the remaining reviews for training.\n",
    "val_X = pd.DataFrame(train_X[:10000])\n",
    "train_X = pd.DataFrame(train_X[10000:])\n",
    "\n",
    "val_y = pd.DataFrame(train_y[:10000])\n",
    "train_y = pd.DataFrame(train_y[10000:])"
   ]
  },
  {
   "cell_type": "markdown",
   "metadata": {},
   "source": [
    "The documentation for the XGBoost algorithm in SageMaker requires that the saved datasets should contain no headers or index and that for the training and validation data, the label should occur first for each sample.\n",
    "\n",
    "For more information about this and other algorithms, the SageMaker developer documentation can be found on __[Amazon's website.](https://docs.aws.amazon.com/sagemaker/latest/dg/)__"
   ]
  },
  {
   "cell_type": "code",
   "execution_count": 15,
   "metadata": {},
   "outputs": [],
   "source": [
    "# First we make sure that the local directory in which we'd like to store the training and validation csv files exists.\n",
    "data_dir = '../data/sentiment_update'\n",
    "if not os.path.exists(data_dir):\n",
    "    os.makedirs(data_dir)"
   ]
  },
  {
   "cell_type": "code",
   "execution_count": 16,
   "metadata": {},
   "outputs": [],
   "source": [
    "pd.DataFrame(test_X).to_csv(os.path.join(data_dir, 'test.csv'), header=False, index=False)\n",
    "\n",
    "pd.concat([val_y, val_X], axis=1).to_csv(os.path.join(data_dir, 'validation.csv'), header=False, index=False)\n",
    "pd.concat([train_y, train_X], axis=1).to_csv(os.path.join(data_dir, 'train.csv'), header=False, index=False)"
   ]
  },
  {
   "cell_type": "code",
   "execution_count": 17,
   "metadata": {},
   "outputs": [],
   "source": [
    "# To save a bit of memory we can set text_X, train_X, val_X, train_y and val_y to None.\n",
    "\n",
    "test_X = train_X = val_X = train_y = val_y = None"
   ]
  },
  {
   "cell_type": "markdown",
   "metadata": {},
   "source": [
    "### Uploading Training / Validation files to S3\n",
    "\n",
    "Amazon's S3 service allows us to store files that can be access by both the built-in training models such as the XGBoost model we will be using as well as custom models such as the one we will see a little later.\n",
    "\n",
    "For this, and most other tasks we will be doing using SageMaker, there are two methods we could use. The first is to use the low level functionality of SageMaker which requires knowing each of the objects involved in the SageMaker environment. The second is to use the high level functionality in which certain choices have been made on the user's behalf. The low level approach benefits from allowing the user a great deal of flexibility while the high level approach makes development much quicker. For our purposes we will opt to use the high level approach although using the low-level approach is certainly an option.\n",
    "\n",
    "Recall the method `upload_data()` which is a member of object representing our current SageMaker session. What this method does is upload the data to the default bucket (which is created if it does not exist) into the path described by the key_prefix variable. To see this for yourself, once you have uploaded the data files, go to the S3 console and look to see where the files have been uploaded.\n",
    "\n",
    "For additional resources, see the __[SageMaker API documentation](http://sagemaker.readthedocs.io/en/latest/)__ and in addition the __[SageMaker Developer Guide.](https://docs.aws.amazon.com/sagemaker/latest/dg/)__"
   ]
  },
  {
   "cell_type": "code",
   "execution_count": 18,
   "metadata": {},
   "outputs": [],
   "source": [
    "import sagemaker\n",
    "\n",
    "session = sagemaker.Session() # Store the current SageMaker session\n",
    "\n",
    "# S3 prefix (which folder will we use)\n",
    "prefix = 'sentiment-update'\n",
    "\n",
    "test_location = session.upload_data(os.path.join(data_dir, 'test.csv'), key_prefix=prefix)\n",
    "val_location = session.upload_data(os.path.join(data_dir, 'validation.csv'), key_prefix=prefix)\n",
    "train_location = session.upload_data(os.path.join(data_dir, 'train.csv'), key_prefix=prefix)"
   ]
  },
  {
   "cell_type": "markdown",
   "metadata": {},
   "source": [
    "### Creating the XGBoost model\n",
    "\n",
    "Now that the data has been uploaded it is time to create the XGBoost model. To begin with, we need to do some setup. At this point it is worth discussing what a model is in SageMaker. It is easiest to think of a model of comprising three different objects in the SageMaker ecosystem, which interact with one another.\n",
    "\n",
    "- Model Artifacts\n",
    "- Training Code (Container)\n",
    "- Inference Code (Container)\n",
    "\n",
    "The Model Artifacts are what you might think of as the actual model itself. For example, if you were building a neural network, the model artifacts would be the weights of the various layers. In our case, for an XGBoost model, the artifacts are the actual trees that are created during training.\n",
    "\n",
    "The other two objects, the training code and the inference code are then used the manipulate the training artifacts. More precisely, the training code uses the training data that is provided and creates the model artifacts, while the inference code uses the model artifacts to make predictions on new data.\n",
    "\n",
    "The way that SageMaker runs the training and inference code is by making use of Docker containers. For now, think of a container as being a way of packaging code up so that dependencies aren't an issue."
   ]
  },
  {
   "cell_type": "code",
   "execution_count": 19,
   "metadata": {},
   "outputs": [],
   "source": [
    "from sagemaker import get_execution_role\n",
    "\n",
    "# Our current execution role is require when creating the model as the training\n",
    "# and inference code will need to access the model artifacts.\n",
    "role = get_execution_role()"
   ]
  },
  {
   "cell_type": "code",
   "execution_count": 20,
   "metadata": {},
   "outputs": [],
   "source": [
    "# We need to retrieve the location of the container which is provided by Amazon for using XGBoost.\n",
    "# As a matter of convenience, the training and inference code both use the same container.\n",
    "from sagemaker.amazon.amazon_estimator import get_image_uri\n",
    "\n",
    "container = get_image_uri(session.boto_region_name, 'xgboost', '0.90-1')"
   ]
  },
  {
   "cell_type": "code",
   "execution_count": 21,
   "metadata": {},
   "outputs": [],
   "source": [
    "# First we create a SageMaker estimator object for our model.\n",
    "xgb = sagemaker.estimator.Estimator(container, # The location of the container we wish to use\n",
    "                                    role,                                    # What is our current IAM Role\n",
    "                                    train_instance_count=1,                  # How many compute instances\n",
    "                                    train_instance_type='ml.m4.xlarge',      # What kind of compute instances\n",
    "                                    output_path='s3://{}/{}/output'.format(session.default_bucket(), prefix),\n",
    "                                    sagemaker_session=session)\n",
    "\n",
    "# And then set the algorithm specific parameters.\n",
    "xgb.set_hyperparameters(max_depth=5,\n",
    "                        eta=0.2,\n",
    "                        gamma=4,\n",
    "                        min_child_weight=6,\n",
    "                        subsample=0.8,\n",
    "                        silent=0,\n",
    "                        objective='binary:logistic',\n",
    "                        early_stopping_rounds=10,\n",
    "                        num_round=500)"
   ]
  },
  {
   "cell_type": "markdown",
   "metadata": {},
   "source": [
    "### Fit the XGBoost model\n",
    "\n",
    "Now that our model has been set up we simply need to attach the training and validation datasets and then ask SageMaker to set up the computation."
   ]
  },
  {
   "cell_type": "code",
   "execution_count": 22,
   "metadata": {},
   "outputs": [],
   "source": [
    "s3_input_train = sagemaker.s3_input(s3_data=train_location, content_type='csv')\n",
    "s3_input_validation = sagemaker.s3_input(s3_data=val_location, content_type='csv')"
   ]
  },
  {
   "cell_type": "code",
   "execution_count": 23,
   "metadata": {
    "collapsed": true,
    "jupyter": {
     "outputs_hidden": true
    }
   },
   "outputs": [
    {
     "name": "stdout",
     "output_type": "stream",
     "text": [
      "2019-11-16 15:44:09 Starting - Starting the training job...\n",
      "2019-11-16 15:44:12 Starting - Launching requested ML instances......\n",
      "2019-11-16 15:45:10 Starting - Preparing the instances for training...\n",
      "2019-11-16 15:45:56 Downloading - Downloading input data...\n",
      "2019-11-16 15:46:37 Training - Training image download completed. Training in progress...\u001b[31mINFO:sagemaker-containers:Imported framework sagemaker_xgboost_container.training\u001b[0m\n",
      "\u001b[31mINFO:sagemaker-containers:Failed to parse hyperparameter objective value binary:logistic to Json.\u001b[0m\n",
      "\u001b[31mReturning the value itself\u001b[0m\n",
      "\u001b[31mINFO:sagemaker-containers:No GPUs detected (normal if no gpus installed)\u001b[0m\n",
      "\u001b[31mINFO:sagemaker_xgboost_container.training:Running XGBoost Sagemaker in algorithm mode\u001b[0m\n",
      "\u001b[31mINFO:root:Determined delimiter of CSV input is ','\u001b[0m\n",
      "\u001b[31mINFO:root:Determined delimiter of CSV input is ','\u001b[0m\n",
      "\u001b[31mINFO:root:Determined delimiter of CSV input is ','\u001b[0m\n",
      "\u001b[31m[15:46:41] 15000x5000 matrix with 75000000 entries loaded from /opt/ml/input/data/train?format=csv&label_column=0&delimiter=,\u001b[0m\n",
      "\u001b[31mINFO:root:Determined delimiter of CSV input is ','\u001b[0m\n",
      "\u001b[31m[15:46:43] 10000x5000 matrix with 50000000 entries loaded from /opt/ml/input/data/validation?format=csv&label_column=0&delimiter=,\u001b[0m\n",
      "\u001b[31mINFO:root:Single node training.\u001b[0m\n",
      "\u001b[31mINFO:root:Train matrix has 15000 rows\u001b[0m\n",
      "\u001b[31mINFO:root:Validation matrix has 10000 rows\u001b[0m\n",
      "\u001b[31m[0]#011train-error:0.2824#011validation-error:0.2875\u001b[0m\n",
      "\u001b[31m[1]#011train-error:0.277867#011validation-error:0.2812\u001b[0m\n",
      "\u001b[31m[2]#011train-error:0.2784#011validation-error:0.2831\u001b[0m\n",
      "\u001b[31m[3]#011train-error:0.270667#011validation-error:0.2745\u001b[0m\n",
      "\u001b[31m[4]#011train-error:0.260467#011validation-error:0.2697\u001b[0m\n",
      "\u001b[31m[5]#011train-error:0.252533#011validation-error:0.2634\u001b[0m\n",
      "\u001b[31m[6]#011train-error:0.247667#011validation-error:0.2574\u001b[0m\n",
      "\u001b[31m[7]#011train-error:0.242667#011validation-error:0.2536\u001b[0m\n",
      "\u001b[31m[8]#011train-error:0.233067#011validation-error:0.2431\u001b[0m\n",
      "\u001b[31m[9]#011train-error:0.230067#011validation-error:0.2402\u001b[0m\n",
      "\u001b[31m[10]#011train-error:0.222#011validation-error:0.234\u001b[0m\n",
      "\u001b[31m[11]#011train-error:0.2186#011validation-error:0.2311\u001b[0m\n",
      "\u001b[31m[12]#011train-error:0.213533#011validation-error:0.2264\u001b[0m\n",
      "\u001b[31m[13]#011train-error:0.208933#011validation-error:0.2232\u001b[0m\n",
      "\u001b[31m[14]#011train-error:0.202#011validation-error:0.2172\u001b[0m\n",
      "\u001b[31m[15]#011train-error:0.198#011validation-error:0.2143\u001b[0m\n",
      "\u001b[31m[16]#011train-error:0.195667#011validation-error:0.2122\u001b[0m\n",
      "\u001b[31m[17]#011train-error:0.193067#011validation-error:0.2108\u001b[0m\n",
      "\u001b[31m[18]#011train-error:0.188533#011validation-error:0.2073\u001b[0m\n",
      "\u001b[31m[19]#011train-error:0.185733#011validation-error:0.2055\u001b[0m\n",
      "\u001b[31m[20]#011train-error:0.184#011validation-error:0.2044\u001b[0m\n",
      "\u001b[31m[21]#011train-error:0.1816#011validation-error:0.2021\u001b[0m\n",
      "\u001b[31m[22]#011train-error:0.1786#011validation-error:0.2006\u001b[0m\n",
      "\u001b[31m[23]#011train-error:0.178#011validation-error:0.1991\u001b[0m\n",
      "\u001b[31m[24]#011train-error:0.1764#011validation-error:0.1982\u001b[0m\n",
      "\u001b[31m[25]#011train-error:0.174067#011validation-error:0.1961\u001b[0m\n",
      "\u001b[31m[26]#011train-error:0.1728#011validation-error:0.1941\u001b[0m\n",
      "\u001b[31m[27]#011train-error:0.170067#011validation-error:0.1927\u001b[0m\n",
      "\u001b[31m[28]#011train-error:0.166867#011validation-error:0.1912\u001b[0m\n",
      "\u001b[31m[29]#011train-error:0.1646#011validation-error:0.1894\u001b[0m\n",
      "\u001b[31m[30]#011train-error:0.1634#011validation-error:0.1877\u001b[0m\n",
      "\u001b[31m[31]#011train-error:0.1626#011validation-error:0.1867\u001b[0m\n",
      "\u001b[31m[32]#011train-error:0.162467#011validation-error:0.1856\u001b[0m\n",
      "\u001b[31m[33]#011train-error:0.160133#011validation-error:0.1844\u001b[0m\n",
      "\u001b[31m[34]#011train-error:0.159933#011validation-error:0.1841\u001b[0m\n",
      "\u001b[31m[35]#011train-error:0.158467#011validation-error:0.1847\u001b[0m\n",
      "\u001b[31m[36]#011train-error:0.157667#011validation-error:0.1829\u001b[0m\n",
      "\u001b[31m[37]#011train-error:0.155533#011validation-error:0.1817\u001b[0m\n",
      "\u001b[31m[38]#011train-error:0.1538#011validation-error:0.1807\u001b[0m\n",
      "\u001b[31m[39]#011train-error:0.152667#011validation-error:0.1794\u001b[0m\n",
      "\u001b[31m[40]#011train-error:0.150733#011validation-error:0.179\u001b[0m\n",
      "\u001b[31m[41]#011train-error:0.1502#011validation-error:0.1788\u001b[0m\n",
      "\u001b[31m[42]#011train-error:0.148067#011validation-error:0.1781\u001b[0m\n",
      "\u001b[31m[43]#011train-error:0.146933#011validation-error:0.1755\u001b[0m\n",
      "\u001b[31m[44]#011train-error:0.1468#011validation-error:0.1756\u001b[0m\n",
      "\u001b[31m[45]#011train-error:0.1462#011validation-error:0.1743\u001b[0m\n",
      "\u001b[31m[46]#011train-error:0.1448#011validation-error:0.1747\u001b[0m\n",
      "\u001b[31m[47]#011train-error:0.143867#011validation-error:0.1734\u001b[0m\n",
      "\u001b[31m[48]#011train-error:0.1434#011validation-error:0.1729\u001b[0m\n",
      "\u001b[31m[49]#011train-error:0.142667#011validation-error:0.1714\u001b[0m\n",
      "\u001b[31m[50]#011train-error:0.142867#011validation-error:0.171\u001b[0m\n",
      "\u001b[31m[51]#011train-error:0.141467#011validation-error:0.1708\u001b[0m\n",
      "\u001b[31m[52]#011train-error:0.140733#011validation-error:0.1713\u001b[0m\n",
      "\u001b[31m[53]#011train-error:0.139933#011validation-error:0.1696\u001b[0m\n",
      "\u001b[31m[54]#011train-error:0.138467#011validation-error:0.1681\u001b[0m\n",
      "\u001b[31m[55]#011train-error:0.138267#011validation-error:0.1675\u001b[0m\n",
      "\u001b[31m[56]#011train-error:0.138067#011validation-error:0.1672\u001b[0m\n",
      "\u001b[31m[57]#011train-error:0.137933#011validation-error:0.1657\u001b[0m\n",
      "\u001b[31m[58]#011train-error:0.136667#011validation-error:0.1653\u001b[0m\n",
      "\u001b[31m[59]#011train-error:0.135467#011validation-error:0.164\u001b[0m\n",
      "\u001b[31m[60]#011train-error:0.134333#011validation-error:0.1636\u001b[0m\n",
      "\u001b[31m[61]#011train-error:0.133733#011validation-error:0.1628\u001b[0m\n",
      "\u001b[31m[62]#011train-error:0.132333#011validation-error:0.1623\u001b[0m\n",
      "\u001b[31m[63]#011train-error:0.131867#011validation-error:0.1623\u001b[0m\n",
      "\u001b[31m[64]#011train-error:0.131867#011validation-error:0.1626\u001b[0m\n",
      "\u001b[31m[65]#011train-error:0.1308#011validation-error:0.162\u001b[0m\n",
      "\u001b[31m[66]#011train-error:0.128867#011validation-error:0.1618\u001b[0m\n",
      "\u001b[31m[67]#011train-error:0.1276#011validation-error:0.1606\u001b[0m\n",
      "\u001b[31m[68]#011train-error:0.127533#011validation-error:0.1602\u001b[0m\n",
      "\u001b[31m[69]#011train-error:0.1272#011validation-error:0.1605\u001b[0m\n",
      "\u001b[31m[70]#011train-error:0.126533#011validation-error:0.16\u001b[0m\n",
      "\u001b[31m[71]#011train-error:0.125267#011validation-error:0.1585\u001b[0m\n",
      "\u001b[31m[72]#011train-error:0.124533#011validation-error:0.1582\u001b[0m\n",
      "\u001b[31m[73]#011train-error:0.1242#011validation-error:0.1579\u001b[0m\n",
      "\u001b[31m[74]#011train-error:0.123267#011validation-error:0.1576\u001b[0m\n",
      "\u001b[31m[75]#011train-error:0.121933#011validation-error:0.156\u001b[0m\n",
      "\u001b[31m[76]#011train-error:0.120867#011validation-error:0.1567\u001b[0m\n",
      "\u001b[31m[77]#011train-error:0.120933#011validation-error:0.1559\u001b[0m\n",
      "\u001b[31m[78]#011train-error:0.120267#011validation-error:0.1553\u001b[0m\n",
      "\u001b[31m[79]#011train-error:0.120733#011validation-error:0.155\u001b[0m\n",
      "\u001b[31m[80]#011train-error:0.120467#011validation-error:0.1538\u001b[0m\n",
      "\u001b[31m[81]#011train-error:0.118667#011validation-error:0.1527\u001b[0m\n",
      "\u001b[31m[82]#011train-error:0.118933#011validation-error:0.1522\u001b[0m\n",
      "\u001b[31m[83]#011train-error:0.1184#011validation-error:0.1519\u001b[0m\n",
      "\u001b[31m[84]#011train-error:0.1166#011validation-error:0.152\u001b[0m\n",
      "\u001b[31m[85]#011train-error:0.1162#011validation-error:0.153\u001b[0m\n",
      "\u001b[31m[86]#011train-error:0.116533#011validation-error:0.1526\u001b[0m\n",
      "\u001b[31m[87]#011train-error:0.115867#011validation-error:0.1515\u001b[0m\n",
      "\u001b[31m[88]#011train-error:0.115#011validation-error:0.1516\u001b[0m\n",
      "\u001b[31m[89]#011train-error:0.1134#011validation-error:0.1526\u001b[0m\n",
      "\u001b[31m[90]#011train-error:0.113#011validation-error:0.1514\u001b[0m\n",
      "\u001b[31m[91]#011train-error:0.1134#011validation-error:0.1496\u001b[0m\n",
      "\u001b[31m[92]#011train-error:0.112933#011validation-error:0.1492\u001b[0m\n",
      "\u001b[31m[93]#011train-error:0.1122#011validation-error:0.1492\u001b[0m\n",
      "\u001b[31m[94]#011train-error:0.1118#011validation-error:0.1488\u001b[0m\n",
      "\u001b[31m[95]#011train-error:0.110733#011validation-error:0.15\u001b[0m\n",
      "\u001b[31m[96]#011train-error:0.110533#011validation-error:0.149\u001b[0m\n",
      "\u001b[31m[97]#011train-error:0.110733#011validation-error:0.1495\u001b[0m\n",
      "\u001b[31m[98]#011train-error:0.110933#011validation-error:0.1499\u001b[0m\n",
      "\u001b[31m[99]#011train-error:0.110667#011validation-error:0.1492\u001b[0m\n",
      "\u001b[31m[100]#011train-error:0.109333#011validation-error:0.1498\u001b[0m\n",
      "\u001b[31m[101]#011train-error:0.109333#011validation-error:0.1495\u001b[0m\n",
      "\u001b[31m[102]#011train-error:0.108267#011validation-error:0.1486\u001b[0m\n",
      "\u001b[31m[103]#011train-error:0.108133#011validation-error:0.1483\u001b[0m\n",
      "\u001b[31m[104]#011train-error:0.107667#011validation-error:0.1481\u001b[0m\n",
      "\u001b[31m[105]#011train-error:0.1068#011validation-error:0.1474\u001b[0m\n",
      "\u001b[31m[106]#011train-error:0.1064#011validation-error:0.149\u001b[0m\n",
      "\u001b[31m[107]#011train-error:0.1058#011validation-error:0.1496\u001b[0m\n",
      "\u001b[31m[108]#011train-error:0.1052#011validation-error:0.1494\u001b[0m\n",
      "\u001b[31m[109]#011train-error:0.104533#011validation-error:0.1472\u001b[0m\n",
      "\u001b[31m[110]#011train-error:0.1046#011validation-error:0.1471\u001b[0m\n",
      "\u001b[31m[111]#011train-error:0.1042#011validation-error:0.1475\u001b[0m\n",
      "\u001b[31m[112]#011train-error:0.1038#011validation-error:0.1471\u001b[0m\n",
      "\u001b[31m[113]#011train-error:0.103333#011validation-error:0.1469\u001b[0m\n",
      "\u001b[31m[114]#011train-error:0.1026#011validation-error:0.1463\u001b[0m\n",
      "\u001b[31m[115]#011train-error:0.102667#011validation-error:0.1457\u001b[0m\n",
      "\u001b[31m[116]#011train-error:0.101867#011validation-error:0.145\u001b[0m\n",
      "\u001b[31m[117]#011train-error:0.101867#011validation-error:0.1447\u001b[0m\n",
      "\u001b[31m[118]#011train-error:0.1022#011validation-error:0.1445\u001b[0m\n",
      "\u001b[31m[119]#011train-error:0.101467#011validation-error:0.1439\u001b[0m\n",
      "\u001b[31m[120]#011train-error:0.100867#011validation-error:0.1444\u001b[0m\n",
      "\u001b[31m[121]#011train-error:0.1002#011validation-error:0.1446\u001b[0m\n",
      "\u001b[31m[122]#011train-error:0.1#011validation-error:0.1441\u001b[0m\n",
      "\u001b[31m[123]#011train-error:0.100267#011validation-error:0.1444\u001b[0m\n",
      "\u001b[31m[124]#011train-error:0.099933#011validation-error:0.1446\u001b[0m\n",
      "\u001b[31m[125]#011train-error:0.099933#011validation-error:0.1437\u001b[0m\n",
      "\u001b[31m[126]#011train-error:0.0994#011validation-error:0.1439\u001b[0m\n",
      "\u001b[31m[127]#011train-error:0.099067#011validation-error:0.1436\u001b[0m\n",
      "\u001b[31m[128]#011train-error:0.098533#011validation-error:0.1434\u001b[0m\n",
      "\u001b[31m[129]#011train-error:0.097933#011validation-error:0.1432\u001b[0m\n",
      "\u001b[31m[130]#011train-error:0.097733#011validation-error:0.1426\u001b[0m\n",
      "\u001b[31m[131]#011train-error:0.097733#011validation-error:0.1424\u001b[0m\n",
      "\u001b[31m[132]#011train-error:0.097733#011validation-error:0.1428\u001b[0m\n",
      "\u001b[31m[133]#011train-error:0.097333#011validation-error:0.1431\u001b[0m\n",
      "\u001b[31m[134]#011train-error:0.098133#011validation-error:0.1431\u001b[0m\n",
      "\u001b[31m[135]#011train-error:0.097467#011validation-error:0.1419\u001b[0m\n",
      "\u001b[31m[136]#011train-error:0.096533#011validation-error:0.1418\u001b[0m\n",
      "\u001b[31m[137]#011train-error:0.0962#011validation-error:0.1416\u001b[0m\n",
      "\u001b[31m[138]#011train-error:0.095733#011validation-error:0.1411\u001b[0m\n",
      "\u001b[31m[139]#011train-error:0.095667#011validation-error:0.1407\u001b[0m\n",
      "\u001b[31m[140]#011train-error:0.095667#011validation-error:0.1411\u001b[0m\n",
      "\u001b[31m[141]#011train-error:0.095533#011validation-error:0.1407\u001b[0m\n",
      "\u001b[31m[142]#011train-error:0.0952#011validation-error:0.14\u001b[0m\n",
      "\u001b[31m[143]#011train-error:0.094933#011validation-error:0.1402\u001b[0m\n",
      "\u001b[31m[144]#011train-error:0.0946#011validation-error:0.1406\u001b[0m\n",
      "\u001b[31m[145]#011train-error:0.093733#011validation-error:0.1412\u001b[0m\n",
      "\u001b[31m[146]#011train-error:0.0938#011validation-error:0.1407\u001b[0m\n",
      "\u001b[31m[147]#011train-error:0.0942#011validation-error:0.1411\u001b[0m\n",
      "\u001b[31m[148]#011train-error:0.094267#011validation-error:0.1406\u001b[0m\n",
      "\u001b[31m[149]#011train-error:0.094267#011validation-error:0.1405\u001b[0m\n",
      "\u001b[31m[150]#011train-error:0.093867#011validation-error:0.1398\u001b[0m\n",
      "\u001b[31m[151]#011train-error:0.0932#011validation-error:0.1399\u001b[0m\n",
      "\u001b[31m[152]#011train-error:0.0928#011validation-error:0.1395\u001b[0m\n",
      "\u001b[31m[153]#011train-error:0.091933#011validation-error:0.1396\u001b[0m\n",
      "\u001b[31m[154]#011train-error:0.0916#011validation-error:0.1388\u001b[0m\n",
      "\u001b[31m[155]#011train-error:0.091933#011validation-error:0.1384\u001b[0m\n",
      "\u001b[31m[156]#011train-error:0.0916#011validation-error:0.139\u001b[0m\n",
      "\u001b[31m[157]#011train-error:0.091667#011validation-error:0.1386\u001b[0m\n",
      "\u001b[31m[158]#011train-error:0.091467#011validation-error:0.1384\u001b[0m\n",
      "\u001b[31m[159]#011train-error:0.0908#011validation-error:0.1383\u001b[0m\n",
      "\u001b[31m[160]#011train-error:0.090267#011validation-error:0.1376\u001b[0m\n",
      "\u001b[31m[161]#011train-error:0.0898#011validation-error:0.1376\u001b[0m\n",
      "\u001b[31m[162]#011train-error:0.089267#011validation-error:0.1381\u001b[0m\n",
      "\u001b[31m[163]#011train-error:0.0894#011validation-error:0.1375\u001b[0m\n",
      "\u001b[31m[164]#011train-error:0.089133#011validation-error:0.137\u001b[0m\n",
      "\u001b[31m[165]#011train-error:0.089067#011validation-error:0.1378\u001b[0m\n",
      "\u001b[31m[166]#011train-error:0.088867#011validation-error:0.137\u001b[0m\n",
      "\u001b[31m[167]#011train-error:0.088333#011validation-error:0.137\u001b[0m\n",
      "\u001b[31m[168]#011train-error:0.088133#011validation-error:0.1376\u001b[0m\n",
      "\u001b[31m[169]#011train-error:0.087867#011validation-error:0.137\u001b[0m\n",
      "\u001b[31m[170]#011train-error:0.0878#011validation-error:0.1374\u001b[0m\n",
      "\u001b[31m[171]#011train-error:0.086933#011validation-error:0.1367\u001b[0m\n",
      "\u001b[31m[172]#011train-error:0.087133#011validation-error:0.1368\u001b[0m\n",
      "\u001b[31m[173]#011train-error:0.086333#011validation-error:0.1364\u001b[0m\n",
      "\u001b[31m[174]#011train-error:0.085867#011validation-error:0.1356\u001b[0m\n",
      "\u001b[31m[175]#011train-error:0.0856#011validation-error:0.1352\u001b[0m\n",
      "\u001b[31m[176]#011train-error:0.085267#011validation-error:0.1353\u001b[0m\n",
      "\u001b[31m[177]#011train-error:0.0848#011validation-error:0.1355\u001b[0m\n",
      "\u001b[31m[178]#011train-error:0.085467#011validation-error:0.1357\u001b[0m\n",
      "\u001b[31m[179]#011train-error:0.085467#011validation-error:0.1345\u001b[0m\n",
      "\u001b[31m[180]#011train-error:0.084933#011validation-error:0.1339\u001b[0m\n",
      "\u001b[31m[181]#011train-error:0.084533#011validation-error:0.134\u001b[0m\n",
      "\u001b[31m[182]#011train-error:0.0838#011validation-error:0.1341\u001b[0m\n",
      "\u001b[31m[183]#011train-error:0.0838#011validation-error:0.1332\u001b[0m\n",
      "\u001b[31m[184]#011train-error:0.083867#011validation-error:0.1344\u001b[0m\n",
      "\u001b[31m[185]#011train-error:0.083533#011validation-error:0.1343\u001b[0m\n",
      "\u001b[31m[186]#011train-error:0.083067#011validation-error:0.1339\u001b[0m\n",
      "\u001b[31m[187]#011train-error:0.082533#011validation-error:0.1332\u001b[0m\n",
      "\u001b[31m[188]#011train-error:0.0824#011validation-error:0.1331\u001b[0m\n",
      "\u001b[31m[189]#011train-error:0.0818#011validation-error:0.1327\u001b[0m\n",
      "\u001b[31m[190]#011train-error:0.081533#011validation-error:0.1323\u001b[0m\n",
      "\u001b[31m[191]#011train-error:0.081467#011validation-error:0.1327\u001b[0m\n",
      "\u001b[31m[192]#011train-error:0.081667#011validation-error:0.1325\u001b[0m\n",
      "\u001b[31m[193]#011train-error:0.0814#011validation-error:0.1329\u001b[0m\n",
      "\u001b[31m[194]#011train-error:0.0808#011validation-error:0.1326\u001b[0m\n",
      "\u001b[31m[195]#011train-error:0.080667#011validation-error:0.1324\u001b[0m\n",
      "\u001b[31m[196]#011train-error:0.0804#011validation-error:0.1315\u001b[0m\n",
      "\u001b[31m[197]#011train-error:0.080067#011validation-error:0.1315\u001b[0m\n",
      "\u001b[31m[198]#011train-error:0.080133#011validation-error:0.132\u001b[0m\n",
      "\u001b[31m[199]#011train-error:0.080067#011validation-error:0.1322\u001b[0m\n",
      "\u001b[31m[200]#011train-error:0.079867#011validation-error:0.1321\u001b[0m\n",
      "\u001b[31m[201]#011train-error:0.079867#011validation-error:0.1316\u001b[0m\n",
      "\u001b[31m[202]#011train-error:0.0796#011validation-error:0.1316\u001b[0m\n",
      "\u001b[31m[203]#011train-error:0.0796#011validation-error:0.1314\u001b[0m\n",
      "\n",
      "2019-11-16 15:50:41 Uploading - Uploading generated training model\n",
      "2019-11-16 15:50:41 Completed - Training job completed\n",
      "\u001b[31m[204]#011train-error:0.079467#011validation-error:0.132\u001b[0m\n",
      "\u001b[31m[205]#011train-error:0.079067#011validation-error:0.1326\u001b[0m\n",
      "\u001b[31m[206]#011train-error:0.0788#011validation-error:0.1327\u001b[0m\n",
      "\u001b[31m[207]#011train-error:0.078667#011validation-error:0.1324\u001b[0m\n",
      "\u001b[31m[208]#011train-error:0.0788#011validation-error:0.1323\u001b[0m\n",
      "\u001b[31m[209]#011train-error:0.0788#011validation-error:0.1326\u001b[0m\n",
      "\u001b[31m[210]#011train-error:0.0782#011validation-error:0.1327\u001b[0m\n",
      "\u001b[31m[211]#011train-error:0.078333#011validation-error:0.1329\u001b[0m\n",
      "\u001b[31m[212]#011train-error:0.078133#011validation-error:0.1328\u001b[0m\n",
      "\u001b[31m[213]#011train-error:0.0776#011validation-error:0.1332\u001b[0m\n",
      "Training seconds: 285\n",
      "Billable seconds: 285\n"
     ]
    }
   ],
   "source": [
    "xgb.fit({'train': s3_input_train, 'validation': s3_input_validation})"
   ]
  },
  {
   "cell_type": "markdown",
   "metadata": {},
   "source": [
    "### Testing the model\n",
    "\n",
    "Now that we've fit our XGBoost model, it's time to see how well it performs. To do this we will use SageMakers Batch Transform functionality. Batch Transform is a convenient way to perform inference on a large dataset in a way that is not realtime. That is, we don't necessarily need to use our model's results immediately and instead we can peform inference on a large number of samples. An example of this in industry might be peforming an end of month report. This method of inference can also be useful to us as it means to can perform inference on our entire test set. \n",
    "\n",
    "To perform a Batch Transformation we need to first create a transformer objects from our trained estimator object."
   ]
  },
  {
   "cell_type": "code",
   "execution_count": 24,
   "metadata": {},
   "outputs": [],
   "source": [
    "xgb_transformer = xgb.transformer(instance_count = 1, instance_type = 'ml.m4.xlarge')"
   ]
  },
  {
   "cell_type": "markdown",
   "metadata": {},
   "source": [
    "Next we actually perform the transform job. When doing so we need to make sure to specify the type of data we are sending so that it is serialized correctly in the background. In our case we are providing our model with csv data so we specify `text/csv`. Also, if the test data that we have provided is too large to process all at once then we need to specify how the data file should be split up. Since each line is a single entry in our data set we tell SageMaker that it can split the input on each line."
   ]
  },
  {
   "cell_type": "code",
   "execution_count": 25,
   "metadata": {},
   "outputs": [],
   "source": [
    "xgb_transformer.transform(test_location, content_type='text/csv', split_type='Line')"
   ]
  },
  {
   "cell_type": "markdown",
   "metadata": {},
   "source": [
    "Currently the transform job is running but it is doing so in the background. Since we wish to wait until the transform job is done and we would like a bit of feedback we can run the `wait()` method."
   ]
  },
  {
   "cell_type": "code",
   "execution_count": 26,
   "metadata": {
    "collapsed": true,
    "jupyter": {
     "outputs_hidden": true
    }
   },
   "outputs": [
    {
     "name": "stdout",
     "output_type": "stream",
     "text": [
      "........................\u001b[31m[2019-11-16 16:00:12 +0000] [17] [INFO] Starting gunicorn 19.9.0\u001b[0m\n",
      "\u001b[31m[2019-11-16 16:00:12 +0000] [17] [INFO] Listening at: unix:/tmp/gunicorn.sock (17)\u001b[0m\n",
      "\u001b[31m[2019-11-16 16:00:12 +0000] [17] [INFO] Using worker: gevent\u001b[0m\n",
      "\u001b[31m[2019-11-16 16:00:12 +0000] [24] [INFO] Booting worker with pid: 24\u001b[0m\n",
      "\u001b[31m[2019-11-16 16:00:12 +0000] [25] [INFO] Booting worker with pid: 25\u001b[0m\n",
      "\u001b[31m[2019-11-16 16:00:12 +0000] [26] [INFO] Booting worker with pid: 26\u001b[0m\n",
      "\u001b[31m[2019-11-16 16:00:12 +0000] [27] [INFO] Booting worker with pid: 27\u001b[0m\n",
      "\u001b[31m[2019-11-16:16:00:32:INFO] No GPUs detected (normal if no gpus installed)\u001b[0m\n",
      "\u001b[31m169.254.255.130 - - [16/Nov/2019:16:00:32 +0000] \"GET /ping HTTP/1.1\" 200 0 \"-\" \"Go-http-client/1.1\"\u001b[0m\n",
      "\u001b[31m169.254.255.130 - - [16/Nov/2019:16:00:32 +0000] \"GET /execution-parameters HTTP/1.1\" 200 84 \"-\" \"Go-http-client/1.1\"\u001b[0m\n",
      "\u001b[31m[2019-11-16:16:00:35:INFO] No GPUs detected (normal if no gpus installed)\u001b[0m\n",
      "\u001b[31m[2019-11-16:16:00:35:INFO] No GPUs detected (normal if no gpus installed)\u001b[0m\n",
      "\u001b[31m[2019-11-16:16:00:35:INFO] Determined delimiter of CSV input is ','\u001b[0m\n",
      "\u001b[31m[2019-11-16:16:00:35:INFO] Determined delimiter of CSV input is ','\u001b[0m\n",
      "\u001b[31m[2019-11-16:16:00:35:INFO] No GPUs detected (normal if no gpus installed)\u001b[0m\n",
      "\u001b[31m[2019-11-16:16:00:35:INFO] Determined delimiter of CSV input is ','\u001b[0m\n",
      "\u001b[31m[2019-11-16:16:00:35:INFO] Determined delimiter of CSV input is ','\u001b[0m\n",
      "\u001b[33m2019-11-16T16:00:32.294:[sagemaker logs]: MaxConcurrentTransforms=4, MaxPayloadInMB=6, BatchStrategy=MULTI_RECORD\u001b[0m\n",
      "\u001b[31m169.254.255.130 - - [16/Nov/2019:16:00:38 +0000] \"POST /invocations HTTP/1.1\" 200 12203 \"-\" \"Go-http-client/1.1\"\u001b[0m\n",
      "\u001b[31m169.254.255.130 - - [16/Nov/2019:16:00:38 +0000] \"POST /invocations HTTP/1.1\" 200 12188 \"-\" \"Go-http-client/1.1\"\u001b[0m\n",
      "\u001b[31m169.254.255.130 - - [16/Nov/2019:16:00:38 +0000] \"POST /invocations HTTP/1.1\" 200 12228 \"-\" \"Go-http-client/1.1\"\u001b[0m\n",
      "\u001b[31m169.254.255.130 - - [16/Nov/2019:16:00:38 +0000] \"POST /invocations HTTP/1.1\" 200 12216 \"-\" \"Go-http-client/1.1\"\u001b[0m\n",
      "\u001b[31m[2019-11-16:16:00:39:INFO] Determined delimiter of CSV input is ','\u001b[0m\n",
      "\u001b[31m[2019-11-16:16:00:39:INFO] Determined delimiter of CSV input is ','\u001b[0m\n",
      "\u001b[31m[2019-11-16:16:00:39:INFO] Determined delimiter of CSV input is ','\u001b[0m\n",
      "\u001b[31m[2019-11-16:16:00:39:INFO] Determined delimiter of CSV input is ','\u001b[0m\n",
      "\u001b[32m169.254.255.130 - - [16/Nov/2019:16:00:38 +0000] \"POST /invocations HTTP/1.1\" 200 12203 \"-\" \"Go-http-client/1.1\"\u001b[0m\n",
      "\u001b[32m169.254.255.130 - - [16/Nov/2019:16:00:38 +0000] \"POST /invocations HTTP/1.1\" 200 12188 \"-\" \"Go-http-client/1.1\"\u001b[0m\n",
      "\u001b[32m169.254.255.130 - - [16/Nov/2019:16:00:38 +0000] \"POST /invocations HTTP/1.1\" 200 12228 \"-\" \"Go-http-client/1.1\"\u001b[0m\n",
      "\u001b[32m169.254.255.130 - - [16/Nov/2019:16:00:38 +0000] \"POST /invocations HTTP/1.1\" 200 12216 \"-\" \"Go-http-client/1.1\"\u001b[0m\n",
      "\u001b[32m[2019-11-16:16:00:39:INFO] Determined delimiter of CSV input is ','\u001b[0m\n",
      "\u001b[32m[2019-11-16:16:00:39:INFO] Determined delimiter of CSV input is ','\u001b[0m\n",
      "\u001b[32m[2019-11-16:16:00:39:INFO] Determined delimiter of CSV input is ','\u001b[0m\n",
      "\u001b[32m[2019-11-16:16:00:39:INFO] Determined delimiter of CSV input is ','\u001b[0m\n",
      "\u001b[31m169.254.255.130 - - [16/Nov/2019:16:00:42 +0000] \"POST /invocations HTTP/1.1\" 200 12226 \"-\" \"Go-http-client/1.1\"\u001b[0m\n",
      "\u001b[31m169.254.255.130 - - [16/Nov/2019:16:00:42 +0000] \"POST /invocations HTTP/1.1\" 200 12209 \"-\" \"Go-http-client/1.1\"\u001b[0m\n",
      "\u001b[31m[2019-11-16:16:00:42:INFO] Determined delimiter of CSV input is ','\u001b[0m\n",
      "\u001b[31m169.254.255.130 - - [16/Nov/2019:16:00:42 +0000] \"POST /invocations HTTP/1.1\" 200 12262 \"-\" \"Go-http-client/1.1\"\u001b[0m\n",
      "\u001b[31m169.254.255.130 - - [16/Nov/2019:16:00:42 +0000] \"POST /invocations HTTP/1.1\" 200 12221 \"-\" \"Go-http-client/1.1\"\u001b[0m\n",
      "\u001b[31m[2019-11-16:16:00:42:INFO] Determined delimiter of CSV input is ','\u001b[0m\n",
      "\u001b[31m[2019-11-16:16:00:42:INFO] Determined delimiter of CSV input is ','\u001b[0m\n",
      "\u001b[31m[2019-11-16:16:00:42:INFO] Determined delimiter of CSV input is ','\u001b[0m\n",
      "\u001b[32m169.254.255.130 - - [16/Nov/2019:16:00:42 +0000] \"POST /invocations HTTP/1.1\" 200 12226 \"-\" \"Go-http-client/1.1\"\u001b[0m\n",
      "\u001b[32m169.254.255.130 - - [16/Nov/2019:16:00:42 +0000] \"POST /invocations HTTP/1.1\" 200 12209 \"-\" \"Go-http-client/1.1\"\u001b[0m\n",
      "\u001b[32m[2019-11-16:16:00:42:INFO] Determined delimiter of CSV input is ','\u001b[0m\n",
      "\u001b[32m169.254.255.130 - - [16/Nov/2019:16:00:42 +0000] \"POST /invocations HTTP/1.1\" 200 12262 \"-\" \"Go-http-client/1.1\"\u001b[0m\n",
      "\u001b[32m169.254.255.130 - - [16/Nov/2019:16:00:42 +0000] \"POST /invocations HTTP/1.1\" 200 12221 \"-\" \"Go-http-client/1.1\"\u001b[0m\n",
      "\u001b[32m[2019-11-16:16:00:42:INFO] Determined delimiter of CSV input is ','\u001b[0m\n",
      "\u001b[32m[2019-11-16:16:00:42:INFO] Determined delimiter of CSV input is ','\u001b[0m\n",
      "\u001b[32m[2019-11-16:16:00:42:INFO] Determined delimiter of CSV input is ','\u001b[0m\n",
      "\u001b[31m169.254.255.130 - - [16/Nov/2019:16:00:49 +0000] \"POST /invocations HTTP/1.1\" 200 12236 \"-\" \"Go-http-client/1.1\"\u001b[0m\n",
      "\u001b[31m169.254.255.130 - - [16/Nov/2019:16:00:49 +0000] \"POST /invocations HTTP/1.1\" 200 12219 \"-\" \"Go-http-client/1.1\"\u001b[0m\n",
      "\u001b[31m[2019-11-16:16:00:49:INFO] Determined delimiter of CSV input is ','\u001b[0m\n",
      "\u001b[31m169.254.255.130 - - [16/Nov/2019:16:00:49 +0000] \"POST /invocations HTTP/1.1\" 200 12200 \"-\" \"Go-http-client/1.1\"\u001b[0m\n",
      "\u001b[31m[2019-11-16:16:00:49:INFO] Determined delimiter of CSV input is ','\u001b[0m\n",
      "\u001b[31m169.254.255.130 - - [16/Nov/2019:16:00:49 +0000] \"POST /invocations HTTP/1.1\" 200 12269 \"-\" \"Go-http-client/1.1\"\u001b[0m\n",
      "\u001b[31m[2019-11-16:16:00:49:INFO] Determined delimiter of CSV input is ','\u001b[0m\n",
      "\u001b[31m[2019-11-16:16:00:49:INFO] Determined delimiter of CSV input is ','\u001b[0m\n",
      "\u001b[32m169.254.255.130 - - [16/Nov/2019:16:00:49 +0000] \"POST /invocations HTTP/1.1\" 200 12236 \"-\" \"Go-http-client/1.1\"\u001b[0m\n",
      "\u001b[32m169.254.255.130 - - [16/Nov/2019:16:00:49 +0000] \"POST /invocations HTTP/1.1\" 200 12219 \"-\" \"Go-http-client/1.1\"\u001b[0m\n",
      "\u001b[32m[2019-11-16:16:00:49:INFO] Determined delimiter of CSV input is ','\u001b[0m\n",
      "\u001b[32m169.254.255.130 - - [16/Nov/2019:16:00:49 +0000] \"POST /invocations HTTP/1.1\" 200 12200 \"-\" \"Go-http-client/1.1\"\u001b[0m\n",
      "\u001b[32m[2019-11-16:16:00:49:INFO] Determined delimiter of CSV input is ','\u001b[0m\n",
      "\u001b[32m169.254.255.130 - - [16/Nov/2019:16:00:49 +0000] \"POST /invocations HTTP/1.1\" 200 12269 \"-\" \"Go-http-client/1.1\"\u001b[0m\n",
      "\u001b[32m[2019-11-16:16:00:49:INFO] Determined delimiter of CSV input is ','\u001b[0m\n",
      "\u001b[32m[2019-11-16:16:00:49:INFO] Determined delimiter of CSV input is ','\u001b[0m\n",
      "\u001b[31m169.254.255.130 - - [16/Nov/2019:16:00:52 +0000] \"POST /invocations HTTP/1.1\" 200 12210 \"-\" \"Go-http-client/1.1\"\u001b[0m\n",
      "\u001b[31m169.254.255.130 - - [16/Nov/2019:16:00:53 +0000] \"POST /invocations HTTP/1.1\" 200 12222 \"-\" \"Go-http-client/1.1\"\u001b[0m\n",
      "\u001b[31m[2019-11-16:16:00:53:INFO] Determined delimiter of CSV input is ','\u001b[0m\n",
      "\u001b[31m169.254.255.130 - - [16/Nov/2019:16:00:53 +0000] \"POST /invocations HTTP/1.1\" 200 12158 \"-\" \"Go-http-client/1.1\"\u001b[0m\n",
      "\u001b[31m[2019-11-16:16:00:53:INFO] Determined delimiter of CSV input is ','\u001b[0m\n",
      "\u001b[31m169.254.255.130 - - [16/Nov/2019:16:00:53 +0000] \"POST /invocations HTTP/1.1\" 200 12216 \"-\" \"Go-http-client/1.1\"\u001b[0m\n",
      "\u001b[31m[2019-11-16:16:00:53:INFO] Determined delimiter of CSV input is ','\u001b[0m\n",
      "\u001b[32m169.254.255.130 - - [16/Nov/2019:16:00:52 +0000] \"POST /invocations HTTP/1.1\" 200 12210 \"-\" \"Go-http-client/1.1\"\u001b[0m\n",
      "\u001b[32m169.254.255.130 - - [16/Nov/2019:16:00:53 +0000] \"POST /invocations HTTP/1.1\" 200 12222 \"-\" \"Go-http-client/1.1\"\u001b[0m\n",
      "\u001b[32m[2019-11-16:16:00:53:INFO] Determined delimiter of CSV input is ','\u001b[0m\n",
      "\u001b[32m169.254.255.130 - - [16/Nov/2019:16:00:53 +0000] \"POST /invocations HTTP/1.1\" 200 12158 \"-\" \"Go-http-client/1.1\"\u001b[0m\n",
      "\u001b[32m[2019-11-16:16:00:53:INFO] Determined delimiter of CSV input is ','\u001b[0m\n",
      "\u001b[32m169.254.255.130 - - [16/Nov/2019:16:00:53 +0000] \"POST /invocations HTTP/1.1\" 200 12216 \"-\" \"Go-http-client/1.1\"\u001b[0m\n",
      "\u001b[32m[2019-11-16:16:00:53:INFO] Determined delimiter of CSV input is ','\u001b[0m\n",
      "\u001b[31m[2019-11-16:16:00:53:INFO] Determined delimiter of CSV input is ','\u001b[0m\n",
      "\u001b[32m[2019-11-16:16:00:53:INFO] Determined delimiter of CSV input is ','\u001b[0m\n",
      "\u001b[31m169.254.255.130 - - [16/Nov/2019:16:00:56 +0000] \"POST /invocations HTTP/1.1\" 200 12221 \"-\" \"Go-http-client/1.1\"\u001b[0m\n",
      "\u001b[31m169.254.255.130 - - [16/Nov/2019:16:00:56 +0000] \"POST /invocations HTTP/1.1\" 200 12222 \"-\" \"Go-http-client/1.1\"\u001b[0m\n",
      "\u001b[31m[2019-11-16:16:00:56:INFO] Determined delimiter of CSV input is ','\u001b[0m\n",
      "\u001b[31m169.254.255.130 - - [16/Nov/2019:16:00:56 +0000] \"POST /invocations HTTP/1.1\" 200 12232 \"-\" \"Go-http-client/1.1\"\u001b[0m\n",
      "\u001b[31m[2019-11-16:16:00:56:INFO] Determined delimiter of CSV input is ','\u001b[0m\n",
      "\u001b[31m169.254.255.130 - - [16/Nov/2019:16:00:56 +0000] \"POST /invocations HTTP/1.1\" 200 12215 \"-\" \"Go-http-client/1.1\"\u001b[0m\n",
      "\u001b[31m[2019-11-16:16:00:56:INFO] Determined delimiter of CSV input is ','\u001b[0m\n",
      "\u001b[31m[2019-11-16:16:00:56:INFO] Determined delimiter of CSV input is ','\u001b[0m\n",
      "\u001b[32m169.254.255.130 - - [16/Nov/2019:16:00:56 +0000] \"POST /invocations HTTP/1.1\" 200 12221 \"-\" \"Go-http-client/1.1\"\u001b[0m\n",
      "\u001b[32m169.254.255.130 - - [16/Nov/2019:16:00:56 +0000] \"POST /invocations HTTP/1.1\" 200 12222 \"-\" \"Go-http-client/1.1\"\u001b[0m\n",
      "\u001b[32m[2019-11-16:16:00:56:INFO] Determined delimiter of CSV input is ','\u001b[0m\n",
      "\u001b[32m169.254.255.130 - - [16/Nov/2019:16:00:56 +0000] \"POST /invocations HTTP/1.1\" 200 12232 \"-\" \"Go-http-client/1.1\"\u001b[0m\n",
      "\u001b[32m[2019-11-16:16:00:56:INFO] Determined delimiter of CSV input is ','\u001b[0m\n",
      "\u001b[32m169.254.255.130 - - [16/Nov/2019:16:00:56 +0000] \"POST /invocations HTTP/1.1\" 200 12215 \"-\" \"Go-http-client/1.1\"\u001b[0m\n",
      "\u001b[32m[2019-11-16:16:00:56:INFO] Determined delimiter of CSV input is ','\u001b[0m\n",
      "\u001b[32m[2019-11-16:16:00:56:INFO] Determined delimiter of CSV input is ','\u001b[0m\n",
      "\u001b[31m169.254.255.130 - - [16/Nov/2019:16:01:03 +0000] \"POST /invocations HTTP/1.1\" 200 12270 \"-\" \"Go-http-client/1.1\"\u001b[0m\n",
      "\u001b[31m169.254.255.130 - - [16/Nov/2019:16:01:03 +0000] \"POST /invocations HTTP/1.1\" 200 12196 \"-\" \"Go-http-client/1.1\"\u001b[0m\n",
      "\u001b[31m169.254.255.130 - - [16/Nov/2019:16:01:03 +0000] \"POST /invocations HTTP/1.1\" 200 12205 \"-\" \"Go-http-client/1.1\"\u001b[0m\n",
      "\u001b[31m[2019-11-16:16:01:03:INFO] Determined delimiter of CSV input is ','\u001b[0m\n",
      "\u001b[31m169.254.255.130 - - [16/Nov/2019:16:01:03 +0000] \"POST /invocations HTTP/1.1\" 200 12246 \"-\" \"Go-http-client/1.1\"\u001b[0m\n",
      "\u001b[31m[2019-11-16:16:01:03:INFO] Determined delimiter of CSV input is ','\u001b[0m\n",
      "\u001b[31m[2019-11-16:16:01:03:INFO] Determined delimiter of CSV input is ','\u001b[0m\n",
      "\u001b[31m[2019-11-16:16:01:03:INFO] Determined delimiter of CSV input is ','\u001b[0m\n",
      "\u001b[32m169.254.255.130 - - [16/Nov/2019:16:01:03 +0000] \"POST /invocations HTTP/1.1\" 200 12270 \"-\" \"Go-http-client/1.1\"\u001b[0m\n",
      "\u001b[32m169.254.255.130 - - [16/Nov/2019:16:01:03 +0000] \"POST /invocations HTTP/1.1\" 200 12196 \"-\" \"Go-http-client/1.1\"\u001b[0m\n",
      "\u001b[32m169.254.255.130 - - [16/Nov/2019:16:01:03 +0000] \"POST /invocations HTTP/1.1\" 200 12205 \"-\" \"Go-http-client/1.1\"\u001b[0m\n",
      "\u001b[32m[2019-11-16:16:01:03:INFO] Determined delimiter of CSV input is ','\u001b[0m\n",
      "\u001b[32m169.254.255.130 - - [16/Nov/2019:16:01:03 +0000] \"POST /invocations HTTP/1.1\" 200 12246 \"-\" \"Go-http-client/1.1\"\u001b[0m\n",
      "\u001b[32m[2019-11-16:16:01:03:INFO] Determined delimiter of CSV input is ','\u001b[0m\n",
      "\u001b[32m[2019-11-16:16:01:03:INFO] Determined delimiter of CSV input is ','\u001b[0m\n",
      "\u001b[32m[2019-11-16:16:01:03:INFO] Determined delimiter of CSV input is ','\u001b[0m\n",
      "\u001b[31m169.254.255.130 - - [16/Nov/2019:16:01:09 +0000] \"POST /invocations HTTP/1.1\" 200 9118 \"-\" \"Go-http-client/1.1\"\u001b[0m\n",
      "\u001b[31m169.254.255.130 - - [16/Nov/2019:16:01:10 +0000] \"POST /invocations HTTP/1.1\" 200 12240 \"-\" \"Go-http-client/1.1\"\u001b[0m\n",
      "\u001b[31m169.254.255.130 - - [16/Nov/2019:16:01:10 +0000] \"POST /invocations HTTP/1.1\" 200 12213 \"-\" \"Go-http-client/1.1\"\u001b[0m\n",
      "\u001b[32m169.254.255.130 - - [16/Nov/2019:16:01:09 +0000] \"POST /invocations HTTP/1.1\" 200 9118 \"-\" \"Go-http-client/1.1\"\u001b[0m\n",
      "\u001b[32m169.254.255.130 - - [16/Nov/2019:16:01:10 +0000] \"POST /invocations HTTP/1.1\" 200 12240 \"-\" \"Go-http-client/1.1\"\u001b[0m\n",
      "\u001b[32m169.254.255.130 - - [16/Nov/2019:16:01:10 +0000] \"POST /invocations HTTP/1.1\" 200 12213 \"-\" \"Go-http-client/1.1\"\u001b[0m\n",
      "\u001b[31m169.254.255.130 - - [16/Nov/2019:16:01:10 +0000] \"POST /invocations HTTP/1.1\" 200 12216 \"-\" \"Go-http-client/1.1\"\u001b[0m\n",
      "\u001b[32m169.254.255.130 - - [16/Nov/2019:16:01:10 +0000] \"POST /invocations HTTP/1.1\" 200 12216 \"-\" \"Go-http-client/1.1\"\u001b[0m\n",
      "\n"
     ]
    }
   ],
   "source": [
    "xgb_transformer.wait()"
   ]
  },
  {
   "cell_type": "markdown",
   "metadata": {},
   "source": [
    "Now the transform job has executed and the result, the estimated sentiment of each review, has been saved on S3. Since we would rather work on this file locally we can perform a bit of notebook magic to copy the file to the `data_dir`."
   ]
  },
  {
   "cell_type": "code",
   "execution_count": 27,
   "metadata": {},
   "outputs": [
    {
     "name": "stdout",
     "output_type": "stream",
     "text": [
      "download: s3://sagemaker-eu-central-1-601949536922/sagemaker-xgboost-2019-11-16-15-56-29-041/test.csv.out to ../data/sentiment_update/test.csv.out\n"
     ]
    }
   ],
   "source": [
    "!aws s3 cp --recursive $xgb_transformer.output_path $data_dir"
   ]
  },
  {
   "cell_type": "markdown",
   "metadata": {},
   "source": [
    "The last step is now to read in the output from our model, convert the output to something a little more usable, in this case we want the sentiment to be either `1` (positive) or `0` (negative), and then compare to the ground truth labels."
   ]
  },
  {
   "cell_type": "code",
   "execution_count": 28,
   "metadata": {},
   "outputs": [],
   "source": [
    "predictions = pd.read_csv(os.path.join(data_dir, 'test.csv.out'), header=None)\n",
    "predictions = [round(num) for num in predictions.squeeze().values]"
   ]
  },
  {
   "cell_type": "code",
   "execution_count": 29,
   "metadata": {},
   "outputs": [
    {
     "data": {
      "text/plain": [
       "0.86592"
      ]
     },
     "execution_count": 29,
     "metadata": {},
     "output_type": "execute_result"
    }
   ],
   "source": [
    "from sklearn.metrics import accuracy_score\n",
    "accuracy_score(test_y, predictions)"
   ]
  },
  {
   "cell_type": "markdown",
   "metadata": {},
   "source": [
    "## Step 5: Looking at New Data\n",
    "\n",
    "So now we have an XGBoost sentiment analysis model that we believe is working pretty well. As a result, we deployed it and we are using it in some sort of app.\n",
    "\n",
    "However, as we allow users to use our app we periodically record submitted movie reviews so that we can perform some quality control on our deployed model. Once we've accumulated enough reviews we go through them by hand and evaluate whether they are positive or negative (there are many ways you might do this in practice aside from by hand). The reason for doing this is so that we can check to see how well our model is doing."
   ]
  },
  {
   "cell_type": "code",
   "execution_count": 30,
   "metadata": {},
   "outputs": [],
   "source": [
    "import new_data\n",
    "\n",
    "new_X, new_Y = new_data.get_new_data()"
   ]
  },
  {
   "cell_type": "markdown",
   "metadata": {},
   "source": [
    "**NOTE:** Part of the fun in this notebook is trying to figure out what exactly is happening with the new data, so try not to cheat by looking in the `new_data` module. Also, the `new_data` module assumes that the cache created earlier in Step 3 is still stored in `../cache/sentiment_analysis`."
   ]
  },
  {
   "cell_type": "markdown",
   "metadata": {},
   "source": [
    "### (TODO) Testing the current model\n",
    "\n",
    "Now that we've loaded the new data, let's check to see how our current XGBoost model performs on it.\n",
    "\n",
    "First, note that the data that has been loaded has already been pre-processed so that each entry in `new_X` is a list of words that have been processed using `nltk`. However, we have not yet constructed the bag of words encoding, which we will do now.\n",
    "\n",
    "First, we use the vocabulary that we constructed earlier using the original training data to construct a `CountVectorizer` which we will use to transform our new data into its bag of words encoding.\n",
    "\n",
    "**TODO:** Create the CountVectorizer object using the vocabulary created earlier and use it to transform the new data."
   ]
  },
  {
   "cell_type": "code",
   "execution_count": 43,
   "metadata": {},
   "outputs": [],
   "source": [
    "# TODO: Create the CountVectorizer using the previously constructed vocabulary\n",
    "vectorizer = CountVectorizer(vocabulary=vocabulary, preprocessor=lambda x: x, tokenizer=lambda x: x)\n",
    "\n",
    "# TODO: Transform our new data set and store the transformed data in the variable new_XV\n",
    "new_XV = vectorizer.transform(new_X).toarray()"
   ]
  },
  {
   "cell_type": "markdown",
   "metadata": {},
   "source": [
    "As a quick sanity check, we make sure that the length of each of our bag of words encoded reviews is correct. In particular, it must be the same size as the vocabulary which in our case is `5000`."
   ]
  },
  {
   "cell_type": "code",
   "execution_count": 45,
   "metadata": {},
   "outputs": [
    {
     "data": {
      "text/plain": [
       "5000"
      ]
     },
     "execution_count": 45,
     "metadata": {},
     "output_type": "execute_result"
    }
   ],
   "source": [
    "len(new_XV[100])"
   ]
  },
  {
   "cell_type": "markdown",
   "metadata": {},
   "source": [
    "Now that we've performed the data processing that is required by our model we can save it locally and then upload it to S3 so that we can construct a batch transform job in order to see how well our model is working.\n",
    "\n",
    "First, we save the data locally.\n",
    "\n",
    "**TODO:** Save the new data (after it has been transformed using the original vocabulary) to the local notebook instance."
   ]
  },
  {
   "cell_type": "code",
   "execution_count": 52,
   "metadata": {},
   "outputs": [],
   "source": [
    "# TODO: Save the data contained in new_XV locally in the data_dir with the file name new_data.csv\n",
    "pd.DataFrame(new_XV).to_csv(os.path.join(data_dir, 'new_data.csv'), header=False, index=False)"
   ]
  },
  {
   "cell_type": "markdown",
   "metadata": {},
   "source": [
    "Next, we upload the data to S3.\n",
    "\n",
    "**TODO:** Upload the csv file created above to S3."
   ]
  },
  {
   "cell_type": "code",
   "execution_count": 53,
   "metadata": {},
   "outputs": [],
   "source": [
    "# TODO: Upload the new_data.csv file contained in the data_dir folder to S3 and save the resulting\n",
    "#       URI as new_data_location\n",
    "\n",
    "new_data_location = session.upload_data(os.path.join(data_dir, 'new_data.csv'), key_prefix=prefix)"
   ]
  },
  {
   "cell_type": "markdown",
   "metadata": {},
   "source": [
    "Then, once the new data has been uploaded to S3, we create and run the batch transform job to get our model's predictions about the sentiment of the new movie reviews.\n",
    "\n",
    "**TODO:** Using the `xgb_transformer` object that was created earlier (at the end of Step 4 to test the XGBoost model), transform the data located at `new_data_location`."
   ]
  },
  {
   "cell_type": "code",
   "execution_count": 54,
   "metadata": {},
   "outputs": [],
   "source": [
    "# TODO: Using xgb_transformer, transform the new_data_location data. You may wish to **wait** until\n",
    "#       the batch transform job has finished.\n",
    "xgb_transformer.transform(new_data_location, content_type='text/csv', split_type='Line')"
   ]
  },
  {
   "cell_type": "code",
   "execution_count": 55,
   "metadata": {
    "collapsed": true,
    "jupyter": {
     "outputs_hidden": true
    }
   },
   "outputs": [
    {
     "name": "stdout",
     "output_type": "stream",
     "text": [
      ".....................\u001b[31m[2019-11-16 17:01:36 +0000] [14] [INFO] Starting gunicorn 19.9.0\u001b[0m\n",
      "\u001b[31m[2019-11-16 17:01:36 +0000] [14] [INFO] Listening at: unix:/tmp/gunicorn.sock (14)\u001b[0m\n",
      "\u001b[31m[2019-11-16 17:01:36 +0000] [14] [INFO] Using worker: gevent\u001b[0m\n",
      "\u001b[31m[2019-11-16 17:01:36 +0000] [21] [INFO] Booting worker with pid: 21\u001b[0m\n",
      "\u001b[31m[2019-11-16 17:01:36 +0000] [22] [INFO] Booting worker with pid: 22\u001b[0m\n",
      "\u001b[31m[2019-11-16 17:01:36 +0000] [23] [INFO] Booting worker with pid: 23\u001b[0m\n",
      "\u001b[31m[2019-11-16 17:01:37 +0000] [27] [INFO] Booting worker with pid: 27\u001b[0m\n",
      "\u001b[31m[2019-11-16:17:01:58:INFO] No GPUs detected (normal if no gpus installed)\u001b[0m\n",
      "\u001b[31m169.254.255.130 - - [16/Nov/2019:17:01:58 +0000] \"GET /ping HTTP/1.1\" 200 0 \"-\" \"Go-http-client/1.1\"\u001b[0m\n",
      "\u001b[31m169.254.255.130 - - [16/Nov/2019:17:01:58 +0000] \"GET /execution-parameters HTTP/1.1\" 200 84 \"-\" \"Go-http-client/1.1\"\u001b[0m\n",
      "\u001b[32m[2019-11-16:17:01:58:INFO] No GPUs detected (normal if no gpus installed)\u001b[0m\n",
      "\u001b[32m169.254.255.130 - - [16/Nov/2019:17:01:58 +0000] \"GET /ping HTTP/1.1\" 200 0 \"-\" \"Go-http-client/1.1\"\u001b[0m\n",
      "\u001b[32m169.254.255.130 - - [16/Nov/2019:17:01:58 +0000] \"GET /execution-parameters HTTP/1.1\" 200 84 \"-\" \"Go-http-client/1.1\"\u001b[0m\n",
      "\u001b[33m2019-11-16T17:01:58.294:[sagemaker logs]: MaxConcurrentTransforms=4, MaxPayloadInMB=6, BatchStrategy=MULTI_RECORD\u001b[0m\n",
      "\u001b[31m[2019-11-16:17:02:01:INFO] No GPUs detected (normal if no gpus installed)\u001b[0m\n",
      "\u001b[31m[2019-11-16:17:02:01:INFO] No GPUs detected (normal if no gpus installed)\u001b[0m\n",
      "\u001b[31m[2019-11-16:17:02:01:INFO] Determined delimiter of CSV input is ','\u001b[0m\n",
      "\u001b[31m[2019-11-16:17:02:01:INFO] Determined delimiter of CSV input is ','\u001b[0m\n",
      "\u001b[31m[2019-11-16:17:02:01:INFO] Determined delimiter of CSV input is ','\u001b[0m\n",
      "\u001b[31m[2019-11-16:17:02:01:INFO] No GPUs detected (normal if no gpus installed)\u001b[0m\n",
      "\u001b[31m[2019-11-16:17:02:01:INFO] Determined delimiter of CSV input is ','\u001b[0m\n",
      "\u001b[32m[2019-11-16:17:02:01:INFO] No GPUs detected (normal if no gpus installed)\u001b[0m\n",
      "\u001b[32m[2019-11-16:17:02:01:INFO] No GPUs detected (normal if no gpus installed)\u001b[0m\n",
      "\u001b[32m[2019-11-16:17:02:01:INFO] Determined delimiter of CSV input is ','\u001b[0m\n",
      "\u001b[32m[2019-11-16:17:02:01:INFO] Determined delimiter of CSV input is ','\u001b[0m\n",
      "\u001b[32m[2019-11-16:17:02:01:INFO] Determined delimiter of CSV input is ','\u001b[0m\n",
      "\u001b[32m[2019-11-16:17:02:01:INFO] No GPUs detected (normal if no gpus installed)\u001b[0m\n",
      "\u001b[32m[2019-11-16:17:02:01:INFO] Determined delimiter of CSV input is ','\u001b[0m\n",
      "\u001b[31m[2019-11-16:17:02:05:INFO] Determined delimiter of CSV input is ','\u001b[0m\n",
      "\u001b[32m[2019-11-16:17:02:05:INFO] Determined delimiter of CSV input is ','\u001b[0m\n",
      "\u001b[31m169.254.255.130 - - [16/Nov/2019:17:02:08 +0000] \"POST /invocations HTTP/1.1\" 200 12218 \"-\" \"Go-http-client/1.1\"\u001b[0m\n",
      "\u001b[31m169.254.255.130 - - [16/Nov/2019:17:02:08 +0000] \"POST /invocations HTTP/1.1\" 200 12194 \"-\" \"Go-http-client/1.1\"\u001b[0m\n",
      "\u001b[31m[2019-11-16:17:02:08:INFO] Determined delimiter of CSV input is ','\u001b[0m\n",
      "\u001b[31m169.254.255.130 - - [16/Nov/2019:17:02:08 +0000] \"POST /invocations HTTP/1.1\" 200 12219 \"-\" \"Go-http-client/1.1\"\u001b[0m\n",
      "\u001b[31m[2019-11-16:17:02:08:INFO] Determined delimiter of CSV input is ','\u001b[0m\n",
      "\u001b[32m169.254.255.130 - - [16/Nov/2019:17:02:08 +0000] \"POST /invocations HTTP/1.1\" 200 12218 \"-\" \"Go-http-client/1.1\"\u001b[0m\n",
      "\u001b[32m169.254.255.130 - - [16/Nov/2019:17:02:08 +0000] \"POST /invocations HTTP/1.1\" 200 12194 \"-\" \"Go-http-client/1.1\"\u001b[0m\n",
      "\u001b[32m[2019-11-16:17:02:08:INFO] Determined delimiter of CSV input is ','\u001b[0m\n",
      "\u001b[32m169.254.255.130 - - [16/Nov/2019:17:02:08 +0000] \"POST /invocations HTTP/1.1\" 200 12219 \"-\" \"Go-http-client/1.1\"\u001b[0m\n",
      "\u001b[32m[2019-11-16:17:02:08:INFO] Determined delimiter of CSV input is ','\u001b[0m\n",
      "\u001b[31m169.254.255.130 - - [16/Nov/2019:17:02:08 +0000] \"POST /invocations HTTP/1.1\" 200 12256 \"-\" \"Go-http-client/1.1\"\u001b[0m\n",
      "\u001b[31m[2019-11-16:17:02:08:INFO] Determined delimiter of CSV input is ','\u001b[0m\n",
      "\u001b[31m[2019-11-16:17:02:09:INFO] Determined delimiter of CSV input is ','\u001b[0m\n",
      "\u001b[32m169.254.255.130 - - [16/Nov/2019:17:02:08 +0000] \"POST /invocations HTTP/1.1\" 200 12256 \"-\" \"Go-http-client/1.1\"\u001b[0m\n",
      "\u001b[32m[2019-11-16:17:02:08:INFO] Determined delimiter of CSV input is ','\u001b[0m\n",
      "\u001b[32m[2019-11-16:17:02:09:INFO] Determined delimiter of CSV input is ','\u001b[0m\n",
      "\u001b[31m169.254.255.130 - - [16/Nov/2019:17:02:12 +0000] \"POST /invocations HTTP/1.1\" 200 12192 \"-\" \"Go-http-client/1.1\"\u001b[0m\n",
      "\u001b[31m169.254.255.130 - - [16/Nov/2019:17:02:12 +0000] \"POST /invocations HTTP/1.1\" 200 12235 \"-\" \"Go-http-client/1.1\"\u001b[0m\n",
      "\u001b[31m[2019-11-16:17:02:12:INFO] Determined delimiter of CSV input is ','\u001b[0m\n",
      "\u001b[31m[2019-11-16:17:02:12:INFO] Determined delimiter of CSV input is ','\u001b[0m\n",
      "\u001b[31m169.254.255.130 - - [16/Nov/2019:17:02:12 +0000] \"POST /invocations HTTP/1.1\" 200 12242 \"-\" \"Go-http-client/1.1\"\u001b[0m\n",
      "\u001b[31m169.254.255.130 - - [16/Nov/2019:17:02:12 +0000] \"POST /invocations HTTP/1.1\" 200 12187 \"-\" \"Go-http-client/1.1\"\u001b[0m\n",
      "\u001b[31m[2019-11-16:17:02:12:INFO] Determined delimiter of CSV input is ','\u001b[0m\n",
      "\u001b[31m[2019-11-16:17:02:12:INFO] Determined delimiter of CSV input is ','\u001b[0m\n",
      "\u001b[32m169.254.255.130 - - [16/Nov/2019:17:02:12 +0000] \"POST /invocations HTTP/1.1\" 200 12192 \"-\" \"Go-http-client/1.1\"\u001b[0m\n",
      "\u001b[32m169.254.255.130 - - [16/Nov/2019:17:02:12 +0000] \"POST /invocations HTTP/1.1\" 200 12235 \"-\" \"Go-http-client/1.1\"\u001b[0m\n",
      "\u001b[32m[2019-11-16:17:02:12:INFO] Determined delimiter of CSV input is ','\u001b[0m\n",
      "\u001b[32m[2019-11-16:17:02:12:INFO] Determined delimiter of CSV input is ','\u001b[0m\n",
      "\u001b[32m169.254.255.130 - - [16/Nov/2019:17:02:12 +0000] \"POST /invocations HTTP/1.1\" 200 12242 \"-\" \"Go-http-client/1.1\"\u001b[0m\n",
      "\u001b[32m169.254.255.130 - - [16/Nov/2019:17:02:12 +0000] \"POST /invocations HTTP/1.1\" 200 12187 \"-\" \"Go-http-client/1.1\"\u001b[0m\n",
      "\u001b[32m[2019-11-16:17:02:12:INFO] Determined delimiter of CSV input is ','\u001b[0m\n",
      "\u001b[32m[2019-11-16:17:02:12:INFO] Determined delimiter of CSV input is ','\u001b[0m\n",
      "\u001b[31m169.254.255.130 - - [16/Nov/2019:17:02:19 +0000] \"POST /invocations HTTP/1.1\" 200 12202 \"-\" \"Go-http-client/1.1\"\u001b[0m\n",
      "\u001b[31m169.254.255.130 - - [16/Nov/2019:17:02:19 +0000] \"POST /invocations HTTP/1.1\" 200 12199 \"-\" \"Go-http-client/1.1\"\u001b[0m\n",
      "\u001b[31m169.254.255.130 - - [16/Nov/2019:17:02:19 +0000] \"POST /invocations HTTP/1.1\" 200 12232 \"-\" \"Go-http-client/1.1\"\u001b[0m\n",
      "\u001b[32m169.254.255.130 - - [16/Nov/2019:17:02:19 +0000] \"POST /invocations HTTP/1.1\" 200 12202 \"-\" \"Go-http-client/1.1\"\u001b[0m\n",
      "\u001b[32m169.254.255.130 - - [16/Nov/2019:17:02:19 +0000] \"POST /invocations HTTP/1.1\" 200 12199 \"-\" \"Go-http-client/1.1\"\u001b[0m\n",
      "\u001b[32m169.254.255.130 - - [16/Nov/2019:17:02:19 +0000] \"POST /invocations HTTP/1.1\" 200 12232 \"-\" \"Go-http-client/1.1\"\u001b[0m\n",
      "\u001b[31m[2019-11-16:17:02:19:INFO] Determined delimiter of CSV input is ','\u001b[0m\n",
      "\u001b[31m[2019-11-16:17:02:19:INFO] Determined delimiter of CSV input is ','\u001b[0m\n",
      "\u001b[31m169.254.255.130 - - [16/Nov/2019:17:02:19 +0000] \"POST /invocations HTTP/1.1\" 200 12252 \"-\" \"Go-http-client/1.1\"\u001b[0m\n",
      "\u001b[31m[2019-11-16:17:02:19:INFO] Determined delimiter of CSV input is ','\u001b[0m\n",
      "\u001b[31m[2019-11-16:17:02:19:INFO] Determined delimiter of CSV input is ','\u001b[0m\n",
      "\u001b[32m[2019-11-16:17:02:19:INFO] Determined delimiter of CSV input is ','\u001b[0m\n",
      "\u001b[32m[2019-11-16:17:02:19:INFO] Determined delimiter of CSV input is ','\u001b[0m\n",
      "\u001b[32m169.254.255.130 - - [16/Nov/2019:17:02:19 +0000] \"POST /invocations HTTP/1.1\" 200 12252 \"-\" \"Go-http-client/1.1\"\u001b[0m\n",
      "\u001b[32m[2019-11-16:17:02:19:INFO] Determined delimiter of CSV input is ','\u001b[0m\n",
      "\u001b[32m[2019-11-16:17:02:19:INFO] Determined delimiter of CSV input is ','\u001b[0m\n",
      "\u001b[31m169.254.255.130 - - [16/Nov/2019:17:02:22 +0000] \"POST /invocations HTTP/1.1\" 200 12249 \"-\" \"Go-http-client/1.1\"\u001b[0m\n",
      "\u001b[32m169.254.255.130 - - [16/Nov/2019:17:02:22 +0000] \"POST /invocations HTTP/1.1\" 200 12249 \"-\" \"Go-http-client/1.1\"\u001b[0m\n",
      "\u001b[31m169.254.255.130 - - [16/Nov/2019:17:02:22 +0000] \"POST /invocations HTTP/1.1\" 200 12207 \"-\" \"Go-http-client/1.1\"\u001b[0m\n",
      "\u001b[31m169.254.255.130 - - [16/Nov/2019:17:02:22 +0000] \"POST /invocations HTTP/1.1\" 200 12218 \"-\" \"Go-http-client/1.1\"\u001b[0m\n",
      "\u001b[31m169.254.255.130 - - [16/Nov/2019:17:02:23 +0000] \"POST /invocations HTTP/1.1\" 200 12250 \"-\" \"Go-http-client/1.1\"\u001b[0m\n",
      "\u001b[31m[2019-11-16:17:02:23:INFO] Determined delimiter of CSV input is ','\u001b[0m\n",
      "\u001b[31m[2019-11-16:17:02:23:INFO] Determined delimiter of CSV input is ','\u001b[0m\n",
      "\u001b[31m[2019-11-16:17:02:23:INFO] Determined delimiter of CSV input is ','\u001b[0m\n",
      "\u001b[31m[2019-11-16:17:02:23:INFO] Determined delimiter of CSV input is ','\u001b[0m\n",
      "\u001b[32m169.254.255.130 - - [16/Nov/2019:17:02:22 +0000] \"POST /invocations HTTP/1.1\" 200 12207 \"-\" \"Go-http-client/1.1\"\u001b[0m\n",
      "\u001b[32m169.254.255.130 - - [16/Nov/2019:17:02:22 +0000] \"POST /invocations HTTP/1.1\" 200 12218 \"-\" \"Go-http-client/1.1\"\u001b[0m\n",
      "\u001b[32m169.254.255.130 - - [16/Nov/2019:17:02:23 +0000] \"POST /invocations HTTP/1.1\" 200 12250 \"-\" \"Go-http-client/1.1\"\u001b[0m\n",
      "\u001b[32m[2019-11-16:17:02:23:INFO] Determined delimiter of CSV input is ','\u001b[0m\n",
      "\u001b[32m[2019-11-16:17:02:23:INFO] Determined delimiter of CSV input is ','\u001b[0m\n",
      "\u001b[32m[2019-11-16:17:02:23:INFO] Determined delimiter of CSV input is ','\u001b[0m\n",
      "\u001b[32m[2019-11-16:17:02:23:INFO] Determined delimiter of CSV input is ','\u001b[0m\n",
      "\u001b[31m169.254.255.130 - - [16/Nov/2019:17:02:26 +0000] \"POST /invocations HTTP/1.1\" 200 12218 \"-\" \"Go-http-client/1.1\"\u001b[0m\n",
      "\u001b[32m169.254.255.130 - - [16/Nov/2019:17:02:26 +0000] \"POST /invocations HTTP/1.1\" 200 12218 \"-\" \"Go-http-client/1.1\"\u001b[0m\n",
      "\u001b[31m169.254.255.130 - - [16/Nov/2019:17:02:26 +0000] \"POST /invocations HTTP/1.1\" 200 12226 \"-\" \"Go-http-client/1.1\"\u001b[0m\n",
      "\u001b[31m169.254.255.130 - - [16/Nov/2019:17:02:26 +0000] \"POST /invocations HTTP/1.1\" 200 12220 \"-\" \"Go-http-client/1.1\"\u001b[0m\n",
      "\u001b[31m169.254.255.130 - - [16/Nov/2019:17:02:26 +0000] \"POST /invocations HTTP/1.1\" 200 12275 \"-\" \"Go-http-client/1.1\"\u001b[0m\n",
      "\u001b[31m[2019-11-16:17:02:26:INFO] Determined delimiter of CSV input is ','\u001b[0m\n",
      "\u001b[31m[2019-11-16:17:02:26:INFO] Determined delimiter of CSV input is ','\u001b[0m\n",
      "\u001b[31m[2019-11-16:17:02:26:INFO] Determined delimiter of CSV input is ','\u001b[0m\n",
      "\u001b[31m[2019-11-16:17:02:26:INFO] Determined delimiter of CSV input is ','\u001b[0m\n",
      "\u001b[32m169.254.255.130 - - [16/Nov/2019:17:02:26 +0000] \"POST /invocations HTTP/1.1\" 200 12226 \"-\" \"Go-http-client/1.1\"\u001b[0m\n",
      "\u001b[32m169.254.255.130 - - [16/Nov/2019:17:02:26 +0000] \"POST /invocations HTTP/1.1\" 200 12220 \"-\" \"Go-http-client/1.1\"\u001b[0m\n",
      "\u001b[32m169.254.255.130 - - [16/Nov/2019:17:02:26 +0000] \"POST /invocations HTTP/1.1\" 200 12275 \"-\" \"Go-http-client/1.1\"\u001b[0m\n",
      "\u001b[32m[2019-11-16:17:02:26:INFO] Determined delimiter of CSV input is ','\u001b[0m\n",
      "\u001b[32m[2019-11-16:17:02:26:INFO] Determined delimiter of CSV input is ','\u001b[0m\n",
      "\u001b[32m[2019-11-16:17:02:26:INFO] Determined delimiter of CSV input is ','\u001b[0m\n",
      "\u001b[32m[2019-11-16:17:02:26:INFO] Determined delimiter of CSV input is ','\u001b[0m\n",
      "\u001b[31m[2019-11-16:17:02:30:INFO] Determined delimiter of CSV input is ','\u001b[0m\n",
      "\u001b[32m[2019-11-16:17:02:30:INFO] Determined delimiter of CSV input is ','\u001b[0m\n",
      "\u001b[31m169.254.255.130 - - [16/Nov/2019:17:02:33 +0000] \"POST /invocations HTTP/1.1\" 200 12237 \"-\" \"Go-http-client/1.1\"\u001b[0m\n",
      "\u001b[32m169.254.255.130 - - [16/Nov/2019:17:02:33 +0000] \"POST /invocations HTTP/1.1\" 200 12237 \"-\" \"Go-http-client/1.1\"\u001b[0m\n",
      "\u001b[31m169.254.255.130 - - [16/Nov/2019:17:02:33 +0000] \"POST /invocations HTTP/1.1\" 200 12228 \"-\" \"Go-http-client/1.1\"\u001b[0m\n",
      "\u001b[31m169.254.255.130 - - [16/Nov/2019:17:02:33 +0000] \"POST /invocations HTTP/1.1\" 200 12218 \"-\" \"Go-http-client/1.1\"\u001b[0m\n",
      "\u001b[31m169.254.255.130 - - [16/Nov/2019:17:02:33 +0000] \"POST /invocations HTTP/1.1\" 200 12210 \"-\" \"Go-http-client/1.1\"\u001b[0m\n",
      "\u001b[31m[2019-11-16:17:02:33:INFO] Determined delimiter of CSV input is ','\u001b[0m\n",
      "\u001b[32m169.254.255.130 - - [16/Nov/2019:17:02:33 +0000] \"POST /invocations HTTP/1.1\" 200 12228 \"-\" \"Go-http-client/1.1\"\u001b[0m\n",
      "\u001b[32m169.254.255.130 - - [16/Nov/2019:17:02:33 +0000] \"POST /invocations HTTP/1.1\" 200 12218 \"-\" \"Go-http-client/1.1\"\u001b[0m\n",
      "\u001b[32m169.254.255.130 - - [16/Nov/2019:17:02:33 +0000] \"POST /invocations HTTP/1.1\" 200 12210 \"-\" \"Go-http-client/1.1\"\u001b[0m\n",
      "\u001b[32m[2019-11-16:17:02:33:INFO] Determined delimiter of CSV input is ','\u001b[0m\n",
      "\u001b[31m[2019-11-16:17:02:33:INFO] Determined delimiter of CSV input is ','\u001b[0m\n",
      "\u001b[31m[2019-11-16:17:02:34:INFO] Determined delimiter of CSV input is ','\u001b[0m\n",
      "\u001b[31m[2019-11-16:17:02:34:INFO] Determined delimiter of CSV input is ','\u001b[0m\n",
      "\u001b[32m[2019-11-16:17:02:33:INFO] Determined delimiter of CSV input is ','\u001b[0m\n",
      "\u001b[32m[2019-11-16:17:02:34:INFO] Determined delimiter of CSV input is ','\u001b[0m\n",
      "\u001b[32m[2019-11-16:17:02:34:INFO] Determined delimiter of CSV input is ','\u001b[0m\n",
      "\u001b[31m169.254.255.130 - - [16/Nov/2019:17:02:37 +0000] \"POST /invocations HTTP/1.1\" 200 12247 \"-\" \"Go-http-client/1.1\"\u001b[0m\n",
      "\u001b[32m169.254.255.130 - - [16/Nov/2019:17:02:37 +0000] \"POST /invocations HTTP/1.1\" 200 12247 \"-\" \"Go-http-client/1.1\"\u001b[0m\n",
      "\n",
      "\u001b[31m169.254.255.130 - - [16/Nov/2019:17:02:37 +0000] \"POST /invocations HTTP/1.1\" 200 12247 \"-\" \"Go-http-client/1.1\"\u001b[0m\n",
      "\u001b[32m169.254.255.130 - - [16/Nov/2019:17:02:37 +0000] \"POST /invocations HTTP/1.1\" 200 12247 \"-\" \"Go-http-client/1.1\"\u001b[0m\n"
     ]
    }
   ],
   "source": [
    "xgb_transformer.wait()"
   ]
  },
  {
   "cell_type": "markdown",
   "metadata": {},
   "source": [
    "As usual, we copy the results of the batch transform job to our local instance."
   ]
  },
  {
   "cell_type": "code",
   "execution_count": 56,
   "metadata": {},
   "outputs": [
    {
     "name": "stdout",
     "output_type": "stream",
     "text": [
      "download: s3://sagemaker-eu-central-1-601949536922/sagemaker-xgboost-2019-11-16-16-58-27-319/new_data.csv.out to ../data/sentiment_update/new_data.csv.out\n"
     ]
    }
   ],
   "source": [
    "!aws s3 cp --recursive $xgb_transformer.output_path $data_dir"
   ]
  },
  {
   "cell_type": "markdown",
   "metadata": {},
   "source": [
    "Read in the results of the batch transform job."
   ]
  },
  {
   "cell_type": "code",
   "execution_count": 57,
   "metadata": {},
   "outputs": [],
   "source": [
    "predictions = pd.read_csv(os.path.join(data_dir, 'new_data.csv.out'), header=None)\n",
    "predictions = [round(num) for num in predictions.squeeze().values]"
   ]
  },
  {
   "cell_type": "markdown",
   "metadata": {},
   "source": [
    "And check the accuracy of our current model."
   ]
  },
  {
   "cell_type": "code",
   "execution_count": 58,
   "metadata": {},
   "outputs": [
    {
     "data": {
      "text/plain": [
       "0.74152"
      ]
     },
     "execution_count": 58,
     "metadata": {},
     "output_type": "execute_result"
    }
   ],
   "source": [
    "accuracy_score(new_Y, predictions)"
   ]
  },
  {
   "cell_type": "markdown",
   "metadata": {},
   "source": [
    "So it would appear that *something* has changed since our model is no longer (as) effective at determining the sentiment of a user provided review.\n",
    "\n",
    "In a real life scenario you would check a number of different things to see what exactly is going on. In our case, we are only going to check one and that is whether some aspect of the underlying distribution has changed. In other words, we want to see if the words that appear in our new collection of reviews matches the words that appear in the original training set. Of course, we want to narrow our scope a little bit so we will only look at the `5000` most frequently appearing words in each data set, or in other words, the vocabulary generated by each data set.\n",
    "\n",
    "Before doing that, however, let's take a look at some of the incorrectly classified reviews in the new data set.\n",
    "\n",
    "To start, we will deploy the original XGBoost model. We will then use the deployed model to infer the sentiment of some of the new reviews. This will also serve as a nice excuse to deploy our model so that we can mimic a real life scenario where we have a model that has been deployed and is being used in production.\n",
    "\n",
    "**TODO:** Deploy the XGBoost model."
   ]
  },
  {
   "cell_type": "code",
   "execution_count": 59,
   "metadata": {},
   "outputs": [
    {
     "name": "stderr",
     "output_type": "stream",
     "text": [
      "Using already existing model: sagemaker-xgboost-2019-11-16-15-44-09-590\n"
     ]
    },
    {
     "name": "stdout",
     "output_type": "stream",
     "text": [
      "-------------------------------------------------------------------------------------!"
     ]
    }
   ],
   "source": [
    "# TODO: Deploy the model that was created earlier. Recall that the object name is 'xgb'.\n",
    "xgb_predictor = xgb.deploy(1, 'ml.m4.xlarge')"
   ]
  },
  {
   "cell_type": "markdown",
   "metadata": {},
   "source": [
    "### Diagnose the problem\n",
    "\n",
    "Now that we have our deployed \"production\" model, we can send some of our new data to it and filter out some of the incorrectly classified reviews."
   ]
  },
  {
   "cell_type": "code",
   "execution_count": 60,
   "metadata": {},
   "outputs": [],
   "source": [
    "from sagemaker.predictor import csv_serializer\n",
    "\n",
    "# We need to tell the endpoint what format the data we are sending is in so that SageMaker can perform the serialization.\n",
    "xgb_predictor.content_type = 'text/csv'\n",
    "xgb_predictor.serializer = csv_serializer"
   ]
  },
  {
   "cell_type": "markdown",
   "metadata": {},
   "source": [
    "It will be useful to look at a few different examples of incorrectly classified reviews so we will start by creating a *generator* which we will use to iterate through some of the new reviews and find ones that are incorrect.\n",
    "\n",
    "**NOTE:** Understanding what Python generators are isn't really required for this module. The reason we use them here is so that we don't have to iterate through all of the new reviews, searching for incorrectly classified samples."
   ]
  },
  {
   "cell_type": "code",
   "execution_count": 61,
   "metadata": {},
   "outputs": [],
   "source": [
    "def get_sample(in_X, in_XV, in_Y):\n",
    "    for idx, smp in enumerate(in_X):\n",
    "        res = round(float(xgb_predictor.predict(in_XV[idx])))\n",
    "        if res != in_Y[idx]:\n",
    "            yield smp, in_Y[idx]"
   ]
  },
  {
   "cell_type": "code",
   "execution_count": 62,
   "metadata": {},
   "outputs": [],
   "source": [
    "gn = get_sample(new_X, new_XV, new_Y)"
   ]
  },
  {
   "cell_type": "markdown",
   "metadata": {},
   "source": [
    "At this point, `gn` is the *generator* which generates samples from the new data set which are not classified correctly. To get the *next* sample we simply call the `next` method on our generator."
   ]
  },
  {
   "cell_type": "code",
   "execution_count": 66,
   "metadata": {},
   "outputs": [
    {
     "name": "stdout",
     "output_type": "stream",
     "text": [
      "(['late', '80', 'saw', 'inexplic', 'rash', 'supernatur', 'horror', 'film', 'set', 'gloomi', 'penitentiari', 'set', 'renni', 'harlin', 'superbl', 'gritti', 'moodi', 'prison', 'got', 'whole', 'haunt', 'hoosegow', 'ball', 'roll', 'immedi', 'follow', 'markedli', 'inferior', 'chair', 'john', 'saxon', 'enjoy', 'trashi', 'death', 'hous', 'passabl', 'psycho', 'pictur', 'destroy', 'hideous', 'limp', 'n', 'letharg', 'exercis', 'hopelessli', 'comatos', 'tedium', 'usual', 'annoy', 'collect', 'horribl', 'unsympathet', 'colleg', 'student', 'chowderhead', 'lead', 'insuffer', 'spineless', 'torment', 'twerp', 'alex', 'huge', 'unapp', 'nichola', 'celozzi', 'go', 'alcatraz', 'island', 'investig', 'bizarr', 'circumst', 'surround', 'sudden', 'gruesom', 'death', 'come', 'rock', 'star', 'sammi', 'mitchel', 'blandli', 'play', 'toni', 'basil', 'hey', 'micki', 'fame', 'alex', 'brother', 'becom', 'possess', 'evil', 'demon', 'spirit', 'viciou', 'cannibalist', 'us', 'civil', 'war', 'cavalri', 'command', 'goe', 'expect', 'kill', 'spree', 'thu', 'forc', 'wimpi', 'alex', 'overcom', 'passiv', 'make', 'stand', 'ghoulish', 'specter', 'although', 'slickli', 'photograph', 'nichola', 'von', 'sternberg', 'decent', 'gore', 'set', 'piec', 'fair', 'amount', 'spooki', 'atmospher', 'film', 'shot', 'locat', 'dismal', 'rusti', 'rundown', 'ruin', 'alcatraz', 'island', 'slaughterhous', 'rock', 'nonetheless', 'cut', 'solid', 'effect', 'fright', 'featur', 'larg', 'due', 'uniformli', 'obnoxi', 'unlik', 'collegi', 'smartaleck', 'charact', 'tiresom', 'smirki', 'bunch', 'whose', 'inan', 'comic', 'antic', 'prove', 'grate', 'rather', 'amus', 'flat', 'act', 'notic', 'disinterest', 'cast', 'hurt', 'matter', 'onetim', 'playboy', 'playmat', 'undeni', 'blond', 'cuti', 'pie', 'hotti', 'suprem', 'hope', 'mari', 'carlton', 'especi', 'irrit', 'linnea', 'quigley', 'imperson', 'token', 'oversex', 'nympho', 'bimbo', 'dimitri', 'logotheti', 'direct', 'display', 'modicum', 'flashi', 'visual', 'style', 'tone', 'unevenli', 'pitch', 'grim', 'serious', 'goofi', 'horrend', 'sophomor', 'silli', 'damagingli', 'ted', 'landon', 'sloppi', 'inconsist', 'overli', 'complic', 'final', 'quit', 'confus', 'script', 'miser', 'fail', 'develop', 'necessari', 'intern', 'logic', 'make', 'far', 'fetch', 'stori', 'even', 'remot', 'plausibl', 'word', 'stinker', 'sadli', 'succe', 'make', 'scant', '90', 'minut', 'seem', 'like', 'excruciatingli', 'drawn', 'cinemat', 'jail', 'sentenc', 'banana'], 1)\n"
     ]
    }
   ],
   "source": [
    "print(next(gn))"
   ]
  },
  {
   "cell_type": "markdown",
   "metadata": {},
   "source": [
    "After looking at a few examples, maybe we decide to look at the most frequently appearing `5000` words in each data set, the original training data set and the new data set. The reason for looking at this might be that we expect the frequency of use of different words to have changed, maybe there is some new slang that has been introduced or some other artifact of popular culture that has changed the way that people write movie reviews.\n",
    "\n",
    "To do this, we start by fitting a `CountVectorizer` to the new data."
   ]
  },
  {
   "cell_type": "code",
   "execution_count": 67,
   "metadata": {},
   "outputs": [
    {
     "data": {
      "text/plain": [
       "CountVectorizer(analyzer='word', binary=False, decode_error='strict',\n",
       "        dtype=<class 'numpy.int64'>, encoding='utf-8', input='content',\n",
       "        lowercase=True, max_df=1.0, max_features=5000, min_df=1,\n",
       "        ngram_range=(1, 1),\n",
       "        preprocessor=<function <lambda> at 0x7f86304c4620>,\n",
       "        stop_words=None, strip_accents=None,\n",
       "        token_pattern='(?u)\\\\b\\\\w\\\\w+\\\\b',\n",
       "        tokenizer=<function <lambda> at 0x7f86304c4730>, vocabulary=None)"
      ]
     },
     "execution_count": 67,
     "metadata": {},
     "output_type": "execute_result"
    }
   ],
   "source": [
    "new_vectorizer = CountVectorizer(max_features=5000,\n",
    "                preprocessor=lambda x: x, tokenizer=lambda x: x)\n",
    "new_vectorizer.fit(new_X)"
   ]
  },
  {
   "cell_type": "markdown",
   "metadata": {},
   "source": [
    "Now that we have this new `CountVectorizor` object, we can check to see if the corresponding vocabulary has changed between the two data sets."
   ]
  },
  {
   "cell_type": "code",
   "execution_count": 68,
   "metadata": {},
   "outputs": [],
   "source": [
    "original_vocabulary = set(vocabulary.keys())\n",
    "new_vocabulary = set(new_vectorizer.vocabulary_.keys())"
   ]
  },
  {
   "cell_type": "markdown",
   "metadata": {},
   "source": [
    "We can look at the words that were in the original vocabulary but not in the new vocabulary."
   ]
  },
  {
   "cell_type": "code",
   "execution_count": 69,
   "metadata": {},
   "outputs": [
    {
     "name": "stdout",
     "output_type": "stream",
     "text": [
      "{'playboy', 'ghetto', 'victorian', 'spill', 'weari', '21st', 'reincarn'}\n"
     ]
    }
   ],
   "source": [
    "print(original_vocabulary - new_vocabulary)"
   ]
  },
  {
   "cell_type": "markdown",
   "metadata": {},
   "source": [
    "And similarly, we can look at the words that are in the new vocabulary but which were not in the original vocabulary."
   ]
  },
  {
   "cell_type": "code",
   "execution_count": 70,
   "metadata": {},
   "outputs": [
    {
     "name": "stdout",
     "output_type": "stream",
     "text": [
      "{'masterson', 'dubiou', 'sophi', 'omin', 'optimist', 'orchestr', 'banana'}\n"
     ]
    }
   ],
   "source": [
    "print(new_vocabulary - original_vocabulary)"
   ]
  },
  {
   "cell_type": "markdown",
   "metadata": {},
   "source": [
    "These words themselves don't tell us much, however if one of these words occured with a large frequency, that might tell us something. In particular, we wouldn't really expect any of the words above to appear with too much frequency.\n",
    "\n",
    "**Question** What exactly is going on here. Not only what (if any) words appear with a larger than expected frequency but also, what does this mean? What has changed about the world that our original model no longer takes into account?\n",
    "\n",
    "**NOTE:** This is meant to be a very open ended question. To investigate you may need more cells than the one provided below. Also, there isn't really a *correct* answer, this is meant to be an opportunity to explore the data."
   ]
  },
  {
   "cell_type": "code",
   "execution_count": 76,
   "metadata": {},
   "outputs": [
    {
     "data": {
      "text/plain": [
       "[(855, 'sophi'),\n",
       " (1827, 'orchestr'),\n",
       " (1830, 'optimist'),\n",
       " (1843, 'omin'),\n",
       " (2196, 'masterson'),\n",
       " (3573, 'dubiou'),\n",
       " (4575, 'banana')]"
      ]
     },
     "execution_count": 76,
     "metadata": {},
     "output_type": "execute_result"
    }
   ],
   "source": [
    "[(i, x) for i, x in enumerate(sorted(new_vectorizer.vocabulary_, key=lambda x: new_vectorizer.vocabulary_[x], reverse=True))\n",
    " if x in (new_vocabulary - original_vocabulary)]"
   ]
  },
  {
   "cell_type": "markdown",
   "metadata": {},
   "source": [
    "### (TODO) Build a new model\n",
    "\n",
    "Supposing that we believe something has changed about the underlying distribution of the words that our reviews are made up of, we need to create a new model. This way our new model will take into account whatever it is that has changed.\n",
    "\n",
    "To begin with, we will use the new vocabulary to create a bag of words encoding of the new data. We will then use this data to train a new XGBoost model.\n",
    "\n",
    "**NOTE:** Because we believe that the underlying distribution of words has changed it should follow that the original vocabulary that we used to construct a bag of words encoding of the reviews is no longer valid. This means that we need to be careful with our data. If we send an bag of words encoded review using the *original* vocabulary we should not expect any sort of meaningful results.\n",
    "\n",
    "In particular, this means that if we had deployed our XGBoost model like we did in the Web App notebook then we would need to implement this vocabulary change in the Lambda function as well."
   ]
  },
  {
   "cell_type": "code",
   "execution_count": 77,
   "metadata": {},
   "outputs": [],
   "source": [
    "new_XV = new_vectorizer.transform(new_X).toarray()"
   ]
  },
  {
   "cell_type": "markdown",
   "metadata": {},
   "source": [
    "And a quick check to make sure that the newly encoded reviews have the correct length, which should be the size of the new vocabulary which we created."
   ]
  },
  {
   "cell_type": "code",
   "execution_count": 78,
   "metadata": {},
   "outputs": [
    {
     "data": {
      "text/plain": [
       "5000"
      ]
     },
     "execution_count": 78,
     "metadata": {},
     "output_type": "execute_result"
    }
   ],
   "source": [
    "len(new_XV[0])"
   ]
  },
  {
   "cell_type": "markdown",
   "metadata": {},
   "source": [
    "Now that we have our newly encoded, newly collected data, we can split it up into a training and validation set so that we can train a new XGBoost model. As usual, we first split up the data, then save it locally and then upload it to S3."
   ]
  },
  {
   "cell_type": "code",
   "execution_count": 79,
   "metadata": {},
   "outputs": [],
   "source": [
    "import pandas as pd\n",
    "\n",
    "# Earlier we shuffled the training dataset so to make things simple we can just assign\n",
    "# the first 10 000 reviews to the validation set and use the remaining reviews for training.\n",
    "new_val_X = pd.DataFrame(new_XV[:10000])\n",
    "new_train_X = pd.DataFrame(new_XV[10000:])\n",
    "\n",
    "new_val_y = pd.DataFrame(new_Y[:10000])\n",
    "new_train_y = pd.DataFrame(new_Y[10000:])"
   ]
  },
  {
   "cell_type": "markdown",
   "metadata": {},
   "source": [
    "In order to save some memory we will effectively delete the `new_X` variable. Remember that this contained a list of reviews and each review was a list of words. Note that once this cell has been executed you will need to read the new data in again if you want to work with it."
   ]
  },
  {
   "cell_type": "code",
   "execution_count": 80,
   "metadata": {},
   "outputs": [],
   "source": [
    "new_X = None"
   ]
  },
  {
   "cell_type": "markdown",
   "metadata": {},
   "source": [
    "Next we save the new training and validation sets locally. Note that we overwrite the training and validation sets used earlier. This is mostly because the amount of space that we have available on our notebook instance is limited. Of course, you can increase this if you'd like but to do so may increase the cost of running the notebook instance."
   ]
  },
  {
   "cell_type": "code",
   "execution_count": 85,
   "metadata": {},
   "outputs": [],
   "source": [
    "del train_X"
   ]
  },
  {
   "cell_type": "code",
   "execution_count": 86,
   "metadata": {},
   "outputs": [
    {
     "ename": "MemoryError",
     "evalue": "",
     "output_type": "error",
     "traceback": [
      "\u001b[0;31m---------------------------------------------------------------------------\u001b[0m",
      "\u001b[0;31mMemoryError\u001b[0m                               Traceback (most recent call last)",
      "\u001b[0;32m<ipython-input-86-391202d7a811>\u001b[0m in \u001b[0;36m<module>\u001b[0;34m()\u001b[0m\n\u001b[1;32m      1\u001b[0m \u001b[0;31m#pd.DataFrame(new_XV).to_csv(os.path.join(data_dir, 'new_data.csv'), header=False, index=False)\u001b[0m\u001b[0;34m\u001b[0m\u001b[0;34m\u001b[0m\u001b[0m\n\u001b[1;32m      2\u001b[0m \u001b[0;34m\u001b[0m\u001b[0m\n\u001b[0;32m----> 3\u001b[0;31m \u001b[0mpd\u001b[0m\u001b[0;34m.\u001b[0m\u001b[0mconcat\u001b[0m\u001b[0;34m(\u001b[0m\u001b[0;34m[\u001b[0m\u001b[0mnew_val_y\u001b[0m\u001b[0;34m,\u001b[0m \u001b[0mnew_val_X\u001b[0m\u001b[0;34m]\u001b[0m\u001b[0;34m,\u001b[0m \u001b[0maxis\u001b[0m\u001b[0;34m=\u001b[0m\u001b[0;36m1\u001b[0m\u001b[0;34m)\u001b[0m\u001b[0;34m.\u001b[0m\u001b[0mto_csv\u001b[0m\u001b[0;34m(\u001b[0m\u001b[0mos\u001b[0m\u001b[0;34m.\u001b[0m\u001b[0mpath\u001b[0m\u001b[0;34m.\u001b[0m\u001b[0mjoin\u001b[0m\u001b[0;34m(\u001b[0m\u001b[0mdata_dir\u001b[0m\u001b[0;34m,\u001b[0m \u001b[0;34m'new_validation.csv'\u001b[0m\u001b[0;34m)\u001b[0m\u001b[0;34m,\u001b[0m \u001b[0mheader\u001b[0m\u001b[0;34m=\u001b[0m\u001b[0;32mFalse\u001b[0m\u001b[0;34m,\u001b[0m \u001b[0mindex\u001b[0m\u001b[0;34m=\u001b[0m\u001b[0;32mFalse\u001b[0m\u001b[0;34m)\u001b[0m\u001b[0;34m\u001b[0m\u001b[0m\n\u001b[0m\u001b[1;32m      4\u001b[0m \u001b[0mpd\u001b[0m\u001b[0;34m.\u001b[0m\u001b[0mconcat\u001b[0m\u001b[0;34m(\u001b[0m\u001b[0;34m[\u001b[0m\u001b[0mnew_train_y\u001b[0m\u001b[0;34m,\u001b[0m \u001b[0mnew_train_X\u001b[0m\u001b[0;34m]\u001b[0m\u001b[0;34m,\u001b[0m \u001b[0maxis\u001b[0m\u001b[0;34m=\u001b[0m\u001b[0;36m1\u001b[0m\u001b[0;34m)\u001b[0m\u001b[0;34m.\u001b[0m\u001b[0mto_csv\u001b[0m\u001b[0;34m(\u001b[0m\u001b[0mos\u001b[0m\u001b[0;34m.\u001b[0m\u001b[0mpath\u001b[0m\u001b[0;34m.\u001b[0m\u001b[0mjoin\u001b[0m\u001b[0;34m(\u001b[0m\u001b[0mdata_dir\u001b[0m\u001b[0;34m,\u001b[0m \u001b[0;34m'new_train.csv'\u001b[0m\u001b[0;34m)\u001b[0m\u001b[0;34m,\u001b[0m \u001b[0mheader\u001b[0m\u001b[0;34m=\u001b[0m\u001b[0;32mFalse\u001b[0m\u001b[0;34m,\u001b[0m \u001b[0mindex\u001b[0m\u001b[0;34m=\u001b[0m\u001b[0;32mFalse\u001b[0m\u001b[0;34m)\u001b[0m\u001b[0;34m\u001b[0m\u001b[0m\n",
      "\u001b[0;32m~/anaconda3/envs/pytorch_p36/lib/python3.6/site-packages/pandas/core/reshape/concat.py\u001b[0m in \u001b[0;36mconcat\u001b[0;34m(objs, axis, join, join_axes, ignore_index, keys, levels, names, verify_integrity, sort, copy)\u001b[0m\n\u001b[1;32m    227\u001b[0m                        \u001b[0mverify_integrity\u001b[0m\u001b[0;34m=\u001b[0m\u001b[0mverify_integrity\u001b[0m\u001b[0;34m,\u001b[0m\u001b[0;34m\u001b[0m\u001b[0m\n\u001b[1;32m    228\u001b[0m                        copy=copy, sort=sort)\n\u001b[0;32m--> 229\u001b[0;31m     \u001b[0;32mreturn\u001b[0m \u001b[0mop\u001b[0m\u001b[0;34m.\u001b[0m\u001b[0mget_result\u001b[0m\u001b[0;34m(\u001b[0m\u001b[0;34m)\u001b[0m\u001b[0;34m\u001b[0m\u001b[0m\n\u001b[0m\u001b[1;32m    230\u001b[0m \u001b[0;34m\u001b[0m\u001b[0m\n\u001b[1;32m    231\u001b[0m \u001b[0;34m\u001b[0m\u001b[0m\n",
      "\u001b[0;32m~/anaconda3/envs/pytorch_p36/lib/python3.6/site-packages/pandas/core/reshape/concat.py\u001b[0m in \u001b[0;36mget_result\u001b[0;34m(self)\u001b[0m\n\u001b[1;32m    424\u001b[0m             new_data = concatenate_block_managers(\n\u001b[1;32m    425\u001b[0m                 \u001b[0mmgrs_indexers\u001b[0m\u001b[0;34m,\u001b[0m \u001b[0mself\u001b[0m\u001b[0;34m.\u001b[0m\u001b[0mnew_axes\u001b[0m\u001b[0;34m,\u001b[0m \u001b[0mconcat_axis\u001b[0m\u001b[0;34m=\u001b[0m\u001b[0mself\u001b[0m\u001b[0;34m.\u001b[0m\u001b[0maxis\u001b[0m\u001b[0;34m,\u001b[0m\u001b[0;34m\u001b[0m\u001b[0m\n\u001b[0;32m--> 426\u001b[0;31m                 copy=self.copy)\n\u001b[0m\u001b[1;32m    427\u001b[0m             \u001b[0;32mif\u001b[0m \u001b[0;32mnot\u001b[0m \u001b[0mself\u001b[0m\u001b[0;34m.\u001b[0m\u001b[0mcopy\u001b[0m\u001b[0;34m:\u001b[0m\u001b[0;34m\u001b[0m\u001b[0m\n\u001b[1;32m    428\u001b[0m                 \u001b[0mnew_data\u001b[0m\u001b[0;34m.\u001b[0m\u001b[0m_consolidate_inplace\u001b[0m\u001b[0;34m(\u001b[0m\u001b[0;34m)\u001b[0m\u001b[0;34m\u001b[0m\u001b[0m\n",
      "\u001b[0;32m~/anaconda3/envs/pytorch_p36/lib/python3.6/site-packages/pandas/core/internals/managers.py\u001b[0m in \u001b[0;36mconcatenate_block_managers\u001b[0;34m(mgrs_indexers, axes, concat_axis, copy)\u001b[0m\n\u001b[1;32m   2050\u001b[0m             \u001b[0mvalues\u001b[0m \u001b[0;34m=\u001b[0m \u001b[0mb\u001b[0m\u001b[0;34m.\u001b[0m\u001b[0mvalues\u001b[0m\u001b[0;34m\u001b[0m\u001b[0m\n\u001b[1;32m   2051\u001b[0m             \u001b[0;32mif\u001b[0m \u001b[0mcopy\u001b[0m\u001b[0;34m:\u001b[0m\u001b[0;34m\u001b[0m\u001b[0m\n\u001b[0;32m-> 2052\u001b[0;31m                 \u001b[0mvalues\u001b[0m \u001b[0;34m=\u001b[0m \u001b[0mvalues\u001b[0m\u001b[0;34m.\u001b[0m\u001b[0mcopy\u001b[0m\u001b[0;34m(\u001b[0m\u001b[0;34m)\u001b[0m\u001b[0;34m\u001b[0m\u001b[0m\n\u001b[0m\u001b[1;32m   2053\u001b[0m             \u001b[0;32melif\u001b[0m \u001b[0;32mnot\u001b[0m \u001b[0mcopy\u001b[0m\u001b[0;34m:\u001b[0m\u001b[0;34m\u001b[0m\u001b[0m\n\u001b[1;32m   2054\u001b[0m                 \u001b[0mvalues\u001b[0m \u001b[0;34m=\u001b[0m \u001b[0mvalues\u001b[0m\u001b[0;34m.\u001b[0m\u001b[0mview\u001b[0m\u001b[0;34m(\u001b[0m\u001b[0;34m)\u001b[0m\u001b[0;34m\u001b[0m\u001b[0m\n",
      "\u001b[0;31mMemoryError\u001b[0m: "
     ]
    }
   ],
   "source": [
    "#pd.DataFrame(new_XV).to_csv(os.path.join(data_dir, 'new_data.csv'), header=False, index=False)\n",
    "\n",
    "pd.concat([new_val_y, new_val_X], axis=1).to_csv(os.path.join(data_dir, 'new_validation.csv'), header=False, index=False)\n",
    "pd.concat([new_train_y, new_train_X], axis=1).to_csv(os.path.join(data_dir, 'new_train.csv'), header=False, index=False)"
   ]
  },
  {
   "cell_type": "markdown",
   "metadata": {},
   "source": [
    "Now that we've saved our data to the local instance, we can safely delete the variables to save on memory."
   ]
  },
  {
   "cell_type": "code",
   "execution_count": null,
   "metadata": {},
   "outputs": [],
   "source": [
    "new_val_y = new_val_X = new_train_y = new_train_X = new_XV = None"
   ]
  },
  {
   "cell_type": "markdown",
   "metadata": {},
   "source": [
    "Lastly, we make sure to upload the new training and validation sets to S3.\n",
    "\n",
    "**TODO:** Upload the new data as well as the new training and validation data sets to S3."
   ]
  },
  {
   "cell_type": "code",
   "execution_count": null,
   "metadata": {},
   "outputs": [],
   "source": [
    "# TODO: Upload the new data and the new validation.csv and train.csv files in the data_dir directory to S3.\n",
    "new_data_location = session.upload_data(os.path.join(data_dir, 'new_data.csv'), key_prefix=prefix)\n",
    "new_val_location = session.upload_data(os.path.join(data_dir, 'new_validation.csv'), key_prefix=prefix)\n",
    "new_train_location = session.upload_data(os.path.join(data_dir, 'new_train.csv'), key_prefix=prefix)"
   ]
  },
  {
   "cell_type": "markdown",
   "metadata": {},
   "source": [
    "Once our new training data has been uploaded to S3, we can create a new XGBoost model that will take into account the changes that have occured in our data set.\n",
    "\n",
    "**TODO:** Create a new XGBoost estimator object."
   ]
  },
  {
   "cell_type": "code",
   "execution_count": null,
   "metadata": {},
   "outputs": [],
   "source": [
    "# TODO: First, create a SageMaker estimator object for our model.\n",
    "new_xgb = None\n",
    "\n",
    "# TODO: Then set the algorithm specific parameters. You may wish to use the same parameters that were\n",
    "#       used when training the original model.\n"
   ]
  },
  {
   "cell_type": "markdown",
   "metadata": {},
   "source": [
    "Once the model has been created, we can train it with our new data.\n",
    "\n",
    "**TODO:** Train the new XGBoost model."
   ]
  },
  {
   "cell_type": "code",
   "execution_count": null,
   "metadata": {},
   "outputs": [],
   "source": [
    "# TODO: First, make sure that you create s3 input objects so that SageMaker knows where to\n",
    "#       find the training and validation data.\n",
    "s3_new_input_train = None\n",
    "s3_new_input_validation = None"
   ]
  },
  {
   "cell_type": "code",
   "execution_count": null,
   "metadata": {},
   "outputs": [],
   "source": [
    "# TODO: Using the new validation and training data, 'fit' your new model.\n"
   ]
  },
  {
   "cell_type": "markdown",
   "metadata": {},
   "source": [
    "### (TODO) Check the new model\n",
    "\n",
    "So now we have a new XGBoost model that we believe more accurately represents the state of the world at this time, at least in how it relates to the sentiment analysis problem that we are working on. The next step is to double check that our model is performing reasonably.\n",
    "\n",
    "To do this, we will first test our model on the new data.\n",
    "\n",
    "**Note:** In practice this is a pretty bad idea. We already trained our model on the new data, so testing it shouldn't really tell us much. In fact, this is sort of a textbook example of leakage. We are only doing it here so that we have a numerical baseline.\n",
    "\n",
    "**Question:** How might you address the leakage problem?"
   ]
  },
  {
   "cell_type": "markdown",
   "metadata": {},
   "source": [
    "First, we create a new transformer based on our new XGBoost model.\n",
    "\n",
    "**TODO:** Create a transformer object from the newly created XGBoost model."
   ]
  },
  {
   "cell_type": "code",
   "execution_count": null,
   "metadata": {},
   "outputs": [],
   "source": [
    "# TODO: Create a transformer object from the new_xgb model\n",
    "new_xgb_transformer = None"
   ]
  },
  {
   "cell_type": "markdown",
   "metadata": {},
   "source": [
    "Next we test our model on the new data.\n",
    "\n",
    "**TODO:** Use the transformer object to transform the new data (stored in the `new_data_location` variable)"
   ]
  },
  {
   "cell_type": "code",
   "execution_count": null,
   "metadata": {},
   "outputs": [],
   "source": [
    "# TODO: Using new_xgb_transformer, transform the new_data_location data. You may wish to\n",
    "#       'wait' for the transform job to finish.\n"
   ]
  },
  {
   "cell_type": "markdown",
   "metadata": {},
   "source": [
    "Copy the results to our local instance."
   ]
  },
  {
   "cell_type": "code",
   "execution_count": null,
   "metadata": {},
   "outputs": [],
   "source": [
    "!aws s3 cp --recursive $new_xgb_transformer.output_path $data_dir"
   ]
  },
  {
   "cell_type": "markdown",
   "metadata": {},
   "source": [
    "And see how well the model did."
   ]
  },
  {
   "cell_type": "code",
   "execution_count": null,
   "metadata": {},
   "outputs": [],
   "source": [
    "predictions = pd.read_csv(os.path.join(data_dir, 'new_data.csv.out'), header=None)\n",
    "predictions = [round(num) for num in predictions.squeeze().values]"
   ]
  },
  {
   "cell_type": "code",
   "execution_count": null,
   "metadata": {},
   "outputs": [],
   "source": [
    "accuracy_score(new_Y, predictions)"
   ]
  },
  {
   "cell_type": "markdown",
   "metadata": {},
   "source": [
    "As expected, since we trained the model on this data, our model performs pretty well. So, we have reason to believe that our new XGBoost model is a \"better\" model.\n",
    "\n",
    "However, before we start changing our deployed model, we should first make sure that our new model isn't too different. In other words, if our new model performed really poorly on the original test data then this might be an indication that something else has gone wrong.\n",
    "\n",
    "To start with, since we got rid of the variable that stored the original test reviews, we will read them in again from the cache that we created in Step 3. Note that we need to make sure that we read in the original test data after it has been pre-processed with `nltk` but before it has been bag of words encoded. This is because we need to use the new vocabulary instead of the original one."
   ]
  },
  {
   "cell_type": "code",
   "execution_count": null,
   "metadata": {},
   "outputs": [],
   "source": [
    "cache_data = None\n",
    "with open(os.path.join(cache_dir, \"preprocessed_data.pkl\"), \"rb\") as f:\n",
    "            cache_data = pickle.load(f)\n",
    "            print(\"Read preprocessed data from cache file:\", \"preprocessed_data.pkl\")\n",
    "            \n",
    "test_X = cache_data['words_test']\n",
    "test_Y = cache_data['labels_test']\n",
    "\n",
    "# Here we set cache_data to None so that it doesn't occupy memory\n",
    "cache_data = None"
   ]
  },
  {
   "cell_type": "markdown",
   "metadata": {},
   "source": [
    "Once we've loaded the original test reviews, we need to create a bag of words encoding of them using the new vocabulary that we created, based on the new data.\n",
    "\n",
    "**TODO:** Transform the original test data using the new vocabulary."
   ]
  },
  {
   "cell_type": "code",
   "execution_count": null,
   "metadata": {},
   "outputs": [],
   "source": [
    "# TODO: Use the new_vectorizer object that you created earlier to transform the test_X data.\n",
    "test_X = None"
   ]
  },
  {
   "cell_type": "markdown",
   "metadata": {},
   "source": [
    "Now that we have correctly encoded the original test data, we can write it to the local instance, upload it to S3 and test it."
   ]
  },
  {
   "cell_type": "code",
   "execution_count": null,
   "metadata": {},
   "outputs": [],
   "source": [
    "pd.DataFrame(test_X).to_csv(os.path.join(data_dir, 'test.csv'), header=False, index=False)"
   ]
  },
  {
   "cell_type": "code",
   "execution_count": null,
   "metadata": {},
   "outputs": [],
   "source": [
    "test_location = session.upload_data(os.path.join(data_dir, 'test.csv'), key_prefix=prefix)"
   ]
  },
  {
   "cell_type": "code",
   "execution_count": null,
   "metadata": {},
   "outputs": [],
   "source": [
    "new_xgb_transformer.transform(test_location, content_type='text/csv', split_type='Line')\n",
    "new_xgb_transformer.wait()"
   ]
  },
  {
   "cell_type": "code",
   "execution_count": null,
   "metadata": {},
   "outputs": [],
   "source": [
    "!aws s3 cp --recursive $new_xgb_transformer.output_path $data_dir"
   ]
  },
  {
   "cell_type": "code",
   "execution_count": null,
   "metadata": {},
   "outputs": [],
   "source": [
    "predictions = pd.read_csv(os.path.join(data_dir, 'test.csv.out'), header=None)\n",
    "predictions = [round(num) for num in predictions.squeeze().values]"
   ]
  },
  {
   "cell_type": "code",
   "execution_count": null,
   "metadata": {},
   "outputs": [],
   "source": [
    "accuracy_score(test_Y, predictions)"
   ]
  },
  {
   "cell_type": "markdown",
   "metadata": {},
   "source": [
    "It would appear that our new XGBoost model is performing quite well on the old test data. This gives us some indication that our new model should be put into production and replace our original model."
   ]
  },
  {
   "cell_type": "markdown",
   "metadata": {},
   "source": [
    "## Step 6: (TODO) Updating the Model\n",
    "\n",
    "So we have a new model that we'd like to use instead of one that is already deployed. Furthermore, we are assuming that the model that is already deployed is being used in some sort of application. As a result, what we want to do is update the existing endpoint so that it uses our new model.\n",
    "\n",
    "Of course, to do this we need to create an endpoint configuration for our newly created model.\n",
    "\n",
    "First, note that we can access the name of the model that we created above using the `model_name` property of the transformer. The reason for this is that in order for the transformer to create a batch transform job it needs to first create the model object inside of SageMaker. Since we've sort of already done this we should take advantage of it."
   ]
  },
  {
   "cell_type": "code",
   "execution_count": null,
   "metadata": {},
   "outputs": [],
   "source": [
    "new_xgb_transformer.model_name"
   ]
  },
  {
   "cell_type": "markdown",
   "metadata": {},
   "source": [
    "Next, we create an endpoint configuration using the low level approach of creating the dictionary object which describes the endpoint configuration we want.\n",
    "\n",
    "**TODO:** Using the low level approach, create a new endpoint configuration. Don't forget that it needs a name and that the name needs to be unique. If you get stuck, try looking at the Boston Housing Low Level Deployment tutorial notebook."
   ]
  },
  {
   "cell_type": "code",
   "execution_count": null,
   "metadata": {},
   "outputs": [],
   "source": [
    "from time import gmtime, strftime\n",
    "\n",
    "\n",
    "# TODO: Give our endpoint configuration a name. Remember, it needs to be unique.\n",
    "new_xgb_endpoint_config_name = None\n",
    "\n",
    "# TODO: Using the SageMaker Client, construct the endpoint configuration.\n",
    "new_xgb_endpoint_config_info = None"
   ]
  },
  {
   "cell_type": "markdown",
   "metadata": {},
   "source": [
    "Once the endpoint configuration has been constructed, it is a straightforward matter to ask SageMaker to update the existing endpoint so that it uses the new endpoint configuration.\n",
    "\n",
    "Of note here is that SageMaker does this in such a way that there is no downtime. Essentially, SageMaker deploys the new model and then updates the original endpoint so that it points to the newly deployed model. After that, the original model is shut down. This way, whatever app is using our endpoint won't notice that we've changed the model that is being used.\n",
    "\n",
    "**TODO:** Use the SageMaker Client to update the endpoint that you deployed earlier."
   ]
  },
  {
   "cell_type": "code",
   "execution_count": null,
   "metadata": {},
   "outputs": [],
   "source": [
    "# TODO: Update the xgb_predictor.endpoint so that it uses new_xgb_endpoint_config_name.\n"
   ]
  },
  {
   "cell_type": "markdown",
   "metadata": {},
   "source": [
    "And, as is generally the case with SageMaker requests, this is being done in the background so if we want to wait for it to complete we need to call the appropriate method."
   ]
  },
  {
   "cell_type": "code",
   "execution_count": null,
   "metadata": {},
   "outputs": [],
   "source": [
    "session.wait_for_endpoint(xgb_predictor.endpoint)"
   ]
  },
  {
   "cell_type": "markdown",
   "metadata": {},
   "source": [
    "## Step 7: Delete the Endpoint\n",
    "\n",
    "Of course, since we are done with the deployed endpoint we need to make sure to shut it down, otherwise we will continue to be charged for it."
   ]
  },
  {
   "cell_type": "code",
   "execution_count": null,
   "metadata": {},
   "outputs": [],
   "source": [
    "xgb_predictor.delete_endpoint()"
   ]
  },
  {
   "cell_type": "markdown",
   "metadata": {},
   "source": [
    "## Some Additional Questions\n",
    "\n",
    "This notebook is a little different from the other notebooks in this module. In part, this is because it is meant to be a little bit closer to the type of problem you may face in a real world scenario. Of course, this problem is a very easy one with a prescribed solution, but there are many other interesting questions that we did not consider here and that you may wish to consider yourself.\n",
    "\n",
    "For example,\n",
    "- What other ways could the underlying distribution change?\n",
    "- Is it a good idea to re-train the model using only the new data?\n",
    "- What would change if the quantity of new data wasn't large. Say you only received 500 samples?\n"
   ]
  },
  {
   "cell_type": "markdown",
   "metadata": {},
   "source": [
    "## Optional: Clean up\n",
    "\n",
    "The default notebook instance on SageMaker doesn't have a lot of excess disk space available. As you continue to complete and execute notebooks you will eventually fill up this disk space, leading to errors which can be difficult to diagnose. Once you are completely finished using a notebook it is a good idea to remove the files that you created along the way. Of course, you can do this from the terminal or from the notebook hub if you would like. The cell below contains some commands to clean up the created files from within the notebook."
   ]
  },
  {
   "cell_type": "code",
   "execution_count": null,
   "metadata": {},
   "outputs": [],
   "source": [
    "# First we will remove all of the files contained in the data_dir directory\n",
    "!rm $data_dir/*\n",
    "\n",
    "# And then we delete the directory itself\n",
    "!rmdir $data_dir\n",
    "\n",
    "# Similarly we will remove the files in the cache_dir directory and the directory itself\n",
    "!rm $cache_dir/*\n",
    "!rmdir $cache_dir"
   ]
  },
  {
   "cell_type": "code",
   "execution_count": null,
   "metadata": {},
   "outputs": [],
   "source": []
  }
 ],
 "metadata": {
  "kernelspec": {
   "display_name": "conda_pytorch_p36",
   "language": "python",
   "name": "conda_pytorch_p36"
  },
  "language_info": {
   "codemirror_mode": {
    "name": "ipython",
    "version": 3
   },
   "file_extension": ".py",
   "mimetype": "text/x-python",
   "name": "python",
   "nbconvert_exporter": "python",
   "pygments_lexer": "ipython3",
   "version": "3.6.5"
  }
 },
 "nbformat": 4,
 "nbformat_minor": 4
}
