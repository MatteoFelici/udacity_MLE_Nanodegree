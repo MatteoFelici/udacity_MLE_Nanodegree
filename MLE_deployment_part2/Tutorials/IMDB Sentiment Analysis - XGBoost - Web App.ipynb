{
 "cells": [
  {
   "cell_type": "markdown",
   "metadata": {},
   "source": [
    "# Sentiment Analysis Web App\n",
    "\n",
    "_Deep Learning Nanodegree Program | Deployment_\n",
    "\n",
    "---\n",
    "\n",
    "In this notebook we will use Amazon's SageMaker service to construct a random tree model to predict the sentiment of a movie review. In addition, we will deploy this model to an endpoint and construct a very simple web app which will interact with our model's deployed endpoint.\n",
    "\n",
    "## General Outline\n",
    "\n",
    "Typically, when using a notebook instance with SageMaker, you will proceed through the following steps. Of course, not every step will need to be done with each project. Also, there is quite a lot of room for variation in many of the steps, as you will see throughout these lessons.\n",
    "\n",
    "1. Download or otherwise retrieve the data.\n",
    "2. Process / Prepare the data.\n",
    "3. Upload the processed data to S3.\n",
    "4. Train a chosen model.\n",
    "5. Test the trained model (typically using a batch transform job).\n",
    "6. Deploy the trained model.\n",
    "7. Use the deployed model.\n",
    "\n",
    "In this notebook we will progress through each of the steps above. We will also see that the final step, using the deployed model, can be quite challenging."
   ]
  },
  {
   "cell_type": "markdown",
   "metadata": {},
   "source": [
    "## Step 1: Downloading the data\n",
    "\n",
    "The dataset we are going to use is very popular among researchers in Natural Language Processing, usually referred to as the [IMDb dataset](http://ai.stanford.edu/~amaas/data/sentiment/). It consists of movie reviews from the website [imdb.com](http://www.imdb.com/), each labeled as either '**pos**itive', if the reviewer enjoyed the film, or '**neg**ative' otherwise.\n",
    "\n",
    "> Maas, Andrew L., et al. [Learning Word Vectors for Sentiment Analysis](http://ai.stanford.edu/~amaas/data/sentiment/). In _Proceedings of the 49th Annual Meeting of the Association for Computational Linguistics: Human Language Technologies_. Association for Computational Linguistics, 2011.\n",
    "\n",
    "We begin by using some Jupyter Notebook magic to download and extract the dataset."
   ]
  },
  {
   "cell_type": "code",
   "execution_count": 3,
   "metadata": {},
   "outputs": [
    {
     "name": "stdout",
     "output_type": "stream",
     "text": [
      "mkdir: cannot create directory ‘../data’: File exists\n",
      "--2019-11-10 09:35:16--  http://ai.stanford.edu/~amaas/data/sentiment/aclImdb_v1.tar.gz\n",
      "Resolving ai.stanford.edu (ai.stanford.edu)... 171.64.68.10\n",
      "Connecting to ai.stanford.edu (ai.stanford.edu)|171.64.68.10|:80... connected.\n",
      "HTTP request sent, awaiting response... 200 OK\n",
      "Length: 84125825 (80M) [application/x-gzip]\n",
      "Saving to: ‘../data/aclImdb_v1.tar.gz’\n",
      "\n",
      "../data/aclImdb_v1. 100%[===================>]  80.23M  9.88MB/s    in 11s     \n",
      "\n",
      "2019-11-10 09:35:27 (7.14 MB/s) - ‘../data/aclImdb_v1.tar.gz’ saved [84125825/84125825]\n",
      "\n"
     ]
    }
   ],
   "source": [
    "%mkdir ../data\n",
    "!wget -O ../data/aclImdb_v1.tar.gz http://ai.stanford.edu/~amaas/data/sentiment/aclImdb_v1.tar.gz\n",
    "!tar -zxf ../data/aclImdb_v1.tar.gz -C ../data"
   ]
  },
  {
   "cell_type": "markdown",
   "metadata": {},
   "source": [
    "## Step 2: Preparing and Processing the data\n",
    "\n",
    "The data we have downloaded is split into various files, each of which contains a single review. It will be much easier going forward if we combine these individual files into two large files, one for training and one for testing."
   ]
  },
  {
   "cell_type": "code",
   "execution_count": 1,
   "metadata": {},
   "outputs": [],
   "source": [
    "import os\n",
    "import glob\n",
    "\n",
    "def read_imdb_data(data_dir='../data/aclImdb'):\n",
    "    data = {}\n",
    "    labels = {}\n",
    "    \n",
    "    for data_type in ['train', 'test']:\n",
    "        data[data_type] = {}\n",
    "        labels[data_type] = {}\n",
    "        \n",
    "        for sentiment in ['pos', 'neg']:\n",
    "            data[data_type][sentiment] = []\n",
    "            labels[data_type][sentiment] = []\n",
    "            \n",
    "            path = os.path.join(data_dir, data_type, sentiment, '*.txt')\n",
    "            files = glob.glob(path)\n",
    "            \n",
    "            for f in files:\n",
    "                with open(f) as review:\n",
    "                    data[data_type][sentiment].append(review.read())\n",
    "                    # Here we represent a positive review by '1' and a negative review by '0'\n",
    "                    labels[data_type][sentiment].append(1 if sentiment == 'pos' else 0)\n",
    "                    \n",
    "            assert len(data[data_type][sentiment]) == len(labels[data_type][sentiment]), \\\n",
    "                    \"{}/{} data size does not match labels size\".format(data_type, sentiment)\n",
    "                \n",
    "    return data, labels"
   ]
  },
  {
   "cell_type": "code",
   "execution_count": 4,
   "metadata": {},
   "outputs": [
    {
     "name": "stdout",
     "output_type": "stream",
     "text": [
      "IMDB reviews: train = 12500 pos / 12500 neg, test = 12500 pos / 12500 neg\n"
     ]
    }
   ],
   "source": [
    "data, labels = read_imdb_data()\n",
    "print(\"IMDB reviews: train = {} pos / {} neg, test = {} pos / {} neg\".format(\n",
    "            len(data['train']['pos']), len(data['train']['neg']),\n",
    "            len(data['test']['pos']), len(data['test']['neg'])))"
   ]
  },
  {
   "cell_type": "code",
   "execution_count": 5,
   "metadata": {},
   "outputs": [],
   "source": [
    "from sklearn.utils import shuffle\n",
    "\n",
    "def prepare_imdb_data(data, labels):\n",
    "    \"\"\"Prepare training and test sets from IMDb movie reviews.\"\"\"\n",
    "    \n",
    "    #Combine positive and negative reviews and labels\n",
    "    data_train = data['train']['pos'] + data['train']['neg']\n",
    "    data_test = data['test']['pos'] + data['test']['neg']\n",
    "    labels_train = labels['train']['pos'] + labels['train']['neg']\n",
    "    labels_test = labels['test']['pos'] + labels['test']['neg']\n",
    "    \n",
    "    #Shuffle reviews and corresponding labels within training and test sets\n",
    "    data_train, labels_train = shuffle(data_train, labels_train)\n",
    "    data_test, labels_test = shuffle(data_test, labels_test)\n",
    "    \n",
    "    # Return a unified training data, test data, training labels, test labets\n",
    "    return data_train, data_test, labels_train, labels_test"
   ]
  },
  {
   "cell_type": "code",
   "execution_count": 6,
   "metadata": {},
   "outputs": [
    {
     "name": "stdout",
     "output_type": "stream",
     "text": [
      "IMDb reviews (combined): train = 25000, test = 25000\n"
     ]
    }
   ],
   "source": [
    "train_X, test_X, train_y, test_y = prepare_imdb_data(data, labels)\n",
    "print(\"IMDb reviews (combined): train = {}, test = {}\".format(len(train_X), len(test_X)))"
   ]
  },
  {
   "cell_type": "code",
   "execution_count": 7,
   "metadata": {},
   "outputs": [
    {
     "data": {
      "text/plain": [
       "\"The Cat in the Hat is just a slap in the face film. Mike Myers as The Cat in the Hat is downright not funny and Mike Myers could not have been any worse. This is his worst film he has ever been in. The acting and the story was just terrible. I mean how could they make the most beloved stories by Dr. Seuss be made into film and being one of the worst films of all-time and such a disappointment. I couldn't have seen a more worst film than this besides, maybe Baby Geniuses. But this film is just so bad I can't even describe how badly they made this film. Bo Welch should be fired or the writer should. <br /><br />Hedeen's outlook: 0/10 No Stars F\""
      ]
     },
     "execution_count": 7,
     "metadata": {},
     "output_type": "execute_result"
    }
   ],
   "source": [
    "train_X[100]"
   ]
  },
  {
   "cell_type": "markdown",
   "metadata": {},
   "source": [
    "## Processing the data\n",
    "\n",
    "Now that we have our training and testing datasets merged and ready to use, we need to start processing the raw data into something that will be useable by our machine learning algorithm. To begin with, we remove any html formatting and any non-alpha numeric characters that may appear in the reviews. We will do this in a very simplistic way using Python's regular expression module. We will discuss the reason for this rather simplistic pre-processing later on."
   ]
  },
  {
   "cell_type": "code",
   "execution_count": 42,
   "metadata": {},
   "outputs": [],
   "source": [
    "import re\n",
    "\n",
    "REPLACE_NO_SPACE = re.compile(\"(\\.)|(\\;)|(\\:)|(\\!)|(\\')|(\\?)|(\\,)|(\\\")|(\\()|(\\))|(\\[)|(\\])\")\n",
    "REPLACE_WITH_SPACE = re.compile(\"(<br\\s*/><br\\s*/>)|(\\-)|(\\/)\")\n",
    "\n",
    "def review_to_words(review):\n",
    "    words = REPLACE_NO_SPACE.sub(\"\", review.lower())\n",
    "    words = REPLACE_WITH_SPACE.sub(\" \", words)\n",
    "    return words"
   ]
  },
  {
   "cell_type": "code",
   "execution_count": 9,
   "metadata": {},
   "outputs": [
    {
     "name": "stdout",
     "output_type": "stream",
     "text": [
      "0\n"
     ]
    },
    {
     "data": {
      "text/plain": [
       "'the cat in the hat is just a slap in the face film mike myers as the cat in the hat is downright not funny and mike myers could not have been any worse this is his worst film he has ever been in the acting and the story was just terrible i mean how could they make the most beloved stories by dr seuss be made into film and being one of the worst films of all time and such a disappointment i couldnt have seen a more worst film than this besides maybe baby geniuses but this film is just so bad i cant even describe how badly they made this film bo welch should be fired or the writer should  hedeens outlook 0 10 no stars f'"
      ]
     },
     "execution_count": 9,
     "metadata": {},
     "output_type": "execute_result"
    }
   ],
   "source": [
    "review_to_words(train_X[100])"
   ]
  },
  {
   "cell_type": "code",
   "execution_count": 10,
   "metadata": {},
   "outputs": [],
   "source": [
    "import pickle\n",
    "\n",
    "cache_dir = os.path.join(\"../cache\", \"sentiment_web_app\")  # where to store cache files\n",
    "os.makedirs(cache_dir, exist_ok=True)  # ensure cache directory exists\n",
    "\n",
    "def preprocess_data(data_train, data_test, labels_train, labels_test,\n",
    "                    cache_dir=cache_dir, cache_file=\"preprocessed_data.pkl\"):\n",
    "    \"\"\"Convert each review to words; read from cache if available.\"\"\"\n",
    "\n",
    "    # If cache_file is not None, try to read from it first\n",
    "    cache_data = None\n",
    "    if cache_file is not None:\n",
    "        try:\n",
    "            with open(os.path.join(cache_dir, cache_file), \"rb\") as f:\n",
    "                cache_data = pickle.load(f)\n",
    "            print(\"Read preprocessed data from cache file:\", cache_file)\n",
    "        except:\n",
    "            pass  # unable to read from cache, but that's okay\n",
    "    \n",
    "    # If cache is missing, then do the heavy lifting\n",
    "    if cache_data is None:\n",
    "        # Preprocess training and test data to obtain words for each review\n",
    "        #words_train = list(map(review_to_words, data_train))\n",
    "        #words_test = list(map(review_to_words, data_test))\n",
    "        words_train = [review_to_words(review) for i, review in data_train]\n",
    "        words_test = [review_to_words(review) for i, review in data_test]\n",
    "        \n",
    "        # Write to cache file for future runs\n",
    "        if cache_file is not None:\n",
    "            cache_data = dict(words_train=words_train, words_test=words_test,\n",
    "                              labels_train=labels_train, labels_test=labels_test)\n",
    "            with open(os.path.join(cache_dir, cache_file), \"wb\") as f:\n",
    "                pickle.dump(cache_data, f)\n",
    "            print(\"Wrote preprocessed data to cache file:\", cache_file)\n",
    "    else:\n",
    "        # Unpack data loaded from cache file\n",
    "        words_train, words_test, labels_train, labels_test = (cache_data['words_train'],\n",
    "                cache_data['words_test'], cache_data['labels_train'], cache_data['labels_test'])\n",
    "    \n",
    "    return words_train, words_test, labels_train, labels_test"
   ]
  },
  {
   "cell_type": "code",
   "execution_count": 11,
   "metadata": {
    "scrolled": true
   },
   "outputs": [
    {
     "name": "stdout",
     "output_type": "stream",
     "text": [
      "Read preprocessed data from cache file: preprocessed_data.pkl\n"
     ]
    }
   ],
   "source": [
    "# Preprocess data\n",
    "train_X, test_X, train_y, test_y = preprocess_data(train_X, test_X, train_y, test_y)"
   ]
  },
  {
   "cell_type": "markdown",
   "metadata": {},
   "source": [
    "### Extract Bag-of-Words features\n",
    "\n",
    "For the model we will be implementing, rather than using the reviews directly, we are going to transform each review into a Bag-of-Words feature representation. Keep in mind that 'in the wild' we will only have access to the training set so our transformer can only use the training set to construct a representation."
   ]
  },
  {
   "cell_type": "code",
   "execution_count": 12,
   "metadata": {},
   "outputs": [],
   "source": [
    "import numpy as np\n",
    "from sklearn.feature_extraction.text import CountVectorizer\n",
    "from sklearn.externals import joblib\n",
    "# joblib is an enhanced version of pickle that is more efficient for storing NumPy arrays\n",
    "\n",
    "def extract_BoW_features(words_train, words_test, vocabulary_size=5000,\n",
    "                         cache_dir=cache_dir, cache_file=\"bow_features.pkl\"):\n",
    "    \"\"\"Extract Bag-of-Words for a given set of documents, already preprocessed into words.\"\"\"\n",
    "    \n",
    "    # If cache_file is not None, try to read from it first\n",
    "    cache_data = None\n",
    "    if cache_file is not None:\n",
    "        try:\n",
    "            with open(os.path.join(cache_dir, cache_file), \"rb\") as f:\n",
    "                cache_data = joblib.load(f)\n",
    "            print(\"Read features from cache file:\", cache_file)\n",
    "        except:\n",
    "            pass  # unable to read from cache, but that's okay\n",
    "    \n",
    "    # If cache is missing, then do the heavy lifting\n",
    "    if cache_data is None:\n",
    "        # Fit a vectorizer to training documents and use it to transform them\n",
    "        # NOTE: Training documents have already been preprocessed and tokenized into words;\n",
    "        #       pass in dummy functions to skip those steps, e.g. preprocessor=lambda x: x\n",
    "        vectorizer = CountVectorizer(max_features=vocabulary_size)\n",
    "        features_train = vectorizer.fit_transform(words_train).toarray()\n",
    "\n",
    "        # Apply the same vectorizer to transform the test documents (ignore unknown words)\n",
    "        features_test = vectorizer.transform(words_test).toarray()\n",
    "        \n",
    "        # NOTE: Remember to convert the features using .toarray() for a compact representation\n",
    "        \n",
    "        # Write to cache file for future runs (store vocabulary as well)\n",
    "        if cache_file is not None:\n",
    "            vocabulary = vectorizer.vocabulary_\n",
    "            cache_data = dict(features_train=features_train, features_test=features_test,\n",
    "                             vocabulary=vocabulary)\n",
    "            with open(os.path.join(cache_dir, cache_file), \"wb\") as f:\n",
    "                joblib.dump(cache_data, f)\n",
    "            print(\"Wrote features to cache file:\", cache_file)\n",
    "    else:\n",
    "        # Unpack data loaded from cache file\n",
    "        features_train, features_test, vocabulary = (cache_data['features_train'],\n",
    "                cache_data['features_test'], cache_data['vocabulary'])\n",
    "    \n",
    "    # Return both the extracted features as well as the vocabulary\n",
    "    return features_train, features_test, vocabulary"
   ]
  },
  {
   "cell_type": "code",
   "execution_count": 13,
   "metadata": {},
   "outputs": [
    {
     "name": "stdout",
     "output_type": "stream",
     "text": [
      "Wrote features to cache file: bow_features.pkl\n"
     ]
    }
   ],
   "source": [
    "# Extract Bag of Words features for both training and test datasets\n",
    "train_X, test_X, vocabulary = extract_BoW_features(train_X, test_X)"
   ]
  },
  {
   "cell_type": "code",
   "execution_count": 14,
   "metadata": {},
   "outputs": [
    {
     "data": {
      "text/plain": [
       "5000"
      ]
     },
     "execution_count": 14,
     "metadata": {},
     "output_type": "execute_result"
    }
   ],
   "source": [
    "len(train_X[100])"
   ]
  },
  {
   "cell_type": "markdown",
   "metadata": {},
   "source": [
    "## Step 3: Upload data to S3\n",
    "\n",
    "Now that we have created the feature representation of our training (and testing) data, it is time to start setting up and using the XGBoost classifier provided by SageMaker.\n",
    "\n",
    "### Writing the datasets\n",
    "\n",
    "The XGBoost classifier that we will be using requires the dataset to be written to a file and stored using Amazon S3. To do this, we will start by splitting the training dataset into two parts, the data we will train the model with and a validation set. Then, we will write those datasets to a file locally and then upload the files to S3. In addition, we will write the test set to a file and upload that file to S3. This is so that we can use SageMakers Batch Transform functionality to test our model once we've fit it."
   ]
  },
  {
   "cell_type": "code",
   "execution_count": 15,
   "metadata": {},
   "outputs": [],
   "source": [
    "import pandas as pd\n",
    "\n",
    "# Earlier we shuffled the training dataset so to make things simple we can just assign\n",
    "# the first 10 000 reviews to the validation set and use the remaining reviews for training.\n",
    "val_X = pd.DataFrame(train_X[:10000])\n",
    "train_X = pd.DataFrame(train_X[10000:])\n",
    "\n",
    "val_y = pd.DataFrame(train_y[:10000])\n",
    "train_y = pd.DataFrame(train_y[10000:])"
   ]
  },
  {
   "cell_type": "markdown",
   "metadata": {},
   "source": [
    "The documentation for the XGBoost algorithm in SageMaker requires that the training and validation datasets should contain no headers or index and that the label should occur first for each sample.\n",
    "\n",
    "For more information about this and other algorithms, the SageMaker developer documentation can be found on __[Amazon's website.](https://docs.aws.amazon.com/sagemaker/latest/dg/)__"
   ]
  },
  {
   "cell_type": "code",
   "execution_count": 16,
   "metadata": {},
   "outputs": [],
   "source": [
    "# First we make sure that the local directory in which we'd like to store the training and validation csv files exists.\n",
    "data_dir = '../data/sentiment_web_app'\n",
    "if not os.path.exists(data_dir):\n",
    "    os.makedirs(data_dir)"
   ]
  },
  {
   "cell_type": "code",
   "execution_count": 17,
   "metadata": {},
   "outputs": [],
   "source": [
    "pd.DataFrame(test_X).to_csv(os.path.join(data_dir, 'test.csv'), header=False, index=False)\n",
    "\n",
    "pd.concat([val_y, val_X], axis=1).to_csv(os.path.join(data_dir, 'validation.csv'), header=False, index=False)\n",
    "pd.concat([train_y, train_X], axis=1).to_csv(os.path.join(data_dir, 'train.csv'), header=False, index=False)"
   ]
  },
  {
   "cell_type": "code",
   "execution_count": 18,
   "metadata": {},
   "outputs": [],
   "source": [
    "# To save a bit of memory we can set text_X, train_X, val_X, train_y and val_y to None.\n",
    "\n",
    "test_X = train_X = val_X = train_y = val_y = None"
   ]
  },
  {
   "cell_type": "markdown",
   "metadata": {},
   "source": [
    "### Uploading Training / Validation files to S3\n",
    "\n",
    "Amazon's S3 service allows us to store files that can be accessed by both the built-in training models such as the XGBoost model we will be using as well as custom models such as the one we will see a little later.\n",
    "\n",
    "For this and most other tasks we will be doing using SageMaker, there are two methods we could use. The first is to use the low level functionality of SageMaker which requires knowing each of the objects involved in the SageMaker environment. The second is to use the high level functionality in which certain choices have been made on the user's behalf. The low level approach benefits from allowing the user a great deal of flexibility while the high level approach makes development much quicker. For our purposes we will opt to use the high level approach although using the low-level approach is certainly an option.\n",
    "\n",
    "Recall the method `upload_data()` which is a member of the object representing our current SageMaker session. What this method does is upload the data to the default bucket (which is created if it does not exist) into the path described by the key_prefix variable. To see this for yourself, once you have uploaded the data files, go to the S3 console and look to see where the files have been uploaded.\n",
    "\n",
    "For additional resources, see the __[SageMaker API documentation](http://sagemaker.readthedocs.io/en/latest/)__ and in addition the __[SageMaker Developer Guide.](https://docs.aws.amazon.com/sagemaker/latest/dg/)__"
   ]
  },
  {
   "cell_type": "code",
   "execution_count": 19,
   "metadata": {},
   "outputs": [],
   "source": [
    "import sagemaker\n",
    "\n",
    "session = sagemaker.Session() # Store the current SageMaker session\n",
    "\n",
    "# S3 prefix (which folder will we use)\n",
    "prefix = 'sentiment-web-app'\n",
    "\n",
    "test_location = session.upload_data(os.path.join(data_dir, 'test.csv'), key_prefix=prefix)\n",
    "val_location = session.upload_data(os.path.join(data_dir, 'validation.csv'), key_prefix=prefix)\n",
    "train_location = session.upload_data(os.path.join(data_dir, 'train.csv'), key_prefix=prefix)"
   ]
  },
  {
   "cell_type": "markdown",
   "metadata": {},
   "source": [
    "## Step 4: Creating the XGBoost model\n",
    "\n",
    "Now that the data has been uploaded it is time to create the XGBoost model. To begin with, we need to do some setup. At this point it is worth discussing what a model is in SageMaker. It is easiest to think of a model of comprising three different objects in the SageMaker ecosystem, which interact with one another.\n",
    "\n",
    "- Model Artifacts\n",
    "- Training Code (Container)\n",
    "- Inference Code (Container)\n",
    "\n",
    "The Model Artifacts are what you might think of as the actual model itself. For example, if you were building a neural network, the model artifacts would be the weights of the various layers. In our case, for an XGBoost model, the artifacts are the actual trees that are created during training.\n",
    "\n",
    "The other two objects, the training code and the inference code are then used to manipulate the training artifacts. More precisely, the training code uses the training data that is provided and creates the model artifacts, while the inference code uses the model artifacts to make predictions on new data.\n",
    "\n",
    "The way that SageMaker runs the training and inference code is by making use of Docker containers. For now, think of a container as being a way of packaging code up so that dependencies aren't an issue."
   ]
  },
  {
   "cell_type": "code",
   "execution_count": 20,
   "metadata": {},
   "outputs": [],
   "source": [
    "from sagemaker import get_execution_role\n",
    "\n",
    "# Our current execution role is required when creating the model as the training\n",
    "# and inference code will need to access the model artifacts.\n",
    "role = get_execution_role()"
   ]
  },
  {
   "cell_type": "code",
   "execution_count": 22,
   "metadata": {},
   "outputs": [],
   "source": [
    "# We need to retrieve the location of the container which is provided by Amazon for using XGBoost.\n",
    "# As a matter of convenience, the training and inference code both use the same container.\n",
    "from sagemaker.amazon.amazon_estimator import get_image_uri\n",
    "\n",
    "container = get_image_uri(session.boto_region_name, 'xgboost', '0.90-1')"
   ]
  },
  {
   "cell_type": "code",
   "execution_count": 23,
   "metadata": {},
   "outputs": [],
   "source": [
    "# First we create a SageMaker estimator object for our model.\n",
    "xgb = sagemaker.estimator.Estimator(container, # The location of the container we wish to use\n",
    "                                    role,                                    # What is our current IAM Role\n",
    "                                    train_instance_count=1,                  # How many compute instances\n",
    "                                    train_instance_type='ml.m4.xlarge',      # What kind of compute instances\n",
    "                                    output_path='s3://{}/{}/output'.format(session.default_bucket(), prefix),\n",
    "                                    sagemaker_session=session)\n",
    "\n",
    "# And then set the algorithm specific parameters.\n",
    "xgb.set_hyperparameters(max_depth=5,\n",
    "                        eta=0.2,\n",
    "                        gamma=4,\n",
    "                        min_child_weight=6,\n",
    "                        subsample=0.8,\n",
    "                        silent=0,\n",
    "                        objective='binary:logistic',\n",
    "                        early_stopping_rounds=10,\n",
    "                        num_round=500)"
   ]
  },
  {
   "cell_type": "markdown",
   "metadata": {},
   "source": [
    "### Fit the XGBoost model\n",
    "\n",
    "Now that our model has been set up we simply need to attach the training and validation datasets and then ask SageMaker to set up the computation."
   ]
  },
  {
   "cell_type": "code",
   "execution_count": 24,
   "metadata": {},
   "outputs": [],
   "source": [
    "s3_input_train = sagemaker.s3_input(s3_data=train_location, content_type='csv')\n",
    "s3_input_validation = sagemaker.s3_input(s3_data=val_location, content_type='csv')"
   ]
  },
  {
   "cell_type": "code",
   "execution_count": 25,
   "metadata": {
    "scrolled": true
   },
   "outputs": [
    {
     "name": "stdout",
     "output_type": "stream",
     "text": [
      "2019-11-10 09:50:53 Starting - Starting the training job...\n",
      "2019-11-10 09:50:56 Starting - Launching requested ML instances...\n",
      "2019-11-10 09:51:53 Starting - Preparing the instances for training......\n",
      "2019-11-10 09:52:48 Downloading - Downloading input data...\n",
      "2019-11-10 09:53:04 Training - Downloading the training image...\n",
      "2019-11-10 09:53:30 Training - Training image download completed. Training in progress.\u001b[31mINFO:sagemaker-containers:Imported framework sagemaker_xgboost_container.training\u001b[0m\n",
      "\u001b[31mINFO:sagemaker-containers:Failed to parse hyperparameter objective value binary:logistic to Json.\u001b[0m\n",
      "\u001b[31mReturning the value itself\u001b[0m\n",
      "\u001b[31mINFO:sagemaker-containers:No GPUs detected (normal if no gpus installed)\u001b[0m\n",
      "\u001b[31mINFO:sagemaker_xgboost_container.training:Running XGBoost Sagemaker in algorithm mode\u001b[0m\n",
      "\u001b[31mINFO:root:Determined delimiter of CSV input is ','\u001b[0m\n",
      "\u001b[31mINFO:root:Determined delimiter of CSV input is ','\u001b[0m\n",
      "\u001b[31mINFO:root:Determined delimiter of CSV input is ','\u001b[0m\n",
      "\u001b[31m[09:53:34] 15000x5000 matrix with 75000000 entries loaded from /opt/ml/input/data/train?format=csv&label_column=0&delimiter=,\u001b[0m\n",
      "\u001b[31mINFO:root:Determined delimiter of CSV input is ','\u001b[0m\n",
      "\u001b[31m[09:53:35] 10000x5000 matrix with 50000000 entries loaded from /opt/ml/input/data/validation?format=csv&label_column=0&delimiter=,\u001b[0m\n",
      "\u001b[31mINFO:root:Single node training.\u001b[0m\n",
      "\u001b[31mINFO:root:Train matrix has 15000 rows\u001b[0m\n",
      "\u001b[31mINFO:root:Validation matrix has 10000 rows\u001b[0m\n",
      "\u001b[31m[0]#011train-error:0.300933#011validation-error:0.3149\u001b[0m\n",
      "\u001b[31m[1]#011train-error:0.300933#011validation-error:0.3129\u001b[0m\n",
      "\u001b[31m[2]#011train-error:0.287#011validation-error:0.3016\u001b[0m\n",
      "\u001b[31m[3]#011train-error:0.271#011validation-error:0.2828\u001b[0m\n",
      "\u001b[31m[4]#011train-error:0.2696#011validation-error:0.2827\u001b[0m\n",
      "\u001b[31m[5]#011train-error:0.259267#011validation-error:0.2713\u001b[0m\n",
      "\u001b[31m[6]#011train-error:0.245533#011validation-error:0.2606\u001b[0m\n",
      "\u001b[31m[7]#011train-error:0.241667#011validation-error:0.2587\u001b[0m\n",
      "\u001b[31m[8]#011train-error:0.232867#011validation-error:0.2513\u001b[0m\n",
      "\u001b[31m[9]#011train-error:0.231267#011validation-error:0.254\u001b[0m\n",
      "\u001b[31m[10]#011train-error:0.224467#011validation-error:0.2457\u001b[0m\n",
      "\u001b[31m[11]#011train-error:0.2202#011validation-error:0.2414\u001b[0m\n",
      "\u001b[31m[12]#011train-error:0.2136#011validation-error:0.2343\u001b[0m\n",
      "\u001b[31m[13]#011train-error:0.208933#011validation-error:0.2328\u001b[0m\n",
      "\u001b[31m[14]#011train-error:0.205333#011validation-error:0.2288\u001b[0m\n",
      "\u001b[31m[15]#011train-error:0.202533#011validation-error:0.2261\u001b[0m\n",
      "\u001b[31m[16]#011train-error:0.197733#011validation-error:0.2233\u001b[0m\n",
      "\u001b[31m[17]#011train-error:0.1968#011validation-error:0.2199\u001b[0m\n",
      "\u001b[31m[18]#011train-error:0.193333#011validation-error:0.2181\u001b[0m\n",
      "\u001b[31m[19]#011train-error:0.187467#011validation-error:0.2141\u001b[0m\n",
      "\u001b[31m[20]#011train-error:0.189333#011validation-error:0.2151\u001b[0m\n",
      "\u001b[31m[21]#011train-error:0.186867#011validation-error:0.2127\u001b[0m\n",
      "\u001b[31m[22]#011train-error:0.184267#011validation-error:0.2126\u001b[0m\n",
      "\u001b[31m[23]#011train-error:0.179933#011validation-error:0.2112\u001b[0m\n",
      "\u001b[31m[24]#011train-error:0.178133#011validation-error:0.2094\u001b[0m\n",
      "\u001b[31m[25]#011train-error:0.175933#011validation-error:0.2086\u001b[0m\n",
      "\u001b[31m[26]#011train-error:0.175267#011validation-error:0.2076\u001b[0m\n",
      "\u001b[31m[27]#011train-error:0.174067#011validation-error:0.2054\u001b[0m\n",
      "\u001b[31m[28]#011train-error:0.1722#011validation-error:0.204\u001b[0m\n",
      "\u001b[31m[29]#011train-error:0.169533#011validation-error:0.2023\u001b[0m\n",
      "\u001b[31m[30]#011train-error:0.168#011validation-error:0.2031\u001b[0m\n",
      "\u001b[31m[31]#011train-error:0.1672#011validation-error:0.1993\u001b[0m\n",
      "\u001b[31m[32]#011train-error:0.166133#011validation-error:0.1984\u001b[0m\n",
      "\u001b[31m[33]#011train-error:0.1634#011validation-error:0.1967\u001b[0m\n",
      "\u001b[31m[34]#011train-error:0.162733#011validation-error:0.1953\u001b[0m\n",
      "\u001b[31m[35]#011train-error:0.1602#011validation-error:0.1948\u001b[0m\n",
      "\u001b[31m[36]#011train-error:0.1584#011validation-error:0.1923\u001b[0m\n",
      "\u001b[31m[37]#011train-error:0.1572#011validation-error:0.1924\u001b[0m\n",
      "\u001b[31m[38]#011train-error:0.154067#011validation-error:0.1912\u001b[0m\n",
      "\u001b[31m[39]#011train-error:0.1524#011validation-error:0.1905\u001b[0m\n",
      "\u001b[31m[40]#011train-error:0.152#011validation-error:0.1897\u001b[0m\n",
      "\u001b[31m[41]#011train-error:0.1508#011validation-error:0.1897\u001b[0m\n",
      "\u001b[31m[42]#011train-error:0.150067#011validation-error:0.1895\u001b[0m\n",
      "\u001b[31m[43]#011train-error:0.1482#011validation-error:0.1877\u001b[0m\n",
      "\u001b[31m[44]#011train-error:0.145#011validation-error:0.1868\u001b[0m\n",
      "\u001b[31m[45]#011train-error:0.144867#011validation-error:0.1847\u001b[0m\n",
      "\u001b[31m[46]#011train-error:0.1446#011validation-error:0.186\u001b[0m\n",
      "\u001b[31m[47]#011train-error:0.1432#011validation-error:0.1848\u001b[0m\n",
      "\u001b[31m[48]#011train-error:0.141#011validation-error:0.1853\u001b[0m\n",
      "\u001b[31m[49]#011train-error:0.1402#011validation-error:0.1843\u001b[0m\n",
      "\u001b[31m[50]#011train-error:0.139267#011validation-error:0.1833\u001b[0m\n",
      "\u001b[31m[51]#011train-error:0.137667#011validation-error:0.1821\u001b[0m\n",
      "\u001b[31m[52]#011train-error:0.136867#011validation-error:0.1817\u001b[0m\n",
      "\u001b[31m[53]#011train-error:0.135733#011validation-error:0.1805\u001b[0m\n",
      "\u001b[31m[54]#011train-error:0.134667#011validation-error:0.1799\u001b[0m\n",
      "\u001b[31m[55]#011train-error:0.132467#011validation-error:0.178\u001b[0m\n",
      "\u001b[31m[56]#011train-error:0.129867#011validation-error:0.177\u001b[0m\n",
      "\u001b[31m[57]#011train-error:0.13#011validation-error:0.1778\u001b[0m\n",
      "\u001b[31m[58]#011train-error:0.129333#011validation-error:0.176\u001b[0m\n",
      "\u001b[31m[59]#011train-error:0.128467#011validation-error:0.1746\u001b[0m\n",
      "\u001b[31m[60]#011train-error:0.1276#011validation-error:0.1731\u001b[0m\n",
      "\u001b[31m[61]#011train-error:0.127733#011validation-error:0.173\u001b[0m\n",
      "\u001b[31m[62]#011train-error:0.127#011validation-error:0.1726\u001b[0m\n",
      "\u001b[31m[63]#011train-error:0.1248#011validation-error:0.1724\u001b[0m\n",
      "\u001b[31m[64]#011train-error:0.124333#011validation-error:0.1714\u001b[0m\n",
      "\u001b[31m[65]#011train-error:0.123467#011validation-error:0.1709\u001b[0m\n",
      "\u001b[31m[66]#011train-error:0.123467#011validation-error:0.1702\u001b[0m\n",
      "\u001b[31m[67]#011train-error:0.122533#011validation-error:0.17\u001b[0m\n",
      "\u001b[31m[68]#011train-error:0.121267#011validation-error:0.1695\u001b[0m\n",
      "\u001b[31m[69]#011train-error:0.1202#011validation-error:0.1685\u001b[0m\n",
      "\u001b[31m[70]#011train-error:0.120533#011validation-error:0.1681\u001b[0m\n",
      "\u001b[31m[71]#011train-error:0.119933#011validation-error:0.1678\u001b[0m\n",
      "\u001b[31m[72]#011train-error:0.118933#011validation-error:0.1663\u001b[0m\n",
      "\u001b[31m[73]#011train-error:0.1184#011validation-error:0.1674\u001b[0m\n",
      "\u001b[31m[74]#011train-error:0.1168#011validation-error:0.166\u001b[0m\n",
      "\u001b[31m[75]#011train-error:0.117#011validation-error:0.1649\u001b[0m\n",
      "\u001b[31m[76]#011train-error:0.1148#011validation-error:0.1662\u001b[0m\n",
      "\u001b[31m[77]#011train-error:0.114267#011validation-error:0.1658\u001b[0m\n",
      "\u001b[31m[78]#011train-error:0.1142#011validation-error:0.164\u001b[0m\n",
      "\u001b[31m[79]#011train-error:0.114333#011validation-error:0.1631\u001b[0m\n",
      "\u001b[31m[80]#011train-error:0.114067#011validation-error:0.1623\u001b[0m\n",
      "\u001b[31m[81]#011train-error:0.113#011validation-error:0.1611\u001b[0m\n",
      "\u001b[31m[82]#011train-error:0.112467#011validation-error:0.1607\u001b[0m\n",
      "\u001b[31m[83]#011train-error:0.111733#011validation-error:0.1617\u001b[0m\n",
      "\u001b[31m[84]#011train-error:0.1108#011validation-error:0.1612\u001b[0m\n",
      "\u001b[31m[85]#011train-error:0.110533#011validation-error:0.1619\u001b[0m\n",
      "\u001b[31m[86]#011train-error:0.109933#011validation-error:0.1608\u001b[0m\n",
      "\u001b[31m[87]#011train-error:0.109467#011validation-error:0.1606\u001b[0m\n",
      "\u001b[31m[88]#011train-error:0.109333#011validation-error:0.1601\u001b[0m\n",
      "\u001b[31m[89]#011train-error:0.109133#011validation-error:0.1599\u001b[0m\n",
      "\u001b[31m[90]#011train-error:0.108067#011validation-error:0.1594\u001b[0m\n",
      "\u001b[31m[91]#011train-error:0.106867#011validation-error:0.1599\u001b[0m\n",
      "\u001b[31m[92]#011train-error:0.105933#011validation-error:0.1597\u001b[0m\n",
      "\u001b[31m[93]#011train-error:0.105933#011validation-error:0.1598\u001b[0m\n",
      "\u001b[31m[94]#011train-error:0.105333#011validation-error:0.1596\u001b[0m\n",
      "\u001b[31m[95]#011train-error:0.105733#011validation-error:0.1593\u001b[0m\n",
      "\u001b[31m[96]#011train-error:0.105667#011validation-error:0.1593\u001b[0m\n",
      "\u001b[31m[97]#011train-error:0.104933#011validation-error:0.1569\u001b[0m\n",
      "\u001b[31m[98]#011train-error:0.104067#011validation-error:0.1567\u001b[0m\n",
      "\u001b[31m[99]#011train-error:0.102933#011validation-error:0.157\u001b[0m\n",
      "\u001b[31m[100]#011train-error:0.103067#011validation-error:0.1567\u001b[0m\n",
      "\u001b[31m[101]#011train-error:0.101467#011validation-error:0.156\u001b[0m\n",
      "\u001b[31m[102]#011train-error:0.101267#011validation-error:0.1565\u001b[0m\n",
      "\u001b[31m[103]#011train-error:0.1008#011validation-error:0.156\u001b[0m\n",
      "\u001b[31m[104]#011train-error:0.101267#011validation-error:0.1558\u001b[0m\n",
      "\u001b[31m[105]#011train-error:0.1004#011validation-error:0.1558\u001b[0m\n",
      "\u001b[31m[106]#011train-error:0.099667#011validation-error:0.1566\u001b[0m\n",
      "\u001b[31m[107]#011train-error:0.0996#011validation-error:0.1556\u001b[0m\n",
      "\u001b[31m[108]#011train-error:0.099#011validation-error:0.1551\u001b[0m\n",
      "\u001b[31m[109]#011train-error:0.098667#011validation-error:0.1544\u001b[0m\n",
      "\u001b[31m[110]#011train-error:0.098533#011validation-error:0.1536\u001b[0m\n",
      "\u001b[31m[111]#011train-error:0.097133#011validation-error:0.1522\u001b[0m\n",
      "\u001b[31m[112]#011train-error:0.095267#011validation-error:0.1527\u001b[0m\n",
      "\u001b[31m[113]#011train-error:0.095133#011validation-error:0.1527\u001b[0m\n",
      "\u001b[31m[114]#011train-error:0.095533#011validation-error:0.152\u001b[0m\n",
      "\u001b[31m[115]#011train-error:0.095467#011validation-error:0.1522\u001b[0m\n",
      "\u001b[31m[116]#011train-error:0.0952#011validation-error:0.152\u001b[0m\n",
      "\u001b[31m[117]#011train-error:0.094667#011validation-error:0.1511\u001b[0m\n",
      "\u001b[31m[118]#011train-error:0.094133#011validation-error:0.1507\u001b[0m\n",
      "\u001b[31m[119]#011train-error:0.093933#011validation-error:0.1512\u001b[0m\n",
      "\u001b[31m[120]#011train-error:0.093733#011validation-error:0.1511\u001b[0m\n",
      "\u001b[31m[121]#011train-error:0.092933#011validation-error:0.1498\u001b[0m\n",
      "\u001b[31m[122]#011train-error:0.0926#011validation-error:0.1495\u001b[0m\n",
      "\u001b[31m[123]#011train-error:0.0924#011validation-error:0.1494\u001b[0m\n",
      "\u001b[31m[124]#011train-error:0.091667#011validation-error:0.1486\u001b[0m\n",
      "\u001b[31m[125]#011train-error:0.091533#011validation-error:0.1488\u001b[0m\n",
      "\u001b[31m[126]#011train-error:0.0912#011validation-error:0.1474\u001b[0m\n",
      "\u001b[31m[127]#011train-error:0.0914#011validation-error:0.1471\u001b[0m\n",
      "\u001b[31m[128]#011train-error:0.091#011validation-error:0.1471\u001b[0m\n",
      "\u001b[31m[129]#011train-error:0.0906#011validation-error:0.1474\u001b[0m\n",
      "\u001b[31m[130]#011train-error:0.090467#011validation-error:0.1474\u001b[0m\n",
      "\u001b[31m[131]#011train-error:0.089067#011validation-error:0.1491\u001b[0m\n",
      "\u001b[31m[132]#011train-error:0.088733#011validation-error:0.1477\u001b[0m\n",
      "\u001b[31m[133]#011train-error:0.0884#011validation-error:0.1478\u001b[0m\n",
      "\u001b[31m[134]#011train-error:0.0878#011validation-error:0.1479\u001b[0m\n",
      "\u001b[31m[135]#011train-error:0.087867#011validation-error:0.1477\u001b[0m\n",
      "\u001b[31m[136]#011train-error:0.087267#011validation-error:0.1473\u001b[0m\n",
      "\u001b[31m[137]#011train-error:0.087067#011validation-error:0.1472\u001b[0m\n",
      "\n",
      "2019-11-10 09:56:11 Uploading - Uploading generated training model\n",
      "2019-11-10 09:56:11 Completed - Training job completed\n",
      "Training seconds: 203\n",
      "Billable seconds: 203\n"
     ]
    }
   ],
   "source": [
    "xgb.fit({'train': s3_input_train, 'validation': s3_input_validation})"
   ]
  },
  {
   "cell_type": "markdown",
   "metadata": {},
   "source": [
    "## Step 5: Testing the model\n",
    "\n",
    "Now that we've fit our XGBoost model, it's time to see how well it performs. To do this we will use SageMakers Batch Transform functionality. Batch Transform is a convenient way to perform inference on a large dataset in a way that is not realtime. That is, we don't necessarily need to use our model's results immediately and instead we can perform inference on a large number of samples. An example of this in industry might be performing an end of month report. This method of inference can also be useful to us as it means that we can perform inference on our entire test set. \n",
    "\n",
    "To perform a Batch Transformation we need to first create a transformer objects from our trained estimator object."
   ]
  },
  {
   "cell_type": "code",
   "execution_count": 26,
   "metadata": {},
   "outputs": [],
   "source": [
    "xgb_transformer = xgb.transformer(instance_count = 1, instance_type = 'ml.m4.xlarge')"
   ]
  },
  {
   "cell_type": "markdown",
   "metadata": {},
   "source": [
    "Next we actually perform the transform job. When doing so we need to make sure to specify the type of data we are sending so that it is serialized correctly in the background. In our case we are providing our model with csv data so we specify `text/csv`. Also, if the test data that we have provided is too large to process all at once then we need to specify how the data file should be split up. Since each line is a single entry in our data set we tell SageMaker that it can split the input on each line."
   ]
  },
  {
   "cell_type": "code",
   "execution_count": 27,
   "metadata": {},
   "outputs": [],
   "source": [
    "xgb_transformer.transform(test_location, content_type='text/csv', split_type='Line')"
   ]
  },
  {
   "cell_type": "markdown",
   "metadata": {},
   "source": [
    "Currently the transform job is running but it is doing so in the background. Since we wish to wait until the transform job is done and we would like a bit of feedback we can run the `wait()` method."
   ]
  },
  {
   "cell_type": "code",
   "execution_count": 28,
   "metadata": {
    "scrolled": true
   },
   "outputs": [
    {
     "name": "stdout",
     "output_type": "stream",
     "text": [
      "....................\u001b[31m[2019-11-10 10:00:12 +0000] [15] [INFO] Starting gunicorn 19.9.0\u001b[0m\n",
      "\u001b[31m[2019-11-10 10:00:12 +0000] [15] [INFO] Listening at: unix:/tmp/gunicorn.sock (15)\u001b[0m\n",
      "\u001b[31m[2019-11-10 10:00:12 +0000] [15] [INFO] Using worker: gevent\u001b[0m\n",
      "\u001b[31m[2019-11-10 10:00:12 +0000] [22] [INFO] Booting worker with pid: 22\u001b[0m\n",
      "\u001b[31m[2019-11-10 10:00:12 +0000] [23] [INFO] Booting worker with pid: 23\u001b[0m\n",
      "\u001b[31m[2019-11-10 10:00:12 +0000] [27] [INFO] Booting worker with pid: 27\u001b[0m\n",
      "\u001b[31m[2019-11-10 10:00:12 +0000] [28] [INFO] Booting worker with pid: 28\u001b[0m\n",
      "\u001b[31m[2019-11-10:10:00:25:INFO] No GPUs detected (normal if no gpus installed)\u001b[0m\n",
      "\u001b[31m169.254.255.130 - - [10/Nov/2019:10:00:25 +0000] \"GET /ping HTTP/1.1\" 200 0 \"-\" \"Go-http-client/1.1\"\u001b[0m\n",
      "\u001b[31m169.254.255.130 - - [10/Nov/2019:10:00:25 +0000] \"GET /execution-parameters HTTP/1.1\" 200 84 \"-\" \"Go-http-client/1.1\"\u001b[0m\n",
      "\u001b[32m[2019-11-10:10:00:25:INFO] No GPUs detected (normal if no gpus installed)\u001b[0m\n",
      "\u001b[32m169.254.255.130 - - [10/Nov/2019:10:00:25 +0000] \"GET /ping HTTP/1.1\" 200 0 \"-\" \"Go-http-client/1.1\"\u001b[0m\n",
      "\u001b[32m169.254.255.130 - - [10/Nov/2019:10:00:25 +0000] \"GET /execution-parameters HTTP/1.1\" 200 84 \"-\" \"Go-http-client/1.1\"\u001b[0m\n",
      "\u001b[33m2019-11-10T10:00:25.697:[sagemaker logs]: MaxConcurrentTransforms=4, MaxPayloadInMB=6, BatchStrategy=MULTI_RECORD\u001b[0m\n",
      "\u001b[31m[2019-11-10:10:00:28:INFO] No GPUs detected (normal if no gpus installed)\u001b[0m\n",
      "\u001b[31m[2019-11-10:10:00:28:INFO] No GPUs detected (normal if no gpus installed)\u001b[0m\n",
      "\u001b[31m[2019-11-10:10:00:28:INFO] Determined delimiter of CSV input is ','\u001b[0m\n",
      "\u001b[31m[2019-11-10:10:00:28:INFO] Determined delimiter of CSV input is ','\u001b[0m\n",
      "\u001b[31m[2019-11-10:10:00:28:INFO] Determined delimiter of CSV input is ','\u001b[0m\n",
      "\u001b[31m[2019-11-10:10:00:28:INFO] No GPUs detected (normal if no gpus installed)\u001b[0m\n",
      "\u001b[32m[2019-11-10:10:00:28:INFO] No GPUs detected (normal if no gpus installed)\u001b[0m\n",
      "\u001b[32m[2019-11-10:10:00:28:INFO] No GPUs detected (normal if no gpus installed)\u001b[0m\n",
      "\u001b[32m[2019-11-10:10:00:28:INFO] Determined delimiter of CSV input is ','\u001b[0m\n",
      "\u001b[32m[2019-11-10:10:00:28:INFO] Determined delimiter of CSV input is ','\u001b[0m\n",
      "\u001b[32m[2019-11-10:10:00:28:INFO] Determined delimiter of CSV input is ','\u001b[0m\n",
      "\u001b[32m[2019-11-10:10:00:28:INFO] No GPUs detected (normal if no gpus installed)\u001b[0m\n",
      "\u001b[31m[2019-11-10:10:00:28:INFO] Determined delimiter of CSV input is ','\u001b[0m\n",
      "\u001b[32m[2019-11-10:10:00:28:INFO] Determined delimiter of CSV input is ','\u001b[0m\n",
      "\u001b[31m169.254.255.130 - - [10/Nov/2019:10:00:31 +0000] \"POST /invocations HTTP/1.1\" 200 12203 \"-\" \"Go-http-client/1.1\"\u001b[0m\n",
      "\u001b[31m169.254.255.130 - - [10/Nov/2019:10:00:32 +0000] \"POST /invocations HTTP/1.1\" 200 12217 \"-\" \"Go-http-client/1.1\"\u001b[0m\n",
      "\u001b[31m[2019-11-10:10:00:32:INFO] Determined delimiter of CSV input is ','\u001b[0m\n",
      "\u001b[31m[2019-11-10:10:00:32:INFO] Determined delimiter of CSV input is ','\u001b[0m\n",
      "\u001b[31m[2019-11-10:10:00:32:INFO] Determined delimiter of CSV input is ','\u001b[0m\n",
      "\u001b[31m169.254.255.130 - - [10/Nov/2019:10:00:32 +0000] \"POST /invocations HTTP/1.1\" 200 12205 \"-\" \"Go-http-client/1.1\"\u001b[0m\n",
      "\u001b[31m[2019-11-10:10:00:32:INFO] Determined delimiter of CSV input is ','\u001b[0m\n",
      "\u001b[32m169.254.255.130 - - [10/Nov/2019:10:00:31 +0000] \"POST /invocations HTTP/1.1\" 200 12203 \"-\" \"Go-http-client/1.1\"\u001b[0m\n",
      "\u001b[32m169.254.255.130 - - [10/Nov/2019:10:00:32 +0000] \"POST /invocations HTTP/1.1\" 200 12217 \"-\" \"Go-http-client/1.1\"\u001b[0m\n",
      "\u001b[32m[2019-11-10:10:00:32:INFO] Determined delimiter of CSV input is ','\u001b[0m\n",
      "\u001b[32m[2019-11-10:10:00:32:INFO] Determined delimiter of CSV input is ','\u001b[0m\n",
      "\u001b[32m[2019-11-10:10:00:32:INFO] Determined delimiter of CSV input is ','\u001b[0m\n",
      "\u001b[32m169.254.255.130 - - [10/Nov/2019:10:00:32 +0000] \"POST /invocations HTTP/1.1\" 200 12205 \"-\" \"Go-http-client/1.1\"\u001b[0m\n",
      "\u001b[32m[2019-11-10:10:00:32:INFO] Determined delimiter of CSV input is ','\u001b[0m\n",
      "\u001b[31m169.254.255.130 - - [10/Nov/2019:10:00:35 +0000] \"POST /invocations HTTP/1.1\" 200 12149 \"-\" \"Go-http-client/1.1\"\u001b[0m\n",
      "\u001b[31m169.254.255.130 - - [10/Nov/2019:10:00:35 +0000] \"POST /invocations HTTP/1.1\" 200 12195 \"-\" \"Go-http-client/1.1\"\u001b[0m\n",
      "\u001b[31m169.254.255.130 - - [10/Nov/2019:10:00:35 +0000] \"POST /invocations HTTP/1.1\" 200 12161 \"-\" \"Go-http-client/1.1\"\u001b[0m\n",
      "\u001b[31m[2019-11-10:10:00:35:INFO] Determined delimiter of CSV input is ','\u001b[0m\n",
      "\u001b[31m[2019-11-10:10:00:35:INFO] Determined delimiter of CSV input is ','\u001b[0m\n",
      "\u001b[32m169.254.255.130 - - [10/Nov/2019:10:00:35 +0000] \"POST /invocations HTTP/1.1\" 200 12149 \"-\" \"Go-http-client/1.1\"\u001b[0m\n",
      "\u001b[32m169.254.255.130 - - [10/Nov/2019:10:00:35 +0000] \"POST /invocations HTTP/1.1\" 200 12195 \"-\" \"Go-http-client/1.1\"\u001b[0m\n",
      "\u001b[32m169.254.255.130 - - [10/Nov/2019:10:00:35 +0000] \"POST /invocations HTTP/1.1\" 200 12161 \"-\" \"Go-http-client/1.1\"\u001b[0m\n",
      "\u001b[32m[2019-11-10:10:00:35:INFO] Determined delimiter of CSV input is ','\u001b[0m\n",
      "\u001b[32m[2019-11-10:10:00:35:INFO] Determined delimiter of CSV input is ','\u001b[0m\n",
      "\u001b[31m[2019-11-10:10:00:35:INFO] Determined delimiter of CSV input is ','\u001b[0m\n",
      "\u001b[32m[2019-11-10:10:00:35:INFO] Determined delimiter of CSV input is ','\u001b[0m\n",
      "\u001b[31m169.254.255.130 - - [10/Nov/2019:10:00:35 +0000] \"POST /invocations HTTP/1.1\" 200 12206 \"-\" \"Go-http-client/1.1\"\u001b[0m\n",
      "\u001b[31m[2019-11-10:10:00:36:INFO] Determined delimiter of CSV input is ','\u001b[0m\n",
      "\u001b[32m169.254.255.130 - - [10/Nov/2019:10:00:35 +0000] \"POST /invocations HTTP/1.1\" 200 12206 \"-\" \"Go-http-client/1.1\"\u001b[0m\n",
      "\u001b[32m[2019-11-10:10:00:36:INFO] Determined delimiter of CSV input is ','\u001b[0m\n",
      "\u001b[31m169.254.255.130 - - [10/Nov/2019:10:00:39 +0000] \"POST /invocations HTTP/1.1\" 200 12200 \"-\" \"Go-http-client/1.1\"\u001b[0m\n",
      "\u001b[31m169.254.255.130 - - [10/Nov/2019:10:00:39 +0000] \"POST /invocations HTTP/1.1\" 200 12165 \"-\" \"Go-http-client/1.1\"\u001b[0m\n",
      "\u001b[31m169.254.255.130 - - [10/Nov/2019:10:00:39 +0000] \"POST /invocations HTTP/1.1\" 200 12210 \"-\" \"Go-http-client/1.1\"\u001b[0m\n",
      "\u001b[31m[2019-11-10:10:00:39:INFO] Determined delimiter of CSV input is ','\u001b[0m\n",
      "\u001b[31m[2019-11-10:10:00:39:INFO] Determined delimiter of CSV input is ','\u001b[0m\n",
      "\u001b[31m[2019-11-10:10:00:39:INFO] Determined delimiter of CSV input is ','\u001b[0m\n",
      "\u001b[32m169.254.255.130 - - [10/Nov/2019:10:00:39 +0000] \"POST /invocations HTTP/1.1\" 200 12200 \"-\" \"Go-http-client/1.1\"\u001b[0m\n",
      "\u001b[32m169.254.255.130 - - [10/Nov/2019:10:00:39 +0000] \"POST /invocations HTTP/1.1\" 200 12165 \"-\" \"Go-http-client/1.1\"\u001b[0m\n",
      "\u001b[32m169.254.255.130 - - [10/Nov/2019:10:00:39 +0000] \"POST /invocations HTTP/1.1\" 200 12210 \"-\" \"Go-http-client/1.1\"\u001b[0m\n",
      "\u001b[32m[2019-11-10:10:00:39:INFO] Determined delimiter of CSV input is ','\u001b[0m\n",
      "\u001b[32m[2019-11-10:10:00:39:INFO] Determined delimiter of CSV input is ','\u001b[0m\n",
      "\u001b[32m[2019-11-10:10:00:39:INFO] Determined delimiter of CSV input is ','\u001b[0m\n",
      "\u001b[31m169.254.255.130 - - [10/Nov/2019:10:00:39 +0000] \"POST /invocations HTTP/1.1\" 200 12183 \"-\" \"Go-http-client/1.1\"\u001b[0m\n",
      "\u001b[31m[2019-11-10:10:00:39:INFO] Determined delimiter of CSV input is ','\u001b[0m\n",
      "\u001b[32m169.254.255.130 - - [10/Nov/2019:10:00:39 +0000] \"POST /invocations HTTP/1.1\" 200 12183 \"-\" \"Go-http-client/1.1\"\u001b[0m\n",
      "\u001b[32m[2019-11-10:10:00:39:INFO] Determined delimiter of CSV input is ','\u001b[0m\n",
      "\u001b[31m169.254.255.130 - - [10/Nov/2019:10:00:42 +0000] \"POST /invocations HTTP/1.1\" 200 12207 \"-\" \"Go-http-client/1.1\"\u001b[0m\n",
      "\u001b[31m[2019-11-10:10:00:42:INFO] Determined delimiter of CSV input is ','\u001b[0m\n",
      "\u001b[31m169.254.255.130 - - [10/Nov/2019:10:00:42 +0000] \"POST /invocations HTTP/1.1\" 200 12203 \"-\" \"Go-http-client/1.1\"\u001b[0m\n",
      "\u001b[31m[2019-11-10:10:00:42:INFO] Determined delimiter of CSV input is ','\u001b[0m\n",
      "\u001b[31m[2019-11-10:10:00:42:INFO] Determined delimiter of CSV input is ','\u001b[0m\n",
      "\u001b[32m169.254.255.130 - - [10/Nov/2019:10:00:42 +0000] \"POST /invocations HTTP/1.1\" 200 12207 \"-\" \"Go-http-client/1.1\"\u001b[0m\n",
      "\u001b[32m[2019-11-10:10:00:42:INFO] Determined delimiter of CSV input is ','\u001b[0m\n",
      "\u001b[32m169.254.255.130 - - [10/Nov/2019:10:00:42 +0000] \"POST /invocations HTTP/1.1\" 200 12203 \"-\" \"Go-http-client/1.1\"\u001b[0m\n",
      "\u001b[32m[2019-11-10:10:00:42:INFO] Determined delimiter of CSV input is ','\u001b[0m\n",
      "\u001b[32m[2019-11-10:10:00:42:INFO] Determined delimiter of CSV input is ','\u001b[0m\n",
      "\u001b[31m[2019-11-10:10:00:43:INFO] Determined delimiter of CSV input is ','\u001b[0m\n",
      "\u001b[32m[2019-11-10:10:00:43:INFO] Determined delimiter of CSV input is ','\u001b[0m\n",
      "\u001b[31m169.254.255.130 - - [10/Nov/2019:10:00:46 +0000] \"POST /invocations HTTP/1.1\" 200 12192 \"-\" \"Go-http-client/1.1\"\u001b[0m\n",
      "\u001b[32m169.254.255.130 - - [10/Nov/2019:10:00:46 +0000] \"POST /invocations HTTP/1.1\" 200 12192 \"-\" \"Go-http-client/1.1\"\u001b[0m\n",
      "\u001b[31m169.254.255.130 - - [10/Nov/2019:10:00:46 +0000] \"POST /invocations HTTP/1.1\" 200 12179 \"-\" \"Go-http-client/1.1\"\u001b[0m\n",
      "\u001b[31m169.254.255.130 - - [10/Nov/2019:10:00:46 +0000] \"POST /invocations HTTP/1.1\" 200 12184 \"-\" \"Go-http-client/1.1\"\u001b[0m\n",
      "\u001b[31m[2019-11-10:10:00:46:INFO] Determined delimiter of CSV input is ','\u001b[0m\n",
      "\u001b[31m[2019-11-10:10:00:46:INFO] Determined delimiter of CSV input is ','\u001b[0m\n",
      "\u001b[31m169.254.255.130 - - [10/Nov/2019:10:00:46 +0000] \"POST /invocations HTTP/1.1\" 200 12195 \"-\" \"Go-http-client/1.1\"\u001b[0m\n",
      "\u001b[31m[2019-11-10:10:00:46:INFO] Determined delimiter of CSV input is ','\u001b[0m\n",
      "\u001b[31m[2019-11-10:10:00:46:INFO] Determined delimiter of CSV input is ','\u001b[0m\n",
      "\u001b[32m169.254.255.130 - - [10/Nov/2019:10:00:46 +0000] \"POST /invocations HTTP/1.1\" 200 12179 \"-\" \"Go-http-client/1.1\"\u001b[0m\n",
      "\u001b[32m169.254.255.130 - - [10/Nov/2019:10:00:46 +0000] \"POST /invocations HTTP/1.1\" 200 12184 \"-\" \"Go-http-client/1.1\"\u001b[0m\n",
      "\u001b[32m[2019-11-10:10:00:46:INFO] Determined delimiter of CSV input is ','\u001b[0m\n",
      "\u001b[32m[2019-11-10:10:00:46:INFO] Determined delimiter of CSV input is ','\u001b[0m\n",
      "\u001b[32m169.254.255.130 - - [10/Nov/2019:10:00:46 +0000] \"POST /invocations HTTP/1.1\" 200 12195 \"-\" \"Go-http-client/1.1\"\u001b[0m\n",
      "\u001b[32m[2019-11-10:10:00:46:INFO] Determined delimiter of CSV input is ','\u001b[0m\n",
      "\u001b[32m[2019-11-10:10:00:46:INFO] Determined delimiter of CSV input is ','\u001b[0m\n",
      "\n",
      "\u001b[31m[2019-11-10:10:00:50:INFO] Determined delimiter of CSV input is ','\u001b[0m\n",
      "\u001b[32m[2019-11-10:10:00:50:INFO] Determined delimiter of CSV input is ','\u001b[0m\n",
      "\u001b[31m169.254.255.130 - - [10/Nov/2019:10:00:52 +0000] \"POST /invocations HTTP/1.1\" 200 12203 \"-\" \"Go-http-client/1.1\"\u001b[0m\n",
      "\u001b[31m[2019-11-10:10:00:53:INFO] Determined delimiter of CSV input is ','\u001b[0m\n",
      "\u001b[31m169.254.255.130 - - [10/Nov/2019:10:00:53 +0000] \"POST /invocations HTTP/1.1\" 200 12163 \"-\" \"Go-http-client/1.1\"\u001b[0m\n",
      "\u001b[31m169.254.255.130 - - [10/Nov/2019:10:00:53 +0000] \"POST /invocations HTTP/1.1\" 200 12192 \"-\" \"Go-http-client/1.1\"\u001b[0m\n",
      "\u001b[31m169.254.255.130 - - [10/Nov/2019:10:00:53 +0000] \"POST /invocations HTTP/1.1\" 200 12169 \"-\" \"Go-http-client/1.1\"\u001b[0m\n",
      "\u001b[31m[2019-11-10:10:00:53:INFO] Determined delimiter of CSV input is ','\u001b[0m\n",
      "\u001b[31m[2019-11-10:10:00:53:INFO] Determined delimiter of CSV input is ','\u001b[0m\n",
      "\u001b[31m[2019-11-10:10:00:53:INFO] Determined delimiter of CSV input is ','\u001b[0m\n",
      "\u001b[32m169.254.255.130 - - [10/Nov/2019:10:00:52 +0000] \"POST /invocations HTTP/1.1\" 200 12203 \"-\" \"Go-http-client/1.1\"\u001b[0m\n",
      "\u001b[32m[2019-11-10:10:00:53:INFO] Determined delimiter of CSV input is ','\u001b[0m\n",
      "\u001b[32m169.254.255.130 - - [10/Nov/2019:10:00:53 +0000] \"POST /invocations HTTP/1.1\" 200 12163 \"-\" \"Go-http-client/1.1\"\u001b[0m\n",
      "\u001b[32m169.254.255.130 - - [10/Nov/2019:10:00:53 +0000] \"POST /invocations HTTP/1.1\" 200 12192 \"-\" \"Go-http-client/1.1\"\u001b[0m\n",
      "\u001b[32m169.254.255.130 - - [10/Nov/2019:10:00:53 +0000] \"POST /invocations HTTP/1.1\" 200 12169 \"-\" \"Go-http-client/1.1\"\u001b[0m\n",
      "\u001b[32m[2019-11-10:10:00:53:INFO] Determined delimiter of CSV input is ','\u001b[0m\n",
      "\u001b[32m[2019-11-10:10:00:53:INFO] Determined delimiter of CSV input is ','\u001b[0m\n",
      "\u001b[32m[2019-11-10:10:00:53:INFO] Determined delimiter of CSV input is ','\u001b[0m\n",
      "\u001b[31m169.254.255.130 - - [10/Nov/2019:10:00:56 +0000] \"POST /invocations HTTP/1.1\" 200 12159 \"-\" \"Go-http-client/1.1\"\u001b[0m\n",
      "\u001b[32m169.254.255.130 - - [10/Nov/2019:10:00:56 +0000] \"POST /invocations HTTP/1.1\" 200 12159 \"-\" \"Go-http-client/1.1\"\u001b[0m\n",
      "\u001b[31m[2019-11-10:10:00:56:INFO] Determined delimiter of CSV input is ','\u001b[0m\n",
      "\u001b[31m169.254.255.130 - - [10/Nov/2019:10:00:56 +0000] \"POST /invocations HTTP/1.1\" 200 12195 \"-\" \"Go-http-client/1.1\"\u001b[0m\n",
      "\u001b[31m169.254.255.130 - - [10/Nov/2019:10:00:56 +0000] \"POST /invocations HTTP/1.1\" 200 12214 \"-\" \"Go-http-client/1.1\"\u001b[0m\n",
      "\u001b[31m169.254.255.130 - - [10/Nov/2019:10:00:56 +0000] \"POST /invocations HTTP/1.1\" 200 12171 \"-\" \"Go-http-client/1.1\"\u001b[0m\n",
      "\u001b[32m[2019-11-10:10:00:56:INFO] Determined delimiter of CSV input is ','\u001b[0m\n",
      "\u001b[32m169.254.255.130 - - [10/Nov/2019:10:00:56 +0000] \"POST /invocations HTTP/1.1\" 200 12195 \"-\" \"Go-http-client/1.1\"\u001b[0m\n",
      "\u001b[32m169.254.255.130 - - [10/Nov/2019:10:00:56 +0000] \"POST /invocations HTTP/1.1\" 200 12214 \"-\" \"Go-http-client/1.1\"\u001b[0m\n",
      "\u001b[32m169.254.255.130 - - [10/Nov/2019:10:00:56 +0000] \"POST /invocations HTTP/1.1\" 200 12171 \"-\" \"Go-http-client/1.1\"\u001b[0m\n",
      "\u001b[31m[2019-11-10:10:00:56:INFO] Determined delimiter of CSV input is ','\u001b[0m\n",
      "\u001b[31m[2019-11-10:10:00:57:INFO] Determined delimiter of CSV input is ','\u001b[0m\n",
      "\u001b[31m[2019-11-10:10:00:57:INFO] Determined delimiter of CSV input is ','\u001b[0m\n",
      "\u001b[32m[2019-11-10:10:00:56:INFO] Determined delimiter of CSV input is ','\u001b[0m\n",
      "\u001b[32m[2019-11-10:10:00:57:INFO] Determined delimiter of CSV input is ','\u001b[0m\n",
      "\u001b[32m[2019-11-10:10:00:57:INFO] Determined delimiter of CSV input is ','\u001b[0m\n",
      "\u001b[31m169.254.255.130 - - [10/Nov/2019:10:00:59 +0000] \"POST /invocations HTTP/1.1\" 200 12203 \"-\" \"Go-http-client/1.1\"\u001b[0m\n",
      "\u001b[32m169.254.255.130 - - [10/Nov/2019:10:00:59 +0000] \"POST /invocations HTTP/1.1\" 200 12203 \"-\" \"Go-http-client/1.1\"\u001b[0m\n",
      "\u001b[31m[2019-11-10:10:01:00:INFO] Determined delimiter of CSV input is ','\u001b[0m\n",
      "\u001b[31m169.254.255.130 - - [10/Nov/2019:10:01:00 +0000] \"POST /invocations HTTP/1.1\" 200 12219 \"-\" \"Go-http-client/1.1\"\u001b[0m\n",
      "\u001b[31m169.254.255.130 - - [10/Nov/2019:10:01:00 +0000] \"POST /invocations HTTP/1.1\" 200 12166 \"-\" \"Go-http-client/1.1\"\u001b[0m\n",
      "\u001b[31m169.254.255.130 - - [10/Nov/2019:10:01:00 +0000] \"POST /invocations HTTP/1.1\" 200 12205 \"-\" \"Go-http-client/1.1\"\u001b[0m\n",
      "\u001b[31m[2019-11-10:10:01:00:INFO] Determined delimiter of CSV input is ','\u001b[0m\n",
      "\u001b[31m[2019-11-10:10:01:00:INFO] Determined delimiter of CSV input is ','\u001b[0m\n",
      "\u001b[31m[2019-11-10:10:01:00:INFO] Determined delimiter of CSV input is ','\u001b[0m\n",
      "\u001b[32m[2019-11-10:10:01:00:INFO] Determined delimiter of CSV input is ','\u001b[0m\n",
      "\u001b[32m169.254.255.130 - - [10/Nov/2019:10:01:00 +0000] \"POST /invocations HTTP/1.1\" 200 12219 \"-\" \"Go-http-client/1.1\"\u001b[0m\n",
      "\u001b[32m169.254.255.130 - - [10/Nov/2019:10:01:00 +0000] \"POST /invocations HTTP/1.1\" 200 12166 \"-\" \"Go-http-client/1.1\"\u001b[0m\n",
      "\u001b[32m169.254.255.130 - - [10/Nov/2019:10:01:00 +0000] \"POST /invocations HTTP/1.1\" 200 12205 \"-\" \"Go-http-client/1.1\"\u001b[0m\n",
      "\u001b[32m[2019-11-10:10:01:00:INFO] Determined delimiter of CSV input is ','\u001b[0m\n",
      "\u001b[32m[2019-11-10:10:01:00:INFO] Determined delimiter of CSV input is ','\u001b[0m\n",
      "\u001b[32m[2019-11-10:10:01:00:INFO] Determined delimiter of CSV input is ','\u001b[0m\n"
     ]
    }
   ],
   "source": [
    "xgb_transformer.wait()"
   ]
  },
  {
   "cell_type": "markdown",
   "metadata": {},
   "source": [
    "Now the transform job has executed and the result, the estimated sentiment of each review, has been saved on S3. Since we would rather work on this file locally we can perform a bit of notebook magic to copy the file to the `data_dir`."
   ]
  },
  {
   "cell_type": "code",
   "execution_count": 29,
   "metadata": {},
   "outputs": [
    {
     "name": "stdout",
     "output_type": "stream",
     "text": [
      "download: s3://sagemaker-eu-central-1-601949536922/sagemaker-xgboost-2019-11-10-09-57-02-122/test.csv.out to ../data/sentiment_web_app/test.csv.out\n"
     ]
    }
   ],
   "source": [
    "!aws s3 cp --recursive $xgb_transformer.output_path $data_dir"
   ]
  },
  {
   "cell_type": "markdown",
   "metadata": {},
   "source": [
    "The last step is now to read in the output from our model, convert the output to something a little more usable, in this case we want the sentiment to be either `1` (positive) or `0` (negative), and then compare to the ground truth labels."
   ]
  },
  {
   "cell_type": "code",
   "execution_count": 30,
   "metadata": {},
   "outputs": [],
   "source": [
    "predictions = pd.read_csv(os.path.join(data_dir, 'test.csv.out'), header=None)\n",
    "predictions = [round(num) for num in predictions.squeeze().values]"
   ]
  },
  {
   "cell_type": "code",
   "execution_count": 31,
   "metadata": {},
   "outputs": [
    {
     "data": {
      "text/plain": [
       "0.85248"
      ]
     },
     "execution_count": 31,
     "metadata": {},
     "output_type": "execute_result"
    }
   ],
   "source": [
    "from sklearn.metrics import accuracy_score\n",
    "accuracy_score(test_y, predictions)"
   ]
  },
  {
   "cell_type": "markdown",
   "metadata": {},
   "source": [
    "## Step 6: Deploying the model\n",
    "\n",
    "Once we construct and fit our model, SageMaker stores the resulting model artifacts and we can use those to deploy an endpoint (inference code). To see this, look in the SageMaker console and you should see that a model has been created along with a link to the S3 location where the model artifacts have been stored.\n",
    "\n",
    "Deploying an endpoint is a lot like training the model with a few important differences. The first is that a deployed model doesn't change the model artifacts, so as you send it various testing instances the model won't change. Another difference is that since we aren't performing a fixed computation, as we were in the training step or while performing a batch transform, the compute instance that gets started stays running until we tell it to stop. This is important to note as if we forget and leave it running we will be charged the entire time.\n",
    "\n",
    "In other words **If you are no longer using a deployed endpoint, shut it down!**"
   ]
  },
  {
   "cell_type": "code",
   "execution_count": 32,
   "metadata": {},
   "outputs": [
    {
     "name": "stderr",
     "output_type": "stream",
     "text": [
      "WARNING:sagemaker:Using already existing model: sagemaker-xgboost-2019-11-10-09-50-52-856\n"
     ]
    },
    {
     "name": "stdout",
     "output_type": "stream",
     "text": [
      "--------------------------------------------------------------------------------------------------!"
     ]
    }
   ],
   "source": [
    "xgb_predictor = xgb.deploy(initial_instance_count = 1, instance_type = 'ml.m4.xlarge')"
   ]
  },
  {
   "cell_type": "markdown",
   "metadata": {},
   "source": [
    "### Testing the model (again)\n",
    "\n",
    "Now that we have deployed our endpoint, we can send the testing data to it and get back the inference results. We already did this earlier using the batch transform functionality of SageMaker, however, we will test our model again using the newly deployed endpoint so that we can make sure that it works properly and to get a bit of a feel for how the endpoint works.\n",
    "\n",
    "When using the created endpoint it is important to know that we are limited in the amount of information we can send in each call so we need to break the testing data up into chunks and then send each chunk. Also, we need to serialize our data before we send it to the endpoint to ensure that our data is transmitted properly. Fortunately, SageMaker can do the serialization part for us provided we tell it the format of our data."
   ]
  },
  {
   "cell_type": "code",
   "execution_count": 33,
   "metadata": {},
   "outputs": [],
   "source": [
    "from sagemaker.predictor import csv_serializer\n",
    "\n",
    "# We need to tell the endpoint what format the data we are sending is in so that SageMaker can perform the serialization.\n",
    "xgb_predictor.content_type = 'text/csv'\n",
    "xgb_predictor.serializer = csv_serializer"
   ]
  },
  {
   "cell_type": "code",
   "execution_count": 34,
   "metadata": {},
   "outputs": [],
   "source": [
    "# We split the data into chunks and send each chunk seperately, accumulating the results.\n",
    "\n",
    "def predict(data, rows=512):\n",
    "    split_array = np.array_split(data, int(data.shape[0] / float(rows) + 1))\n",
    "    predictions = ''\n",
    "    for array in split_array:\n",
    "        predictions = ','.join([predictions, xgb_predictor.predict(array).decode('utf-8')])\n",
    "    \n",
    "    return np.fromstring(predictions[1:], sep=',')"
   ]
  },
  {
   "cell_type": "code",
   "execution_count": 35,
   "metadata": {},
   "outputs": [],
   "source": [
    "test_X = pd.read_csv(os.path.join(data_dir, 'test.csv'), header=None).values\n",
    "\n",
    "predictions = predict(test_X)\n",
    "predictions = [round(num) for num in predictions]"
   ]
  },
  {
   "cell_type": "markdown",
   "metadata": {},
   "source": [
    "Lastly, we check to see what the accuracy of our model is."
   ]
  },
  {
   "cell_type": "code",
   "execution_count": 36,
   "metadata": {},
   "outputs": [
    {
     "data": {
      "text/plain": [
       "0.85248"
      ]
     },
     "execution_count": 36,
     "metadata": {},
     "output_type": "execute_result"
    }
   ],
   "source": [
    "from sklearn.metrics import accuracy_score\n",
    "accuracy_score(test_y, predictions)"
   ]
  },
  {
   "cell_type": "markdown",
   "metadata": {},
   "source": [
    "And the results here should agree with the model testing that we did earlier using the batch transform job.\n",
    "\n",
    "### Cleaning up\n",
    "\n",
    "Now that we've determined that deploying our model works as expected, we are going to shut it down. Remember that the longer the endpoint is left running, the greater the cost and since we have a bit more work to do before we are able to use our endpoint with our simple web app, we should shut everything down."
   ]
  },
  {
   "cell_type": "code",
   "execution_count": 37,
   "metadata": {},
   "outputs": [],
   "source": [
    "xgb_predictor.delete_endpoint()"
   ]
  },
  {
   "cell_type": "markdown",
   "metadata": {},
   "source": [
    "## Step 7: Putting our model to work\n",
    "\n",
    "As we've mentioned a few times now, our goal is to have our model deployed and then access it using a very simple web app. The intent is for this web app to take some user submitted data (a review), send it off to our endpoint (the model) and then display the result.\n",
    "\n",
    "However, there is a small catch. Currently the only way we can access the endpoint to send it data is using the SageMaker API. We can, if we wish, expose the actual URL that our model's endpoint is receiving data from, however, if we just send it data ourselves we will not get anything in return. This is because the endpoint created by SageMaker requires the entity accessing it have the correct permissions. So, we would need to somehow authenticate our web app with AWS.\n",
    "\n",
    "Having a website that authenticates to AWS seems a bit beyond the scope of this lesson so we will opt for an alternative approach. Namely, we will create a new endpoint which does not require authentication and which acts as a proxy for the SageMaker endpoint.\n",
    "\n",
    "As an additional constraint, we will try to avoid doing any data processing in the web app itself. Remember that when we constructed and tested our model we started with a movie review, then we simplified it by removing any html formatting and punctuation, then we constructed a bag of words embedding and the resulting vector is what we sent to our model. All of this needs to be done to our user input as well.\n",
    "\n",
    "Fortunately we can do all of this data processing in the backend, using Amazon's Lambda service.\n",
    "\n",
    "<img src=\"Web App Diagram.svg\">\n",
    "\n",
    "The diagram above gives an overview of how the various services will work together. On the far right is the model which we trained above and which will be deployed using SageMaker. On the far left is our web app that collects a user's movie review, sends it off and expects a positive or negative sentiment in return.\n",
    "\n",
    "In the middle is where some of the magic happens. We will construct a Lambda function, which you can think of as a straightforward Python function that can be executed whenever a specified event occurs. This Python function will do the data processing we need to perform on a user submitted review. In addition, we will give this function permission to send and recieve data from a SageMaker endpoint.\n",
    "\n",
    "Lastly, the method we will use to execute the Lambda function is a new endpoint that we will create using API Gateway. This endpoint will be a url that listens for data to be sent to it. Once it gets some data it will pass that data on to the Lambda function and then return whatever the Lambda function returns. Essentially it will act as an interface that lets our web app communicate with the Lambda function.\n",
    "\n",
    "### Processing a single review\n",
    "\n",
    "For now, suppose we are given a movie review by our user in the form of a string, like so:"
   ]
  },
  {
   "cell_type": "code",
   "execution_count": 39,
   "metadata": {},
   "outputs": [],
   "source": [
    "test_review = \"Nothing but a disgusting materialistic pageant of glistening abed remote control greed zombies, totally devoid of any heart or heat. A romantic comedy that has zero romantic chemestry and zero laughs!\""
   ]
  },
  {
   "cell_type": "markdown",
   "metadata": {},
   "source": [
    "How do we go from this string to the bag of words feature vector that is expected by our model?\n",
    "\n",
    "If we recall at the beginning of this notebook, the first step is to remove any unnecessary characters using the `review_to_words` method. Remember that we intentionally did this in a very simplistic way. This is because we are going to have to copy this method to our (eventual) Lambda function (we will go into more detail later) and this means it needs to be rather simplistic."
   ]
  },
  {
   "cell_type": "code",
   "execution_count": 43,
   "metadata": {},
   "outputs": [
    {
     "name": "stdout",
     "output_type": "stream",
     "text": [
      "nothing but a disgusting materialistic pageant of glistening abed remote control greed zombies totally devoid of any heart or heat a romantic comedy that has zero romantic chemestry and zero laughs\n"
     ]
    }
   ],
   "source": [
    "test_words = review_to_words(test_review)\n",
    "print(test_words)"
   ]
  },
  {
   "cell_type": "markdown",
   "metadata": {},
   "source": [
    "Next, we need to construct a bag of words embedding of the `test_words` string. To do this, remember that a bag of words embedding uses a `vocabulary` consisting of the most frequently appearing words in a set of documents. Then, for each word in the vocabulary we record the number of times that word appears in `test_words`. We constructed the `vocabulary` earlier using the training set for our problem so encoding `test_words` is relatively straightforward."
   ]
  },
  {
   "cell_type": "code",
   "execution_count": 45,
   "metadata": {},
   "outputs": [],
   "source": [
    "def bow_encoding(words, vocabulary):\n",
    "    bow = [0] * len(vocabulary) # Start by setting the count for each word in the vocabulary to zero.\n",
    "    for word in words.split():  # For each word in the string\n",
    "        if word in vocabulary:  # If the word is one that occurs in the vocabulary, increase its count.\n",
    "            bow[vocabulary[word]] += 1\n",
    "    return bow"
   ]
  },
  {
   "cell_type": "code",
   "execution_count": 46,
   "metadata": {
    "collapsed": true,
    "jupyter": {
     "outputs_hidden": true
    }
   },
   "outputs": [
    {
     "name": "stdout",
     "output_type": "stream",
     "text": [
      "[0, 0, 0, 0, 0, 0, 0, 0, 0, 0, 0, 0, 0, 0, 0, 0, 0, 0, 0, 0, 0, 0, 0, 0, 0, 0, 0, 0, 0, 0, 0, 0, 0, 0, 0, 0, 0, 0, 0, 0, 0, 0, 0, 0, 0, 0, 0, 0, 0, 0, 0, 0, 0, 0, 0, 0, 0, 0, 0, 0, 0, 0, 0, 0, 0, 0, 0, 0, 0, 0, 0, 0, 0, 0, 0, 0, 0, 0, 0, 0, 0, 0, 0, 0, 0, 0, 0, 0, 0, 0, 0, 0, 0, 0, 0, 0, 0, 0, 0, 0, 0, 0, 0, 0, 0, 0, 0, 0, 0, 0, 0, 0, 0, 0, 0, 0, 0, 0, 0, 0, 0, 0, 0, 0, 0, 0, 0, 0, 0, 0, 0, 0, 0, 0, 0, 0, 0, 0, 0, 0, 0, 0, 0, 0, 0, 0, 0, 0, 0, 0, 0, 0, 0, 0, 0, 0, 0, 0, 0, 0, 0, 0, 0, 0, 0, 0, 0, 0, 0, 0, 0, 0, 0, 0, 0, 0, 0, 0, 0, 0, 0, 0, 0, 0, 0, 0, 0, 0, 0, 0, 0, 0, 0, 0, 0, 0, 0, 0, 0, 0, 0, 0, 0, 0, 0, 0, 0, 0, 0, 0, 0, 0, 0, 0, 0, 0, 0, 0, 0, 0, 0, 0, 0, 0, 0, 0, 1, 0, 0, 0, 0, 0, 0, 0, 0, 0, 0, 0, 0, 0, 0, 0, 0, 0, 0, 0, 0, 0, 0, 0, 0, 0, 0, 0, 0, 0, 1, 0, 0, 0, 0, 0, 0, 0, 0, 0, 0, 0, 0, 0, 0, 0, 0, 0, 0, 0, 0, 0, 0, 0, 0, 0, 0, 0, 0, 0, 0, 0, 0, 0, 0, 0, 0, 0, 0, 0, 0, 0, 0, 0, 0, 0, 0, 0, 0, 0, 0, 0, 0, 0, 0, 0, 0, 0, 0, 0, 0, 0, 0, 0, 0, 0, 0, 0, 0, 0, 0, 0, 0, 0, 0, 0, 0, 0, 0, 0, 0, 0, 0, 0, 0, 0, 0, 0, 0, 0, 0, 0, 0, 0, 0, 0, 0, 0, 0, 0, 0, 0, 0, 0, 0, 0, 0, 0, 0, 0, 0, 0, 0, 0, 0, 0, 0, 0, 0, 0, 0, 0, 0, 0, 0, 0, 0, 0, 0, 0, 0, 0, 0, 0, 0, 0, 0, 0, 0, 0, 0, 0, 0, 0, 0, 0, 0, 0, 0, 0, 0, 0, 0, 0, 0, 0, 0, 0, 0, 0, 0, 0, 0, 0, 0, 0, 0, 0, 0, 0, 0, 0, 0, 0, 0, 0, 0, 0, 0, 0, 0, 0, 0, 0, 0, 0, 0, 0, 0, 0, 0, 0, 0, 0, 0, 0, 0, 0, 0, 0, 0, 0, 0, 0, 0, 0, 0, 0, 0, 0, 0, 0, 0, 0, 0, 0, 0, 0, 0, 0, 0, 0, 0, 0, 0, 0, 0, 0, 0, 0, 0, 0, 0, 0, 0, 0, 0, 0, 0, 0, 0, 0, 0, 0, 0, 0, 0, 0, 0, 0, 0, 0, 0, 0, 0, 0, 0, 0, 0, 0, 0, 0, 0, 0, 0, 0, 0, 0, 0, 0, 0, 0, 0, 0, 0, 0, 0, 0, 0, 0, 0, 0, 0, 0, 0, 0, 0, 0, 0, 0, 0, 0, 0, 0, 0, 0, 0, 0, 0, 0, 0, 0, 0, 0, 0, 0, 0, 0, 0, 0, 0, 0, 0, 0, 0, 0, 0, 0, 0, 0, 0, 0, 0, 0, 0, 0, 0, 0, 0, 0, 0, 0, 0, 0, 0, 0, 0, 0, 0, 0, 0, 0, 0, 0, 0, 0, 0, 0, 0, 0, 0, 0, 0, 0, 0, 0, 0, 0, 0, 0, 0, 0, 0, 0, 0, 0, 0, 0, 0, 0, 0, 0, 0, 0, 0, 0, 0, 0, 0, 0, 1, 0, 0, 0, 0, 0, 0, 0, 0, 0, 0, 0, 0, 0, 0, 0, 0, 0, 0, 0, 0, 0, 0, 0, 0, 0, 0, 0, 0, 0, 0, 0, 0, 0, 0, 0, 0, 0, 0, 0, 0, 0, 0, 0, 0, 0, 0, 0, 0, 0, 0, 0, 0, 0, 0, 0, 0, 0, 0, 0, 0, 0, 0, 0, 0, 0, 0, 0, 0, 0, 0, 0, 0, 0, 0, 0, 0, 0, 0, 0, 0, 0, 0, 0, 0, 0, 0, 0, 0, 0, 0, 0, 0, 0, 0, 0, 0, 0, 0, 0, 0, 0, 0, 0, 0, 0, 0, 0, 0, 0, 0, 0, 0, 0, 0, 0, 0, 0, 0, 0, 0, 0, 0, 0, 0, 0, 0, 0, 0, 0, 0, 0, 0, 0, 0, 0, 0, 0, 0, 0, 0, 0, 0, 0, 0, 0, 0, 0, 0, 0, 0, 0, 0, 0, 0, 0, 0, 0, 0, 0, 0, 0, 0, 0, 0, 0, 0, 0, 0, 0, 0, 0, 0, 0, 0, 0, 0, 0, 0, 0, 0, 0, 0, 0, 0, 0, 0, 0, 0, 0, 0, 0, 0, 0, 0, 0, 0, 0, 0, 0, 0, 0, 0, 0, 0, 0, 0, 0, 0, 0, 0, 0, 0, 0, 0, 0, 0, 0, 0, 0, 0, 0, 0, 0, 0, 0, 0, 0, 0, 0, 0, 0, 0, 0, 0, 0, 0, 0, 0, 0, 0, 0, 0, 0, 0, 0, 0, 0, 0, 0, 0, 0, 0, 0, 1, 0, 0, 0, 0, 0, 0, 0, 0, 0, 0, 0, 0, 0, 0, 0, 0, 0, 0, 0, 0, 0, 0, 0, 0, 0, 0, 0, 0, 0, 0, 0, 0, 0, 0, 0, 0, 0, 0, 0, 0, 0, 0, 0, 0, 0, 0, 0, 0, 0, 0, 0, 0, 0, 0, 0, 0, 0, 0, 0, 0, 0, 0, 0, 0, 0, 0, 0, 0, 0, 0, 0, 0, 0, 0, 0, 0, 0, 0, 0, 0, 0, 0, 0, 0, 0, 0, 1, 0, 0, 0, 0, 0, 0, 0, 0, 0, 0, 0, 0, 0, 0, 0, 0, 0, 0, 0, 0, 0, 0, 0, 0, 0, 0, 0, 0, 0, 0, 0, 0, 0, 0, 0, 0, 0, 0, 0, 0, 0, 0, 0, 0, 0, 0, 0, 0, 0, 0, 0, 0, 0, 0, 0, 0, 0, 0, 0, 0, 0, 0, 0, 0, 0, 0, 0, 0, 0, 0, 0, 0, 0, 0, 0, 0, 0, 0, 0, 0, 0, 0, 0, 0, 0, 0, 0, 0, 0, 0, 0, 0, 0, 0, 0, 0, 0, 0, 0, 0, 0, 0, 0, 0, 0, 0, 0, 0, 0, 0, 0, 0, 0, 0, 0, 0, 0, 0, 0, 0, 0, 0, 0, 0, 0, 0, 0, 0, 0, 0, 0, 0, 0, 0, 0, 0, 0, 0, 0, 0, 0, 0, 0, 0, 0, 0, 0, 0, 0, 0, 0, 0, 0, 0, 0, 0, 0, 0, 0, 0, 0, 0, 0, 0, 0, 0, 0, 0, 0, 0, 0, 0, 0, 0, 0, 0, 0, 0, 0, 0, 0, 0, 0, 0, 0, 0, 0, 0, 0, 0, 0, 0, 0, 0, 0, 0, 0, 0, 0, 0, 0, 0, 0, 0, 0, 0, 0, 0, 0, 0, 0, 0, 0, 0, 0, 0, 0, 0, 0, 0, 0, 0, 0, 0, 0, 0, 0, 0, 0, 0, 0, 0, 0, 0, 0, 0, 0, 0, 0, 0, 0, 0, 0, 0, 0, 0, 0, 0, 0, 0, 0, 0, 1, 0, 0, 0, 0, 0, 0, 0, 0, 0, 0, 0, 0, 0, 0, 0, 0, 0, 0, 0, 0, 0, 0, 0, 0, 0, 0, 0, 0, 0, 0, 0, 0, 0, 0, 0, 0, 0, 0, 0, 0, 0, 0, 0, 0, 0, 0, 0, 0, 0, 0, 0, 0, 0, 0, 0, 1, 0, 0, 0, 0, 0, 0, 0, 0, 0, 0, 0, 0, 0, 0, 0, 0, 0, 0, 0, 0, 0, 0, 0, 0, 0, 0, 0, 0, 0, 0, 0, 0, 0, 0, 0, 0, 0, 0, 0, 0, 0, 0, 0, 0, 0, 0, 0, 0, 0, 0, 0, 0, 0, 0, 0, 0, 0, 0, 0, 0, 0, 0, 0, 0, 0, 0, 0, 0, 0, 0, 0, 0, 0, 0, 0, 0, 0, 0, 0, 0, 0, 0, 0, 0, 0, 0, 0, 0, 0, 0, 0, 0, 0, 0, 0, 0, 0, 0, 0, 0, 0, 0, 0, 0, 0, 0, 0, 0, 0, 0, 0, 0, 0, 0, 0, 0, 0, 0, 0, 0, 0, 0, 0, 0, 0, 0, 0, 0, 0, 0, 0, 0, 0, 0, 0, 0, 0, 0, 0, 0, 0, 0, 0, 0, 0, 0, 0, 0, 0, 0, 0, 0, 0, 0, 0, 0, 0, 0, 0, 0, 0, 0, 0, 0, 0, 0, 0, 0, 0, 0, 0, 0, 0, 0, 0, 0, 0, 0, 0, 0, 0, 0, 0, 0, 0, 0, 0, 0, 0, 0, 0, 0, 0, 0, 0, 0, 0, 0, 0, 0, 0, 0, 0, 0, 0, 0, 0, 0, 0, 0, 0, 0, 0, 0, 0, 0, 0, 0, 0, 0, 0, 0, 0, 0, 0, 0, 0, 0, 0, 0, 0, 0, 0, 0, 0, 0, 0, 0, 0, 0, 0, 0, 0, 0, 0, 0, 0, 0, 0, 0, 0, 0, 0, 0, 0, 0, 0, 0, 0, 0, 0, 0, 0, 0, 0, 0, 0, 0, 0, 0, 0, 0, 0, 0, 0, 0, 0, 0, 0, 0, 0, 0, 0, 0, 0, 0, 0, 0, 0, 0, 0, 0, 0, 0, 0, 0, 0, 0, 0, 0, 0, 0, 0, 0, 0, 0, 0, 0, 0, 0, 0, 0, 0, 0, 0, 0, 0, 0, 0, 0, 0, 0, 0, 0, 0, 0, 0, 0, 0, 0, 0, 0, 0, 0, 0, 0, 0, 0, 0, 0, 0, 0, 0, 0, 0, 0, 0, 0, 0, 0, 0, 0, 0, 0, 0, 0, 0, 0, 0, 0, 0, 0, 0, 0, 0, 0, 0, 0, 0, 0, 0, 0, 0, 0, 0, 0, 0, 0, 0, 0, 0, 0, 0, 0, 0, 0, 0, 0, 0, 0, 0, 0, 0, 0, 0, 0, 0, 0, 0, 0, 0, 0, 0, 0, 0, 0, 0, 0, 0, 0, 0, 0, 0, 0, 0, 0, 0, 0, 0, 0, 0, 0, 0, 0, 0, 0, 0, 0, 0, 0, 0, 0, 0, 0, 0, 0, 0, 0, 0, 0, 0, 0, 0, 0, 0, 0, 0, 0, 0, 0, 0, 0, 0, 0, 0, 0, 0, 0, 0, 0, 0, 0, 0, 0, 0, 0, 0, 0, 0, 0, 0, 0, 0, 0, 0, 0, 0, 0, 0, 0, 0, 0, 0, 0, 0, 0, 0, 0, 0, 0, 0, 0, 0, 0, 0, 0, 0, 0, 0, 0, 0, 0, 0, 0, 0, 0, 0, 0, 0, 0, 0, 0, 0, 0, 0, 0, 0, 0, 0, 0, 0, 0, 0, 0, 0, 0, 0, 0, 0, 0, 0, 0, 0, 0, 0, 0, 0, 0, 0, 0, 0, 0, 0, 0, 0, 0, 0, 0, 0, 0, 0, 0, 0, 0, 0, 0, 0, 0, 0, 0, 0, 0, 0, 0, 0, 0, 0, 0, 0, 0, 0, 0, 0, 0, 0, 0, 0, 0, 0, 0, 0, 0, 0, 0, 0, 0, 0, 0, 0, 0, 0, 0, 0, 0, 0, 0, 0, 0, 0, 0, 0, 0, 0, 0, 0, 0, 0, 0, 0, 0, 0, 0, 0, 0, 0, 0, 0, 0, 0, 0, 0, 0, 0, 0, 0, 0, 0, 0, 0, 0, 0, 0, 0, 0, 0, 0, 0, 0, 0, 0, 0, 0, 0, 0, 0, 0, 0, 0, 0, 0, 0, 0, 0, 0, 0, 0, 0, 0, 0, 0, 0, 0, 0, 0, 0, 0, 0, 0, 0, 0, 0, 0, 0, 0, 0, 0, 0, 0, 0, 0, 0, 1, 0, 0, 0, 0, 0, 0, 0, 0, 0, 0, 0, 0, 0, 0, 0, 0, 0, 0, 0, 0, 0, 0, 0, 0, 0, 0, 0, 0, 0, 0, 0, 0, 0, 0, 0, 0, 0, 0, 0, 0, 0, 0, 0, 0, 0, 0, 0, 0, 0, 0, 0, 0, 0, 0, 0, 0, 0, 0, 0, 0, 0, 0, 0, 0, 0, 0, 0, 0, 0, 0, 0, 0, 0, 0, 1, 0, 0, 0, 0, 0, 0, 0, 0, 0, 0, 0, 0, 0, 0, 0, 0, 0, 0, 0, 0, 1, 0, 0, 1, 0, 0, 0, 0, 0, 0, 0, 0, 0, 0, 0, 0, 0, 0, 0, 0, 0, 0, 0, 0, 0, 0, 0, 0, 0, 0, 0, 0, 0, 0, 0, 0, 0, 0, 0, 0, 0, 0, 0, 0, 0, 0, 0, 0, 0, 0, 0, 0, 0, 0, 0, 0, 0, 0, 0, 0, 0, 0, 0, 0, 0, 0, 0, 0, 0, 0, 0, 0, 0, 0, 0, 0, 0, 0, 0, 0, 0, 0, 0, 0, 0, 0, 0, 0, 0, 0, 0, 0, 0, 0, 0, 0, 0, 0, 0, 0, 0, 0, 0, 0, 0, 0, 0, 0, 0, 0, 0, 0, 0, 0, 0, 0, 0, 0, 0, 0, 0, 0, 0, 0, 0, 0, 0, 0, 0, 0, 0, 0, 0, 0, 0, 0, 0, 0, 0, 0, 0, 0, 0, 0, 0, 0, 0, 0, 0, 0, 0, 0, 0, 0, 0, 0, 0, 0, 0, 0, 0, 0, 0, 0, 0, 0, 0, 0, 0, 0, 0, 0, 0, 0, 0, 0, 0, 0, 0, 0, 0, 0, 0, 0, 0, 0, 0, 0, 0, 0, 0, 0, 0, 0, 0, 0, 0, 0, 0, 0, 0, 0, 0, 0, 0, 0, 0, 0, 0, 0, 0, 0, 0, 0, 0, 0, 0, 0, 0, 0, 0, 0, 0, 0, 0, 0, 0, 0, 0, 0, 0, 0, 0, 0, 0, 0, 0, 0, 0, 0, 0, 0, 0, 0, 0, 0, 0, 0, 0, 0, 0, 0, 0, 0, 0, 0, 0, 0, 0, 0, 0, 0, 0, 0, 0, 0, 0, 0, 0, 0, 0, 0, 0, 0, 0, 0, 0, 0, 0, 0, 0, 0, 0, 0, 0, 0, 0, 0, 0, 0, 0, 0, 0, 0, 0, 0, 0, 0, 0, 0, 0, 0, 0, 0, 0, 0, 0, 0, 0, 0, 0, 0, 0, 0, 0, 0, 0, 0, 0, 0, 0, 0, 0, 0, 0, 0, 0, 0, 0, 0, 0, 0, 0, 0, 0, 0, 0, 0, 0, 0, 0, 0, 0, 0, 0, 0, 0, 0, 0, 0, 0, 0, 0, 0, 0, 0, 0, 0, 0, 0, 0, 0, 0, 0, 0, 0, 0, 0, 0, 0, 0, 0, 0, 0, 0, 0, 0, 0, 0, 0, 0, 0, 0, 0, 0, 0, 0, 0, 0, 0, 0, 0, 0, 0, 0, 0, 0, 0, 0, 0, 0, 0, 0, 0, 0, 0, 0, 0, 0, 0, 0, 0, 0, 0, 0, 0, 0, 0, 0, 0, 0, 0, 0, 0, 0, 0, 0, 0, 0, 0, 0, 0, 0, 0, 0, 0, 0, 0, 0, 0, 0, 0, 0, 0, 0, 0, 0, 0, 0, 0, 0, 0, 0, 0, 0, 0, 0, 0, 0, 0, 0, 0, 0, 0, 0, 0, 0, 0, 0, 0, 1, 0, 0, 0, 0, 0, 0, 0, 0, 0, 0, 0, 0, 0, 0, 0, 0, 0, 0, 0, 0, 0, 0, 0, 0, 0, 0, 0, 0, 0, 0, 0, 0, 0, 0, 0, 0, 0, 0, 0, 0, 0, 0, 0, 0, 0, 0, 0, 0, 0, 0, 0, 0, 0, 0, 0, 0, 0, 0, 0, 0, 0, 0, 0, 0, 0, 0, 0, 0, 0, 0, 0, 0, 0, 0, 0, 0, 0, 0, 0, 0, 0, 0, 0, 0, 0, 0, 0, 0, 0, 0, 0, 0, 0, 0, 0, 0, 0, 0, 0, 0, 0, 0, 0, 0, 0, 0, 0, 0, 0, 0, 0, 0, 0, 0, 0, 0, 0, 0, 0, 0, 0, 0, 0, 0, 0, 0, 0, 0, 0, 0, 0, 0, 0, 0, 0, 0, 0, 0, 0, 0, 0, 0, 0, 0, 0, 0, 0, 0, 0, 0, 0, 0, 0, 0, 0, 0, 0, 0, 0, 0, 0, 0, 0, 0, 0, 0, 0, 0, 0, 0, 0, 0, 0, 0, 0, 0, 0, 0, 0, 0, 0, 0, 0, 0, 0, 0, 0, 0, 0, 0, 0, 0, 0, 0, 0, 0, 0, 0, 0, 0, 0, 0, 0, 0, 0, 0, 0, 0, 0, 0, 0, 0, 0, 0, 0, 0, 0, 0, 0, 0, 0, 0, 0, 0, 0, 0, 0, 0, 0, 0, 0, 0, 0, 0, 0, 0, 0, 0, 0, 0, 0, 0, 0, 0, 0, 0, 0, 0, 0, 0, 0, 0, 0, 0, 0, 0, 0, 0, 0, 0, 0, 0, 0, 0, 0, 0, 0, 0, 0, 0, 0, 0, 0, 0, 0, 0, 0, 0, 0, 0, 0, 0, 0, 0, 0, 0, 0, 0, 0, 0, 0, 0, 0, 0, 0, 0, 0, 0, 0, 0, 0, 0, 0, 0, 0, 0, 0, 0, 0, 0, 0, 0, 0, 0, 0, 0, 0, 0, 0, 0, 0, 0, 0, 0, 0, 0, 0, 0, 0, 0, 0, 0, 0, 0, 0, 0, 0, 0, 0, 0, 0, 0, 0, 0, 0, 0, 0, 0, 0, 0, 0, 0, 0, 0, 0, 0, 0, 0, 0, 0, 0, 0, 0, 0, 0, 0, 0, 0, 0, 0, 0, 0, 0, 0, 0, 0, 0, 0, 0, 0, 0, 0, 0, 0, 0, 0, 0, 0, 0, 0, 0, 0, 0, 0, 0, 0, 0, 0, 0, 0, 0, 0, 0, 0, 0, 0, 0, 0, 0, 0, 0, 0, 0, 0, 0, 0, 0, 0, 0, 0, 0, 0, 0, 0, 0, 0, 0, 0, 0, 0, 0, 0, 0, 0, 0, 0, 0, 0, 0, 0, 0, 0, 0, 0, 0, 0, 0, 0, 0, 0, 0, 0, 0, 0, 0, 0, 0, 0, 0, 0, 0, 0, 0, 0, 0, 0, 0, 0, 0, 0, 0, 0, 0, 0, 0, 0, 0, 0, 0, 0, 0, 0, 0, 0, 0, 0, 0, 0, 0, 0, 0, 0, 0, 0, 0, 0, 0, 0, 0, 0, 0, 0, 0, 0, 0, 0, 0, 0, 0, 0, 0, 0, 1, 0, 0, 0, 0, 0, 0, 0, 0, 0, 0, 0, 0, 0, 0, 0, 0, 0, 0, 0, 0, 0, 0, 0, 0, 0, 0, 0, 0, 0, 0, 0, 0, 0, 0, 0, 2, 0, 0, 0, 0, 0, 0, 0, 0, 0, 0, 0, 0, 0, 0, 0, 0, 0, 0, 0, 0, 0, 0, 0, 0, 0, 0, 0, 0, 0, 0, 0, 0, 0, 0, 0, 0, 0, 0, 0, 0, 1, 0, 0, 0, 0, 0, 0, 0, 0, 0, 0, 0, 0, 0, 0, 0, 0, 0, 0, 0, 0, 0, 0, 0, 0, 0, 0, 0, 0, 0, 0, 0, 0, 0, 0, 0, 0, 0, 0, 0, 0, 0, 0, 0, 0, 0, 0, 0, 0, 0, 0, 0, 0, 0, 0, 0, 0, 0, 0, 0, 0, 0, 0, 0, 0, 0, 0, 0, 0, 0, 0, 0, 0, 0, 0, 0, 0, 0, 0, 0, 0, 0, 0, 0, 0, 0, 0, 0, 0, 0, 0, 0, 0, 0, 0, 0, 0, 0, 0, 0, 0, 0, 0, 0, 0, 0, 0, 0, 0, 0, 0, 0, 0, 0, 0, 0, 0, 0, 0, 0, 0, 0, 0, 0, 0, 0, 0, 0, 0, 0, 0, 0, 0, 0, 0, 0, 0, 0, 0, 0, 0, 0, 0, 0, 0, 0, 0, 0, 0, 0, 0, 0, 0, 0, 0, 0, 0, 0, 0, 0, 0, 0, 0, 0, 0, 0, 0, 0, 0, 0, 0, 0, 0, 0, 0, 0, 0, 0, 0, 0, 0, 0, 0, 0, 0, 0, 0, 0, 0, 0, 0, 0, 0, 0, 0, 0, 0, 0, 0, 0, 0, 0, 0, 0, 0, 0, 0, 0, 0, 0, 0, 0, 0, 0, 0, 0, 0, 0, 0, 0, 0, 0, 0, 0, 0, 0, 0, 0, 0, 0, 0, 0, 0, 0, 0, 0, 0, 0, 0, 0, 0, 0, 0, 0, 0, 0, 0, 0, 0, 0, 0, 0, 0, 0, 0, 0, 0, 0, 0, 0, 0, 0, 0, 0, 0, 0, 0, 0, 0, 0, 0, 0, 0, 0, 0, 0, 0, 0, 0, 0, 0, 0, 0, 0, 0, 0, 0, 0, 0, 0, 0, 0, 0, 0, 0, 0, 0, 0, 0, 0, 0, 0, 0, 0, 0, 0, 0, 0, 0, 0, 0, 0, 0, 0, 0, 0, 0, 0, 0, 0, 0, 0, 0, 0, 0, 0, 0, 0, 0, 0, 0, 0, 0, 0, 0, 0, 0, 0, 0, 0, 0, 0, 0, 0, 0, 0, 0, 0, 0, 0, 0, 0, 0, 0, 0, 0, 0, 0, 0, 0, 0, 0, 0, 0, 0, 0, 0, 0, 0, 0, 0, 0, 0, 0, 0, 0, 0, 0, 0, 0, 0, 0, 0, 0, 0, 0, 0, 0, 0, 0, 0, 0, 0, 0, 0, 0, 0, 0, 0, 0, 0, 0, 0, 0, 0, 0, 0, 0, 0, 0, 0, 0, 0, 0, 0, 0, 0, 0, 0, 0, 0, 0, 0, 0, 0, 0, 0, 0, 0, 0, 0, 0, 0, 0, 0, 0, 0, 0, 0, 0, 0, 0, 0, 0, 0, 0, 0, 0, 0, 0, 0, 0, 0, 0, 0, 0, 0, 0, 0, 0, 0, 0, 0, 0, 0, 0, 0, 0, 0, 0, 0, 0, 0, 0, 0, 0, 0, 0, 0, 0, 0, 0, 0, 0, 0, 0, 0, 0, 0, 0, 0, 0, 0, 0, 0, 0, 0, 0, 1, 0, 0, 0, 0, 0, 0, 0, 0, 0, 0, 0, 0, 0, 0, 0, 0, 0, 0, 0, 0, 0, 0, 0, 0, 0, 0, 0, 0, 0, 0, 0, 0, 0, 0, 0, 0, 0, 0, 0, 0, 0, 0, 0, 0, 0, 0, 0, 0, 0, 0, 0, 0, 0, 0, 0, 0, 0, 0, 0, 0, 0, 0, 0, 0, 0, 0, 0, 0, 0, 0, 0, 0, 0, 0, 0, 0, 0, 0, 0, 0, 0, 0, 0, 0, 0, 0, 0, 0, 0, 0, 0, 0, 0, 0, 0, 0, 0, 0, 0, 0, 0, 0, 0, 0, 0, 0, 0, 0, 0, 0, 2, 0, 0, 0, 0, 0, 0, 0, 0, 0, 0, 0, 0, 0, 0, 0, 0, 0, 0, 0, 0, 0, 0, 0, 0, 0, 0, 0, 0, 0, 0, 0, 0, 0, 0, 0, 0, 0, 0, 0, 0, 0, 0, 0, 0, 0, 0, 0, 0, 0, 0, 0, 0, 0, 0, 0, 0, 0, 0, 0, 0, 0, 0, 0, 0, 0, 0, 0, 0, 0, 0, 0, 0, 0, 0, 0, 0, 0, 0, 0, 0, 0, 0, 0, 0, 0, 0, 0, 0, 0, 0, 0, 0, 0, 0, 0, 0, 0, 0, 0, 0, 0, 0, 0, 0, 0, 0, 0, 0, 0, 0, 0, 0, 0, 0, 0, 0, 0, 0, 0, 0, 0, 0, 0, 0, 0, 0, 0, 0, 0, 0, 0, 0, 0, 0, 0, 0, 0, 0, 0, 0, 0, 0, 0, 0, 0, 0, 0, 0, 0, 0, 0, 0, 0, 0, 0, 0, 0, 0, 0, 0, 0, 0, 0, 0, 0, 0, 0, 0, 0, 0, 0, 0, 0, 0, 0, 0, 0, 0, 0, 0, 0, 0, 0, 0, 0, 0, 0, 0, 0, 0, 0, 0, 0, 0, 0, 0, 0, 0, 0, 0, 0, 0, 0, 0, 0, 0, 0, 0, 0, 0, 0, 0, 0, 0, 0, 0, 0, 0, 0, 0, 0, 0, 0, 0, 0, 0, 0, 0, 0, 0, 0, 0, 0, 0, 0, 0, 0, 0, 0, 0, 0, 0, 0, 0, 0, 0, 0, 0, 0, 0, 0, 0, 0, 0, 0, 0, 0, 0, 0, 0, 0, 0, 0, 0, 0, 0, 0, 0, 0, 0, 0, 0, 0, 0, 0, 0, 0, 0, 0, 0, 0, 0, 0, 0, 0, 0, 0, 0, 0, 0, 0, 0, 0, 0, 0, 0, 0, 0, 0, 0, 0, 0, 0, 0, 0, 0, 0, 0, 0, 0, 0, 0, 0, 0, 0, 0, 0, 0, 0, 0, 0, 0, 0, 0, 0, 0, 0, 0, 0, 0, 0, 0, 0, 0, 0, 0, 0, 0, 0, 0, 0, 0, 0, 0, 0, 0, 0, 0, 0, 0, 0, 0, 0, 0, 0, 0, 0, 0, 0, 0, 0, 0, 0, 0, 0, 0, 0, 0, 0, 0, 0, 0, 0, 0, 0, 0, 0, 0, 0, 0, 0, 0, 0, 0, 0, 0, 0, 0, 0, 0, 0, 0, 0, 0, 0, 0, 0, 0, 0, 0, 0, 0, 0, 0, 0, 0, 0, 0, 0, 0, 0, 0, 0, 0, 0, 0, 0, 0, 0, 0, 0, 0, 0, 0, 0, 0, 0, 0, 0, 0, 0, 0, 0, 0, 0, 0, 0, 0, 0, 0, 0, 0, 0, 0, 0, 0, 0, 0, 0, 0, 0, 0, 0, 0, 0, 0, 0, 0, 0, 0, 0, 0, 0, 0, 0, 0, 0, 0, 0, 0, 0, 0, 0, 0, 0, 0, 0, 0, 0, 0, 0, 0, 0, 0, 0, 0, 0, 0, 0, 0, 0, 0, 0, 0, 0, 0, 0, 0, 0, 0, 0, 0, 0, 0, 0, 0, 0, 0, 0, 0, 0, 0, 0, 0, 0, 0, 0, 0, 0, 0, 0, 0, 0, 0, 0, 0, 0, 0, 0, 0, 0, 0, 0, 0, 0, 0, 0, 0, 0, 0, 0, 0, 0, 0, 0, 0, 0, 0, 0, 0, 0, 0, 0, 0, 0, 0, 0, 0, 0, 0, 0, 0, 0, 0, 0, 0, 0, 0, 0, 0, 0, 0, 0, 0, 0, 0, 0, 0, 0, 0, 0, 0, 0, 0, 0, 0, 0, 0, 0, 0, 0, 0, 0, 0, 0, 0, 0, 0, 0, 0, 0, 0, 0, 0, 0, 0, 0, 0, 0, 0, 0, 0, 0, 0, 0, 0, 0, 0, 0, 0, 0, 0, 0, 0, 0, 0, 0, 0, 0, 0, 0, 0, 0, 0, 0, 0, 0, 0, 0, 0, 0, 0, 0, 0, 0, 0, 0, 0, 0, 0, 0, 0, 0, 0, 0, 0, 0, 0, 0, 0, 0, 0, 0, 0, 0, 0, 0, 0, 0, 0, 0, 0, 0, 0, 0, 0, 0, 0, 0, 0, 0, 0, 0, 0, 0, 0, 0, 0, 0, 0, 1, 0, 0, 0, 0, 0, 0, 0, 0, 0, 0, 0, 0, 0, 0, 0, 0, 0, 0, 0, 0, 0, 0, 0, 0, 0, 0, 0, 0, 0, 0, 0, 0, 0, 0, 0, 0, 0, 0, 0, 0, 0, 0, 0, 0, 0, 0, 0, 0, 0, 0, 0, 0, 0, 0, 0, 0, 0, 0, 0, 0, 0, 0, 0, 0, 0, 0, 0, 0, 0, 0, 0, 0, 0, 0, 0, 0, 0, 0, 0, 0, 0, 0, 0, 0, 0, 0, 0, 0, 0, 0, 0, 0, 0, 0, 0, 0, 0, 0, 0, 0, 0, 0, 0, 0, 0, 0, 0, 1, 0, 0, 0, 0, 0, 0, 0, 0, 0, 0, 0, 0, 0, 0, 0, 0, 0, 0, 0, 0, 0, 0, 0, 0, 0, 0, 0, 0, 0, 0, 0, 0, 0, 0, 0, 0, 0, 0, 0, 0, 0, 0, 0, 0, 0, 0, 0, 0, 0, 0, 0, 0, 0, 0, 0, 0, 0, 0, 0, 0, 0, 0, 0, 0, 0, 0, 0, 0, 0, 0, 0, 0, 0, 0, 0, 0, 0, 0, 0, 0, 0, 0, 0, 0, 0, 0, 0, 0, 0, 0, 0, 0, 0, 0, 0, 0, 0, 0, 0, 0, 0, 0, 0, 0, 0, 0, 0, 0, 0, 0, 0, 0, 0, 0, 0, 0, 0, 0, 0, 0, 0, 0, 0, 0, 0, 0, 0, 0, 0, 0, 0, 0, 0, 0, 0, 0, 0, 0, 0, 0, 0, 0, 0, 0, 0, 0, 0, 0, 0, 0, 0, 0, 0, 0, 0, 0, 0, 0, 0, 0, 0, 0, 0, 0, 0, 0, 0, 0, 0, 0, 0, 0, 0, 0, 0, 0, 0, 0, 0, 0, 0, 0, 0, 0, 0, 0, 0, 0, 0, 0, 0, 0, 0, 0, 0, 0, 0, 0, 0, 0, 0, 0, 0, 0, 0, 0, 0, 0, 0, 0, 0, 0, 0, 0, 0, 0, 0, 0, 0, 0, 0, 0, 0, 0, 0, 0, 0, 0, 0, 0, 0, 0, 0, 0, 0, 0, 0, 0, 0, 0, 0, 0, 0, 0, 0, 0, 0, 0, 0, 0, 0, 0, 0, 0, 0, 0, 0, 0, 0, 0, 0, 0, 0, 0, 0, 0, 0, 0, 0, 0, 0, 0, 0, 0, 0, 0, 0, 0, 0, 0, 0, 0, 0, 0, 0, 0, 0, 0, 0, 0, 0, 0, 0, 0, 0, 0, 0, 0, 0, 0, 0, 0, 0, 0, 0, 0, 0, 0, 0, 0, 0, 0, 0, 0, 0, 0, 0, 0, 0, 0, 0, 0, 0, 0, 0, 0, 0, 0, 0, 0, 0, 0, 0, 0, 0, 0, 0, 0, 0, 0, 0, 0, 0, 0, 0, 0, 0, 0, 0, 0, 0, 0, 0, 0, 0, 0, 0, 0, 0, 0, 0, 0, 0, 0, 0, 0, 0, 0, 0, 0, 0, 0, 0, 0, 0, 0, 0, 0, 0, 0, 0, 0, 0, 0, 0, 0, 0, 0, 0, 0, 0, 0, 0, 0, 0, 0, 0, 0, 0, 0, 0, 0, 0, 0, 0, 0, 0, 0, 0, 0, 0, 0, 0, 0, 0, 0, 0, 0, 0, 0, 0, 0, 0, 0, 0, 0, 0, 0, 0, 0, 0, 0, 0, 0, 0, 0, 0, 0, 0, 0, 0, 0, 0, 0, 0, 0, 0, 0, 0, 0, 0, 0, 0, 0, 0, 0, 0, 0, 0, 0, 0, 0, 0, 2, 0, 1, 0]\n"
     ]
    }
   ],
   "source": [
    "test_bow = bow_encoding(test_words, vocabulary)\n",
    "print(test_bow)"
   ]
  },
  {
   "cell_type": "code",
   "execution_count": 47,
   "metadata": {},
   "outputs": [
    {
     "data": {
      "text/plain": [
       "5000"
      ]
     },
     "execution_count": 47,
     "metadata": {},
     "output_type": "execute_result"
    }
   ],
   "source": [
    "len(test_bow)"
   ]
  },
  {
   "cell_type": "markdown",
   "metadata": {},
   "source": [
    "So now we know how to construct a bag of words encoding of a user provided review, how to we send it to our endpoint? First, we need to start the endpoint back up."
   ]
  },
  {
   "cell_type": "code",
   "execution_count": 48,
   "metadata": {},
   "outputs": [
    {
     "name": "stderr",
     "output_type": "stream",
     "text": [
      "WARNING:sagemaker:Using already existing model: sagemaker-xgboost-2019-11-10-09-50-52-856\n"
     ]
    },
    {
     "name": "stdout",
     "output_type": "stream",
     "text": [
      "-------------------------------------------------------------------------------------------------!"
     ]
    }
   ],
   "source": [
    "xgb_predictor = xgb.deploy(initial_instance_count = 1, instance_type = 'ml.m4.xlarge')"
   ]
  },
  {
   "cell_type": "markdown",
   "metadata": {},
   "source": [
    "At this point we could just do the same thing that we did earlier when we tested our deployed model and send `test_bow` to our endpoint using the `xgb_predictor` object. However, when we eventually construct our Lambda function we won't have access to this object, so how do we call a SageMaker endpoint?\n",
    "\n",
    "It turns out that Python functions that are used in Lambda have access to another Amazon library called `boto3`. This library provides an API for working with Amazon services, including SageMaker. To start with, we need to get a handle to the SageMaker runtime."
   ]
  },
  {
   "cell_type": "code",
   "execution_count": 49,
   "metadata": {},
   "outputs": [],
   "source": [
    "import boto3\n",
    "\n",
    "runtime = boto3.Session().client('sagemaker-runtime')"
   ]
  },
  {
   "cell_type": "markdown",
   "metadata": {},
   "source": [
    "And now that we have access to the SageMaker runtime, we can ask it to make use of (invoke) an endpoint that has already been created. However, we need to provide SageMaker with the name of the deployed endpoint. To find this out we can print it out using the `xgb_predictor` object."
   ]
  },
  {
   "cell_type": "code",
   "execution_count": 50,
   "metadata": {},
   "outputs": [
    {
     "data": {
      "text/plain": [
       "'sagemaker-xgboost-2019-11-10-09-50-52-856'"
      ]
     },
     "execution_count": 50,
     "metadata": {},
     "output_type": "execute_result"
    }
   ],
   "source": [
    "xgb_predictor.endpoint"
   ]
  },
  {
   "cell_type": "markdown",
   "metadata": {},
   "source": [
    "Using the SageMaker runtime and the name of our endpoint, we can invoke the endpoint and send it the `test_bow` data."
   ]
  },
  {
   "cell_type": "code",
   "execution_count": 51,
   "metadata": {
    "collapsed": true,
    "jupyter": {
     "outputs_hidden": true
    }
   },
   "outputs": [
    {
     "ename": "ParamValidationError",
     "evalue": "Parameter validation failed:\nInvalid type for parameter Body, value: [0, 0, 0, 0, 0, 0, 0, 0, 0, 0, 0, 0, 0, 0, 0, 0, 0, 0, 0, 0, 0, 0, 0, 0, 0, 0, 0, 0, 0, 0, 0, 0, 0, 0, 0, 0, 0, 0, 0, 0, 0, 0, 0, 0, 0, 0, 0, 0, 0, 0, 0, 0, 0, 0, 0, 0, 0, 0, 0, 0, 0, 0, 0, 0, 0, 0, 0, 0, 0, 0, 0, 0, 0, 0, 0, 0, 0, 0, 0, 0, 0, 0, 0, 0, 0, 0, 0, 0, 0, 0, 0, 0, 0, 0, 0, 0, 0, 0, 0, 0, 0, 0, 0, 0, 0, 0, 0, 0, 0, 0, 0, 0, 0, 0, 0, 0, 0, 0, 0, 0, 0, 0, 0, 0, 0, 0, 0, 0, 0, 0, 0, 0, 0, 0, 0, 0, 0, 0, 0, 0, 0, 0, 0, 0, 0, 0, 0, 0, 0, 0, 0, 0, 0, 0, 0, 0, 0, 0, 0, 0, 0, 0, 0, 0, 0, 0, 0, 0, 0, 0, 0, 0, 0, 0, 0, 0, 0, 0, 0, 0, 0, 0, 0, 0, 0, 0, 0, 0, 0, 0, 0, 0, 0, 0, 0, 0, 0, 0, 0, 0, 0, 0, 0, 0, 0, 0, 0, 0, 0, 0, 0, 0, 0, 0, 0, 0, 0, 0, 0, 0, 0, 0, 0, 0, 0, 0, 1, 0, 0, 0, 0, 0, 0, 0, 0, 0, 0, 0, 0, 0, 0, 0, 0, 0, 0, 0, 0, 0, 0, 0, 0, 0, 0, 0, 0, 0, 1, 0, 0, 0, 0, 0, 0, 0, 0, 0, 0, 0, 0, 0, 0, 0, 0, 0, 0, 0, 0, 0, 0, 0, 0, 0, 0, 0, 0, 0, 0, 0, 0, 0, 0, 0, 0, 0, 0, 0, 0, 0, 0, 0, 0, 0, 0, 0, 0, 0, 0, 0, 0, 0, 0, 0, 0, 0, 0, 0, 0, 0, 0, 0, 0, 0, 0, 0, 0, 0, 0, 0, 0, 0, 0, 0, 0, 0, 0, 0, 0, 0, 0, 0, 0, 0, 0, 0, 0, 0, 0, 0, 0, 0, 0, 0, 0, 0, 0, 0, 0, 0, 0, 0, 0, 0, 0, 0, 0, 0, 0, 0, 0, 0, 0, 0, 0, 0, 0, 0, 0, 0, 0, 0, 0, 0, 0, 0, 0, 0, 0, 0, 0, 0, 0, 0, 0, 0, 0, 0, 0, 0, 0, 0, 0, 0, 0, 0, 0, 0, 0, 0, 0, 0, 0, 0, 0, 0, 0, 0, 0, 0, 0, 0, 0, 0, 0, 0, 0, 0, 0, 0, 0, 0, 0, 0, 0, 0, 0, 0, 0, 0, 0, 0, 0, 0, 0, 0, 0, 0, 0, 0, 0, 0, 0, 0, 0, 0, 0, 0, 0, 0, 0, 0, 0, 0, 0, 0, 0, 0, 0, 0, 0, 0, 0, 0, 0, 0, 0, 0, 0, 0, 0, 0, 0, 0, 0, 0, 0, 0, 0, 0, 0, 0, 0, 0, 0, 0, 0, 0, 0, 0, 0, 0, 0, 0, 0, 0, 0, 0, 0, 0, 0, 0, 0, 0, 0, 0, 0, 0, 0, 0, 0, 0, 0, 0, 0, 0, 0, 0, 0, 0, 0, 0, 0, 0, 0, 0, 0, 0, 0, 0, 0, 0, 0, 0, 0, 0, 0, 0, 0, 0, 0, 0, 0, 0, 0, 0, 0, 0, 0, 0, 0, 0, 0, 0, 0, 0, 0, 0, 0, 0, 0, 0, 0, 0, 0, 0, 0, 0, 0, 0, 0, 0, 0, 0, 0, 0, 0, 0, 0, 0, 0, 0, 0, 0, 0, 0, 0, 0, 0, 0, 0, 0, 0, 0, 0, 0, 0, 0, 0, 0, 0, 0, 0, 0, 0, 0, 0, 0, 0, 0, 0, 0, 0, 0, 0, 0, 0, 0, 0, 0, 0, 0, 0, 0, 0, 0, 0, 0, 1, 0, 0, 0, 0, 0, 0, 0, 0, 0, 0, 0, 0, 0, 0, 0, 0, 0, 0, 0, 0, 0, 0, 0, 0, 0, 0, 0, 0, 0, 0, 0, 0, 0, 0, 0, 0, 0, 0, 0, 0, 0, 0, 0, 0, 0, 0, 0, 0, 0, 0, 0, 0, 0, 0, 0, 0, 0, 0, 0, 0, 0, 0, 0, 0, 0, 0, 0, 0, 0, 0, 0, 0, 0, 0, 0, 0, 0, 0, 0, 0, 0, 0, 0, 0, 0, 0, 0, 0, 0, 0, 0, 0, 0, 0, 0, 0, 0, 0, 0, 0, 0, 0, 0, 0, 0, 0, 0, 0, 0, 0, 0, 0, 0, 0, 0, 0, 0, 0, 0, 0, 0, 0, 0, 0, 0, 0, 0, 0, 0, 0, 0, 0, 0, 0, 0, 0, 0, 0, 0, 0, 0, 0, 0, 0, 0, 0, 0, 0, 0, 0, 0, 0, 0, 0, 0, 0, 0, 0, 0, 0, 0, 0, 0, 0, 0, 0, 0, 0, 0, 0, 0, 0, 0, 0, 0, 0, 0, 0, 0, 0, 0, 0, 0, 0, 0, 0, 0, 0, 0, 0, 0, 0, 0, 0, 0, 0, 0, 0, 0, 0, 0, 0, 0, 0, 0, 0, 0, 0, 0, 0, 0, 0, 0, 0, 0, 0, 0, 0, 0, 0, 0, 0, 0, 0, 0, 0, 0, 0, 0, 0, 0, 0, 0, 0, 0, 0, 0, 0, 0, 0, 0, 0, 0, 0, 0, 0, 0, 0, 0, 0, 0, 0, 0, 1, 0, 0, 0, 0, 0, 0, 0, 0, 0, 0, 0, 0, 0, 0, 0, 0, 0, 0, 0, 0, 0, 0, 0, 0, 0, 0, 0, 0, 0, 0, 0, 0, 0, 0, 0, 0, 0, 0, 0, 0, 0, 0, 0, 0, 0, 0, 0, 0, 0, 0, 0, 0, 0, 0, 0, 0, 0, 0, 0, 0, 0, 0, 0, 0, 0, 0, 0, 0, 0, 0, 0, 0, 0, 0, 0, 0, 0, 0, 0, 0, 0, 0, 0, 0, 0, 0, 1, 0, 0, 0, 0, 0, 0, 0, 0, 0, 0, 0, 0, 0, 0, 0, 0, 0, 0, 0, 0, 0, 0, 0, 0, 0, 0, 0, 0, 0, 0, 0, 0, 0, 0, 0, 0, 0, 0, 0, 0, 0, 0, 0, 0, 0, 0, 0, 0, 0, 0, 0, 0, 0, 0, 0, 0, 0, 0, 0, 0, 0, 0, 0, 0, 0, 0, 0, 0, 0, 0, 0, 0, 0, 0, 0, 0, 0, 0, 0, 0, 0, 0, 0, 0, 0, 0, 0, 0, 0, 0, 0, 0, 0, 0, 0, 0, 0, 0, 0, 0, 0, 0, 0, 0, 0, 0, 0, 0, 0, 0, 0, 0, 0, 0, 0, 0, 0, 0, 0, 0, 0, 0, 0, 0, 0, 0, 0, 0, 0, 0, 0, 0, 0, 0, 0, 0, 0, 0, 0, 0, 0, 0, 0, 0, 0, 0, 0, 0, 0, 0, 0, 0, 0, 0, 0, 0, 0, 0, 0, 0, 0, 0, 0, 0, 0, 0, 0, 0, 0, 0, 0, 0, 0, 0, 0, 0, 0, 0, 0, 0, 0, 0, 0, 0, 0, 0, 0, 0, 0, 0, 0, 0, 0, 0, 0, 0, 0, 0, 0, 0, 0, 0, 0, 0, 0, 0, 0, 0, 0, 0, 0, 0, 0, 0, 0, 0, 0, 0, 0, 0, 0, 0, 0, 0, 0, 0, 0, 0, 0, 0, 0, 0, 0, 0, 0, 0, 0, 0, 0, 0, 0, 0, 0, 0, 0, 0, 0, 0, 0, 0, 0, 0, 1, 0, 0, 0, 0, 0, 0, 0, 0, 0, 0, 0, 0, 0, 0, 0, 0, 0, 0, 0, 0, 0, 0, 0, 0, 0, 0, 0, 0, 0, 0, 0, 0, 0, 0, 0, 0, 0, 0, 0, 0, 0, 0, 0, 0, 0, 0, 0, 0, 0, 0, 0, 0, 0, 0, 0, 1, 0, 0, 0, 0, 0, 0, 0, 0, 0, 0, 0, 0, 0, 0, 0, 0, 0, 0, 0, 0, 0, 0, 0, 0, 0, 0, 0, 0, 0, 0, 0, 0, 0, 0, 0, 0, 0, 0, 0, 0, 0, 0, 0, 0, 0, 0, 0, 0, 0, 0, 0, 0, 0, 0, 0, 0, 0, 0, 0, 0, 0, 0, 0, 0, 0, 0, 0, 0, 0, 0, 0, 0, 0, 0, 0, 0, 0, 0, 0, 0, 0, 0, 0, 0, 0, 0, 0, 0, 0, 0, 0, 0, 0, 0, 0, 0, 0, 0, 0, 0, 0, 0, 0, 0, 0, 0, 0, 0, 0, 0, 0, 0, 0, 0, 0, 0, 0, 0, 0, 0, 0, 0, 0, 0, 0, 0, 0, 0, 0, 0, 0, 0, 0, 0, 0, 0, 0, 0, 0, 0, 0, 0, 0, 0, 0, 0, 0, 0, 0, 0, 0, 0, 0, 0, 0, 0, 0, 0, 0, 0, 0, 0, 0, 0, 0, 0, 0, 0, 0, 0, 0, 0, 0, 0, 0, 0, 0, 0, 0, 0, 0, 0, 0, 0, 0, 0, 0, 0, 0, 0, 0, 0, 0, 0, 0, 0, 0, 0, 0, 0, 0, 0, 0, 0, 0, 0, 0, 0, 0, 0, 0, 0, 0, 0, 0, 0, 0, 0, 0, 0, 0, 0, 0, 0, 0, 0, 0, 0, 0, 0, 0, 0, 0, 0, 0, 0, 0, 0, 0, 0, 0, 0, 0, 0, 0, 0, 0, 0, 0, 0, 0, 0, 0, 0, 0, 0, 0, 0, 0, 0, 0, 0, 0, 0, 0, 0, 0, 0, 0, 0, 0, 0, 0, 0, 0, 0, 0, 0, 0, 0, 0, 0, 0, 0, 0, 0, 0, 0, 0, 0, 0, 0, 0, 0, 0, 0, 0, 0, 0, 0, 0, 0, 0, 0, 0, 0, 0, 0, 0, 0, 0, 0, 0, 0, 0, 0, 0, 0, 0, 0, 0, 0, 0, 0, 0, 0, 0, 0, 0, 0, 0, 0, 0, 0, 0, 0, 0, 0, 0, 0, 0, 0, 0, 0, 0, 0, 0, 0, 0, 0, 0, 0, 0, 0, 0, 0, 0, 0, 0, 0, 0, 0, 0, 0, 0, 0, 0, 0, 0, 0, 0, 0, 0, 0, 0, 0, 0, 0, 0, 0, 0, 0, 0, 0, 0, 0, 0, 0, 0, 0, 0, 0, 0, 0, 0, 0, 0, 0, 0, 0, 0, 0, 0, 0, 0, 0, 0, 0, 0, 0, 0, 0, 0, 0, 0, 0, 0, 0, 0, 0, 0, 0, 0, 0, 0, 0, 0, 0, 0, 0, 0, 0, 0, 0, 0, 0, 0, 0, 0, 0, 0, 0, 0, 0, 0, 0, 0, 0, 0, 0, 0, 0, 0, 0, 0, 0, 0, 0, 0, 0, 0, 0, 0, 0, 0, 0, 0, 0, 0, 0, 0, 0, 0, 0, 0, 0, 0, 0, 0, 0, 0, 0, 0, 0, 0, 0, 0, 0, 0, 0, 0, 0, 0, 0, 0, 0, 0, 0, 0, 0, 0, 0, 0, 0, 0, 0, 0, 0, 0, 0, 0, 0, 0, 0, 0, 0, 0, 0, 0, 0, 0, 0, 0, 0, 0, 0, 0, 0, 0, 0, 0, 0, 0, 0, 0, 0, 0, 0, 0, 0, 0, 0, 0, 0, 0, 0, 0, 0, 0, 0, 0, 0, 0, 0, 0, 0, 0, 0, 0, 0, 0, 0, 0, 0, 0, 0, 0, 0, 0, 0, 0, 0, 0, 0, 0, 0, 0, 0, 0, 0, 0, 0, 0, 0, 0, 0, 0, 0, 0, 0, 0, 0, 0, 0, 0, 0, 0, 0, 0, 0, 0, 0, 0, 0, 0, 0, 0, 0, 0, 0, 0, 0, 0, 0, 0, 0, 0, 0, 0, 0, 0, 0, 0, 0, 0, 0, 0, 0, 0, 0, 0, 0, 0, 0, 0, 0, 0, 0, 0, 0, 0, 0, 0, 0, 0, 0, 0, 0, 0, 0, 0, 0, 0, 0, 0, 0, 0, 0, 0, 0, 0, 0, 0, 0, 0, 0, 0, 0, 0, 0, 0, 0, 0, 0, 0, 0, 0, 0, 0, 0, 0, 1, 0, 0, 0, 0, 0, 0, 0, 0, 0, 0, 0, 0, 0, 0, 0, 0, 0, 0, 0, 0, 0, 0, 0, 0, 0, 0, 0, 0, 0, 0, 0, 0, 0, 0, 0, 0, 0, 0, 0, 0, 0, 0, 0, 0, 0, 0, 0, 0, 0, 0, 0, 0, 0, 0, 0, 0, 0, 0, 0, 0, 0, 0, 0, 0, 0, 0, 0, 0, 0, 0, 0, 0, 0, 0, 1, 0, 0, 0, 0, 0, 0, 0, 0, 0, 0, 0, 0, 0, 0, 0, 0, 0, 0, 0, 0, 1, 0, 0, 1, 0, 0, 0, 0, 0, 0, 0, 0, 0, 0, 0, 0, 0, 0, 0, 0, 0, 0, 0, 0, 0, 0, 0, 0, 0, 0, 0, 0, 0, 0, 0, 0, 0, 0, 0, 0, 0, 0, 0, 0, 0, 0, 0, 0, 0, 0, 0, 0, 0, 0, 0, 0, 0, 0, 0, 0, 0, 0, 0, 0, 0, 0, 0, 0, 0, 0, 0, 0, 0, 0, 0, 0, 0, 0, 0, 0, 0, 0, 0, 0, 0, 0, 0, 0, 0, 0, 0, 0, 0, 0, 0, 0, 0, 0, 0, 0, 0, 0, 0, 0, 0, 0, 0, 0, 0, 0, 0, 0, 0, 0, 0, 0, 0, 0, 0, 0, 0, 0, 0, 0, 0, 0, 0, 0, 0, 0, 0, 0, 0, 0, 0, 0, 0, 0, 0, 0, 0, 0, 0, 0, 0, 0, 0, 0, 0, 0, 0, 0, 0, 0, 0, 0, 0, 0, 0, 0, 0, 0, 0, 0, 0, 0, 0, 0, 0, 0, 0, 0, 0, 0, 0, 0, 0, 0, 0, 0, 0, 0, 0, 0, 0, 0, 0, 0, 0, 0, 0, 0, 0, 0, 0, 0, 0, 0, 0, 0, 0, 0, 0, 0, 0, 0, 0, 0, 0, 0, 0, 0, 0, 0, 0, 0, 0, 0, 0, 0, 0, 0, 0, 0, 0, 0, 0, 0, 0, 0, 0, 0, 0, 0, 0, 0, 0, 0, 0, 0, 0, 0, 0, 0, 0, 0, 0, 0, 0, 0, 0, 0, 0, 0, 0, 0, 0, 0, 0, 0, 0, 0, 0, 0, 0, 0, 0, 0, 0, 0, 0, 0, 0, 0, 0, 0, 0, 0, 0, 0, 0, 0, 0, 0, 0, 0, 0, 0, 0, 0, 0, 0, 0, 0, 0, 0, 0, 0, 0, 0, 0, 0, 0, 0, 0, 0, 0, 0, 0, 0, 0, 0, 0, 0, 0, 0, 0, 0, 0, 0, 0, 0, 0, 0, 0, 0, 0, 0, 0, 0, 0, 0, 0, 0, 0, 0, 0, 0, 0, 0, 0, 0, 0, 0, 0, 0, 0, 0, 0, 0, 0, 0, 0, 0, 0, 0, 0, 0, 0, 0, 0, 0, 0, 0, 0, 0, 0, 0, 0, 0, 0, 0, 0, 0, 0, 0, 0, 0, 0, 0, 0, 0, 0, 0, 0, 0, 0, 0, 0, 0, 0, 0, 0, 0, 0, 0, 0, 0, 0, 0, 0, 0, 0, 0, 0, 0, 0, 0, 0, 0, 0, 0, 0, 0, 0, 0, 0, 0, 0, 0, 0, 0, 0, 0, 0, 0, 0, 0, 0, 0, 0, 0, 0, 0, 0, 0, 0, 0, 0, 0, 0, 0, 0, 0, 0, 0, 0, 0, 0, 0, 0, 0, 0, 0, 0, 0, 0, 0, 0, 0, 0, 0, 0, 0, 0, 0, 0, 0, 0, 0, 1, 0, 0, 0, 0, 0, 0, 0, 0, 0, 0, 0, 0, 0, 0, 0, 0, 0, 0, 0, 0, 0, 0, 0, 0, 0, 0, 0, 0, 0, 0, 0, 0, 0, 0, 0, 0, 0, 0, 0, 0, 0, 0, 0, 0, 0, 0, 0, 0, 0, 0, 0, 0, 0, 0, 0, 0, 0, 0, 0, 0, 0, 0, 0, 0, 0, 0, 0, 0, 0, 0, 0, 0, 0, 0, 0, 0, 0, 0, 0, 0, 0, 0, 0, 0, 0, 0, 0, 0, 0, 0, 0, 0, 0, 0, 0, 0, 0, 0, 0, 0, 0, 0, 0, 0, 0, 0, 0, 0, 0, 0, 0, 0, 0, 0, 0, 0, 0, 0, 0, 0, 0, 0, 0, 0, 0, 0, 0, 0, 0, 0, 0, 0, 0, 0, 0, 0, 0, 0, 0, 0, 0, 0, 0, 0, 0, 0, 0, 0, 0, 0, 0, 0, 0, 0, 0, 0, 0, 0, 0, 0, 0, 0, 0, 0, 0, 0, 0, 0, 0, 0, 0, 0, 0, 0, 0, 0, 0, 0, 0, 0, 0, 0, 0, 0, 0, 0, 0, 0, 0, 0, 0, 0, 0, 0, 0, 0, 0, 0, 0, 0, 0, 0, 0, 0, 0, 0, 0, 0, 0, 0, 0, 0, 0, 0, 0, 0, 0, 0, 0, 0, 0, 0, 0, 0, 0, 0, 0, 0, 0, 0, 0, 0, 0, 0, 0, 0, 0, 0, 0, 0, 0, 0, 0, 0, 0, 0, 0, 0, 0, 0, 0, 0, 0, 0, 0, 0, 0, 0, 0, 0, 0, 0, 0, 0, 0, 0, 0, 0, 0, 0, 0, 0, 0, 0, 0, 0, 0, 0, 0, 0, 0, 0, 0, 0, 0, 0, 0, 0, 0, 0, 0, 0, 0, 0, 0, 0, 0, 0, 0, 0, 0, 0, 0, 0, 0, 0, 0, 0, 0, 0, 0, 0, 0, 0, 0, 0, 0, 0, 0, 0, 0, 0, 0, 0, 0, 0, 0, 0, 0, 0, 0, 0, 0, 0, 0, 0, 0, 0, 0, 0, 0, 0, 0, 0, 0, 0, 0, 0, 0, 0, 0, 0, 0, 0, 0, 0, 0, 0, 0, 0, 0, 0, 0, 0, 0, 0, 0, 0, 0, 0, 0, 0, 0, 0, 0, 0, 0, 0, 0, 0, 0, 0, 0, 0, 0, 0, 0, 0, 0, 0, 0, 0, 0, 0, 0, 0, 0, 0, 0, 0, 0, 0, 0, 0, 0, 0, 0, 0, 0, 0, 0, 0, 0, 0, 0, 0, 0, 0, 0, 0, 0, 0, 0, 0, 0, 0, 0, 0, 0, 0, 0, 0, 0, 0, 0, 0, 0, 0, 0, 0, 0, 0, 0, 0, 0, 0, 0, 0, 0, 0, 0, 0, 0, 0, 0, 0, 0, 0, 0, 0, 0, 0, 0, 0, 0, 0, 0, 0, 0, 0, 0, 0, 0, 0, 0, 0, 0, 0, 0, 0, 0, 0, 0, 0, 0, 0, 0, 0, 0, 0, 0, 0, 0, 0, 0, 0, 0, 0, 0, 0, 0, 0, 0, 0, 0, 0, 0, 0, 0, 0, 0, 0, 1, 0, 0, 0, 0, 0, 0, 0, 0, 0, 0, 0, 0, 0, 0, 0, 0, 0, 0, 0, 0, 0, 0, 0, 0, 0, 0, 0, 0, 0, 0, 0, 0, 0, 0, 0, 2, 0, 0, 0, 0, 0, 0, 0, 0, 0, 0, 0, 0, 0, 0, 0, 0, 0, 0, 0, 0, 0, 0, 0, 0, 0, 0, 0, 0, 0, 0, 0, 0, 0, 0, 0, 0, 0, 0, 0, 0, 1, 0, 0, 0, 0, 0, 0, 0, 0, 0, 0, 0, 0, 0, 0, 0, 0, 0, 0, 0, 0, 0, 0, 0, 0, 0, 0, 0, 0, 0, 0, 0, 0, 0, 0, 0, 0, 0, 0, 0, 0, 0, 0, 0, 0, 0, 0, 0, 0, 0, 0, 0, 0, 0, 0, 0, 0, 0, 0, 0, 0, 0, 0, 0, 0, 0, 0, 0, 0, 0, 0, 0, 0, 0, 0, 0, 0, 0, 0, 0, 0, 0, 0, 0, 0, 0, 0, 0, 0, 0, 0, 0, 0, 0, 0, 0, 0, 0, 0, 0, 0, 0, 0, 0, 0, 0, 0, 0, 0, 0, 0, 0, 0, 0, 0, 0, 0, 0, 0, 0, 0, 0, 0, 0, 0, 0, 0, 0, 0, 0, 0, 0, 0, 0, 0, 0, 0, 0, 0, 0, 0, 0, 0, 0, 0, 0, 0, 0, 0, 0, 0, 0, 0, 0, 0, 0, 0, 0, 0, 0, 0, 0, 0, 0, 0, 0, 0, 0, 0, 0, 0, 0, 0, 0, 0, 0, 0, 0, 0, 0, 0, 0, 0, 0, 0, 0, 0, 0, 0, 0, 0, 0, 0, 0, 0, 0, 0, 0, 0, 0, 0, 0, 0, 0, 0, 0, 0, 0, 0, 0, 0, 0, 0, 0, 0, 0, 0, 0, 0, 0, 0, 0, 0, 0, 0, 0, 0, 0, 0, 0, 0, 0, 0, 0, 0, 0, 0, 0, 0, 0, 0, 0, 0, 0, 0, 0, 0, 0, 0, 0, 0, 0, 0, 0, 0, 0, 0, 0, 0, 0, 0, 0, 0, 0, 0, 0, 0, 0, 0, 0, 0, 0, 0, 0, 0, 0, 0, 0, 0, 0, 0, 0, 0, 0, 0, 0, 0, 0, 0, 0, 0, 0, 0, 0, 0, 0, 0, 0, 0, 0, 0, 0, 0, 0, 0, 0, 0, 0, 0, 0, 0, 0, 0, 0, 0, 0, 0, 0, 0, 0, 0, 0, 0, 0, 0, 0, 0, 0, 0, 0, 0, 0, 0, 0, 0, 0, 0, 0, 0, 0, 0, 0, 0, 0, 0, 0, 0, 0, 0, 0, 0, 0, 0, 0, 0, 0, 0, 0, 0, 0, 0, 0, 0, 0, 0, 0, 0, 0, 0, 0, 0, 0, 0, 0, 0, 0, 0, 0, 0, 0, 0, 0, 0, 0, 0, 0, 0, 0, 0, 0, 0, 0, 0, 0, 0, 0, 0, 0, 0, 0, 0, 0, 0, 0, 0, 0, 0, 0, 0, 0, 0, 0, 0, 0, 0, 0, 0, 0, 0, 0, 0, 0, 0, 0, 0, 0, 0, 0, 0, 0, 0, 0, 0, 0, 0, 0, 0, 0, 0, 0, 0, 0, 0, 0, 0, 0, 0, 0, 0, 0, 0, 0, 0, 0, 0, 0, 0, 0, 0, 0, 0, 0, 0, 0, 0, 0, 0, 0, 0, 0, 0, 0, 0, 0, 0, 0, 0, 0, 0, 0, 0, 0, 0, 0, 0, 0, 0, 0, 0, 0, 0, 0, 0, 0, 0, 0, 0, 0, 1, 0, 0, 0, 0, 0, 0, 0, 0, 0, 0, 0, 0, 0, 0, 0, 0, 0, 0, 0, 0, 0, 0, 0, 0, 0, 0, 0, 0, 0, 0, 0, 0, 0, 0, 0, 0, 0, 0, 0, 0, 0, 0, 0, 0, 0, 0, 0, 0, 0, 0, 0, 0, 0, 0, 0, 0, 0, 0, 0, 0, 0, 0, 0, 0, 0, 0, 0, 0, 0, 0, 0, 0, 0, 0, 0, 0, 0, 0, 0, 0, 0, 0, 0, 0, 0, 0, 0, 0, 0, 0, 0, 0, 0, 0, 0, 0, 0, 0, 0, 0, 0, 0, 0, 0, 0, 0, 0, 0, 0, 0, 2, 0, 0, 0, 0, 0, 0, 0, 0, 0, 0, 0, 0, 0, 0, 0, 0, 0, 0, 0, 0, 0, 0, 0, 0, 0, 0, 0, 0, 0, 0, 0, 0, 0, 0, 0, 0, 0, 0, 0, 0, 0, 0, 0, 0, 0, 0, 0, 0, 0, 0, 0, 0, 0, 0, 0, 0, 0, 0, 0, 0, 0, 0, 0, 0, 0, 0, 0, 0, 0, 0, 0, 0, 0, 0, 0, 0, 0, 0, 0, 0, 0, 0, 0, 0, 0, 0, 0, 0, 0, 0, 0, 0, 0, 0, 0, 0, 0, 0, 0, 0, 0, 0, 0, 0, 0, 0, 0, 0, 0, 0, 0, 0, 0, 0, 0, 0, 0, 0, 0, 0, 0, 0, 0, 0, 0, 0, 0, 0, 0, 0, 0, 0, 0, 0, 0, 0, 0, 0, 0, 0, 0, 0, 0, 0, 0, 0, 0, 0, 0, 0, 0, 0, 0, 0, 0, 0, 0, 0, 0, 0, 0, 0, 0, 0, 0, 0, 0, 0, 0, 0, 0, 0, 0, 0, 0, 0, 0, 0, 0, 0, 0, 0, 0, 0, 0, 0, 0, 0, 0, 0, 0, 0, 0, 0, 0, 0, 0, 0, 0, 0, 0, 0, 0, 0, 0, 0, 0, 0, 0, 0, 0, 0, 0, 0, 0, 0, 0, 0, 0, 0, 0, 0, 0, 0, 0, 0, 0, 0, 0, 0, 0, 0, 0, 0, 0, 0, 0, 0, 0, 0, 0, 0, 0, 0, 0, 0, 0, 0, 0, 0, 0, 0, 0, 0, 0, 0, 0, 0, 0, 0, 0, 0, 0, 0, 0, 0, 0, 0, 0, 0, 0, 0, 0, 0, 0, 0, 0, 0, 0, 0, 0, 0, 0, 0, 0, 0, 0, 0, 0, 0, 0, 0, 0, 0, 0, 0, 0, 0, 0, 0, 0, 0, 0, 0, 0, 0, 0, 0, 0, 0, 0, 0, 0, 0, 0, 0, 0, 0, 0, 0, 0, 0, 0, 0, 0, 0, 0, 0, 0, 0, 0, 0, 0, 0, 0, 0, 0, 0, 0, 0, 0, 0, 0, 0, 0, 0, 0, 0, 0, 0, 0, 0, 0, 0, 0, 0, 0, 0, 0, 0, 0, 0, 0, 0, 0, 0, 0, 0, 0, 0, 0, 0, 0, 0, 0, 0, 0, 0, 0, 0, 0, 0, 0, 0, 0, 0, 0, 0, 0, 0, 0, 0, 0, 0, 0, 0, 0, 0, 0, 0, 0, 0, 0, 0, 0, 0, 0, 0, 0, 0, 0, 0, 0, 0, 0, 0, 0, 0, 0, 0, 0, 0, 0, 0, 0, 0, 0, 0, 0, 0, 0, 0, 0, 0, 0, 0, 0, 0, 0, 0, 0, 0, 0, 0, 0, 0, 0, 0, 0, 0, 0, 0, 0, 0, 0, 0, 0, 0, 0, 0, 0, 0, 0, 0, 0, 0, 0, 0, 0, 0, 0, 0, 0, 0, 0, 0, 0, 0, 0, 0, 0, 0, 0, 0, 0, 0, 0, 0, 0, 0, 0, 0, 0, 0, 0, 0, 0, 0, 0, 0, 0, 0, 0, 0, 0, 0, 0, 0, 0, 0, 0, 0, 0, 0, 0, 0, 0, 0, 0, 0, 0, 0, 0, 0, 0, 0, 0, 0, 0, 0, 0, 0, 0, 0, 0, 0, 0, 0, 0, 0, 0, 0, 0, 0, 0, 0, 0, 0, 0, 0, 0, 0, 0, 0, 0, 0, 0, 0, 0, 0, 0, 0, 0, 0, 0, 0, 0, 0, 0, 0, 0, 0, 0, 0, 0, 0, 0, 0, 0, 0, 0, 0, 0, 0, 0, 0, 0, 0, 0, 0, 0, 0, 0, 0, 0, 0, 0, 0, 0, 0, 0, 0, 0, 0, 0, 0, 0, 0, 0, 0, 0, 0, 0, 0, 0, 0, 0, 0, 0, 0, 0, 0, 0, 0, 0, 0, 0, 0, 0, 0, 0, 0, 0, 0, 0, 0, 0, 0, 0, 0, 0, 0, 0, 0, 0, 0, 0, 0, 0, 0, 0, 0, 0, 0, 0, 0, 0, 0, 0, 0, 0, 0, 0, 0, 0, 0, 0, 0, 0, 0, 0, 0, 0, 0, 0, 0, 0, 0, 0, 0, 0, 0, 0, 0, 0, 0, 0, 0, 0, 0, 1, 0, 0, 0, 0, 0, 0, 0, 0, 0, 0, 0, 0, 0, 0, 0, 0, 0, 0, 0, 0, 0, 0, 0, 0, 0, 0, 0, 0, 0, 0, 0, 0, 0, 0, 0, 0, 0, 0, 0, 0, 0, 0, 0, 0, 0, 0, 0, 0, 0, 0, 0, 0, 0, 0, 0, 0, 0, 0, 0, 0, 0, 0, 0, 0, 0, 0, 0, 0, 0, 0, 0, 0, 0, 0, 0, 0, 0, 0, 0, 0, 0, 0, 0, 0, 0, 0, 0, 0, 0, 0, 0, 0, 0, 0, 0, 0, 0, 0, 0, 0, 0, 0, 0, 0, 0, 0, 0, 1, 0, 0, 0, 0, 0, 0, 0, 0, 0, 0, 0, 0, 0, 0, 0, 0, 0, 0, 0, 0, 0, 0, 0, 0, 0, 0, 0, 0, 0, 0, 0, 0, 0, 0, 0, 0, 0, 0, 0, 0, 0, 0, 0, 0, 0, 0, 0, 0, 0, 0, 0, 0, 0, 0, 0, 0, 0, 0, 0, 0, 0, 0, 0, 0, 0, 0, 0, 0, 0, 0, 0, 0, 0, 0, 0, 0, 0, 0, 0, 0, 0, 0, 0, 0, 0, 0, 0, 0, 0, 0, 0, 0, 0, 0, 0, 0, 0, 0, 0, 0, 0, 0, 0, 0, 0, 0, 0, 0, 0, 0, 0, 0, 0, 0, 0, 0, 0, 0, 0, 0, 0, 0, 0, 0, 0, 0, 0, 0, 0, 0, 0, 0, 0, 0, 0, 0, 0, 0, 0, 0, 0, 0, 0, 0, 0, 0, 0, 0, 0, 0, 0, 0, 0, 0, 0, 0, 0, 0, 0, 0, 0, 0, 0, 0, 0, 0, 0, 0, 0, 0, 0, 0, 0, 0, 0, 0, 0, 0, 0, 0, 0, 0, 0, 0, 0, 0, 0, 0, 0, 0, 0, 0, 0, 0, 0, 0, 0, 0, 0, 0, 0, 0, 0, 0, 0, 0, 0, 0, 0, 0, 0, 0, 0, 0, 0, 0, 0, 0, 0, 0, 0, 0, 0, 0, 0, 0, 0, 0, 0, 0, 0, 0, 0, 0, 0, 0, 0, 0, 0, 0, 0, 0, 0, 0, 0, 0, 0, 0, 0, 0, 0, 0, 0, 0, 0, 0, 0, 0, 0, 0, 0, 0, 0, 0, 0, 0, 0, 0, 0, 0, 0, 0, 0, 0, 0, 0, 0, 0, 0, 0, 0, 0, 0, 0, 0, 0, 0, 0, 0, 0, 0, 0, 0, 0, 0, 0, 0, 0, 0, 0, 0, 0, 0, 0, 0, 0, 0, 0, 0, 0, 0, 0, 0, 0, 0, 0, 0, 0, 0, 0, 0, 0, 0, 0, 0, 0, 0, 0, 0, 0, 0, 0, 0, 0, 0, 0, 0, 0, 0, 0, 0, 0, 0, 0, 0, 0, 0, 0, 0, 0, 0, 0, 0, 0, 0, 0, 0, 0, 0, 0, 0, 0, 0, 0, 0, 0, 0, 0, 0, 0, 0, 0, 0, 0, 0, 0, 0, 0, 0, 0, 0, 0, 0, 0, 0, 0, 0, 0, 0, 0, 0, 0, 0, 0, 0, 0, 0, 0, 0, 0, 0, 0, 0, 0, 0, 0, 0, 0, 0, 0, 0, 0, 0, 0, 0, 0, 0, 0, 0, 0, 0, 0, 0, 0, 0, 0, 0, 0, 0, 0, 0, 0, 0, 0, 0, 0, 0, 0, 0, 0, 0, 0, 0, 0, 0, 0, 0, 0, 0, 0, 0, 0, 0, 0, 0, 0, 0, 0, 0, 0, 0, 0, 0, 2, 0, 1, 0], type: <class 'list'>, valid types: <class 'bytes'>, <class 'bytearray'>, file-like object",
     "output_type": "error",
     "traceback": [
      "\u001b[0;31m---------------------------------------------------------------------------\u001b[0m",
      "\u001b[0;31mParamValidationError\u001b[0m                      Traceback (most recent call last)",
      "\u001b[0;32m<ipython-input-51-c9ab54ae3a48>\u001b[0m in \u001b[0;36m<module>\u001b[0;34m()\u001b[0m\n\u001b[1;32m      1\u001b[0m response = runtime.invoke_endpoint(EndpointName = xgb_predictor.endpoint, # The name of the endpoint we created\n\u001b[1;32m      2\u001b[0m                                        \u001b[0mContentType\u001b[0m \u001b[0;34m=\u001b[0m \u001b[0;34m'text/csv'\u001b[0m\u001b[0;34m,\u001b[0m                     \u001b[0;31m# The data format that is expected\u001b[0m\u001b[0;34m\u001b[0m\u001b[0m\n\u001b[0;32m----> 3\u001b[0;31m                                        Body = test_bow)\n\u001b[0m",
      "\u001b[0;32m~/anaconda3/envs/python3/lib/python3.6/site-packages/botocore/client.py\u001b[0m in \u001b[0;36m_api_call\u001b[0;34m(self, *args, **kwargs)\u001b[0m\n\u001b[1;32m    355\u001b[0m                     \"%s() only accepts keyword arguments.\" % py_operation_name)\n\u001b[1;32m    356\u001b[0m             \u001b[0;31m# The \"self\" in this scope is referring to the BaseClient.\u001b[0m\u001b[0;34m\u001b[0m\u001b[0;34m\u001b[0m\u001b[0m\n\u001b[0;32m--> 357\u001b[0;31m             \u001b[0;32mreturn\u001b[0m \u001b[0mself\u001b[0m\u001b[0;34m.\u001b[0m\u001b[0m_make_api_call\u001b[0m\u001b[0;34m(\u001b[0m\u001b[0moperation_name\u001b[0m\u001b[0;34m,\u001b[0m \u001b[0mkwargs\u001b[0m\u001b[0;34m)\u001b[0m\u001b[0;34m\u001b[0m\u001b[0m\n\u001b[0m\u001b[1;32m    358\u001b[0m \u001b[0;34m\u001b[0m\u001b[0m\n\u001b[1;32m    359\u001b[0m         \u001b[0m_api_call\u001b[0m\u001b[0;34m.\u001b[0m\u001b[0m__name__\u001b[0m \u001b[0;34m=\u001b[0m \u001b[0mstr\u001b[0m\u001b[0;34m(\u001b[0m\u001b[0mpy_operation_name\u001b[0m\u001b[0;34m)\u001b[0m\u001b[0;34m\u001b[0m\u001b[0m\n",
      "\u001b[0;32m~/anaconda3/envs/python3/lib/python3.6/site-packages/botocore/client.py\u001b[0m in \u001b[0;36m_make_api_call\u001b[0;34m(self, operation_name, api_params)\u001b[0m\n\u001b[1;32m    632\u001b[0m         }\n\u001b[1;32m    633\u001b[0m         request_dict = self._convert_to_request_dict(\n\u001b[0;32m--> 634\u001b[0;31m             api_params, operation_model, context=request_context)\n\u001b[0m\u001b[1;32m    635\u001b[0m \u001b[0;34m\u001b[0m\u001b[0m\n\u001b[1;32m    636\u001b[0m         \u001b[0mservice_id\u001b[0m \u001b[0;34m=\u001b[0m \u001b[0mself\u001b[0m\u001b[0;34m.\u001b[0m\u001b[0m_service_model\u001b[0m\u001b[0;34m.\u001b[0m\u001b[0mservice_id\u001b[0m\u001b[0;34m.\u001b[0m\u001b[0mhyphenize\u001b[0m\u001b[0;34m(\u001b[0m\u001b[0;34m)\u001b[0m\u001b[0;34m\u001b[0m\u001b[0m\n",
      "\u001b[0;32m~/anaconda3/envs/python3/lib/python3.6/site-packages/botocore/client.py\u001b[0m in \u001b[0;36m_convert_to_request_dict\u001b[0;34m(self, api_params, operation_model, context)\u001b[0m\n\u001b[1;32m    680\u001b[0m             api_params, operation_model, context)\n\u001b[1;32m    681\u001b[0m         request_dict = self._serializer.serialize_to_request(\n\u001b[0;32m--> 682\u001b[0;31m             api_params, operation_model)\n\u001b[0m\u001b[1;32m    683\u001b[0m         \u001b[0;32mif\u001b[0m \u001b[0;32mnot\u001b[0m \u001b[0mself\u001b[0m\u001b[0;34m.\u001b[0m\u001b[0m_client_config\u001b[0m\u001b[0;34m.\u001b[0m\u001b[0minject_host_prefix\u001b[0m\u001b[0;34m:\u001b[0m\u001b[0;34m\u001b[0m\u001b[0m\n\u001b[1;32m    684\u001b[0m             \u001b[0mrequest_dict\u001b[0m\u001b[0;34m.\u001b[0m\u001b[0mpop\u001b[0m\u001b[0;34m(\u001b[0m\u001b[0;34m'host_prefix'\u001b[0m\u001b[0;34m,\u001b[0m \u001b[0;32mNone\u001b[0m\u001b[0;34m)\u001b[0m\u001b[0;34m\u001b[0m\u001b[0m\n",
      "\u001b[0;32m~/anaconda3/envs/python3/lib/python3.6/site-packages/botocore/validate.py\u001b[0m in \u001b[0;36mserialize_to_request\u001b[0;34m(self, parameters, operation_model)\u001b[0m\n\u001b[1;32m    295\u001b[0m                                                     operation_model.input_shape)\n\u001b[1;32m    296\u001b[0m             \u001b[0;32mif\u001b[0m \u001b[0mreport\u001b[0m\u001b[0;34m.\u001b[0m\u001b[0mhas_errors\u001b[0m\u001b[0;34m(\u001b[0m\u001b[0;34m)\u001b[0m\u001b[0;34m:\u001b[0m\u001b[0;34m\u001b[0m\u001b[0m\n\u001b[0;32m--> 297\u001b[0;31m                 \u001b[0;32mraise\u001b[0m \u001b[0mParamValidationError\u001b[0m\u001b[0;34m(\u001b[0m\u001b[0mreport\u001b[0m\u001b[0;34m=\u001b[0m\u001b[0mreport\u001b[0m\u001b[0;34m.\u001b[0m\u001b[0mgenerate_report\u001b[0m\u001b[0;34m(\u001b[0m\u001b[0;34m)\u001b[0m\u001b[0;34m)\u001b[0m\u001b[0;34m\u001b[0m\u001b[0m\n\u001b[0m\u001b[1;32m    298\u001b[0m         return self._serializer.serialize_to_request(parameters,\n\u001b[1;32m    299\u001b[0m                                                      operation_model)\n",
      "\u001b[0;31mParamValidationError\u001b[0m: Parameter validation failed:\nInvalid type for parameter Body, value: [0, 0, 0, 0, 0, 0, 0, 0, 0, 0, 0, 0, 0, 0, 0, 0, 0, 0, 0, 0, 0, 0, 0, 0, 0, 0, 0, 0, 0, 0, 0, 0, 0, 0, 0, 0, 0, 0, 0, 0, 0, 0, 0, 0, 0, 0, 0, 0, 0, 0, 0, 0, 0, 0, 0, 0, 0, 0, 0, 0, 0, 0, 0, 0, 0, 0, 0, 0, 0, 0, 0, 0, 0, 0, 0, 0, 0, 0, 0, 0, 0, 0, 0, 0, 0, 0, 0, 0, 0, 0, 0, 0, 0, 0, 0, 0, 0, 0, 0, 0, 0, 0, 0, 0, 0, 0, 0, 0, 0, 0, 0, 0, 0, 0, 0, 0, 0, 0, 0, 0, 0, 0, 0, 0, 0, 0, 0, 0, 0, 0, 0, 0, 0, 0, 0, 0, 0, 0, 0, 0, 0, 0, 0, 0, 0, 0, 0, 0, 0, 0, 0, 0, 0, 0, 0, 0, 0, 0, 0, 0, 0, 0, 0, 0, 0, 0, 0, 0, 0, 0, 0, 0, 0, 0, 0, 0, 0, 0, 0, 0, 0, 0, 0, 0, 0, 0, 0, 0, 0, 0, 0, 0, 0, 0, 0, 0, 0, 0, 0, 0, 0, 0, 0, 0, 0, 0, 0, 0, 0, 0, 0, 0, 0, 0, 0, 0, 0, 0, 0, 0, 0, 0, 0, 0, 0, 0, 1, 0, 0, 0, 0, 0, 0, 0, 0, 0, 0, 0, 0, 0, 0, 0, 0, 0, 0, 0, 0, 0, 0, 0, 0, 0, 0, 0, 0, 0, 1, 0, 0, 0, 0, 0, 0, 0, 0, 0, 0, 0, 0, 0, 0, 0, 0, 0, 0, 0, 0, 0, 0, 0, 0, 0, 0, 0, 0, 0, 0, 0, 0, 0, 0, 0, 0, 0, 0, 0, 0, 0, 0, 0, 0, 0, 0, 0, 0, 0, 0, 0, 0, 0, 0, 0, 0, 0, 0, 0, 0, 0, 0, 0, 0, 0, 0, 0, 0, 0, 0, 0, 0, 0, 0, 0, 0, 0, 0, 0, 0, 0, 0, 0, 0, 0, 0, 0, 0, 0, 0, 0, 0, 0, 0, 0, 0, 0, 0, 0, 0, 0, 0, 0, 0, 0, 0, 0, 0, 0, 0, 0, 0, 0, 0, 0, 0, 0, 0, 0, 0, 0, 0, 0, 0, 0, 0, 0, 0, 0, 0, 0, 0, 0, 0, 0, 0, 0, 0, 0, 0, 0, 0, 0, 0, 0, 0, 0, 0, 0, 0, 0, 0, 0, 0, 0, 0, 0, 0, 0, 0, 0, 0, 0, 0, 0, 0, 0, 0, 0, 0, 0, 0, 0, 0, 0, 0, 0, 0, 0, 0, 0, 0, 0, 0, 0, 0, 0, 0, 0, 0, 0, 0, 0, 0, 0, 0, 0, 0, 0, 0, 0, 0, 0, 0, 0, 0, 0, 0, 0, 0, 0, 0, 0, 0, 0, 0, 0, 0, 0, 0, 0, 0, 0, 0, 0, 0, 0, 0, 0, 0, 0, 0, 0, 0, 0, 0, 0, 0, 0, 0, 0, 0, 0, 0, 0, 0, 0, 0, 0, 0, 0, 0, 0, 0, 0, 0, 0, 0, 0, 0, 0, 0, 0, 0, 0, 0, 0, 0, 0, 0, 0, 0, 0, 0, 0, 0, 0, 0, 0, 0, 0, 0, 0, 0, 0, 0, 0, 0, 0, 0, 0, 0, 0, 0, 0, 0, 0, 0, 0, 0, 0, 0, 0, 0, 0, 0, 0, 0, 0, 0, 0, 0, 0, 0, 0, 0, 0, 0, 0, 0, 0, 0, 0, 0, 0, 0, 0, 0, 0, 0, 0, 0, 0, 0, 0, 0, 0, 0, 0, 0, 0, 0, 0, 0, 0, 0, 0, 0, 0, 0, 0, 0, 0, 0, 0, 0, 0, 0, 0, 0, 0, 0, 0, 0, 0, 0, 0, 0, 0, 0, 0, 0, 0, 0, 0, 0, 0, 0, 0, 1, 0, 0, 0, 0, 0, 0, 0, 0, 0, 0, 0, 0, 0, 0, 0, 0, 0, 0, 0, 0, 0, 0, 0, 0, 0, 0, 0, 0, 0, 0, 0, 0, 0, 0, 0, 0, 0, 0, 0, 0, 0, 0, 0, 0, 0, 0, 0, 0, 0, 0, 0, 0, 0, 0, 0, 0, 0, 0, 0, 0, 0, 0, 0, 0, 0, 0, 0, 0, 0, 0, 0, 0, 0, 0, 0, 0, 0, 0, 0, 0, 0, 0, 0, 0, 0, 0, 0, 0, 0, 0, 0, 0, 0, 0, 0, 0, 0, 0, 0, 0, 0, 0, 0, 0, 0, 0, 0, 0, 0, 0, 0, 0, 0, 0, 0, 0, 0, 0, 0, 0, 0, 0, 0, 0, 0, 0, 0, 0, 0, 0, 0, 0, 0, 0, 0, 0, 0, 0, 0, 0, 0, 0, 0, 0, 0, 0, 0, 0, 0, 0, 0, 0, 0, 0, 0, 0, 0, 0, 0, 0, 0, 0, 0, 0, 0, 0, 0, 0, 0, 0, 0, 0, 0, 0, 0, 0, 0, 0, 0, 0, 0, 0, 0, 0, 0, 0, 0, 0, 0, 0, 0, 0, 0, 0, 0, 0, 0, 0, 0, 0, 0, 0, 0, 0, 0, 0, 0, 0, 0, 0, 0, 0, 0, 0, 0, 0, 0, 0, 0, 0, 0, 0, 0, 0, 0, 0, 0, 0, 0, 0, 0, 0, 0, 0, 0, 0, 0, 0, 0, 0, 0, 0, 0, 0, 0, 0, 0, 0, 0, 0, 0, 0, 0, 1, 0, 0, 0, 0, 0, 0, 0, 0, 0, 0, 0, 0, 0, 0, 0, 0, 0, 0, 0, 0, 0, 0, 0, 0, 0, 0, 0, 0, 0, 0, 0, 0, 0, 0, 0, 0, 0, 0, 0, 0, 0, 0, 0, 0, 0, 0, 0, 0, 0, 0, 0, 0, 0, 0, 0, 0, 0, 0, 0, 0, 0, 0, 0, 0, 0, 0, 0, 0, 0, 0, 0, 0, 0, 0, 0, 0, 0, 0, 0, 0, 0, 0, 0, 0, 0, 0, 1, 0, 0, 0, 0, 0, 0, 0, 0, 0, 0, 0, 0, 0, 0, 0, 0, 0, 0, 0, 0, 0, 0, 0, 0, 0, 0, 0, 0, 0, 0, 0, 0, 0, 0, 0, 0, 0, 0, 0, 0, 0, 0, 0, 0, 0, 0, 0, 0, 0, 0, 0, 0, 0, 0, 0, 0, 0, 0, 0, 0, 0, 0, 0, 0, 0, 0, 0, 0, 0, 0, 0, 0, 0, 0, 0, 0, 0, 0, 0, 0, 0, 0, 0, 0, 0, 0, 0, 0, 0, 0, 0, 0, 0, 0, 0, 0, 0, 0, 0, 0, 0, 0, 0, 0, 0, 0, 0, 0, 0, 0, 0, 0, 0, 0, 0, 0, 0, 0, 0, 0, 0, 0, 0, 0, 0, 0, 0, 0, 0, 0, 0, 0, 0, 0, 0, 0, 0, 0, 0, 0, 0, 0, 0, 0, 0, 0, 0, 0, 0, 0, 0, 0, 0, 0, 0, 0, 0, 0, 0, 0, 0, 0, 0, 0, 0, 0, 0, 0, 0, 0, 0, 0, 0, 0, 0, 0, 0, 0, 0, 0, 0, 0, 0, 0, 0, 0, 0, 0, 0, 0, 0, 0, 0, 0, 0, 0, 0, 0, 0, 0, 0, 0, 0, 0, 0, 0, 0, 0, 0, 0, 0, 0, 0, 0, 0, 0, 0, 0, 0, 0, 0, 0, 0, 0, 0, 0, 0, 0, 0, 0, 0, 0, 0, 0, 0, 0, 0, 0, 0, 0, 0, 0, 0, 0, 0, 0, 0, 0, 0, 0, 0, 0, 1, 0, 0, 0, 0, 0, 0, 0, 0, 0, 0, 0, 0, 0, 0, 0, 0, 0, 0, 0, 0, 0, 0, 0, 0, 0, 0, 0, 0, 0, 0, 0, 0, 0, 0, 0, 0, 0, 0, 0, 0, 0, 0, 0, 0, 0, 0, 0, 0, 0, 0, 0, 0, 0, 0, 0, 1, 0, 0, 0, 0, 0, 0, 0, 0, 0, 0, 0, 0, 0, 0, 0, 0, 0, 0, 0, 0, 0, 0, 0, 0, 0, 0, 0, 0, 0, 0, 0, 0, 0, 0, 0, 0, 0, 0, 0, 0, 0, 0, 0, 0, 0, 0, 0, 0, 0, 0, 0, 0, 0, 0, 0, 0, 0, 0, 0, 0, 0, 0, 0, 0, 0, 0, 0, 0, 0, 0, 0, 0, 0, 0, 0, 0, 0, 0, 0, 0, 0, 0, 0, 0, 0, 0, 0, 0, 0, 0, 0, 0, 0, 0, 0, 0, 0, 0, 0, 0, 0, 0, 0, 0, 0, 0, 0, 0, 0, 0, 0, 0, 0, 0, 0, 0, 0, 0, 0, 0, 0, 0, 0, 0, 0, 0, 0, 0, 0, 0, 0, 0, 0, 0, 0, 0, 0, 0, 0, 0, 0, 0, 0, 0, 0, 0, 0, 0, 0, 0, 0, 0, 0, 0, 0, 0, 0, 0, 0, 0, 0, 0, 0, 0, 0, 0, 0, 0, 0, 0, 0, 0, 0, 0, 0, 0, 0, 0, 0, 0, 0, 0, 0, 0, 0, 0, 0, 0, 0, 0, 0, 0, 0, 0, 0, 0, 0, 0, 0, 0, 0, 0, 0, 0, 0, 0, 0, 0, 0, 0, 0, 0, 0, 0, 0, 0, 0, 0, 0, 0, 0, 0, 0, 0, 0, 0, 0, 0, 0, 0, 0, 0, 0, 0, 0, 0, 0, 0, 0, 0, 0, 0, 0, 0, 0, 0, 0, 0, 0, 0, 0, 0, 0, 0, 0, 0, 0, 0, 0, 0, 0, 0, 0, 0, 0, 0, 0, 0, 0, 0, 0, 0, 0, 0, 0, 0, 0, 0, 0, 0, 0, 0, 0, 0, 0, 0, 0, 0, 0, 0, 0, 0, 0, 0, 0, 0, 0, 0, 0, 0, 0, 0, 0, 0, 0, 0, 0, 0, 0, 0, 0, 0, 0, 0, 0, 0, 0, 0, 0, 0, 0, 0, 0, 0, 0, 0, 0, 0, 0, 0, 0, 0, 0, 0, 0, 0, 0, 0, 0, 0, 0, 0, 0, 0, 0, 0, 0, 0, 0, 0, 0, 0, 0, 0, 0, 0, 0, 0, 0, 0, 0, 0, 0, 0, 0, 0, 0, 0, 0, 0, 0, 0, 0, 0, 0, 0, 0, 0, 0, 0, 0, 0, 0, 0, 0, 0, 0, 0, 0, 0, 0, 0, 0, 0, 0, 0, 0, 0, 0, 0, 0, 0, 0, 0, 0, 0, 0, 0, 0, 0, 0, 0, 0, 0, 0, 0, 0, 0, 0, 0, 0, 0, 0, 0, 0, 0, 0, 0, 0, 0, 0, 0, 0, 0, 0, 0, 0, 0, 0, 0, 0, 0, 0, 0, 0, 0, 0, 0, 0, 0, 0, 0, 0, 0, 0, 0, 0, 0, 0, 0, 0, 0, 0, 0, 0, 0, 0, 0, 0, 0, 0, 0, 0, 0, 0, 0, 0, 0, 0, 0, 0, 0, 0, 0, 0, 0, 0, 0, 0, 0, 0, 0, 0, 0, 0, 0, 0, 0, 0, 0, 0, 0, 0, 0, 0, 0, 0, 0, 0, 0, 0, 0, 0, 0, 0, 0, 0, 0, 0, 0, 0, 0, 0, 0, 0, 0, 0, 0, 0, 0, 0, 0, 0, 0, 0, 0, 0, 0, 0, 0, 0, 0, 0, 0, 0, 0, 0, 0, 0, 0, 0, 0, 0, 0, 0, 0, 0, 0, 0, 0, 0, 0, 0, 0, 0, 0, 0, 0, 0, 0, 0, 0, 0, 0, 0, 0, 0, 0, 0, 0, 0, 0, 0, 0, 0, 0, 0, 0, 0, 0, 0, 0, 0, 0, 0, 0, 0, 0, 0, 0, 0, 0, 0, 0, 0, 0, 0, 0, 0, 0, 0, 0, 0, 0, 0, 0, 0, 0, 0, 0, 0, 0, 0, 0, 0, 0, 0, 0, 0, 0, 0, 0, 0, 0, 0, 0, 0, 0, 0, 0, 0, 0, 0, 0, 0, 0, 0, 0, 0, 0, 0, 0, 0, 0, 0, 0, 0, 0, 0, 0, 0, 0, 0, 0, 0, 0, 0, 0, 0, 0, 0, 0, 0, 0, 0, 0, 0, 0, 0, 0, 0, 1, 0, 0, 0, 0, 0, 0, 0, 0, 0, 0, 0, 0, 0, 0, 0, 0, 0, 0, 0, 0, 0, 0, 0, 0, 0, 0, 0, 0, 0, 0, 0, 0, 0, 0, 0, 0, 0, 0, 0, 0, 0, 0, 0, 0, 0, 0, 0, 0, 0, 0, 0, 0, 0, 0, 0, 0, 0, 0, 0, 0, 0, 0, 0, 0, 0, 0, 0, 0, 0, 0, 0, 0, 0, 0, 1, 0, 0, 0, 0, 0, 0, 0, 0, 0, 0, 0, 0, 0, 0, 0, 0, 0, 0, 0, 0, 1, 0, 0, 1, 0, 0, 0, 0, 0, 0, 0, 0, 0, 0, 0, 0, 0, 0, 0, 0, 0, 0, 0, 0, 0, 0, 0, 0, 0, 0, 0, 0, 0, 0, 0, 0, 0, 0, 0, 0, 0, 0, 0, 0, 0, 0, 0, 0, 0, 0, 0, 0, 0, 0, 0, 0, 0, 0, 0, 0, 0, 0, 0, 0, 0, 0, 0, 0, 0, 0, 0, 0, 0, 0, 0, 0, 0, 0, 0, 0, 0, 0, 0, 0, 0, 0, 0, 0, 0, 0, 0, 0, 0, 0, 0, 0, 0, 0, 0, 0, 0, 0, 0, 0, 0, 0, 0, 0, 0, 0, 0, 0, 0, 0, 0, 0, 0, 0, 0, 0, 0, 0, 0, 0, 0, 0, 0, 0, 0, 0, 0, 0, 0, 0, 0, 0, 0, 0, 0, 0, 0, 0, 0, 0, 0, 0, 0, 0, 0, 0, 0, 0, 0, 0, 0, 0, 0, 0, 0, 0, 0, 0, 0, 0, 0, 0, 0, 0, 0, 0, 0, 0, 0, 0, 0, 0, 0, 0, 0, 0, 0, 0, 0, 0, 0, 0, 0, 0, 0, 0, 0, 0, 0, 0, 0, 0, 0, 0, 0, 0, 0, 0, 0, 0, 0, 0, 0, 0, 0, 0, 0, 0, 0, 0, 0, 0, 0, 0, 0, 0, 0, 0, 0, 0, 0, 0, 0, 0, 0, 0, 0, 0, 0, 0, 0, 0, 0, 0, 0, 0, 0, 0, 0, 0, 0, 0, 0, 0, 0, 0, 0, 0, 0, 0, 0, 0, 0, 0, 0, 0, 0, 0, 0, 0, 0, 0, 0, 0, 0, 0, 0, 0, 0, 0, 0, 0, 0, 0, 0, 0, 0, 0, 0, 0, 0, 0, 0, 0, 0, 0, 0, 0, 0, 0, 0, 0, 0, 0, 0, 0, 0, 0, 0, 0, 0, 0, 0, 0, 0, 0, 0, 0, 0, 0, 0, 0, 0, 0, 0, 0, 0, 0, 0, 0, 0, 0, 0, 0, 0, 0, 0, 0, 0, 0, 0, 0, 0, 0, 0, 0, 0, 0, 0, 0, 0, 0, 0, 0, 0, 0, 0, 0, 0, 0, 0, 0, 0, 0, 0, 0, 0, 0, 0, 0, 0, 0, 0, 0, 0, 0, 0, 0, 0, 0, 0, 0, 0, 0, 0, 0, 0, 0, 0, 0, 0, 0, 0, 0, 0, 0, 0, 0, 0, 0, 0, 0, 0, 0, 0, 0, 0, 0, 0, 0, 0, 0, 0, 0, 0, 0, 0, 0, 0, 0, 0, 0, 0, 0, 0, 0, 0, 0, 0, 0, 0, 0, 0, 0, 0, 0, 0, 0, 0, 0, 0, 0, 0, 0, 0, 0, 0, 0, 0, 0, 0, 0, 0, 0, 0, 0, 0, 0, 0, 0, 0, 0, 0, 0, 0, 0, 0, 0, 0, 0, 0, 0, 0, 0, 0, 0, 1, 0, 0, 0, 0, 0, 0, 0, 0, 0, 0, 0, 0, 0, 0, 0, 0, 0, 0, 0, 0, 0, 0, 0, 0, 0, 0, 0, 0, 0, 0, 0, 0, 0, 0, 0, 0, 0, 0, 0, 0, 0, 0, 0, 0, 0, 0, 0, 0, 0, 0, 0, 0, 0, 0, 0, 0, 0, 0, 0, 0, 0, 0, 0, 0, 0, 0, 0, 0, 0, 0, 0, 0, 0, 0, 0, 0, 0, 0, 0, 0, 0, 0, 0, 0, 0, 0, 0, 0, 0, 0, 0, 0, 0, 0, 0, 0, 0, 0, 0, 0, 0, 0, 0, 0, 0, 0, 0, 0, 0, 0, 0, 0, 0, 0, 0, 0, 0, 0, 0, 0, 0, 0, 0, 0, 0, 0, 0, 0, 0, 0, 0, 0, 0, 0, 0, 0, 0, 0, 0, 0, 0, 0, 0, 0, 0, 0, 0, 0, 0, 0, 0, 0, 0, 0, 0, 0, 0, 0, 0, 0, 0, 0, 0, 0, 0, 0, 0, 0, 0, 0, 0, 0, 0, 0, 0, 0, 0, 0, 0, 0, 0, 0, 0, 0, 0, 0, 0, 0, 0, 0, 0, 0, 0, 0, 0, 0, 0, 0, 0, 0, 0, 0, 0, 0, 0, 0, 0, 0, 0, 0, 0, 0, 0, 0, 0, 0, 0, 0, 0, 0, 0, 0, 0, 0, 0, 0, 0, 0, 0, 0, 0, 0, 0, 0, 0, 0, 0, 0, 0, 0, 0, 0, 0, 0, 0, 0, 0, 0, 0, 0, 0, 0, 0, 0, 0, 0, 0, 0, 0, 0, 0, 0, 0, 0, 0, 0, 0, 0, 0, 0, 0, 0, 0, 0, 0, 0, 0, 0, 0, 0, 0, 0, 0, 0, 0, 0, 0, 0, 0, 0, 0, 0, 0, 0, 0, 0, 0, 0, 0, 0, 0, 0, 0, 0, 0, 0, 0, 0, 0, 0, 0, 0, 0, 0, 0, 0, 0, 0, 0, 0, 0, 0, 0, 0, 0, 0, 0, 0, 0, 0, 0, 0, 0, 0, 0, 0, 0, 0, 0, 0, 0, 0, 0, 0, 0, 0, 0, 0, 0, 0, 0, 0, 0, 0, 0, 0, 0, 0, 0, 0, 0, 0, 0, 0, 0, 0, 0, 0, 0, 0, 0, 0, 0, 0, 0, 0, 0, 0, 0, 0, 0, 0, 0, 0, 0, 0, 0, 0, 0, 0, 0, 0, 0, 0, 0, 0, 0, 0, 0, 0, 0, 0, 0, 0, 0, 0, 0, 0, 0, 0, 0, 0, 0, 0, 0, 0, 0, 0, 0, 0, 0, 0, 0, 0, 0, 0, 0, 0, 0, 0, 0, 0, 0, 0, 0, 0, 0, 0, 0, 0, 0, 0, 0, 0, 0, 0, 0, 0, 0, 0, 0, 0, 0, 0, 0, 0, 0, 0, 0, 0, 0, 0, 0, 0, 0, 0, 0, 0, 0, 0, 0, 0, 0, 0, 0, 0, 0, 0, 0, 0, 0, 0, 0, 0, 0, 0, 0, 0, 0, 0, 0, 0, 0, 0, 0, 0, 0, 0, 0, 0, 0, 0, 0, 0, 0, 0, 0, 0, 0, 0, 0, 0, 1, 0, 0, 0, 0, 0, 0, 0, 0, 0, 0, 0, 0, 0, 0, 0, 0, 0, 0, 0, 0, 0, 0, 0, 0, 0, 0, 0, 0, 0, 0, 0, 0, 0, 0, 0, 2, 0, 0, 0, 0, 0, 0, 0, 0, 0, 0, 0, 0, 0, 0, 0, 0, 0, 0, 0, 0, 0, 0, 0, 0, 0, 0, 0, 0, 0, 0, 0, 0, 0, 0, 0, 0, 0, 0, 0, 0, 1, 0, 0, 0, 0, 0, 0, 0, 0, 0, 0, 0, 0, 0, 0, 0, 0, 0, 0, 0, 0, 0, 0, 0, 0, 0, 0, 0, 0, 0, 0, 0, 0, 0, 0, 0, 0, 0, 0, 0, 0, 0, 0, 0, 0, 0, 0, 0, 0, 0, 0, 0, 0, 0, 0, 0, 0, 0, 0, 0, 0, 0, 0, 0, 0, 0, 0, 0, 0, 0, 0, 0, 0, 0, 0, 0, 0, 0, 0, 0, 0, 0, 0, 0, 0, 0, 0, 0, 0, 0, 0, 0, 0, 0, 0, 0, 0, 0, 0, 0, 0, 0, 0, 0, 0, 0, 0, 0, 0, 0, 0, 0, 0, 0, 0, 0, 0, 0, 0, 0, 0, 0, 0, 0, 0, 0, 0, 0, 0, 0, 0, 0, 0, 0, 0, 0, 0, 0, 0, 0, 0, 0, 0, 0, 0, 0, 0, 0, 0, 0, 0, 0, 0, 0, 0, 0, 0, 0, 0, 0, 0, 0, 0, 0, 0, 0, 0, 0, 0, 0, 0, 0, 0, 0, 0, 0, 0, 0, 0, 0, 0, 0, 0, 0, 0, 0, 0, 0, 0, 0, 0, 0, 0, 0, 0, 0, 0, 0, 0, 0, 0, 0, 0, 0, 0, 0, 0, 0, 0, 0, 0, 0, 0, 0, 0, 0, 0, 0, 0, 0, 0, 0, 0, 0, 0, 0, 0, 0, 0, 0, 0, 0, 0, 0, 0, 0, 0, 0, 0, 0, 0, 0, 0, 0, 0, 0, 0, 0, 0, 0, 0, 0, 0, 0, 0, 0, 0, 0, 0, 0, 0, 0, 0, 0, 0, 0, 0, 0, 0, 0, 0, 0, 0, 0, 0, 0, 0, 0, 0, 0, 0, 0, 0, 0, 0, 0, 0, 0, 0, 0, 0, 0, 0, 0, 0, 0, 0, 0, 0, 0, 0, 0, 0, 0, 0, 0, 0, 0, 0, 0, 0, 0, 0, 0, 0, 0, 0, 0, 0, 0, 0, 0, 0, 0, 0, 0, 0, 0, 0, 0, 0, 0, 0, 0, 0, 0, 0, 0, 0, 0, 0, 0, 0, 0, 0, 0, 0, 0, 0, 0, 0, 0, 0, 0, 0, 0, 0, 0, 0, 0, 0, 0, 0, 0, 0, 0, 0, 0, 0, 0, 0, 0, 0, 0, 0, 0, 0, 0, 0, 0, 0, 0, 0, 0, 0, 0, 0, 0, 0, 0, 0, 0, 0, 0, 0, 0, 0, 0, 0, 0, 0, 0, 0, 0, 0, 0, 0, 0, 0, 0, 0, 0, 0, 0, 0, 0, 0, 0, 0, 0, 0, 0, 0, 0, 0, 0, 0, 0, 0, 0, 0, 0, 0, 0, 0, 0, 0, 0, 0, 0, 0, 0, 0, 0, 0, 0, 0, 0, 0, 0, 0, 0, 0, 0, 0, 0, 0, 0, 0, 0, 0, 0, 0, 0, 0, 0, 0, 0, 0, 0, 0, 0, 0, 0, 0, 0, 0, 0, 0, 0, 0, 0, 0, 0, 0, 0, 0, 0, 0, 0, 0, 0, 0, 0, 0, 0, 0, 0, 1, 0, 0, 0, 0, 0, 0, 0, 0, 0, 0, 0, 0, 0, 0, 0, 0, 0, 0, 0, 0, 0, 0, 0, 0, 0, 0, 0, 0, 0, 0, 0, 0, 0, 0, 0, 0, 0, 0, 0, 0, 0, 0, 0, 0, 0, 0, 0, 0, 0, 0, 0, 0, 0, 0, 0, 0, 0, 0, 0, 0, 0, 0, 0, 0, 0, 0, 0, 0, 0, 0, 0, 0, 0, 0, 0, 0, 0, 0, 0, 0, 0, 0, 0, 0, 0, 0, 0, 0, 0, 0, 0, 0, 0, 0, 0, 0, 0, 0, 0, 0, 0, 0, 0, 0, 0, 0, 0, 0, 0, 0, 2, 0, 0, 0, 0, 0, 0, 0, 0, 0, 0, 0, 0, 0, 0, 0, 0, 0, 0, 0, 0, 0, 0, 0, 0, 0, 0, 0, 0, 0, 0, 0, 0, 0, 0, 0, 0, 0, 0, 0, 0, 0, 0, 0, 0, 0, 0, 0, 0, 0, 0, 0, 0, 0, 0, 0, 0, 0, 0, 0, 0, 0, 0, 0, 0, 0, 0, 0, 0, 0, 0, 0, 0, 0, 0, 0, 0, 0, 0, 0, 0, 0, 0, 0, 0, 0, 0, 0, 0, 0, 0, 0, 0, 0, 0, 0, 0, 0, 0, 0, 0, 0, 0, 0, 0, 0, 0, 0, 0, 0, 0, 0, 0, 0, 0, 0, 0, 0, 0, 0, 0, 0, 0, 0, 0, 0, 0, 0, 0, 0, 0, 0, 0, 0, 0, 0, 0, 0, 0, 0, 0, 0, 0, 0, 0, 0, 0, 0, 0, 0, 0, 0, 0, 0, 0, 0, 0, 0, 0, 0, 0, 0, 0, 0, 0, 0, 0, 0, 0, 0, 0, 0, 0, 0, 0, 0, 0, 0, 0, 0, 0, 0, 0, 0, 0, 0, 0, 0, 0, 0, 0, 0, 0, 0, 0, 0, 0, 0, 0, 0, 0, 0, 0, 0, 0, 0, 0, 0, 0, 0, 0, 0, 0, 0, 0, 0, 0, 0, 0, 0, 0, 0, 0, 0, 0, 0, 0, 0, 0, 0, 0, 0, 0, 0, 0, 0, 0, 0, 0, 0, 0, 0, 0, 0, 0, 0, 0, 0, 0, 0, 0, 0, 0, 0, 0, 0, 0, 0, 0, 0, 0, 0, 0, 0, 0, 0, 0, 0, 0, 0, 0, 0, 0, 0, 0, 0, 0, 0, 0, 0, 0, 0, 0, 0, 0, 0, 0, 0, 0, 0, 0, 0, 0, 0, 0, 0, 0, 0, 0, 0, 0, 0, 0, 0, 0, 0, 0, 0, 0, 0, 0, 0, 0, 0, 0, 0, 0, 0, 0, 0, 0, 0, 0, 0, 0, 0, 0, 0, 0, 0, 0, 0, 0, 0, 0, 0, 0, 0, 0, 0, 0, 0, 0, 0, 0, 0, 0, 0, 0, 0, 0, 0, 0, 0, 0, 0, 0, 0, 0, 0, 0, 0, 0, 0, 0, 0, 0, 0, 0, 0, 0, 0, 0, 0, 0, 0, 0, 0, 0, 0, 0, 0, 0, 0, 0, 0, 0, 0, 0, 0, 0, 0, 0, 0, 0, 0, 0, 0, 0, 0, 0, 0, 0, 0, 0, 0, 0, 0, 0, 0, 0, 0, 0, 0, 0, 0, 0, 0, 0, 0, 0, 0, 0, 0, 0, 0, 0, 0, 0, 0, 0, 0, 0, 0, 0, 0, 0, 0, 0, 0, 0, 0, 0, 0, 0, 0, 0, 0, 0, 0, 0, 0, 0, 0, 0, 0, 0, 0, 0, 0, 0, 0, 0, 0, 0, 0, 0, 0, 0, 0, 0, 0, 0, 0, 0, 0, 0, 0, 0, 0, 0, 0, 0, 0, 0, 0, 0, 0, 0, 0, 0, 0, 0, 0, 0, 0, 0, 0, 0, 0, 0, 0, 0, 0, 0, 0, 0, 0, 0, 0, 0, 0, 0, 0, 0, 0, 0, 0, 0, 0, 0, 0, 0, 0, 0, 0, 0, 0, 0, 0, 0, 0, 0, 0, 0, 0, 0, 0, 0, 0, 0, 0, 0, 0, 0, 0, 0, 0, 0, 0, 0, 0, 0, 0, 0, 0, 0, 0, 0, 0, 0, 0, 0, 0, 0, 0, 0, 0, 0, 0, 0, 0, 0, 0, 0, 0, 0, 0, 0, 0, 0, 0, 0, 0, 0, 0, 0, 0, 0, 0, 0, 0, 0, 0, 0, 0, 0, 0, 0, 0, 0, 0, 0, 0, 0, 0, 0, 0, 0, 0, 0, 0, 0, 0, 0, 0, 0, 0, 0, 0, 0, 0, 0, 0, 0, 0, 0, 0, 0, 0, 0, 0, 0, 0, 0, 0, 0, 0, 0, 0, 0, 0, 0, 0, 0, 0, 0, 0, 0, 0, 0, 0, 0, 0, 0, 0, 0, 0, 0, 0, 0, 0, 0, 0, 0, 0, 0, 0, 0, 0, 0, 0, 0, 0, 0, 0, 0, 0, 0, 0, 0, 0, 0, 0, 0, 0, 0, 0, 0, 0, 0, 1, 0, 0, 0, 0, 0, 0, 0, 0, 0, 0, 0, 0, 0, 0, 0, 0, 0, 0, 0, 0, 0, 0, 0, 0, 0, 0, 0, 0, 0, 0, 0, 0, 0, 0, 0, 0, 0, 0, 0, 0, 0, 0, 0, 0, 0, 0, 0, 0, 0, 0, 0, 0, 0, 0, 0, 0, 0, 0, 0, 0, 0, 0, 0, 0, 0, 0, 0, 0, 0, 0, 0, 0, 0, 0, 0, 0, 0, 0, 0, 0, 0, 0, 0, 0, 0, 0, 0, 0, 0, 0, 0, 0, 0, 0, 0, 0, 0, 0, 0, 0, 0, 0, 0, 0, 0, 0, 0, 1, 0, 0, 0, 0, 0, 0, 0, 0, 0, 0, 0, 0, 0, 0, 0, 0, 0, 0, 0, 0, 0, 0, 0, 0, 0, 0, 0, 0, 0, 0, 0, 0, 0, 0, 0, 0, 0, 0, 0, 0, 0, 0, 0, 0, 0, 0, 0, 0, 0, 0, 0, 0, 0, 0, 0, 0, 0, 0, 0, 0, 0, 0, 0, 0, 0, 0, 0, 0, 0, 0, 0, 0, 0, 0, 0, 0, 0, 0, 0, 0, 0, 0, 0, 0, 0, 0, 0, 0, 0, 0, 0, 0, 0, 0, 0, 0, 0, 0, 0, 0, 0, 0, 0, 0, 0, 0, 0, 0, 0, 0, 0, 0, 0, 0, 0, 0, 0, 0, 0, 0, 0, 0, 0, 0, 0, 0, 0, 0, 0, 0, 0, 0, 0, 0, 0, 0, 0, 0, 0, 0, 0, 0, 0, 0, 0, 0, 0, 0, 0, 0, 0, 0, 0, 0, 0, 0, 0, 0, 0, 0, 0, 0, 0, 0, 0, 0, 0, 0, 0, 0, 0, 0, 0, 0, 0, 0, 0, 0, 0, 0, 0, 0, 0, 0, 0, 0, 0, 0, 0, 0, 0, 0, 0, 0, 0, 0, 0, 0, 0, 0, 0, 0, 0, 0, 0, 0, 0, 0, 0, 0, 0, 0, 0, 0, 0, 0, 0, 0, 0, 0, 0, 0, 0, 0, 0, 0, 0, 0, 0, 0, 0, 0, 0, 0, 0, 0, 0, 0, 0, 0, 0, 0, 0, 0, 0, 0, 0, 0, 0, 0, 0, 0, 0, 0, 0, 0, 0, 0, 0, 0, 0, 0, 0, 0, 0, 0, 0, 0, 0, 0, 0, 0, 0, 0, 0, 0, 0, 0, 0, 0, 0, 0, 0, 0, 0, 0, 0, 0, 0, 0, 0, 0, 0, 0, 0, 0, 0, 0, 0, 0, 0, 0, 0, 0, 0, 0, 0, 0, 0, 0, 0, 0, 0, 0, 0, 0, 0, 0, 0, 0, 0, 0, 0, 0, 0, 0, 0, 0, 0, 0, 0, 0, 0, 0, 0, 0, 0, 0, 0, 0, 0, 0, 0, 0, 0, 0, 0, 0, 0, 0, 0, 0, 0, 0, 0, 0, 0, 0, 0, 0, 0, 0, 0, 0, 0, 0, 0, 0, 0, 0, 0, 0, 0, 0, 0, 0, 0, 0, 0, 0, 0, 0, 0, 0, 0, 0, 0, 0, 0, 0, 0, 0, 0, 0, 0, 0, 0, 0, 0, 0, 0, 0, 0, 0, 0, 0, 0, 0, 0, 0, 0, 0, 0, 0, 0, 0, 0, 0, 0, 0, 0, 0, 0, 0, 0, 0, 0, 0, 0, 0, 0, 0, 0, 0, 0, 0, 0, 0, 0, 0, 0, 0, 0, 0, 0, 0, 0, 0, 0, 0, 0, 0, 0, 0, 0, 0, 0, 0, 0, 0, 0, 0, 0, 2, 0, 1, 0], type: <class 'list'>, valid types: <class 'bytes'>, <class 'bytearray'>, file-like object"
     ]
    }
   ],
   "source": [
    "response = runtime.invoke_endpoint(EndpointName = xgb_predictor.endpoint, # The name of the endpoint we created\n",
    "                                       ContentType = 'text/csv',                     # The data format that is expected\n",
    "                                       Body = test_bow)"
   ]
  },
  {
   "cell_type": "markdown",
   "metadata": {},
   "source": [
    "So why did we get an error?\n",
    "\n",
    "Because we tried to send the endpoint a list of integers but it expected us to send data of type `text/csv`. So, we need to convert it."
   ]
  },
  {
   "cell_type": "code",
   "execution_count": 52,
   "metadata": {},
   "outputs": [],
   "source": [
    "response = runtime.invoke_endpoint(EndpointName = xgb_predictor.endpoint, # The name of the endpoint we created\n",
    "                                       ContentType = 'text/csv',                     # The data format that is expected\n",
    "                                       Body = ','.join([str(val) for val in test_bow]).encode('utf-8'))"
   ]
  },
  {
   "cell_type": "code",
   "execution_count": 54,
   "metadata": {},
   "outputs": [
    {
     "data": {
      "text/plain": [
       "{'ResponseMetadata': {'RequestId': 'd75bed3f-2f41-418c-b9c7-d23f4d9108cf',\n",
       "  'HTTPStatusCode': 200,\n",
       "  'HTTPHeaders': {'x-amzn-requestid': 'd75bed3f-2f41-418c-b9c7-d23f4d9108cf',\n",
       "   'x-amzn-invoked-production-variant': 'AllTraffic',\n",
       "   'date': 'Sun, 10 Nov 2019 14:02:24 GMT',\n",
       "   'content-type': 'text/csv; charset=utf-8',\n",
       "   'content-length': '18'},\n",
       "  'RetryAttempts': 0},\n",
       " 'ContentType': 'text/csv; charset=utf-8',\n",
       " 'InvokedProductionVariant': 'AllTraffic',\n",
       " 'Body': <botocore.response.StreamingBody at 0x7f1c8081dba8>}"
      ]
     },
     "execution_count": 54,
     "metadata": {},
     "output_type": "execute_result"
    }
   ],
   "source": [
    "response"
   ]
  },
  {
   "cell_type": "markdown",
   "metadata": {},
   "source": [
    "As we can see, the response from our model is a somewhat complicated looking dict that contains a bunch of information. The bit that we are most interested in is `'Body'` object which is a streaming object that we need to `read` in order to make use of."
   ]
  },
  {
   "cell_type": "code",
   "execution_count": 55,
   "metadata": {},
   "outputs": [
    {
     "name": "stdout",
     "output_type": "stream",
     "text": [
      "0.4047258198261261\n"
     ]
    }
   ],
   "source": [
    "response = response['Body'].read().decode('utf-8')\n",
    "print(response)"
   ]
  },
  {
   "cell_type": "markdown",
   "metadata": {},
   "source": [
    "Now that we know how to process the incoming user data we can start setting up the infrastructure to make our simple web app work. To do this we will make use of two different services. Amazon's Lambda and API Gateway services.\n",
    "\n",
    "Lambda is a service which allows someone to write some relatively simple code and have it executed whenever a chosen trigger occurs. For example, you may want to update a database whenever new data is uploaded to a folder stored on S3.\n",
    "\n",
    "API Gateway is a service that allows you to create HTTP endpoints (url addresses) which are connected to other AWS services. One of the benefits to this is that you get to decide what credentials, if any, are required to access these endpoints.\n",
    "\n",
    "In our case we are going to set up an HTTP endpoint through API Gateway which is open to the public. Then, whenever anyone sends data to our public endpoint we will trigger a Lambda function which will send the input (in our case a review) to our model's endpoint and then return the result."
   ]
  },
  {
   "cell_type": "markdown",
   "metadata": {},
   "source": [
    "### Setting up a Lambda function\n",
    "\n",
    "The first thing we are going to do is set up a Lambda function. This Lambda function will be executed whenever our public API has data sent to it. When it is executed it will receive the data, perform any sort of processing that is required, send the data (the review) to the SageMaker endpoint we've created and then return the result.\n",
    "\n",
    "#### Part A: Create an IAM Role for the Lambda function\n",
    "\n",
    "Since we want the Lambda function to call a SageMaker endpoint, we need to make sure that it has permission to do so. To do this, we will construct a role that we can later give the Lambda function.\n",
    "\n",
    "Using the AWS Console, navigate to the **IAM** page and click on **Roles**. Then, click on **Create role**. Make sure that the **AWS service** is the type of trusted entity selected and choose **Lambda** as the service that will use this role, then click **Next: Permissions**.\n",
    "\n",
    "In the search box type `sagemaker` and select the check box next to the **AmazonSageMakerFullAccess** policy. Then, click on **Next: Review**.\n",
    "\n",
    "Lastly, give this role a name. Make sure you use a name that you will remember later on, for example `LambdaSageMakerRole`. Then, click on **Create role**."
   ]
  },
  {
   "cell_type": "markdown",
   "metadata": {},
   "source": [
    "#### Part B: Create a Lambda function\n",
    "\n",
    "Now it is time to actually create the Lambda function. Remember from earlier that in order to process the user provided input and send it to our endpoint we need to gather two pieces of information:\n",
    "\n",
    " - The name of the endpoint, and\n",
    " - the vocabulary object.\n",
    "\n",
    "We will copy these pieces of information to our Lambda function after we create it.\n",
    "\n",
    "To start, using the AWS Console, navigate to the AWS Lambda page and click on **Create a function**. When you get to the next page, make sure that **Author from scratch** is selected. Now, name your Lambda function, using a name that you will remember later on, for example `sentiment_analysis_xgboost_func`. Make sure that the **Python 3.6** runtime is selected and then choose the role that you created in the previous part. Then, click on **Create Function**.\n",
    "\n",
    "On the next page you will see some information about the Lambda function you've just created. If you scroll down you should see an editor in which you can write the code that will be executed when your Lambda function is triggered. Collecting the code we wrote above to process a single review and adding it to the provided example `lambda_handler` we arrive at the following.\n",
    "\n",
    "```python\n",
    "# We need to use the low-level library to interact with SageMaker since the SageMaker API\n",
    "# is not available natively through Lambda.\n",
    "import boto3\n",
    "\n",
    "# And we need the regular expression library to do some of the data processing\n",
    "import re\n",
    "\n",
    "REPLACE_NO_SPACE = re.compile(\"(\\.)|(\\;)|(\\:)|(\\!)|(\\')|(\\?)|(\\,)|(\\\")|(\\()|(\\))|(\\[)|(\\])\")\n",
    "REPLACE_WITH_SPACE = re.compile(\"(<br\\s*/><br\\s*/>)|(\\-)|(\\/)\")\n",
    "\n",
    "def review_to_words(review):\n",
    "    words = REPLACE_NO_SPACE.sub(\"\", review.lower())\n",
    "    words = REPLACE_WITH_SPACE.sub(\" \", words)\n",
    "    return words\n",
    "    \n",
    "def bow_encoding(words, vocabulary):\n",
    "    bow = [0] * len(vocabulary) # Start by setting the count for each word in the vocabulary to zero.\n",
    "    for word in words.split():  # For each word in the string\n",
    "        if word in vocabulary:  # If the word is one that occurs in the vocabulary, increase its count.\n",
    "            bow[vocabulary[word]] += 1\n",
    "    return bow\n",
    "\n",
    "\n",
    "def lambda_handler(event, context):\n",
    "    \n",
    "    vocab = \"*** ACTUAL VOCABULARY GOES HERE ***\"\n",
    "    \n",
    "    words = review_to_words(event['body'])\n",
    "    bow = bow_encoding(words, vocab)\n",
    "\n",
    "    # The SageMaker runtime is what allows us to invoke the endpoint that we've created.\n",
    "    runtime = boto3.Session().client('sagemaker-runtime')\n",
    "\n",
    "    # Now we use the SageMaker runtime to invoke our endpoint, sending the review we were given\n",
    "    response = runtime.invoke_endpoint(EndpointName = '***ENDPOINT NAME HERE***',# The name of the endpoint we created\n",
    "                                       ContentType = 'text/csv',                 # The data format that is expected\n",
    "                                       Body = ','.join([str(val) for val in bow]).encode('utf-8')) # The actual review\n",
    "\n",
    "    # The response is an HTTP response whose body contains the result of our inference\n",
    "    result = response['Body'].read().decode('utf-8')\n",
    "    \n",
    "    # Round the result so that our web app only gets '1' or '0' as a response.\n",
    "    result = round(float(result))\n",
    "\n",
    "    return {\n",
    "        'statusCode' : 200,\n",
    "        'headers' : { 'Content-Type' : 'text/plain', 'Access-Control-Allow-Origin' : '*' },\n",
    "        'body' : str(result)\n",
    "    }\n",
    "```"
   ]
  },
  {
   "cell_type": "markdown",
   "metadata": {},
   "source": [
    "Once you have copy and pasted the code above into the Lambda code editor, replace the `**ENDPOINT NAME HERE**` portion with the name of the endpoint that we deployed earlier. You can determine the name of the endpoint using the code cell below."
   ]
  },
  {
   "cell_type": "code",
   "execution_count": 57,
   "metadata": {},
   "outputs": [
    {
     "data": {
      "text/plain": [
       "'sagemaker-xgboost-2019-11-10-09-50-52-856'"
      ]
     },
     "execution_count": 57,
     "metadata": {},
     "output_type": "execute_result"
    }
   ],
   "source": [
    "xgb_predictor.endpoint"
   ]
  },
  {
   "cell_type": "markdown",
   "metadata": {},
   "source": [
    "In addition, you will need to copy the vocabulary dict to the appropriate place in the code at the beginning of the `lambda_handler` method. The cell below prints out the vocabulary dict in a way that is easy to copy and paste."
   ]
  },
  {
   "cell_type": "code",
   "execution_count": 56,
   "metadata": {
    "collapsed": true,
    "jupyter": {
     "outputs_hidden": true
    }
   },
   "outputs": [
    {
     "name": "stdout",
     "output_type": "stream",
     "text": [
      "{'just': 2437, 'finished': 1733, 'viewing': 4740, 'this': 4457, 'conceived': 929, 'and': 226, 'beautifully': 429, 'acted': 98, 'directed': 1259, 'movie': 2926, 'it': 2366, 'was': 4805, 'as': 311, 'to': 4507, 'whether': 4866, 'going': 1931, 'waste': 4808, 'my': 2951, 'time': 4495, 'on': 3105, 'the': 4426, 'lifetime': 2594, 'network': 3000, 'because': 432, 'of': 3083, 'horribly': 2164, 'distracting': 1297, 'commercials': 903, 'reading': 3544, 'earlier': 1399, 'comments': 901, 'me': 2778, 'give': 1912, 'shot': 3949, 'after': 143, 'all': 187, 'worst': 4952, 'that': 4424, 'could': 1007, 'happen': 2026, 'would': 4957, 'be': 418, 'might': 2835, 'fall': 1637, 'asleep': 320, 'during': 1387, 'one': 3107, 'boring': 543, 'yet': 4984, 'lengthy': 2570, 'so': 4046, 'why': 4878, 'did': 1241, 'watch': 4811, 'mainly': 2708, 'when': 4862, 'imdb': 2240, 'gives': 1914, 'average': 362, 'whos': 4876, 'must': 2950, 'sure': 4308, 'hit': 2122, 'totally': 4532, 'have': 2052, 'taken': 4350, 'view': 4736, 'commercial': 902, 'helen': 2075, 'hunt': 2198, 'continues': 971, 'with': 4911, 'her': 2085, 'ability': 65, 'take': 4349, 'tough': 4537, 'roles': 3727, 'core': 995, 'persona': 3239, 'fit': 1740, 'each': 1395, 'role': 3726, 'portrait': 3339, 'she': 3923, 'painted': 3174, 'in': 2257, 'film': 1716, 'human': 2188, 'police': 3322, 'officer': 3092, 'executed': 1565, 'scene': 3809, 'calls': 654, 'for': 1784, 'quick': 3490, 'delivered': 1170, 'can': 665, 'stand': 4143, 'any': 256, 'actor': 103, 'is': 2360, 'at': 331, 'delivery': 1173, 'emotional': 1459, 'response': 3654, 'without': 4913, 'word': 4937, 'only': 3110, 'facial': 1619, 'expression': 1602, 'body': 527, 'language': 2516, 'which': 4867, 'by': 642, 'design': 1202, 'kill': 2468, 'continuity': 972, 'good': 1937, 'been': 438, 'real': 3547, 'edge': 1418, 'seat': 3845, 'nail': 2957, 'gave': 1875, '90': 60, 'husband': 2204, 'huge': 2185, 'robin': 3715, 'williams': 4888, 'fan': 1648, 'like': 2599, 'him': 2110, 'too': 4522, 'but': 636, 'generally': 1881, 'found': 1811, 'he': 2056, 'should': 3951, 'stick': 4185, 'what': 4858, 'does': 1308, 'best': 469, 'focus': 1766, 'comedic': 888, 'thoughts': 4464, 'were': 4848, 'completely': 922, 'bored': 541, 'throughout': 4478, 'entire': 1502, 'story': 4207, 'predictable': 3367, 'realize': 3552, 'inspired': 2301, 'true': 4596, 'guess': 1989, 'there': 4438, 'some': 4061, 'suspense': 4330, 'or': 3124, 'intrigue': 2333, 'even': 1533, 'while': 4868, 'truth': 4599, 'none': 3028, 'characters': 760, 'well': 4843, 'developed': 1223, 'side': 3965, 'about': 67, 'main': 2707, 'character': 758, 'his': 2118, 'partner': 3198, 'relationship': 3597, 'explored': 1595, 'further': 1853, 'more': 2904, 'important': 2247, 'though': 4461, 'deeper': 1155, 'exploration': 1593, 'mother': 2911, 'boy': 557, 'psychological': 3458, 'interesting': 2325, 'into': 2332, 'obviously': 3072, 'has': 2043, 'long': 2644, 'history': 2121, 'not': 3040, 'touched': 4534, 'upon': 4684, 'except': 1556, 'most': 2909, 'superficial': 4298, 'way': 4820, 'if': 2222, 'wasnt': 4807, 'such': 4268, 'we': 4823, 'left': 2561, '20': 29, 'minutes': 2859, 'bad': 382, 'cant': 671, 'get': 1899, 'hours': 2177, 'back': 378, 'an': 223, 'unusual': 4681, 'laurel': 2537, 'hardy': 2037, 'comedy': 890, 'something': 4066, 'split': 4120, 'personality': 3242, 'times': 4497, 'feels': 1687, 'two': 4620, 'movies': 2927, 'made': 2697, 'different': 1248, 'styles': 4250, 'single': 3996, 'short': 3946, 'happily': 2030, 'portion': 3338, 'funny': 1852, 'its': 2370, 'own': 3158, 'right': 3696, 'boys': 559, 'seemingly': 3863, 'carries': 699, 'day': 1129, 'films': 1721, 'elements': 1443, 'entertaining': 1499, 'whole': 4873, 'ive': 2372, 'never': 3001, 'heard': 2062, 'dirty': 1268, 'work': 4940, 'favorite': 1671, 'nonetheless': 3029, 'everybody': 1540, 'seems': 3864, 'our': 3139, 'set': 3898, 'home': 2142, 'professor': 3422, 'who': 4871, 'represents': 3639, 'key': 2458, 'element': 1442, 'line': 2610, 'over': 3148, 'top': 4525, 'parody': 3192, 'mad': 2696, 'scientist': 3818, 'marks': 2742, 'rare': 3523, 'sci': 3815, 'fi': 1701, 'territory': 4411, 'three': 4469, 'stooges': 4200, 'doctors': 1305, 'far': 1653, 'often': 3095, 'than': 4420, 'stan': 4142, 'event': 1535, 'obsessed': 3069, 'creating': 1039, 'make': 2713, 'people': 3221, 'younger': 4990, 'butler': 637, 'viewers': 4739, 'rolled': 3729, 'eyes': 1613, 'occasional': 3074, 'dry': 1377, 'meanwhile': 2785, 'are': 285, 'show': 3953, 'up': 4683, 'very': 4723, 'solution': 4059, 'their': 4431, 'consists': 955, 'first': 1736, 'rate': 3526, 'slapstick': 4019, 'involving': 2349, 'number': 3060, 'unfortunate': 4653, 'you': 4986, 'dont': 1324, 'enjoy': 1484, 'watching': 4815, 'these': 4441, 'guys': 2001, 'task': 4368, 'then': 4436, 'probably': 3407, 'wont': 4932, 'fans': 1650, 'team': 4378, 'highlight': 2103, 'comes': 891, 'through': 4477, 'onto': 3111, 'head': 2057, 'also': 199, 'off': 3084, 'process': 3412, 'suspect': 4327, 'inside': 2297, 'joke': 2414, 'fields': 1705, 'feature': 1678, 'worlds': 4947, 'screens': 3832, 'stuff': 4243, 'great': 1964, 'fun': 1848, 'makes': 2716, 'supporting': 4304, 'players': 3299, 'deserve': 1199, 'hat': 2045, 'terrific': 4409, 'delivering': 1171, 'lines': 2612, 'sam': 3777, 'adams': 112, 'less': 2575, 'oliver': 3102, 'prime': 3395, 'always': 203, 'worth': 4953, 'hal': 2006, 'studio': 4240, 'enormous': 1490, 'usually': 4700, 'background': 380, 'music': 2946, 'le': 2544, 'roy': 3745, 'occasion': 3073, 'from': 1840, 'period': 3236, 'no': 3020, 'musical': 2947, 'opening': 3114, 'credits': 1050, 'mood': 2898, 'proceedings': 3410, 'matter': 2769, 'highly': 2105, 'enjoyable': 1485, 'example': 1553, 'popular': 3333, 'start': 4156, 'soon': 4074, 'become': 433, 'aware': 368, 'name': 2960, 'nothing': 3047, 'do': 1302, 'itself': 2371, 'naked': 2959, 'woman': 4921, 'being': 448, 'chased': 770, 'silly': 3976, 'running': 3756, 'round': 3742, 'clothing': 861, 'ever': 1538, 'seen': 3865, 'subtitles': 4259, 'kind': 2476, 'think': 4452, 'twice': 4613, 'seeing': 3857, 'slowly': 4032, 'moves': 2925, 'along': 195, 'realise': 3548, 'vampire': 4711, 'got': 1944, 'wonder': 4926, 'where': 4864, 'title': 4504, 'came': 656, 'parts': 3199, 'bit': 488, 'sense': 3877, 'father': 1666, 'gets': 1900, 'really': 3556, 'ending': 1471, 'end': 1468, 'they': 4442, 'had': 2003, 'better': 472, 'heads': 2059, 'basically': 407, 'colorful': 878, 'slasher': 4020, 'thats': 4425, 'mystery': 2956, 'scream': 3826, 'care': 684, 'things': 4451, 'out': 3141, 'guy': 2000, 'considering': 952, 'clues': 865, 'anyway': 261, 'death': 1141, 'scenes': 3811, 'inventive': 2341, 'bringing': 586, 'memories': 2803, '80s': 59, 'horror': 2168, 'friday': 1834, '13th': 5, 'another': 250, 'nice': 3008, 'thing': 4450, 'hard': 2033, 'surviving': 4323, 'girl': 1909, 'unlike': 4670, 'obvious': 3071, 'simple': 3983, 'truly': 4597, 'enjoyed': 1486, 'plan': 3287, 'again': 146, 'waiting': 4772, 'same': 3778, 'male': 2719, 'life': 2592, 'john': 2409, 'ben': 463, 'chaplin': 756, 'leads': 2548, 'mediocre': 2791, 'safe': 3771, 'bank': 394, 'small': 4033, 'english': 1483, 'town': 4541, 'until': 4680, 'gorgeous': 1942, 'wild': 4885, 'die': 1243, 'enters': 1496, 'beloved': 461, 'wife': 4884, 'however': 2183, 'turns': 4609, 'speak': 4094, 'although': 201, 'calm': 655, 'outside': 3146, 'becomes': 434, 'interested': 2324, 'beautiful': 428, 'instead': 2307, 'using': 4698, 'full': 1846, 'service': 3896, 'happens': 2029, 'plot': 3309, 'poor': 3328, 'paid': 3169, 'feeling': 1685, 'decision': 1151, 'making': 2718, 'thinking': 4453, 'action': 100, 'figure': 1711, 'giving': 1915, 'viewer': 4738, 'message': 2819, 'likewise': 2603, 'acting': 99, 'almost': 193, 'due': 1382, 'slight': 4027, 'accent': 78, 'present': 3374, 'russian': 3762, 'dialogues': 1235, 'enough': 1491, 'native': 2972, 'done': 1322, 'words': 4938, 'sound': 4081, 'proves': 3447, 'talent': 4354, 'once': 3106, 'playing': 3300, 'quite': 3495, 'previous': 3387, 'least': 2554, 'cultural': 1078, 'pace': 3161, 'fast': 1661, 'captivating': 675, 'certainly': 738, 'ready': 3546, 'quit': 3494, 'titles': 4506, 'appear': 273, 'rather': 3528, 'feel': 1684, 'youre': 4992, 'middle': 2833, 'desire': 1205, 'see': 3855, 'sequel': 3885, 'advice': 133, 'go': 1924, 'immediately': 2242, 'sum': 4289, 'ideas': 2215, 'below': 462, 'surface': 4310, 'idea': 2213, 'artificial': 306, 'routine': 3743, 'machine': 2693, 'members': 2801, 'fight': 1707, 'club': 863, 'pink': 3277, 'sings': 3997, 'welcome': 4842, 'bet': 470, 'unknown': 4668, 'having': 2054, 'met': 2822, 'thank': 4421, 'writers': 4969, 'everyone': 1542, 'else': 1448, 'please': 3304, 'stage': 4139, 'location': 2635, 'whatever': 4859, 'place': 3282, 'irrelevant': 2358, 'potential': 3355, 'am': 204, 'atlantis': 332, 'much': 2934, 'ways': 4822, 'come': 886, 'other': 3135, 'aimed': 162, 'higher': 2101, 'age': 148, 'demand': 1174, 'solid': 4057, 'attention': 345, 'ages': 152, 'noticed': 3049, 'audience': 352, 'expected': 1577, 'adventure': 130, 'tired': 4501, 'endless': 1473, 'extreme': 1609, 'lot': 2661, 'kids': 2467, 'seemed': 3862, 'lily': 2605, 'powers': 3361, 'works': 4945, 'goes': 1930, 'new': 3003, 'york': 4985, 'office': 3091, 'wants': 4791, 'men': 2805, 'want': 4788, 'baby': 376, 'face': 1616, '1933': 12, 'high': 2100, 'sexual': 3908, 'era': 1513, 'last': 2521, 'pre': 3365, 'code': 869, 'stanwyck': 4149, 'sexy': 3911, 'performance': 3228, 'actors': 104, 'include': 2261, 'george': 1893, 'donald': 1321, 'cook': 988, 'ned': 2986, 'stevens': 4183, 'henry': 2084, 'margaret': 2735, 'ann': 244, 'carter': 703, 'harris': 2038, 'young': 4989, 'wayne': 4821, 'jimmy': 2403, 'deals': 1137, 'brave': 567, 'topic': 4526, 'historically': 2120, 'significant': 3972, 'therefore': 4439, 'scripted': 3835, 'stupid': 4247, 'production': 3419, 'value': 4709, 'ok': 3098, 'sucked': 4270, 'danny': 1112, 'laugh': 2529, 'loud': 2664, 'irritating': 2359, 'every': 1539, 'detail': 1217, 'how': 2181, 'meaningless': 2782, 'shown': 3959, 'put': 3480, 'those': 4460, 'point': 3316, 'pathetic': 3210, 'covered': 1023, 'within': 4912, 'fifteen': 1706, 'countless': 1012, 'filled': 1715, 'un': 4630, 'deserved': 1200, 'misery': 2865, 'passed': 3202, 'boredom': 542, 'grow': 1982, 'exciting': 1563, 'return': 3665, 'epic': 1506, 'yeah': 4977, 'theyre': 4445, 'add': 115, 'mention': 2810, 'similar': 3978, 'able': 66, 'down': 1335, 'advanced': 128, 'army': 295, 'acts': 107, 'definitely': 1162, 'darker': 1116, 'rest': 3657, 'portrayed': 3342, 'amazing': 209, 'theater': 4427, 'ian': 2209, 'evil': 1548, 'vicious': 4728, 'looks': 2649, 'mr': 2929, 'rogers': 3725, 'compared': 912, 'speaking': 4095, 'modern': 2882, 'greek': 1970, 'tragedy': 4551, 'now': 3054, 'especially': 1520, 'understand': 4643, 'appreciate': 279, 'revenge': 3675, 'redemption': 3578, 'moving': 2928, 'brings': 587, 'happy': 2032, 'part': 3193, 'course': 1019, 'special': 4097, 'effects': 1431, 'early': 1400, 'eighties': 1437, 'still': 4188, 'test': 4416, 'graphics': 1959, 'metal': 2823, 'battle': 414, 'stunning': 4244, 'look': 2646, 'deep': 1154, 'moments': 2887, 'primarily': 3393, 'between': 475, 'luke': 2687, 'reveals': 3673, 'incredible': 2269, 'fitting': 1742, 'cinema': 816, 'versions': 4721, 'depth': 1190, 'scrooge': 3837, 'others': 3136, 'shows': 3960, 'bitter': 491, 'changes': 751, 'gradually': 1952, 'encounters': 1467, 'ghosts': 1903, 'tiny': 4500, 'tim': 4494, 'played': 3297, 'someone': 4064, 'teenager': 4390, 'anthony': 253, 'teeth': 4393, 'david': 1124, 'warner': 4799, 'wonderful': 4928, 'bob': 524, 'portrays': 3344, 'man': 2721, 'clearly': 840, 'loves': 2674, 'family': 1645, 'plays': 3301, 'dignity': 1252, 'neither': 2996, 'under': 4639, 'puts': 3481, 'provide': 3448, 'fine': 1729, 'job': 2405, 'edward': 1426, 'ghost': 1902, 'christmas': 810, 'santa': 3783, 'type': 4621, 'anger': 235, 'attitudes': 347, 'costumes': 1006, 'sets': 3899, 'bring': 585, 'london': 2641, 'dickens': 1240, 'didnt': 1242, 'win': 4892, 'oscar': 3133, 'year': 4978, 'chance': 747, 'casting': 711, 'perhaps': 3235, 'felt': 1692, 'leaving': 2557, 'similarly': 3980, 'disturbed': 1299, 'getting': 1901, 'glimpse': 1919, 'future': 1856, 'exactly': 1551, 'happened': 2027, 'pop': 3330, 'culture': 1079, '1980s': 21, 'arnold': 296, 'richards': 3687, 'offered': 3088, 'run': 3755, 'freedom': 1828, 'game': 1864, 'richard': 3686, 'dawson': 1128, 'damon': 1101, 'host': 2173, 'guns': 1998, 'jesse': 2397, 'captain': 674, 'co': 867, 'both': 547, 'dancers': 1105, 'girls': 1911, 'screams': 3828, 'excuse': 1564, 'determined': 1221, 'prove': 3445, 'innocence': 2293, 'agrees': 157, 'told': 4513, 'buddies': 608, 'free': 1827, 'join': 2412, 'maria': 2736, 'standard': 4144, 'properly': 3437, 'judge': 2424, '1990s': 25, 'cheesy': 781, 'fetched': 1698, 'remember': 3616, 'direction': 1261, 'wed': 4835, 'listed': 2618, 'tv': 4610, 'guide': 1993, 'assume': 328, 'reality': 3551, 'pushing': 3479, 'today': 4508, 'government': 1948, 'media': 2789, 'gotten': 1947, 'worse': 4951, 'american': 213, 'public': 3460, 'national': 2970, 'security': 3854, 'downright': 1337, 'chilling': 794, 'brilliantly': 584, 'few': 1700, 'remaining': 3610, 'against': 147, 'america': 212, 'willing': 4889, 'accept': 80, 'television': 4394, 'maybe': 2776, 'cliff': 847, 'iii': 2227, 'appeared': 276, 'replaced': 3634, 'tracks': 4545, '2006': 36, 'beyond': 476, 'will': 4886, 'tragic': 4552, 'academy': 77, 'brilliant': 583, 'screenplay': 3831, 'recognition': 3568, 'serious': 3891, 'seriously': 3892, 'pretentious': 3383, 'throw': 4479, 'may': 2775, 'oscars': 3134, 'doesnt': 1309, 'them': 4432, 'common': 906, 'absolute': 71, 'forget': 1793, 'night': 3013, 'saw': 3798, 'north': 3036, 'evening': 1534, 'second': 3846, 'reel': 3581, 'try': 4600, 'mid': 2832, 'showing': 3958, 'say': 3799, 'rule': 3753, 'comment': 898, 'contain': 962, 'ten': 4399, 'im': 2232, 'supposed': 4306, 'random': 3514, 'continue': 969, 'find': 1726, 'terrible': 4407, 'songs': 4072, 'finish': 1732, 'regardless': 3590, 'sit': 4003, 'bullets': 621, 'reporter': 3636, 'ninja': 3018, 'shoot': 3942, 'hundreds': 2196, 'seem': 3861, 'innocent': 2294, 'outcome': 3142, 'horrible': 2163, 'finds': 1728, 'friends': 1837, 'apartment': 265, 'heck': 2071, 'doing': 1312, 'here': 2086, 'holding': 2130, 'bat': 410, 'hey': 2095, 'cute': 1090, 'wanna': 4786, '12': 3, 'seconds': 3848, 'save': 3794, 'yourself': 4993, 'hour': 2176, 'forty': 1807, 'play': 3296, 'your': 4991, 'dog': 1310, 'above': 68, 'said': 3774, 'anything': 260, 'convince': 983, 'amazingly': 210, 'amateurish': 207, 'values': 4710, 'utterly': 4702, 'script': 3834, 'inept': 2281, 'inane': 2258, 'written': 4972, 'let': 2579, 'alone': 194, 'produced': 3414, 'hollywood': 2137, 'apparently': 270, 'careers': 687, 'ended': 1470, 'drivel': 1364, 'fascinating': 1658, 'jaw': 2384, 'consistently': 954, 'greatest': 1966, 'thought': 4462, 'independent': 2272, 'zombie': 4997, 'quest': 3486, 'us': 4690, 'group': 1980, 'lone': 2642, 'survivors': 4325, 'band': 391, 'together': 4511, 'zombies': 4998, 'dead': 1132, 'wrong': 4973, 'psycho': 3457, 'cop': 991, 'killing': 2472, 'female': 1693, 'whats': 4860, 'coming': 896, 'pack': 3165, 'women': 4923, 'rise': 3702, 'order': 3126, 'proper': 3436, 'nation': 2969, 'nor': 3032, 'involved': 2346, 'begin': 442, 'cinematic': 818, 'disaster': 1276, 'caused': 724, 'victoria': 4732, 'secret': 3849, 'models': 2881, 'dark': 1115, 'mindless': 2851, 'intelligent': 2314, 'machines': 2694, 'eat': 1411, 'result': 3660, 'basic': 406, 'needs': 2990, 'walk': 4775, 'talk': 4358, 'noir': 3023, 'act': 97, 'eating': 1413, 'concept': 930, 'satire': 3788, 'genre': 1888, 'asks': 319, 'question': 3487, 'considered': 951, 'indie': 2276, 'recommend': 3571, 'anybody': 257, 'genres': 1889, 'insult': 2309, 'scary': 3807, '1968': 16, 'finally': 1724, 'perspective': 3245, 'went': 4847, 'british': 589, 'school': 3813, 'misses': 2868, 'social': 4049, 'references': 3583, 'awful': 372, 'pointed': 3317, 'takes': 4351, 'break': 569, 'imagined': 2239, 'occurs': 3078, 'isnt': 2362, 'shooting': 3943, 'theres': 4440, 'difference': 1246, 'know': 2489, 'form': 1798, 'subsequent': 4257, 'events': 1536, 'cannot': 670, 'avoid': 363, 'person': 3238, 'wrote': 4974, 'board': 522, 'asking': 318, 'compare': 911, 'virginia': 4750, 'hand': 2015, 'simply': 3986, 'four': 1812, 'ed': 1415, 'world': 4946, 'responsibility': 3655, 'hell': 2077, 'adults': 126, 'close': 853, 'military': 2844, 'prison': 3401, 'hill': 2108, 'college': 875, 'ambitious': 211, 'parents': 3188, 'need': 2987, 'wake': 4774, 'nature': 2975, 'sons': 4073, 'opportunity': 3121, 'couldnt': 1008, 'given': 1913, 'cruel': 1070, 'orders': 3127, 'brothers': 599, 'took': 4523, 'consequences': 947, 'himself': 2111, 'whose': 4877, 'picture': 3269, 'room': 3735, 'hes': 2093, 'union': 4661, 'michael': 2829, 'foot': 1781, 'next': 3007, 'jack': 2373, 'road': 3709, 'writing': 4971, 'possible': 3350, 'benefit': 465, 'drunk': 1375, 'sometimes': 4067, 'reviewers': 3678, 'paris': 3189, 'brando': 566, 'date': 1118, 'shoes': 3941, 'change': 749, 'allow': 189, 'fictional': 1703, 'lay': 2542, 'self': 3869, 'pity': 3281, 'trip': 4588, 'dare': 1113, 'mind': 2849, 'walking': 4779, 'places': 3284, 'air': 164, 'piece': 3272, 'technology': 4385, 'disappointed': 1273, 'particular': 3194, 'regard': 3588, 'book': 535, 'praise': 3364, 'likable': 2598, 'performances': 3229, 'charming': 768, 'hear': 2061, 'jamie': 2379, 'score': 3822, 'writer': 4968, 'brother': 598, 'lets': 2580, 'id': 2212, 'call': 651, 'effort': 1432, 'read': 3543, 'nudity': 3059, 'actually': 109, 'lyrics': 2692, 'flow': 1762, 'senseless': 3878, 'budget': 610, 'used': 4693, 'money': 2888, 'video': 4733, 'lighting': 2596, 'props': 3439, 'post': 3352, 'flick': 1754, 'flicks': 1755, 'past': 3207, 'bottom': 551, 'youll': 4988, 'wishing': 4907, 'review': 3676, 'check': 777, 'ratings': 3530, 'hardly': 2036, 'wish': 4904, 'looked': 2647, 'little': 2624, 'closer': 856, 'before': 440, 'wasting': 4810, 'suck': 4269, 'fest': 1696, 'wow': 4962, 'lousy': 2667, 'crap': 1031, 'surprised': 4313, 'rated': 3527, 'heres': 2087, 'cliché': 844, 'pretty': 3384, 'kinda': 2477, 'kid': 2464, 'picked': 3266, 'killed': 2469, 'scarecrow': 3804, 'packed': 3166, 'worthless': 4954, 'havent': 2053, 'bother': 548, 'liked': 2600, 'outfit': 3144, 'sadly': 3769, 'anymore': 258, 'recall': 3562, 'stories': 4205, 'edgar': 1417, 'wallace': 4782, 'typical': 4623, 'german': 1896, 'low': 2676, 'quality': 3484, 'hold': 2129, 'badly': 383, 'center': 732, 'overly': 3155, 'exaggerated': 1552, 'known': 2492, 'arent': 288, 'rescue': 3643, 'hope': 2155, 'following': 1774, 'conclusion': 936, 'screen': 3829, 'lazy': 2543, 'afternoon': 144, 'director': 1264, 'cast': 710, 'lovely': 2671, 'believable': 453, 'sentimental': 3882, 'reasons': 3560, 'cold': 872, 'days': 1130, 'boyfriend': 558, 'away': 369, 'old': 3100, 'japan': 2381, 'exposed': 1598, 'current': 1084, 'themes': 4434, 'realistic': 3550, 'detailed': 1218, 'unpredictable': 4675, 'refreshing': 3586, 'mini': 2854, 'plots': 3310, 'several': 3905, 'living': 2629, 'city': 825, 'anyone': 259, 'romance': 3732, 'light': 2595, 'live': 2625, 'texas': 4418, 'miles': 2843, 'lake': 2509, 'charles': 764, 'grew': 1972, 'around': 297, 'folks': 1771, 'proud': 3444, 'scenery': 3810, 'knowledge': 2491, 'area': 286, 'love': 2669, 'study': 4242, 'amongst': 218, 'portraying': 3343, 'understanding': 4645, 'trying': 4601, 'opinion': 3118, 'believe': 454, 'directors': 1266, 'da': 1094, 'successful': 4266, 'starred': 4153, '2000': 30, 'christopher': 811, 'guest': 1992, 'worry': 4950, 'sub': 4252, 'trouble': 4592, 'extremely': 1610, 'unfunny': 4655, 'jokes': 2415, 'lame': 2510, 'substance': 4258, 'length': 2569, 'particularly': 3195, 'snl': 4044, 'atrocious': 335, 'william': 4887, 'hero': 2088, 'house': 2178, 'deserves': 1201, 'fact': 1621, 'hopefully': 2157, 'ill': 2228, 'experience': 1580, 'grade': 1951, 'dvd': 1391, 'extras': 1608, 'audio': 354, 'interviews': 2330, 'various': 4715, 'theatrical': 4430, 'trailer': 4554, 'eye': 1611, '10': 0, 'years': 4979, 'australian': 357, 'industry': 2280, 'producing': 3417, 'blunt': 520, 'storyline': 4208, 'struggle': 4234, 'complete': 921, 'son': 4070, 'glad': 1916, 'many': 2732, 'sex': 3907, 'primary': 3394, 'reason': 3557, 'trailers': 4555, 'lead': 2545, 'hearted': 2065, 'nevertheless': 3002, 'virtually': 4751, 'kept': 2456, 'nearly': 2981, 'fell': 1690, 'dragged': 1343, 'dogs': 1311, 'company': 910, 'focused': 1767, 'poorly': 3329, 'train': 4556, 'damage': 1099, 'banned': 395, 'wilson': 4891, 'couple': 1016, 'falls': 1640, 'dies': 1245, 'sad': 3767, 'loved': 2670, 'growing': 1983, 'season': 3843, 'dad': 1095, 'sisters': 4002, 'uncle': 4636, 'friend': 1835, 'mom': 2885, 'kirk': 2482, 'sister': 4001, 'michelle': 2830, 'mary': 2751, 'kate': 2446, 'ashley': 313, 'relate': 3593, 'child': 789, 'older': 3101, 'moral': 2902, 'joey': 2408, 'dave': 1123, 'hilarious': 2106, 'law': 2538, 'move': 2921, 'help': 2079, 'raise': 3507, 'heart': 2064, 'genuinely': 1892, 'comedian': 887, 'soul': 4079, 'cool': 989, 'riding': 3695, 'later': 2525, 'documentary': 1307, 'grey': 1973, 'sunday': 4293, 'warning': 4800, 'became': 431, 'haunting': 2051, 'images': 2235, 'edie': 1419, 'lives': 2628, 'practically': 3362, 'large': 2517, 'mansion': 2731, 'beach': 419, 'ice': 2210, 'table': 4346, 'cat': 713, 'bed': 436, 'unbelievable': 4634, 'beginning': 443, 'wondered': 4927, 'managed': 2723, 'position': 3345, 'abysmal': 76, 'wet': 4855, 'remarkably': 3614, 'standards': 4145, 'dialogue': 1234, 'dimensional': 1253, 'ho': 2127, 'coherent': 871, 'remotely': 3623, 'meet': 2793, 'stereotypes': 4179, 'loser': 2655, 'knows': 2493, 'tell': 4395, 'heroic': 2090, 'mile': 2842, 'wide': 4880, 'black': 493, 'ass': 323, 'brains': 563, 'tall': 4362, 'oh': 3096, 'wicked': 4879, 'menacing': 2807, 'perform': 3227, 'brain': 562, 'mental': 2808, 'haunted': 2050, 'intent': 2318, 'helping': 2081, 'kidnapped': 2466, 'introduction': 2339, 'starts': 4159, 'explain': 1586, 'youve': 4995, 'otherwise': 3137, 'related': 3594, 'interest': 2323, 'splatter': 4118, 'keep': 2449, 'awake': 365, 'menace': 2806, 'heroes': 2089, 'buried': 624, 'punk': 3468, 'literally': 2622, 'minute': 2858, 'friendly': 1836, 'appearing': 277, 'driving': 1368, 'looking': 2648, 'mentally': 2809, 'retarded': 3663, 'gratuitous': 1961, 'saved': 3795, 'called': 652, 'manage': 2722, 'scare': 3803, 'five': 1743, 'upper': 4685, 'strength': 4219, 'bugs': 613, 'explained': 1587, 'masterpieces': 2760, 'jason': 2383, 'entertainment': 1500, 'hair': 2005, 'yesterday': 4983, 'realized': 3553, 'remake': 3612, 'series': 3890, 'mentioned': 2811, 'sides': 3967, 'humans': 2190, 'unnecessary': 4672, 'instance': 2304, 'computer': 927, 'expert': 1585, 'leave': 2555, 'planet': 3289, '50': 51, 'big': 478, 'hidden': 2096, 'attack': 337, 'possibly': 3351, 'virus': 4752, 'created': 1037, 'population': 3335, 'near': 2979, 'children': 792, 'explicit': 1591, 'month': 2896, 'max': 2774, 'violence': 4747, 'won': 4925, 'ships': 3935, 'version': 4720, 'ones': 3108, 'dialogs': 1233, 'fault': 1668, 'pilot': 3276, 'star': 4150, 'humanity': 2189, 'spoilers': 4124, 'scares': 3806, 'killer': 2470, 'fears': 1677, 'consider': 949, 'pet': 3246, 'base': 402, 'adult': 125, 'fear': 1676, 'bear': 420, 'explore': 1594, 'decisions': 1152, 'etc': 1527, 'disagree': 1269, 'impossible': 2249, 'imagine': 2238, 'desperation': 1210, 'resulting': 3661, 'scenario': 3808, 'logical': 2639, 'absolutely': 72, 'inevitable': 2282, 'killers': 2471, 'lost': 2660, 'desperate': 1208, 'commit': 904, 'crimes': 1056, 'louis': 2665, 'despite': 1211, 'protect': 3443, 'results': 3662, 'horrifying': 2167, 'perfectly': 3226, 'crazy': 1035, 'featuring': 1681, 'murdered': 2940, 'player': 3298, 'girlfriend': 1910, 'newspaper': 3006, 'cares': 690, 'finding': 1727, 'snake': 4042, 'weapon': 4828, 'alright': 198, 'worthy': 4956, 'born': 544, 'march': 2734, 'walls': 4783, 'butt': 638, 'everyones': 1543, 'nobody': 3022, 'damn': 1100, 'condition': 937, 'knew': 2486, 'lucky': 2683, 'artistic': 308, 'skills': 4014, 'utter': 4701, 'use': 4692, 'hands': 2020, 'grab': 1949, 'cry': 1073, 'underrated': 4642, 'shouldnt': 3952, 'tells': 4397, 'write': 4967, 'attractive': 351, 'turned': 4606, 'lots': 2662, 'suggest': 4280, 'theyll': 4444, 'street': 4216, 'aliens': 184, 'millions': 2848, 'breaks': 571, 'happening': 2028, 'teach': 4374, 'normal': 3033, 'massive': 2756, 'multiple': 2936, 'morning': 2906, 'scared': 3805, 'stiff': 4187, 'thrillers': 4473, 'crying': 1074, 'mean': 2779, 'voice': 4761, 'genuine': 1891, 'terror': 4412, 'hitting': 2126, 'clichés': 846, 'fails': 1628, 'surprise': 4312, 'jump': 2429, 'chair': 742, 'closest': 857, 'japanese': 2382, 'giant': 1905, 'accidentally': 85, 'introduced': 2337, 'keeping': 2450, 'resort': 3650, 'closed': 854, 'construction': 960, 'open': 3112, 'searching': 3842, 'missing': 2869, 'page': 3167, 'porn': 3336, 'contact': 961, 'unable': 4631, 'rip': 3700, 'victims': 4730, 'somewhat': 4068, 'rich': 3685, 'easily': 1406, 'channel': 753, 'animals': 240, 'final': 1722, 'sequence': 3887, 'presented': 3376, 'spent': 4108, 'exercise': 1568, 'creature': 1045, 'humor': 2192, 'torn': 4528, 'unconvincing': 4638, 'blood': 512, 'starting': 4158, 'broken': 594, 'record': 3573, 'myself': 2953, 'user': 4696, 'kinds': 2478, 'robert': 3713, 'carradine': 695, 'ruthless': 3764, 'businessman': 634, 'ex': 1549, 'nicholas': 3010, 'bell': 458, 'park': 3190, 'major': 2711, 'attraction': 350, 'attempts': 343, 'hopes': 2159, 'putting': 3482, 'multi': 2935, 'million': 2847, 'dollar': 1314, 'project': 3427, 'island': 2361, 'brian': 576, 'lover': 2672, 'fate': 1665, 'tooth': 4524, 'tiger': 4491, 'spends': 4107, 'deal': 1135, 'bright': 581, 'color': 877, 'towards': 4540, 'ultimately': 4628, 'cut': 1089, 'safety': 3772, 'breaking': 570, 'certain': 737, 'enter': 1494, 'limits': 2607, 'setting': 3900, 'total': 4531, 'talking': 4360, 'tried': 4584, 'attempt': 340, 'rock': 3720, '2005': 35, 'thankfully': 4422, 'pay': 3216, 'delivers': 1172, 'possessed': 3347, 'limited': 2606, 'filmmakers': 1720, 'working': 4944, 'control': 977, 'figured': 1712, 'fair': 1630, 'suppose': 4305, 'cartoon': 704, 'cartoons': 705, 'watched': 4813, 'laughing': 2533, 'witch': 4909, 'started': 4157, 'doctor': 1304, '15': 7, 'sarah': 3785, 'jane': 2380, 'adventures': 131, 'pg': 3250, 'seasons': 3844, 'ran': 3513, 'leaves': 2556, 'intellectual': 2312, 'trash': 4565, 'jerry': 2396, 'suitable': 4285, 'presents': 3377, 'degree': 1164, 'realism': 3549, 'actresses': 106, 'fake': 1635, 'natural': 2973, 'camera': 659, 'excellent': 1555, 'wait': 4770, 'soundtrack': 4085, 'constant': 957, 'directly': 1263, 'raw': 3532, 'begins': 444, 'bunch': 623, 'focuses': 1768, 'named': 2961, 'worked': 4941, 'neighborhood': 2993, 'fresh': 1833, 'meets': 2795, 'theyd': 4443, 'meaning': 2780, 'criminals': 1058, 'hed': 2072, 'sent': 3880, 'gang': 1867, 'late': 2523, '1930s': 11, 'angels': 234, 'faces': 1618, 'studios': 4241, 'weak': 4824, 'formulaic': 1803, 'hall': 2009, 'leo': 2571, 'constantly': 958, 'tad': 4347, 'bill': 481, 'rights': 3697, 'provided': 3449, 'support': 4303, 'illogical': 2231, 'somehow': 4063, 'suspend': 4329, 'disbelief': 1277, 'features': 1680, 'peter': 3247, 'sellers': 3872, 'mistake': 2871, 'vaguely': 4706, 'war': 4792, 'uk': 4626, 'soviet': 4089, 'easy': 1410, 'everything': 1544, 'cards': 683, 'terry': 4415, 'thomas': 4458, 'britain': 588, 'hasnt': 2044, 'forgotten': 1797, 'appearances': 275, 'contrary': 974, 'positive': 3346, 'says': 3801, 'understated': 4646, 'argue': 290, 'non': 3027, 'existent': 1572, 'decent': 1147, 'quickly': 3491, 'slow': 4031, 'burns': 628, 'boss': 546, 'map': 2733, 'reach': 3536, 'expectations': 1576, 'exist': 1569, 'either': 1438, 'latin': 2527, 'honor': 2150, 'guard': 1988, 'airport': 167, 'apart': 264, 'horse': 2170, 'drawn': 1351, 'allowing': 191, 'gag': 1861, 'thick': 4447, 'uses': 4697, 'king': 2479, 'fathers': 1667, 'dull': 1384, 'straight': 4210, 'normally': 3034, 'likely': 2601, 'target': 4366, 'stealing': 4171, 'trapped': 4564, 'behind': 447, 'threat': 4467, 'mouse': 2919, 'strange': 4211, 'serving': 3897, 'alongside': 196, 'jeffrey': 2391, 'combine': 884, 'bull': 619, 'chinese': 796, 'ship': 3934, 'superior': 4300, 'weakest': 4825, 'winds': 4895, 'staged': 4140, 'revolution': 3680, 'resolution': 3649, 'strictly': 4223, 'mark': 2739, 'needless': 2989, 'pleasantly': 3303, 'across': 96, 'burned': 626, 'cable': 644, 'channels': 754, 'premise': 3370, 'reasonably': 3559, 'witness': 4914, 'witches': 4910, 'ends': 1474, 'peters': 3248, 'serves': 3895, 'matters': 2770, 'complicated': 925, '1980': 20, 'shortly': 3947, 'visits': 4756, 'museum': 2945, 'century': 736, 'tries': 4585, 'building': 615, 'involve': 2345, 'appears': 278, 'becoming': 435, 'spirit': 4113, 'unfortunately': 4654, 'description': 1197, 'flashbacks': 1747, 'sounds': 4084, 'convincing': 985, 'exception': 1557, 'note': 3044, 'technical': 4381, 'official': 3094, 'atmospheric': 334, 'gordon': 1940, 'career': 686, 'science': 3816, 'fiction': 1702, 'sequels': 3886, 'annoying': 249, 'died': 1244, 'problem': 3408, 'filming': 1718, 'weird': 4841, 'nelson': 2997, 'stanley': 4148, 'la': 2500, 'based': 404, 'familys': 1646, 'learns': 2553, 'beast': 422, 'nearby': 2980, 'former': 1800, 'lady': 2507, 'engaged': 1480, 'lucy': 2684, 'herself': 2092, 'dreams': 1355, 'incident': 2260, 'art': 304, 'mix': 2876, 'surreal': 4317, 'rose': 3739, 'graphic': 1958, 'incredibly': 2270, 'erotic': 1515, 'wonderfully': 4929, 'photographed': 3258, 'visual': 4757, 'pregnant': 3369, 'masterpiece': 2759, 'european': 1530, 'cult': 1077, 'dolph': 1317, 'vehicle': 4718, 'awards': 367, 'original': 3129, 'soldier': 4053, 'teacher': 4375, 'inner': 2292, 'terrorists': 4414, 'share': 3920, 'alive': 186, 'rushed': 3760, 'loose': 2650, 'strong': 4229, 'established': 1524, 'gabriel': 1859, 'spell': 4104, 'correct': 1000, 'runs': 3757, 'search': 3841, 'talks': 4361, 'mysterious': 2955, 'conversations': 981, 'mostly': 2910, 'vice': 4727, 'thinks': 4454, 'since': 3990, 'bond': 532, 'critical': 1062, 'provides': 3450, 'surprising': 4315, 'tales': 4357, 'destiny': 1212, '35': 45, 'stars': 4155, 'theme': 4433, 'recent': 3566, 'dramatic': 1348, 'notion': 3050, 'carol': 693, 'involves': 2348, 'tour': 4538, 'types': 4622, 'angel': 231, 'case': 707, 'larry': 2520, 'james': 2378, 'hates': 2048, 'linda': 2609, 'hamilton': 2012, 'bigger': 479, 'ball': 388, 'state': 4160, 'championship': 745, 'ago': 154, 'convinced': 984, 'moment': 2886, 'impact': 2244, 'doubt': 1332, 'grown': 1984, 'jon': 2416, 'car': 680, 'bar': 396, 'phone': 3255, 'decides': 1150, 'caine': 647, 'turning': 4608, 'childhood': 790, 'baseball': 403, 'strike': 4224, 'expecting': 1578, 'god': 1926, 'drink': 1361, 'stewart': 4184, 'kicked': 2461, 'indeed': 2271, 'married': 2744, 'moved': 2922, 'longer': 2645, 'proof': 3434, 'shallow': 3917, 'mans': 2730, 'happiness': 2031, 'showed': 3956, 'material': 2766, 'wealth': 4826, 'spiritual': 4116, 'lesson': 2577, 'taught': 4370, 'forgettable': 1794, 'sweet': 4336, 'memorable': 2802, 'famous': 1647, 'de': 1131, 'originally': 3131, 'silent': 3975, 'dubbed': 1379, 'french': 1830, 'remains': 3611, 'force': 1786, 'brooks': 596, 'singing': 3995, 'legendary': 2565, 'helps': 2082, 'dubbing': 1380, 'georges': 1894, 'frame': 1815, 'pair': 3176, 'legs': 2566, 'changing': 752, 'costume': 1005, 'miss': 2866, 'europe': 1529, 'sitting': 4007, 'plenty': 3307, 'reactions': 3542, 'staring': 4152, 'magnificent': 2705, 'louise': 2666, 'checking': 778, 'buffs': 612, 'box': 555, 'release': 3602, 'speed': 4103, 'minor': 2857, 'gotta': 1946, 'ya': 4976, 'funniest': 1851, 'crew': 1053, 'merit': 2816, 'picking': 3267, 'barbara': 397, 'handful': 2017, 'extra': 1606, 'footage': 1782, 'barely': 399, 'illegal': 2229, 'link': 2613, 'african': 142, 'white': 4870, '30s': 44, 'controversial': 978, 'subject': 4253, 'stuck': 4237, 'situation': 4008, 'power': 3359, 'yes': 4982, 'ruin': 3750, 'superb': 4296, '100': 1, 'photography': 3260, 'surprisingly': 4316, 'colors': 879, 'editing': 1421, 'uninspired': 4657, 'torture': 4529, 'typically': 4624, 'bland': 500, 'overrated': 3156, 'sort': 4077, 'idiotic': 2219, 'statement': 4162, 'country': 1014, 'daughter': 1121, 'international': 2326, 'constructed': 959, 'wondering': 4930, 'actress': 105, 'spend': 4105, 'already': 197, 'wasted': 4809, 'sutherland': 4333, 'fill': 1714, 'accepted': 82, 'recently': 3567, 'program': 3424, 'episode': 1507, 'americans': 214, 'learn': 2550, 'entertained': 1498, 'learned': 2551, 'effective': 1429, 'hbo': 2055, 'variety': 4714, 'manner': 2729, 'italian': 2367, '1970s': 17, 'highlights': 2104, 'impressive': 2253, 'aka': 168, 'tale': 4353, 'horrors': 2169, 'master': 2757, 'atmosphere': 333, 'style': 4249, 'personal': 3240, 'locked': 2637, '1972': 18, 'followed': 1773, '1973': 19, 'mrs': 2930, 'personally': 3243, 'purely': 3472, 'taste': 4369, 'equally': 1510, 'essential': 1522, 'general': 1880, 'complex': 923, 'gripping': 1976, 'plane': 3288, 'crash': 1033, 'lynch': 2691, 'assigned': 325, 'circumstances': 822, 'deceased': 1146, 'investigate': 2342, 'brutally': 604, 'murders': 2943, 'giallo': 1904, 'suspenseful': 4331, 'convoluted': 987, 'identity': 2217, 'regular': 3592, 'leading': 2547, 'includes': 2263, '60s': 54, '70s': 56, 'familiar': 1643, 'intense': 2316, 'stylish': 4251, 'contrast': 975, 'previously': 3388, 'reminded': 3619, 'youth': 4994, '90s': 61, 'foreign': 1790, 'soap': 4047, 'cinematography': 820, 'hopeless': 2158, 'par': 3184, 'level': 2584, 'weeks': 4839, 'remain': 3609, 'fantasy': 1652, 'soft': 4051, 'ii': 2226, 'monster': 2892, 'suffering': 4277, 'families': 1644, 'turn': 4605, 'cameos': 658, 'moon': 2900, 'afford': 138, 'classic': 835, 'rules': 3754, 'beat': 423, 'ladies': 2506, 'ward': 4793, 'stinks': 4192, 'shes': 3930, 'rival': 3706, 'pieces': 3273, 'candy': 668, 'wouldve': 4959, 'device': 1227, 'weve': 4856, 'creator': 1043, 'lately': 2524, 'generation': 1883, 'romantic': 3733, 'drama': 1346, 'telling': 4396, 'dream': 1354, 'depicts': 1186, 'glory': 1922, 'couples': 1017, 'perfection': 3225, 'relationships': 3598, 'wind': 4893, 'keeps': 2451, 'wears': 4832, 'aspect': 321, 'ahead': 159, 'follows': 1775, 'instantly': 2306, 'connect': 944, 'builds': 617, 'feelings': 1686, 'thus': 4486, 'allows': 192, 'merely': 2815, 'protagonists': 3442, 'capture': 676, 'deliver': 1169, 'extent': 1605, 'justice': 2438, 'julie': 2428, 'ethan': 1528, 'respect': 3652, 'themselves': 4435, 'contained': 963, 'achieved': 93, 'create': 1036, 'build': 614, 'manages': 2725, 'aspects': 322, 'brilliance': 582, 'appeal': 271, 'adding': 117, 'beauty': 430, 'anywhere': 263, 'visuals': 4759, 'matched': 2763, 'captures': 678, 'pure': 3471, 'selling': 3873, 'broadway': 592, 'lived': 2626, 'ruby': 3749, 'amy': 222, 'flashback': 1746, 'powerful': 3360, 'combined': 885, 'racial': 3501, 'performed': 3230, 'honestly': 2147, 'renting': 3629, 'smith': 4038, 'saying': 3800, 'fame': 1642, 'matthew': 2772, 'hurts': 2203, 'spoken': 4126, 'devils': 1229, 'hooked': 2153, 'coach': 868, 'likes': 2602, 'stretched': 4222, 'twist': 4617, 'till': 4493, 'jeremy': 2394, 'nick': 3012, 'loses': 2657, 'germany': 1898, 'satisfied': 3789, 'success': 4265, 'anti': 254, 'radio': 3504, 'nazis': 2978, 'politics': 3326, 'challenge': 743, 'agent': 150, 'scripts': 3836, 'serve': 3893, 'intelligence': 2313, 'catch': 714, 'lee': 2559, 'repeatedly': 3632, 'captured': 677, 'fairy': 1632, 'sends': 3876, 'existence': 1571, 'village': 4743, 'cash': 709, 'friendship': 1838, 'neighbor': 2992, 'alan': 171, 'claims': 830, 'belong': 459, 'ancient': 225, 'led': 2558, 'dentist': 1180, 'priest': 3392, 'front': 1841, 'beaten': 424, 'returned': 3666, 'jail': 2376, 'trial': 4580, 'cell': 730, 'pleasant': 3302, 'laughs': 2534, 'spite': 4117, 'anne': 246, 'frank': 1821, 'supposedly': 4307, 'patient': 3211, 'chases': 771, 'speech': 4102, 'approach': 282, 'definition': 1163, 'grasp': 1960, 'sole': 4055, 'stops': 4203, 'stands': 4147, 'curious': 1083, 'stopped': 4202, 'depression': 1189, 'spot': 4131, 'requires': 3642, 'nowhere': 3056, 'mel': 2796, 'associated': 327, 'race': 3499, 'issue': 2364, 'cause': 723, 'tied': 4489, 'expect': 1575, 'flat': 1748, 'useful': 4694, 'historical': 2119, 'purposes': 3475, 'alike': 185, 'animation': 242, 'shame': 3918, 'disney': 1289, 'bought': 552, 're': 3535, 'van': 4713, 'der': 1191, 'et': 1526, 'al': 170, 'ruined': 3751, 'eg': 1434, 'teenagers': 4391, 'draw': 1349, 'dub': 1378, 'details': 1219, 'loosely': 2651, 'placed': 3283, 'mothers': 2912, 'shelley': 3928, 'winters': 4901, 'reynolds': 3684, 'crowd': 1067, 'thrill': 4471, 'crime': 1055, 'arrive': 300, 'threatening': 4468, 'suggests': 4282, 'west': 4852, 'dance': 1103, 'obnoxious': 3067, 'shirley': 3936, 'temple': 4398, 'spoiled': 4122, 'dating': 1120, 'psychotic': 3459, 'religion': 3607, 'listening': 2620, 'spoil': 4121, 'bette': 471, 'davis': 1126, 'joan': 2404, '1960s': 15, 'fare': 1655, 'immensely': 2243, 'twists': 4619, 'demented': 1176, 'plus': 3311, 'concern': 931, 'cheap': 774, 'sincere': 3991, 'religious': 3608, 'sign': 3970, 'intended': 2315, 'whoever': 4872, 'saving': 3797, 'grace': 1950, 'financial': 1725, 'problems': 3409, 'committed': 905, 'suicide': 4283, 'discovers': 1281, 'husbands': 2205, 'lose': 2654, 'smoking': 4040, 'pot': 3354, 'scale': 3802, 'humour': 2194, 'draws': 1352, 'firstly': 1737, 'tongue': 4518, 'cheek': 779, 'points': 3319, 'smile': 4036, 'secondly': 3847, 'wear': 4830, 'rating': 3529, 'reviews': 3679, 'released': 3603, 'pass': 3201, 'forgot': 1796, 'gangster': 1868, 'opposite': 3123, 'shine': 3931, 'comic': 893, 'actual': 108, 'majority': 2712, 'creates': 1038, 'decade': 1144, 'productions': 3420, 'impressed': 2251, 'critics': 1064, 'audiences': 353, 'unique': 4662, 'dialog': 1232, 'featured': 1679, 'initial': 2290, 'spy': 4135, 'thriller': 4472, 'produce': 3413, 'appropriate': 283, 'brought': 600, 'political': 3324, 'breath': 573, 'vision': 4754, 'parker': 3191, 'garbage': 1870, 'dire': 1257, 'skill': 4013, 'sight': 3969, 'wooden': 4934, 'acceptable': 81, 'tony': 4521, 'martial': 2747, 'arts': 310, 'grim': 1974, 'rob': 3710, 'passion': 3205, 'intensity': 2317, 'intriguing': 2335, 'rarely': 3524, 'represented': 3638, 'remarkable': 3613, 'breathtaking': 574, 'spoke': 4125, 'expressed': 1601, 'shocking': 3940, 'albeit': 173, 'subtle': 4260, 'sexually': 3910, 'context': 968, 'tight': 4492, 'subplots': 4256, 'forever': 1792, 'whatsoever': 4861, 'tense': 4403, 'list': 2617, 'masterful': 2758, 'treatment': 4574, 'rings': 3699, 'italy': 2368, 'negative': 2991, 'destroyed': 1214, 'print': 3399, 'fortunately': 1805, 'neo': 2998, 'handsome': 2021, 'revealed': 3671, 'breasts': 572, 'lovers': 2673, 'pays': 3218, 'turner': 4607, 'recommended': 3572, 'according': 88, 'jim': 2402, 'kudos': 2497, 'charismatic': 763, 'abc': 63, 'brown': 601, 'lesser': 2576, 'choice': 797, 'projects': 3428, 'blues': 519, 'showcase': 3954, 'lacks': 2505, 'weekend': 4838, 'decide': 1148, 'fire': 1734, 'sick': 3963, 'water': 4816, 'cabin': 643, 'staying': 4168, 'neighbors': 2994, 'liking': 2604, 'chase': 769, 'woods': 4935, 'truck': 4595, 'travel': 4567, 'realizes': 3554, 'cave': 727, 'blow': 514, 'believing': 457, 'relief': 3605, 'survived': 4322, '24': 39, 'officers': 3093, 'flesh': 1753, 'magic': 2703, 'taking': 4352, 'skin': 4015, 'amusing': 221, 'superbly': 4297, 'albert': 174, 'east': 1407, 'eccentric': 1414, 'aunt': 355, 'cousin': 1021, 'kennedy': 2454, 'performing': 3233, 'dances': 1106, 'cats': 721, 'ted': 4386, 'aged': 149, 'received': 3564, 'jr': 2423, 'engaging': 1481, 'content': 966, 'navy': 2976, 'wwii': 4975, 'sat': 3786, 'changed': 750, 'peoples': 3222, 'eric': 1514, 'comparing': 913, 'switch': 4339, 'em': 1452, 'awesome': 371, 'circle': 821, 'red': 3576, 'half': 2007, 'pie': 3271, 'hyde': 2206, 'jackie': 2374, 'donna': 1323, 'werent': 4849, 'stop': 4201, 'dancing': 1107, 'todays': 4509, 'party': 3200, 'lit': 2621, 'murderer': 2941, 'responsible': 3656, 'loving': 2675, 'caring': 691, 'teenage': 4389, 'emotion': 1458, 'someones': 4065, 'cared': 685, 'ask': 316, 'belief': 451, 'scott': 3824, 'sean': 3840, 'seven': 3903, 'restored': 3659, 'remembered': 3617, 'criticism': 1063, 'favourite': 1673, 'listen': 2619, 'soldiers': 4054, 'decided': 1149, 'gory': 1943, 'warriors': 4803, 'makers': 2715, 'deaths': 1142, 'bloody': 513, 'humorous': 2193, 'splendid': 4119, 'ashamed': 312, 'space': 4090, 'theyve': 4446, 'heavy': 2070, 'rocket': 3721, 'helicopter': 2076, 'regret': 3591, 'offers': 3090, 'hints': 2113, 'samurai': 3779, 'fever': 1699, 'pitch': 3279, 'accident': 84, 'airplane': 166, 'drew': 1360, 'fairly': 1631, 'affect': 136, '80': 58, 'odd': 3080, 'losing': 2658, 'sorts': 4078, 'tend': 4400, 'notice': 3048, 'relation': 3595, 'artist': 307, 'song': 4071, 'halfway': 2008, 'thanks': 4423, 'internet': 2327, 'paying': 3217, 'classes': 834, 'wealthy': 4827, 'differences': 1247, 'lively': 2627, 'hint': 2112, 'murder': 2939, '14': 6, 'ingredients': 2289, 'private': 3404, 'exotic': 1574, 'blue': 518, 'nose': 3037, 'killings': 2473, 'solve': 4060, 'including': 2264, 'affair': 135, 'suspects': 4328, 'detective': 1220, 'proved': 3446, 'altogether': 202, 'perfect': 3224, 'stayed': 4167, 'thin': 4449, 'mgm': 2828, 'dust': 1388, 'flaw': 1749, 'darkness': 1117, 'sequences': 3888, 'individuals': 2278, 'connection': 946, 'vampires': 4712, 'forms': 1801, 'ridiculous': 3693, 'iron': 2354, 'bands': 392, 'third': 4455, 'chosen': 805, 'wanted': 4789, 'treated': 4573, 'gore': 1941, 'escape': 1517, '13': 4, 'thrills': 4475, 'whilst': 4869, 'survival': 4320, 'relies': 3606, 'carry': 700, 'thru': 4483, 'amount': 219, 'thumbs': 4485, 'credit': 1049, 'scientists': 3819, 'canada': 666, 'scientific': 3817, 'mixed': 2877, 'wandering': 4785, 'tension': 4404, 'honest': 2146, 'shots': 3950, 'exploitation': 1592, 'promises': 3432, 'crappy': 1032, 'miscast': 2862, 'contrived': 976, 'highest': 2102, 'charisma': 762, 'presence': 3373, 'manipulative': 2727, 'violent': 4748, 'destroy': 1213, 'cities': 823, 'plastic': 3294, 'monsters': 2893, 'outer': 3143, 'elsewhere': 1449, 'succeed': 4262, 'france': 1816, 'creatures': 1046, 'awkward': 374, 'laughable': 2530, 'driven': 1365, 'seeking': 3859, 'daddy': 1096, 'raped': 3522, 'carrying': 701, 'wearing': 4831, 'viewed': 4737, 'station': 4164, 'ie': 2221, 'nights': 3016, 'sentence': 3881, 'bare': 398, 'pointless': 3318, 'filmed': 1717, 'somewhere': 4069, 'freak': 1824, 'trite': 4589, 'chasing': 772, 'generic': 1885, 'student': 4238, 'fbi': 1675, 'unintentional': 4658, 'acid': 95, 'leonard': 2572, 'rent': 3626, 'buying': 641, 'disgusting': 1286, 'sink': 3999, 'hot': 2174, 'cops': 993, 'door': 1328, 'tie': 4488, 'experiences': 1582, 'wouldnt': 4958, 'earned': 1401, 'development': 1225, 'speaks': 4096, 'easier': 1405, 'latest': 2526, 'landing': 2512, 'held': 2074, 'community': 908, '30': 42, 'claim': 828, 'enthusiasm': 1501, 'books': 536, 'lies': 2591, 'facts': 1624, 'evidence': 1546, 'souls': 4080, 'fantastic': 1651, 'ultra': 4629, 'mexican': 2826, 'goal': 1925, 'profound': 3423, 'society': 4050, 'mass': 2753, 'mexico': 2827, 'carried': 698, 'shocked': 3939, 'deeply': 1156, 'situations': 4009, 'corruption': 1002, 'actions': 101, 'examples': 1554, 'rubbish': 3748, 'honesty': 2148, 'emotions': 1461, 'mysteries': 2954, 'disappointment': 1275, 'cameras': 660, 'childrens': 793, 'caught': 722, 'equipment': 1511, 'movements': 2924, 'sophisticated': 4075, 'visible': 4753, 'locations': 2636, 'developing': 1224, 'england': 1482, 'hunting': 2201, 'news': 3005, 'presumably': 3380, 'driver': 1366, 'asked': 317, 'smart': 4035, 'fully': 1847, 'flawless': 1751, 'directing': 1260, 'frequently': 1832, 'drop': 1369, 'pacino': 3164, 'mayor': 2777, 'effect': 1428, 'gritty': 1977, 'trust': 4598, 'doubts': 1333, 'specific': 4099, 'tears': 4380, 'starring': 4154, 'cusack': 1088, 'fonda': 1777, 'bay': 416, 'makeup': 2717, 'surely': 4309, 'mild': 2839, 'dying': 1393, 'neat': 2982, 'bag': 384, 'smoke': 4039, 'jet': 2400, 'sky': 4017, 'flying': 1764, 'sing': 3992, 'lonely': 2643, 'months': 2897, 'games': 1865, 'cleverly': 842, 'roger': 3724, 'terms': 4406, 'pulls': 3464, 'began': 441, 'succeeds': 4264, 'clever': 841, 'motivations': 2915, 'climax': 849, 'naturally': 2974, 'joe': 2407, 'besides': 468, 'mike': 2838, 'criminal': 1057, 'extraordinary': 1607, 'paul': 3214, 'ken': 2453, 'narrative': 2966, 'mere': 2814, 'confused': 941, 'confusing': 942, 'granted': 1957, 'explaining': 1588, 'text': 4419, 'cheated': 775, 'suddenly': 4273, 'daughters': 1122, 'favorites': 1672, 'secrets': 3852, 'improvement': 2256, 'everyday': 1541, 'grandmother': 1955, 'desert': 1198, 'rocks': 3722, 'eerie': 1427, 'gem': 1877, 'seventies': 3904, 'alice': 182, 'eddie': 1416, 'nightmare': 3014, 'hospital': 2172, 'massacre': 2754, 'deadly': 1133, 'holy': 2140, 'hysterical': 2208, 'comedies': 889, 'dumb': 1385, 'wit': 4908, 'six': 4010, 'episodes': 1508, 'shelf': 3926, 'novels': 3053, 'hugh': 2186, 'gags': 1862, 'dozens': 1339, 'pick': 3265, 'robinson': 3716, 'follow': 1772, 'kills': 2474, 'disturbing': 1300, '3rd': 47, 'villains': 4745, 'princess': 3397, 'kingdom': 2480, 'estate': 1525, 'cheese': 780, 'busy': 635, 'hudson': 2184, 'advertising': 132, 'delightful': 1168, 'blend': 504, 'farce': 1654, 'super': 4295, 'suffered': 4276, 'luckily': 2682, 'available': 361, 'contains': 964, 'settings': 3901, 'suggested': 4281, 'wished': 4905, 'served': 3894, 'opera': 3116, 'talents': 4356, 'hide': 2097, 'appearance': 274, 'agree': 155, 'talented': 4355, 'centered': 733, 'gain': 1863, 'stretch': 4221, 'directions': 1262, 'pamela': 3179, 'visually': 4758, 'abilities': 64, 'students': 4239, 'unreal': 4676, 'convey': 982, 'artists': 309, 'resist': 3648, 'maintain': 2710, 'sell': 3871, 'prisoners': 3403, 'wall': 4781, 'serial': 3889, 'escaped': 1518, 'discover': 1279, 'ride': 3692, 'online': 3109, 'exceptionally': 1559, 'lacking': 2504, 'purpose': 3474, 'merits': 2817, 'incompetent': 2266, 'steven': 4182, 'spielberg': 4110, 'buy': 640, 'summer': 4291, 'blockbuster': 509, 'endearing': 1469, 'unbelievably': 4635, 'judging': 2425, 'cover': 1022, 'lack': 2502, 'bucks': 606, 'assumed': 329, 'names': 2963, 'spectacular': 4101, 'blown': 516, 'alien': 183, 'per': 3223, 'advance': 127, 'opens': 3115, 'pictures': 3270, 'describe': 1194, 'combination': 883, 'reveal': 3670, 'walks': 4780, 'added': 116, 'twenty': 4612, 'pacing': 3163, 'field': 1704, 'cup': 1080, 'coffee': 870, 'mundane': 2938, 'send': 3875, 'shed': 3924, 'motion': 2913, 'campy': 664, 'sheer': 3925, 'costs': 1004, 'tom': 4514, 'bettie': 473, 'icon': 2211, '1950s': 14, 'admittedly': 123, 'emotionally': 1460, 'difficult': 1249, 'naive': 2958, 'business': 633, 'handed': 2016, 'zero': 4996, 'blame': 499, 'reviewer': 3677, 'critic': 1061, 'charge': 761, 'schools': 3814, 'ugly': 4625, 'closing': 859, 'smiling': 4037, 'comfortable': 892, 'everywhere': 1545, 'shape': 3919, 'shirt': 3937, 'express': 1600, 'pain': 3170, 'burning': 627, 'blind': 506, 'rage': 3505, 'causes': 725, 'shake': 3914, 'jumps': 2432, 'devoid': 1230, 'dreadful': 1353, 'bourne': 554, 'favor': 1670, 'armed': 293, 'credibility': 1047, 'local': 2634, 'market': 2740, 'streets': 4217, 'editor': 1423, 'throwing': 4480, 'copy': 994, 'pages': 3168, 'silver': 3977, 'cia': 814, 'tender': 4401, 'drops': 1372, 'paper': 3183, 'clip': 851, 'floor': 1759, 'politically': 3325, 'females': 1694, 'hits': 2125, 'guilt': 1994, 'pulling': 3463, 'gun': 1996, 'pull': 3461, '60': 53, 'wonders': 4931, 'hearing': 2063, 'pulled': 3462, 'nasty': 2968, 'burton': 630, 'idiot': 2218, 'plain': 3286, 'touch': 4533, 'apparent': 269, 'experiments': 1584, 'apes': 267, 'stupidity': 4248, 'mission': 2870, 'hole': 2132, 'removed': 3624, 'resembles': 3646, 'trees': 4577, 'thirty': 4456, 'pants': 3182, 'rap': 3520, 'helped': 2080, 'loss': 2659, 'cardboard': 682, 'slave': 4022, 'essence': 1521, 'amounts': 220, 'portrayal': 3341, 'lacked': 2503, 'taylor': 4372, 'earth': 1403, 'forced': 1787, 'species': 4098, 'ironic': 2355, 'ludicrous': 2685, '2001': 31, 'causing': 726, 'overacting': 3149, 'heston': 2094, 'reputation': 3640, 'animal': 239, 'command': 897, 'currently': 1085, 'ape': 266, 'drawing': 1350, 'irony': 2357, 'technique': 4383, 'beating': 425, 'monkeys': 2891, 'blowing': 515, 'gary': 1873, 'passes': 3203, 'watches': 4814, 'unless': 4669, 'gift': 1906, 'douglas': 1334, 'classics': 837, 'blah': 496, 'church': 813, 'teens': 4392, 'southern': 4088, 'inspiring': 2302, 'department': 1182, 'classical': 836, 'entirely': 1503, 'river': 3707, 'montana': 2895, 'fly': 1763, 'simplicity': 3984, 'impression': 2252, 'counter': 1011, 'fashioned': 1660, 'land': 2511, 'calling': 653, 'brad': 560, 'pitt': 3280, 'foul': 1810, 'peace': 3219, 'clear': 839, 'levels': 2585, 'buddy': 609, 'dinosaur': 1255, 'goodness': 1938, 'sounded': 4082, 'influence': 2286, 'alcohol': 176, 'drugs': 1374, 'mess': 2818, 'sin': 3988, 'embarrassed': 1453, 'fired': 1735, 'manager': 2724, 'chose': 804, 'summary': 4290, 'unoriginal': 4673, 'cgi': 740, 'stay': 4166, 'fury': 1855, 'mill': 2845, 'notch': 3043, 'ryan': 3765, 'stays': 4169, 'oddly': 3081, 'among': 217, 'winning': 4898, 'scheme': 3812, 'wave': 4818, 'suits': 4287, 'questions': 3489, 'jessica': 2398, 'cutting': 1092, 'chest': 784, 'distinct': 1296, 'thief': 4448, 'seeks': 3860, 'joined': 2413, 'experienced': 1581, 'duty': 1390, 'eastern': 1408, 'handled': 2019, 'usual': 4699, 'sake': 3775, 'philosophical': 3253, 'meaningful': 2781, 'overall': 3150, 'hippie': 2115, 'sports': 4130, 'elvis': 1451, 'obsession': 3070, 'voices': 4763, 'twins': 4616, 'alex': 179, 'pleased': 3305, 'superhero': 4299, 'pan': 3180, 'returning': 3667, 'visit': 4755, 'unaware': 4632, 'strongly': 4231, 'blonde': 511, 'portray': 3340, 'convincingly': 986, 'efforts': 1433, 'image': 2233, 'unexpected': 4650, 'childish': 791, 'medium': 2792, 'standing': 4146, 'innovative': 2295, 'vhs': 4725, 'tape': 4365, 'prior': 3400, 'theaters': 4428, 'comparison': 914, 'largely': 2518, 'loaded': 2632, 'kevin': 2457, 'south': 4087, 'liberal': 2588, 'denzel': 1181, 'washington': 4806, 'urge': 4689, 'lucas': 2680, 'suffers': 4278, 'notable': 3041, 'ron': 3734, 'clue': 864, 'travesty': 4570, 'direct': 1258, 'tracy': 4546, 'plague': 3285, 'paint': 3173, 'bodies': 526, 'lying': 2690, 'suffer': 4275, 'somebody': 4062, 'tedious': 4387, 'wrap': 4963, 'dinner': 1254, 'complaint': 920, 'wanting': 4790, 'succeeded': 4263, 'spanish': 4092, 'jerk': 2395, 'genius': 1887, 'spending': 4106, 'analysis': 224, 'separate': 3883, 'okay': 3099, 'seek': 3858, 'failure': 1629, 'rough': 3741, 'marketing': 2741, 'roll': 3728, 'selfish': 3870, 'inspiration': 2300, 'load': 2631, 'explains': 1589, 'mainstream': 2709, 'antics': 255, 'cuts': 1091, 'capable': 672, 'agreed': 156, 'distant': 1295, 'hiding': 2099, 'frankly': 1823, 'means': 2783, 'bothered': 549, 'gross': 1978, 'award': 366, 'golden': 1934, 'noted': 3045, 'touching': 4536, 'dramas': 1347, 'system': 4345, 'depicting': 1184, 'professional': 3421, 'recording': 3575, 'passionate': 3206, 'flawed': 1750, 'judy': 2426, 'singer': 3993, 'vulnerable': 4768, 'streisand': 4218, 'laid': 2508, 'characterization': 759, 'displays': 1293, 'displayed': 1292, 'minimal': 2855, 'copies': 992, 'composed': 926, 'contemporary': 965, 'holmes': 2139, 'solo': 4058, 'numbers': 3061, 'memory': 2804, 'thrilling': 4474, 'queen': 3485, 'dated': 1119, 'reflect': 3584, 'holds': 2131, 'chemistry': 782, 'finale': 1723, 'preview': 3386, 'beer': 439, 'concerned': 932, 'legend': 2564, 'shop': 3945, 'physically': 3263, 'frightening': 1839, 'provoking': 3452, 'sleeping': 4025, 'blair': 497, 'equivalent': 1512, 'allowed': 190, 'offer': 3087, 'murphy': 2944, 'sitcom': 4004, 'surrounded': 4318, 'hate': 2046, 'inspector': 2299, 'retired': 3664, 'capital': 673, 'horrific': 2166, 'mildly': 2840, 'warm': 4794, 'bomb': 531, 'garden': 1872, 'joy': 2422, 'birthday': 487, 'thrown': 4481, 'develop': 1222, 'clark': 832, 'midnight': 2834, 'novel': 3052, 'jobs': 2406, 'food': 1778, 'hitler': 2124, 'united': 4664, 'states': 4163, '16': 8, 'connected': 945, 'propaganda': 3435, 'revolves': 3682, 'hook': 2152, 'odds': 3082, 'site': 4005, '2007': 37, 'week': 4837, 'addition': 118, 'admit': 122, 'angry': 238, 'boat': 523, 'passing': 3204, 'wins': 4899, 'kiss': 2483, 'attacks': 339, 'mechanical': 2788, 'accompanied': 86, 'prince': 3396, 'fallen': 1638, 'sleep': 4024, 'cure': 1081, 'throws': 4482, 'arms': 294, 'promise': 3430, 'sees': 3866, 'storm': 4206, 'bottle': 550, 'tricks': 4583, 'wishes': 4906, 'toy': 4542, 'flies': 1756, 'web': 4833, 'spider': 4109, 'steals': 4172, 'escapes': 1519, 'arrives': 302, 'execution': 1566, 'plans': 3292, 'refuses': 3587, 'grand': 1953, 'producer': 3415, 'alexander': 180, 'designed': 1203, 'vincent': 4746, 'powell': 3358, 'cameron': 661, 'numerous': 3062, 'designs': 1204, 'expensive': 1579, 'rex': 3683, 'june': 2433, 'morris': 2908, 'bumbling': 622, 'justin': 2440, 'imaginative': 2237, 'literature': 2623, 'increasingly': 2268, 'weight': 4840, 'bbc': 417, 'ease': 1404, 'domestic': 1318, 'feminist': 1695, 'heroine': 2091, 'miserable': 2863, 'marriage': 2743, 'abusive': 75, 'price': 3389, 'defined': 1160, 'survive': 4321, 'striking': 4226, 'enjoys': 1489, 'villain': 4744, 'harry': 2039, 'trilogy': 4586, 'chapter': 757, 'vietnam': 4735, 'veteran': 4724, 'sudden': 4272, 'tone': 4517, 'heat': 2067, 'mob': 2879, 'vacation': 4704, 'victim': 4729, 'investigation': 2343, 'pool': 3327, 'stephen': 4176, 'touches': 4535, 'gone': 1935, 'cost': 1003, 'drive': 1363, 'blacks': 494, 'whale': 4857, 'painful': 3171, 'youd': 4987, 'forward': 1808, 'gonna': 1936, 'hammer': 2014, 'count': 1010, 'flaws': 1752, 'dear': 1140, 'adaptation': 113, 'magical': 2704, 'interview': 2329, 'madonna': 2699, 'briefly': 580, 'catherine': 719, 'stone': 4197, 'treats': 4575, 'lust': 2689, 'pleasure': 3306, 'techniques': 4384, 'harsh': 2040, 'occasionally': 3075, 'instinct': 2308, 'san': 3780, 'francisco': 1819, 'outstanding': 3147, 'gay': 1876, 'lesbian': 2573, 'groups': 1981, 'writes': 4970, 'gentle': 1890, 'noise': 3024, 'lights': 2597, 'executive': 1567, 'producers': 3416, 'mario': 2738, 'andrew': 228, 'press': 3379, 'dollars': 1315, 'sorry': 4076, 'scores': 3823, 'sue': 4274, 'stole': 4194, 'doo': 1325, 'kick': 2460, 'angles': 237, 'caliber': 649, 'dynamic': 1394, 'witty': 4917, 'factor': 1622, 'overwhelming': 3157, 'seagal': 3839, 'undoubtedly': 4648, 'defend': 1158, 'idiots': 2220, 'humble': 2191, 'bargain': 400, 'bin': 483, 'meant': 2784, 'castle': 712, 'owner': 3159, 'horses': 2171, 'bride': 577, 'wedding': 4836, 'member': 2800, 'desired': 1206, 'stronger': 4230, 'amanda': 205, 'wolf': 4920, 'clips': 852, 'traditional': 4550, 'sits': 4006, 'reads': 3545, 'path': 3209, 'whom': 4875, 'intimate': 2331, 'relations': 3596, 'holiday': 2134, 'laura': 2536, 'susan': 4326, 'curtis': 1087, 'monk': 2889, 'ignore': 2224, 'spirits': 4115, 'doomed': 1327, 'curse': 1086, 'potentially': 3356, 'sticks': 4186, 'kung': 2498, 'fu': 1844, 'sword': 4340, 'fighting': 1709, 'aint': 163, 'impress': 2250, 'western': 4853, 'struggling': 4236, 'strikes': 4225, 'nuclear': 3057, 'activities': 102, 'steal': 4170, 'errors': 1516, 'hoping': 2160, 'extended': 1604, 'imagination': 2236, 'lower': 2677, 'broke': 593, 'ground': 1979, 'attempting': 342, 'disjointed': 1287, 'christian': 808, 'chaos': 755, 'conservative': 948, 'bible': 477, 'measure': 2786, 'faith': 1633, 'fail': 1625, 'guilty': 1995, 'described': 1195, 'possibility': 3349, 'interpretation': 2328, 'inevitably': 2283, 'ultimate': 4627, 'christians': 809, 'views': 4742, 'pro': 3406, 'push': 3477, 'christ': 807, 'reference': 3582, 'behavior': 446, 'laughed': 2532, 'believes': 456, 'practice': 3363, 'thousands': 4466, 'broadcast': 591, 'possibilities': 3348, 'treasure': 4571, 'tonight': 4519, 'partly': 3197, 'animated': 241, 'reaching': 3539, 'information': 2288, 'accurate': 90, 'presentation': 3375, 'class': 833, 'lessons': 2578, 'daniel': 1111, 'narration': 2965, 'choreographed': 801, 'stunts': 4246, 'football': 1783, 'thugs': 4484, 'achieve': 92, 'training': 4558, 'korean': 2495, 'rented': 3628, 'credible': 1048, 'fashion': 1659, 'failed': 1626, 'flop': 1760, 'shower': 3957, 'elderly': 1440, 'exceptional': 1558, 'warned': 4798, 'concerning': 933, 'pursuit': 3476, 'influenced': 2287, 'dr': 1340, 'double': 1331, 'africa': 141, 'challenging': 744, 'womans': 4922, 'nations': 2971, 'plight': 3308, 'tag': 4348, 'ensemble': 1492, 'backdrop': 379, 'dealing': 1136, 'aging': 153, 'parallel': 3185, 'kay': 2447, 'stress': 4220, 'silence': 3974, 'revealing': 3672, 'shall': 3916, 'unforgettable': 4652, 'walked': 4776, 'vague': 4705, 'court': 1020, 'biggest': 480, 'missed': 2867, 'leader': 2546, 'waited': 4771, 'turkey': 4604, 'fighter': 1708, 'hired': 2117, 'knowing': 2490, 'drives': 1367, 'meeting': 2794, 'knife': 2487, 'explanation': 1590, 'valley': 4707, 'ford': 1789, '40': 48, 'virgin': 4749, 'adam': 111, 'sandler': 3781, 'inappropriate': 2259, 'worthwhile': 4955, 'andy': 230, '3000': 43, 'poster': 3353, 'collection': 874, 'importantly': 2248, 'swear': 4334, 'slightly': 4029, 'personalities': 3241, 'faults': 1669, 'rid': 3690, 'education': 1424, 'ah': 158, 'steve': 4181, 'respected': 3653, 'timing': 4498, 'eventually': 1537, 'guts': 1999, 'waves': 4819, 'initially': 2291, 'pearl': 3220, 'americas': 215, 'ray': 3533, 'columbo': 881, 'patrick': 3213, 'report': 3635, 'offering': 3089, 'matthau': 2771, 'conversation': 980, 'robbins': 3712, 'fox': 1814, 'lifestyle': 2593, 'conflict': 939, 'central': 735, 'prepared': 3371, 'chick': 786, 'boxing': 556, 'ring': 3698, 'troubles': 4594, 'carl': 692, 'alfred': 181, 'hitchcock': 2123, 'hunter': 2199, 'catches': 715, 'fortune': 1806, 'marry': 2745, 'suspicious': 4332, 'mighty': 2836, 'courage': 1018, 'triumph': 4590, 'symbolism': 4341, 'finger': 1731, 'arm': 292, 'reflection': 3585, 'confidence': 938, 'disappoint': 1272, 'surfing': 4311, 'gender': 1878, 'tune': 4602, 'harvey': 2042, 'remarks': 3615, 'cube': 1076, 'creepy': 1052, 'lawyer': 2541, 'settle': 3902, 'health': 2060, 'saves': 3796, 'legal': 2563, 'shell': 3927, 'compelling': 916, 'china': 795, 'progress': 3425, 'compelled': 915, 'universal': 4665, 'technically': 4382, 'stunt': 4245, 'bone': 533, 'disease': 1285, 'hoped': 2156, 'martin': 2748, 'absurd': 73, 'chief': 788, 'subplot': 4255, 'countries': 1013, 'robot': 3717, 'method': 2824, '50s': 52, 'widmark': 4882, 'jean': 2389, 'gold': 1932, 'ritter': 3705, 'shines': 3932, 'overdone': 3152, 'performer': 3231, 'sold': 4052, 'carefully': 689, 'sexuality': 3909, 'basis': 408, 'rank': 3518, 'authentic': 358, 'gas': 1874, 'danger': 1109, 'davies': 1125, 'ridden': 3691, 'filmmaker': 1719, 'homage': 2141, 'evident': 1547, 'chooses': 800, 'empty': 1465, 'roman': 3731, 'included': 2262, 'spoiler': 4123, 'painting': 3175, 'energy': 1478, 'confusion': 943, 'neck': 2985, 'folk': 1770, 'poetry': 3314, 'teaching': 4377, 'nine': 3017, 'hideous': 2098, 'india': 2273, 'afterwards': 145, 'muslim': 2949, 'essentially': 1523, 'iran': 2350, 'afraid': 140, 'built': 618, 'usa': 4691, 'frustration': 1843, 'hatred': 2049, '11': 2, 'punishment': 3467, 'headed': 2058, 'ignored': 2225, 'ought': 3138, 'harder': 2035, 'nonsensical': 3031, 'obscure': 3068, 'hearts': 2066, 'rooms': 3736, 'restaurant': 3658, 'futuristic': 1857, 'witnessed': 4915, 'behave': 445, 'polished': 3323, 'dealt': 1138, 'charlie': 765, 'arguably': 289, 'don': 1320, 'display': 1291, 'reminds': 3620, 'punch': 3466, 'psychiatrist': 3455, 'appealing': 272, 'laws': 2540, 'affected': 137, 'nyc': 3065, 'bruce': 602, 'mafia': 2700, 'treat': 4572, 'godzilla': 1929, 'nancy': 2964, 'kelly': 2452, 'enemies': 1476, 'beings': 449, 'latter': 2528, 'flash': 1745, 'amazed': 208, 'scope': 3821, 'choreography': 802, 'whereas': 4865, 'musicals': 2948, 'account': 89, 'needed': 2988, 'invisible': 2344, 'laughter': 2535, 'satisfying': 3791, 'disneys': 1290, 'cinderella': 815, 'charm': 767, 'hoffman': 2128, 'melodrama': 2797, 'concerns': 934, 'nicely': 3009, 'segments': 3868, 'simpson': 3987, 'bus': 631, 'johnson': 2411, 'faced': 1617, 'blew': 505, 'rape': 3521, 'clean': 838, 'angle': 236, 'kong': 2494, 'delight': 1167, 'sharp': 3922, 'joseph': 2419, 'morgan': 2905, 'felix': 1689, 'accomplished': 87, 'sullivan': 4288, 'belongs': 460, 'range': 3516, 'shock': 3938, 'embarrassment': 1455, 'craft': 1028, 'greatly': 1967, 'remote': 3622, 'ties': 4490, 'fool': 1779, 'warming': 4795, 'miserably': 2864, 'skip': 4016, 'translation': 4562, 'mine': 2853, 'segment': 3867, 'wes': 4851, 'section': 3853, 'incomprehensible': 2267, 'bits': 490, 'reduced': 3579, 'repeat': 3630, 'stock': 4193, 'flight': 1757, 'president': 3378, 'theatre': 4429, 'tons': 4520, 'stranger': 4213, 'promising': 3433, 'daily': 1097, 'swimming': 4338, 'piano': 3264, 'tiresome': 4502, 'failing': 1627, 'engage': 1479, 'disappointing': 1274, 'gerard': 1895, 'jumping': 2431, 'guessed': 1990, 'stereotypical': 4180, 'falling': 1639, 'choices': 798, 'videos': 4734, 'jackson': 2375, 'household': 2179, 'smooth': 4041, 'beats': 426, 'spooky': 4128, 'trek': 4578, 'kicks': 2463, 'cliche': 843, 'conflicts': 940, 'lewis': 2586, 'creative': 1041, 'defeat': 1157, 'philosophy': 3254, 'angela': 232, 'ms': 2931, 'performers': 3232, 'brand': 565, 'nominated': 3025, 'tribute': 4581, 'generated': 1882, 'fix': 1744, 'spots': 4132, 'manhattan': 2726, 'hang': 2022, 'kitchen': 2485, 'shadow': 3912, 'pretending': 3382, 'lord': 2652, 'babe': 375, 'dangerous': 1110, 'survivor': 4324, 'subtlety': 4261, '2002': 32, 'league': 2549, 'minded': 2850, 'bobby': 525, 'category': 718, 'prefer': 3368, 'carpenter': 694, 'watchable': 4812, 'creativity': 1042, 'smaller': 4034, 'heavily': 2069, 'insane': 2296, 'dan': 1102, 'physical': 3262, 'fat': 1663, 'individual': 2277, 'ideal': 2214, 'opposed': 3122, 'struck': 4232, 'sunshine': 4294, 'francis': 1818, 'sinatra': 3989, 'debut': 1143, 'staff': 4138, 'resources': 3651, 'elizabeth': 1445, 'victor': 4731, 'recorded': 3574, 'chorus': 803, 'cross': 1066, 'ranks': 3519, 'tommy': 4516, 'advise': 134, 'surrounding': 4319, 'cars': 702, 'allen': 188, 'ironically': 2356, 'uninteresting': 4660, 'bang': 393, 'photographer': 3259, 'hanks': 2025, 'redeeming': 3577, 'huh': 2187, 'cinematographer': 819, 'festival': 1697, 'author': 359, 'barry': 401, 'deliberately': 1166, 'promised': 3431, 'sympathetic': 4342, 'risk': 3704, 'commentary': 899, 'appreciation': 281, 'randomly': 3515, 'buildings': 616, 'depressing': 1188, 'bold': 528, 'dracula': 1341, 'frankenstein': 1822, 'discovered': 1280, 'discovery': 1282, 'karloff': 2445, 'bela': 450, 'lugosi': 2686, 'meat': 2787, 'react': 3540, 'cake': 648, 'priceless': 3390, 'jaws': 2385, 'imagery': 2234, 'gruesome': 1986, 'winner': 4897, 'supernatural': 4302, 'frequent': 1831, 'walken': 4777, 'jones': 2418, 'roberts': 3714, 'excitement': 1562, 'birth': 486, 'von': 4765, 'narrator': 2967, 'unrealistic': 4677, 'hated': 2047, 'guessing': 1991, 'doors': 1329, 'eight': 1436, 'recognize': 3569, 'importance': 2246, 'generations': 1884, 'corner': 996, 'stated': 4161, 'hadnt': 2004, 'sappy': 3784, 'jeff': 2390, 'purchase': 3469, 'robbery': 3711, 'store': 4204, 'improved': 2255, 'mate': 2765, 'chess': 783, 'godfather': 1927, 'teachers': 4376, 'wing': 4896, 'vast': 4716, 'reached': 3537, 'returns': 3668, 'match': 2762, 'nervous': 2999, 'stomach': 4196, 'roots': 3738, 'defense': 1159, 'complexity': 924, 'chicks': 787, 'shy': 3962, 'charlotte': 766, 'journey': 2421, 'demon': 1177, 'product': 3418, 'popularity': 3334, 'hills': 2109, 'formula': 1802, 'required': 3641, 'daring': 1114, 'colour': 880, 'eyre': 1614, 'excited': 1561, 'rochester': 3719, 'directorial': 1265, 'fisher': 1739, 'foster': 1809, 'overcome': 3151, 'derek': 1192, 'wars': 4804, 'catching': 716, 'represent': 3637, 'indian': 2274, 'feed': 1683, 'talked': 4359, 'canadian': 667, 'endure': 1475, 'raised': 3508, 'necessary': 2984, 'cd': 728, 'clichéd': 845, 'westerns': 4854, 'mann': 2728, 'walter': 4784, 'stolen': 4195, 'corrupt': 1001, 'green': 1971, 'unlikely': 4671, 'believed': 455, 'warn': 4797, 'library': 2589, 'robots': 3718, 'larger': 2519, 'planned': 3290, 'answers': 252, 'ordinary': 3128, 'nostalgic': 3039, 'forth': 1804, 'lion': 2614, 'brady': 561, 'saturday': 3792, 'sea': 3838, 'marie': 2737, 'halloween': 2010, 'buck': 605, 'marty': 2749, 'troops': 4591, 'emphasis': 1463, 'experiment': 1583, 'luck': 2681, 'dick': 1239, 'st': 4137, 'beliefs': 452, 'endings': 1472, 'strangers': 4214, 'learning': 2552, 'argument': 291, 'occur': 3076, 'track': 4544, 'via': 4726, '2nd': 41, 'teen': 4388, 'con': 928, 'conspiracy': 956, 'theory': 4437, 'faithful': 1634, 'adapted': 114, 'wound': 4960, 'vs': 4767, 'ruins': 3752, 'alternate': 200, 'regarding': 3589, 'mentioning': 2812, 'aside': 315, 'enjoyment': 1488, 'arrival': 299, 'glover': 1923, 'fabulous': 1615, 'scottish': 3825, 'eyed': 1612, 'unfolds': 4651, 'poetic': 3313, 'understood': 4647, 'achievement': 94, 'logic': 2638, 'transformation': 4560, 'backgrounds': 381, 'maker': 2714, 'structure': 4233, 'edited': 1420, 'adds': 119, 'despair': 1207, 'stood': 4199, 'ticket': 4487, 'prostitute': 3440, 'khan': 2459, 'wannabe': 4787, 'revelation': 3674, 'similarities': 3979, 'julia': 2427, 'anna': 245, 'arthur': 305, 'urban': 4688, 'pseudo': 3454, 'quiet': 3492, 'parent': 3187, 'status': 4165, 'widow': 4883, 'craig': 1030, 'stellar': 4174, 'root': 3737, 'buff': 611, 'overlook': 3153, 'nonsense': 3030, 'creep': 1051, 'rat': 3525, 'appreciated': 280, 'woody': 4936, 'sidney': 3968, 'liners': 2611, 'suit': 4284, 'pokemon': 3320, 'environment': 1505, 'anime': 243, 'forest': 1791, 'cuba': 1075, 'synopsis': 4344, 'tear': 4379, 'unintentionally': 4659, 'appalling': 268, 'relevant': 3604, 'explosion': 1596, 'wives': 4918, 'australia': 356, 'hong': 2149, 'exists': 1573, 'asian': 314, 'jennifer': 2392, 'mistakes': 2873, 'overlooked': 3154, 'concert': 935, 'kissing': 2484, 'screenwriter': 3833, 'intention': 2319, 'answer': 251, 'intentions': 2321, 'gods': 1928, 'wisdom': 4902, 'empathy': 1462, 'petty': 3249, 'matches': 2764, 'attitude': 346, 'hip': 2114, 'hop': 2154, 'rendition': 3625, 'savage': 3793, 'cary': 706, 'grant': 1956, 'lloyd': 2630, 'enjoying': 1487, 'nurse': 3063, 'terribly': 4408, 'reminiscent': 3621, 'lol': 2640, 'nude': 3058, 'exact': 1550, 'jewish': 2401, 'noble': 3021, 'reaches': 3538, 'freeman': 1829, 'assault': 324, '17': 9, 'howard': 2182, 'accused': 91, 'september': 3884, 'forbidden': 1785, 'parties': 3196, 'step': 4175, 'dressing': 1359, 'mouth': 2920, 'cynical': 1093, 'exposure': 1599, 'chicago': 785, 'curiosity': 1082, 'juvenile': 2441, 'travels': 4569, 'devoted': 1231, 'hurt': 2202, 'claire': 831, 'grandfather': 1954, 'crude': 1069, 'twelve': 4611, 'burn': 625, 'purchased': 3470, 'heaven': 2068, 'existed': 1570, 'surprises': 4314, 'catchy': 717, 'nowadays': 3055, 'blake': 498, 'billy': 482, 'finest': 1730, 'window': 4894, 'companion': 909, 'homer': 2144, 'button': 639, '75': 57, 'minimum': 2856, 'junior': 2435, 'fascinated': 1657, 'ha': 2002, 'kim': 2475, 'quirky': 3493, 'cg': 739, 'jungle': 2434, 'ellen': 1446, 'conventional': 979, 'grave': 1962, 'ego': 1435, 'alcoholic': 177, 'pride': 3391, 'spread': 4133, 'cole': 873, 'attend': 344, 'poverty': 3357, 'prevent': 3385, 'baker': 385, 'farm': 1656, 'abandoned': 62, 'ocean': 3079, 'develops': 1226, 'spirited': 4114, 'tomatoes': 4515, 'spin': 4112, 'couldve': 1009, 'wood': 4933, 'camp': 662, 'bollywood': 530, 'stilted': 4190, 'closet': 858, 'generous': 1886, 'suited': 4286, 'rachel': 3500, 'li': 2587, 'trail': 4553, 'vengeance': 4719, 'corpse': 999, 'relatively': 3600, 'bizarre': 492, 'model': 2880, 'chris': 806, 'struggles': 4235, 'sinister': 3998, 'troubled': 4593, 'brief': 579, 'prize': 3405, 'hanging': 2023, 'format': 1799, 'whenever': 4863, 'depicted': 1183, 'morality': 2903, 'catholic': 720, 'racism': 3502, 'necessarily': 2983, 'leg': 2562, 'destroying': 1215, 'shut': 3961, 'paced': 3162, 'marvelous': 2750, 'olivier': 3103, 'entry': 1504, 'ensues': 1493, 'opportunities': 3120, 'intentionally': 2320, 'digital': 1251, 'repetitive': 3633, 'operation': 3117, 'providing': 3451, 'medical': 2790, 'offensive': 3086, 'greedy': 1969, 'macy': 2695, 'incoherent': 2265, 'bush': 632, 'madness': 2698, 'pit': 3278, 'dennis': 1179, 'useless': 4695, 'pig': 3274, 'birds': 485, 'bird': 484, 'neil': 2995, 'simon': 3982, 'lemmon': 2567, 'mixture': 2878, 'sadness': 3770, 'divorce': 1301, 'interaction': 2322, 'cox': 1026, 'shark': 3921, 'aforementioned': 139, 'handle': 2018, '1st': 28, 'creation': 1040, 'fish': 1738, 'satisfy': 3790, 'florida': 1761, 'areas': 287, '2004': 34, 'bound': 553, 'versus': 4722, 'outrageous': 3145, 'installment': 2303, 'glenn': 1918, 'forgive': 1795, 'emma': 1457, 'paltrow': 3178, 'gene': 1879, 'competent': 917, 'nazi': 2977, 'destruction': 1216, 'empire': 1464, '40s': 49, 'showdown': 3955, 'enemy': 1477, 'adorable': 124, 'philip': 3252, 'contract': 973, 'campbell': 663, 'arrested': 298, 'advantage': 129, 'covers': 1024, 'attorney': 348, 'los': 2653, 'wise': 4903, 'fatal': 1664, '70': 55, 'bore': 540, 'dropping': 1371, 'disc': 1278, 'twisted': 4618, 'itll': 2369, 'crush': 1072, 'hart': 2041, 'strip': 4228, 'balance': 387, 'demands': 1175, 'colonel': 876, 'pushed': 3478, 'notorious': 3051, 'fellow': 1691, 'lips': 2615, 'facing': 1620, 'duo': 1386, 'dressed': 1358, 'trick': 4582, 'phony': 3256, 'hence': 2083, 'tremendous': 4579, 'cage': 645, 'warrior': 4802, 'property': 3438, 'lumet': 2688, 'choose': 799, 'weapons': 4829, 'balls': 390, 'feet': 1688, 'dolls': 1316, 'uneven': 4649, 'movement': 2923, 'crafted': 1029, 'block': 508, 'tap': 4364, 'rental': 3627, 'tame': 4363, 'combat': 882, 'mask': 2752, 'monkey': 2890, 'brutal': 603, 'ears': 1402, 'dozen': 1338, '1990': 24, 'burt': 629, 'trashy': 4566, 'semi': 3874, 'abuse': 74, 'drug': 1373, 'duke': 1383, 'mistress': 2874, 'crucial': 1068, 'russell': 3761, 'entertain': 1497, 'painfully': 3172, 'uncomfortable': 4637, 'messages': 2820, 'diamond': 1236, 'ralph': 3510, 'crack': 1027, 'aids': 161, 'civil': 826, 'sixties': 4011, 'persons': 3244, 'mature': 2773, 'documentaries': 1306, 'minds': 2852, 'fulci': 1845, 'screaming': 3827, 'jealous': 2388, 'steps': 4177, 'fred': 1825, 'homeless': 2143, 'lowest': 2678, 'hire': 2116, 'intrigued': 2334, 'racist': 3503, 'photos': 3261, 'unit': 4663, 'accents': 79, 'imitation': 2241, 'floating': 1758, 'jumped': 2430, 'issues': 2365, 'dinosaurs': 1256, 'gothic': 1945, 'simplistic': 3985, 'annie': 247, 'nomination': 3026, 'streep': 4215, 'ballet': 389, 'instant': 2305, 'falk': 1636, 'qualities': 3483, 'pile': 3275, 'sun': 4292, 'dude': 1381, 'protagonist': 3441, 'workers': 4943, 'fits': 1741, 'blond': 510, 'blank': 501, 'wholly': 4874, 'false': 1641, 'yellow': 4981, 'kenneth': 2455, 'namely': 2962, 'lie': 2590, 'upset': 4687, 'broad': 590, 'landscapes': 2514, 'mountains': 2918, 'worker': 4942, 'unseen': 4678, 'pal': 3177, 'realizing': 3555, 'freddy': 1826, 'elm': 1447, 'batman': 413, 'dawn': 1127, 'wells': 4845, 'receive': 3563, 'forces': 1788, 'focusing': 1769, 'bears': 421, 'resemblance': 3645, 'timothy': 4499, 'dalton': 1098, '18': 10, 'reed': 3580, 'edition': 1422, 'sympathy': 4343, 'ramones': 3512, 'cowboy': 1025, 'enterprise': 1495, 'planning': 3291, 'kane': 2442, 'desperately': 1209, 'titled': 4505, 'emily': 1456, 'psychic': 3456, 'comical': 894, 'underground': 4640, 'repeated': 3631, 'ad': 110, 'mall': 2720, 'jonathan': 2417, 'citizen': 824, 'occurred': 3077, 'orson': 3132, 'welles': 4844, 'doll': 1313, 'factory': 1623, 'warren': 4801, 'opinions': 3119, 'aid': 160, 'jesus': 2399, 'distance': 1294, 'kapoor': 2443, 'closely': 855, 'slightest': 4028, 'alas': 172, 'string': 4227, 'tunes': 4603, 'pat': 3208, 'wreck': 4965, 'holly': 2136, 'sleazy': 4023, 'riveting': 3708, 'raising': 3509, 'dislike': 1288, 'depressed': 1187, 'california': 650, 'horrid': 2165, 'stale': 4141, 'keaton': 2448, 'remind': 3618, 'hardcore': 2034, 'satan': 3787, 'molly': 2884, 'kings': 2481, 'successfully': 4267, 'wacky': 4769, 'letters': 2582, 'taxi': 4371, 'carrie': 697, 'toward': 4539, 'blade': 495, 'mirror': 2861, 'secretly': 3851, 'relatives': 3601, 'website': 4834, 'nightmares': 3015, 'glass': 1917, 'witnesses': 4916, 'throat': 4476, 'severe': 3906, 'creators': 1044, 'effectively': 1430, 'prom': 3429, 'source': 4086, 'wizard': 4919, 'oz': 3160, 'elaborate': 1439, 'pulp': 3465, 'superman': 4301, 'phantom': 3251, 'masses': 2755, 'justify': 2439, 'originality': 3130, 'blob': 507, 'mars': 2746, 'corny': 997, 'bite': 489, 'implausible': 2245, 'letting': 2583, 'poignant': 3315, 'franchise': 1817, 'sir': 4000, 'laughably': 2531, 'offended': 3085, 'stiller': 4189, 'hank': 2024, 'rush': 3759, 'row': 3744, 'cringe': 1059, 'lab': 2501, 'chain': 741, 'mail': 2706, 'drag': 1342, 'trained': 4557, 'shorts': 3948, 'fourth': 1813, 'lees': 2560, 'decades': 1145, 'ireland': 2352, 'johnny': 2410, 'kurt': 2499, 'reasonable': 3558, 'aired': 165, 'irish': 2353, 'attempted': 341, 'rebel': 3561, 'oil': 3097, 'diana': 1237, 'plausible': 3295, 'chan': 746, 'clothes': 860, 'maggie': 2702, 'competition': 918, 'ourselves': 3140, 'cases': 708, 'threw': 4470, 'viewings': 4741, 'anderson': 227, 'sadistic': 3768, 'quotes': 3497, 'quote': 3496, 'sport': 4129, 'commented': 900, 'jake': 2377, 'rocky': 3723, 'bridge': 578, 'wore': 4939, 'soccer': 4048, 'trademark': 4548, 'bedroom': 437, 'cameo': 657, 'absence': 70, 'womens': 4924, 'figures': 1713, 'reunion': 3669, 'fooled': 1780, 'demons': 1178, 'lovable': 2668, 'fights': 1710, 'assistant': 326, 'crisis': 1060, 'object': 3066, 'matt': 2768, 'introduces': 2338, 'precious': 3366, 'notes': 3046, 'sheriff': 3929, 'funeral': 1849, 'boom': 537, 'boot': 538, 'discussion': 1284, 'consistent': 953, 'slap': 4018, 'authority': 360, 'modesty': 2883, 'avoided': 364, 'greater': 1965, 'equal': 1509, 'infamous': 2284, 'ridiculously': 3694, 'explosions': 1597, 'stereotype': 4178, 'climactic': 848, 'kicking': 2462, 'goldberg': 1933, 'paranoia': 3186, 'miracle': 2860, 'downhill': 1336, 'signs': 3973, 'fed': 1682, 'depiction': 1185, 'secretary': 3850, 'deaf': 1134, 'unpleasant': 4674, 'miller': 2846, 'bonus': 534, 'photo': 3257, 'clint': 850, 'eastwood': 1409, 'admire': 121, 'stinker': 4191, 'rotten': 3740, 'communist': 907, 'educational': 1425, 'warmth': 4796, 'progresses': 3426, 'motivation': 2914, 'revolutionary': 3681, 'ups': 4686, 'cooper': 990, 'basketball': 409, 'ear': 1397, 'questionable': 3488, 'proceeds': 3411, 'pretend': 3381, 'unbearable': 4633, 'melodramatic': 2798, 'storytelling': 4209, 'border': 539, 'excessive': 1560, 'insight': 2298, 'devil': 1228, 'principal': 3398, 'attracted': 349, 'worn': 4948, 'cruise': 1071, 'bathroom': 412, 'goofy': 1939, 'norman': 3035, 'improve': 2254, 'sacrifice': 3766, 'blows': 517, 'landscape': 2513, 'funnier': 1850, 'hotel': 2175, 'garbo': 1871, 'spain': 4091, 'chances': 748, 'dress': 1357, 'research': 3644, 'mtv': 2933, 'rangers': 3517, 'toys': 4543, 'subjects': 4254, 'celebrity': 729, 'slick': 4026, 'trio': 4587, 'ham': 2011, 'card': 681, 'steel': 4173, 'rambo': 3511, 'ignorant': 2223, 'insulting': 2310, 'relative': 3599, 'understandable': 4644, 'cheating': 776, 'werewolf': 4850, 'shoots': 3944, 'del': 1165, 'disappeared': 1271, 'screening': 3830, 'arrived': 301, 'rain': 3506, 'picks': 3268, 'unwatchable': 4682, 'awe': 370, 'drunken': 1376, 'dorothy': 1330, 'careful': 688, 'junk': 2436, 'term': 4405, 'journalist': 2420, 'topless': 4527, 'sloppy': 4030, 'shining': 3933, 'underlying': 4641, 'identify': 2216, 'hollow': 2135, 'describes': 1196, 'sneak': 4043, 'encounter': 1466, 'tea': 4373, 'drinking': 1362, 'drags': 1345, 'ripped': 3701, 'losers': 2656, 'amateur': 206, 'dedicated': 1153, 'tends': 4402, 'moody': 2899, 'doc': 1303, 'nostalgia': 3038, 'lane': 2515, 'blatant': 502, 'transfer': 4559, 'rolling': 3730, 'branagh': 564, 'lisa': 2616, 'cannibal': 669, 'paulie': 3215, 'saga': 3773, 'universe': 4666, 'attached': 336, 'dropped': 1370, 'elephant': 1444, 'lasted': 2522, 'sensitive': 3879, 'sucks': 4271, 'terrifying': 4410, 'hood': 2151, 'lou': 2663, 'rubber': 3747, 'testament': 4417, 'ginger': 1908, 'disappear': 1270, 'continued': 970, 'rabbit': 3498, 'suffice': 4279, 'homosexual': 2145, 'trade': 4547, 'singers': 3994, 'dig': 1250, 'holes': 2133, '2003': 33, 'thoroughly': 4459, 'reaction': 3541, 'wrapped': 4964, 'eager': 1396, 'letter': 2581, 'countryside': 1015, 'capturing': 679, 'mst3k': 2932, 'toilet': 4512, 'winter': 4900, 'kidding': 2465, 'raymond': 3534, 'prequel': 3372, 'spare': 4093, 'newly': 3004, 'trap': 4563, '1996': 26, 'willis': 4890, 'doom': 1326, 'eva': 1531, 'simmons': 3981, 'chuck': 812, 'clown': 862, 'expressions': 1603, 'claimed': 829, 'eaten': 1412, 'dean': 1139, 'popcorn': 3331, 'loyal': 2679, 'shadows': 3913, 'perry': 3237, 'spoof': 4127, 'lena': 2568, 'considerable': 950, 'involvement': 2347, 'swedish': 4335, 'masters': 2761, 'angeles': 233, 'celluloid': 731, '3d': 46, 'nicholson': 3011, 'walker': 4778, 'zone': 4999, 'gangsters': 1869, 'patients': 3212, 'vegas': 4717, 'horrendous': 2162, 'sounding': 4083, 'specifically': 4100, 'tree': 4576, 'todd': 4510, 'isolated': 2363, 'cried': 1054, 'che': 773, '25': 40, 'magazine': 2701, 'notably': 3042, 'borrowed': 545, 'battles': 415, 'diane': 1238, 'tradition': 4549, 'iraq': 2351, 'strangely': 4212, 'resident': 3647, 'comics': 895, 'dragon': 1344, 'thoughtful': 4463, 'attacked': 338, '1984': 23, 'dutch': 1389, 'introduce': 2336, 'hello': 2078, 'thousand': 4465, 'size': 4012, 'spike': 4111, 'grows': 1985, 'mitchell': 2875, 'tarzan': 4367, 'anyways': 262, 'wrestling': 4966, 'civilization': 827, 'directs': 1267, 'sandra': 3782, 'mountain': 2917, 'slaughter': 4021, 'spring': 4134, 'jay': 2386, 'lawrence': 2539, '1983': 22, 'unsettling': 4679, 'furthermore': 1854, 'annoyed': 248, 'terrorist': 4413, 'worried': 4949, 'frustrated': 1842, 'rick': 3689, 'waitress': 4773, 'moore': 2901, 'inferior': 2285, 'dreary': 1356, 'indians': 2275, 'snow': 4045, 'twin': 4615, 'april': 284, 'gray': 1963, 'centers': 734, 'illness': 2230, 'betty': 474, 'mistaken': 2872, 'hype': 2207, 'murderous': 2942, 'brenda': 575, 'rural': 3758, 'hung': 2197, 'miike': 2837, 'invasion': 2340, 'hundred': 2195, 'traveling': 4568, 'rats': 3531, 'myers': 2952, 'complain': 919, 'knock': 2488, 'hilariously': 2107, 'receives': 3565, 'franco': 1820, 'performs': 3234, 'berlin': 467, 'motives': 2916, 'awfully': 373, '1999': 27, 'brazil': 568, 'tortured': 4530, 'abraham': 69, 'definite': 1161, 'dancer': 1104, 'valuable': 4708, 'pops': 3332, 'leslie': 2574, 'fx': 1858, 'widely': 4881, 'vivid': 4760, 'bullet': 620, 'messed': 2821, 'adequate': 120, 'elegant': 1441, 'gifted': 1907, 'lincoln': 2608, 'karen': 2444, 'astaire': 330, 'cagney': 646, 'danes': 1108, 'unhappy': 4656, 'shakespeare': 3915, 'eve': 1532, 'brosnan': 597, 'vote': 4766, 'jazz': 2387, 'titanic': 4503, 'wendy': 4846, 'carrey': 696, 'akshay': 169, 'waters': 4817, 'nuts': 3064, 'panic': 3181, 'timeless': 4496, 'access': 83, 'germans': 1897, 'inducing': 2279, 'descent': 1193, '45': 50, 'fond': 1776, 'hamlet': 2013, 'beneath': 464, 'arrogant': 303, 'discuss': 1283, 'brooklyn': 595, 'prisoner': 3402, 'sally': 3776, 'craven': 1034, 'cinemas': 817, 'sidekick': 3966, 'distribution': 1298, 'glorious': 1921, 'loads': 2633, 'transition': 4561, 'twilight': 4614, 'polanski': 3321, 'embarrassing': 1454, 'bo': 521, 'clumsy': 866, 'seed': 3856, 'houses': 2180, 'moronic': 2907, 'basement': 405, 'kubrick': 2496, 'porno': 3337, 'methods': 2825, 'crocodile': 1065, 'recognized': 3570, 'bleak': 503, 'mickey': 2831, 'gandhi': 1866, 'wounded': 4961, 'richardson': 3688, 'boll': 529, 'uwe': 4703, 'guarantee': 1987, 'jenny': 2393, 'niro': 3019, 'faster': 1662, 'agents': 151, 'purple': 3473, 'amitabh': 216, 'solely': 4056, 'hollywoods': 2138, 'ruth': 3763, 'elvira': 1450, 'mentions': 2813, 'global': 1920, 'dvds': 1392, 'voiced': 4762, 'corporate': 998, 'ps': 3453, 'sid': 3964, 'greed': 1968, 'hopper': 2161, 'flynn': 1765, 'alert': 178, 'integrity': 2311, 'matrix': 2767, 'signed': 3971, 'yelling': 4980, 'royal': 3746, 'andrews': 229, 'stargate': 4151, 'hunters': 2200, 'gundam': 1997, 'poem': 3312, 'rising': 3703, 'omen': 3104, 'bud': 607, 'fay': 1674, 'bacall': 377, 'mildred': 2841, 'domino': 1319, 'montage': 2894, 'university': 4667, 'grinch': 1975, 'contest': 967, '1940s': 13, 'bergman': 466, 'bath': 411, 'square': 4136, 'opened': 3113, 'beatty': 427, 'voight': 4764, 'earl': 1398, 'heights': 2073, 'mummy': 2937, 'fancy': 1649, '20th': 38, 'gadget': 1860, 'bakshi': 386, 'melting': 2799, 'stones': 4198, 'plant': 3293, 'album': 175, 'swim': 4337, 'orange': 3125, 'scooby': 3820}\n"
     ]
    }
   ],
   "source": [
    "print(str(vocabulary))"
   ]
  },
  {
   "cell_type": "markdown",
   "metadata": {},
   "source": [
    "Once you have added the endpoint name to the Lambda function, click on **Save**. Your Lambda function is now up and running. Next we need to create a way for our web app to execute the Lambda function."
   ]
  },
  {
   "cell_type": "markdown",
   "metadata": {},
   "source": [
    "### Setting up API Gateway\n",
    "\n",
    "Now that our Lambda function is set up, it is time to create a new API using API Gateway that will trigger the Lambda function we have just created.\n",
    "\n",
    "Using AWS Console, navigate to **Amazon API Gateway** and then click on **Get started**.\n",
    "\n",
    "On the next page, make sure that **New API** is selected and give the new api a name, for example, `sentiment_analysis_web_app`. Then, click on **Create API**.\n",
    "\n",
    "Now we have created an API, however it doesn't currently do anything. What we want it to do is to trigger the Lambda function that we created earlier.\n",
    "\n",
    "Select the **Actions** dropdown menu and click **Create Method**. A new blank method will be created, select its dropdown menu and select **POST**, then click on the check mark beside it.\n",
    "\n",
    "For the integration point, make sure that **Lambda Function** is selected and click on the **Use Lambda Proxy integration**. This option makes sure that the data that is sent to the API is then sent directly to the Lambda function with no processing. It also means that the return value must be a proper response object as it will also not be processed by API Gateway.\n",
    "\n",
    "Type the name of the Lambda function you created earlier into the **Lambda Function** text entry box and then click on **Save**. Click on **OK** in the pop-up box that then appears, giving permission to API Gateway to invoke the Lambda function you created.\n",
    "\n",
    "The last step in creating the API Gateway is to select the **Actions** dropdown and click on **Deploy API**. You will need to create a new Deployment stage and name it anything you like, for example `prod`.\n",
    "\n",
    "You have now successfully set up a public API to access your SageMaker model. Make sure to copy or write down the URL provided to invoke your newly created public API as this will be needed in the next step. This URL can be found at the top of the page, highlighted in blue next to the text **Invoke URL**."
   ]
  },
  {
   "cell_type": "markdown",
   "metadata": {},
   "source": [
    "## Step 7: Deploying our web app\n",
    "\n",
    "Now that we have a publicly available API, we can start using it in a web app. For our purposes, we have provided a simple static html file which can make use of the public api you created earlier.\n",
    "\n",
    "In the `website` folder there should be a file called `index.html`. Download the file to your computer and open that file up in a text editor of your choice. There should be a line which contains **\\*\\*REPLACE WITH PUBLIC API URL\\*\\***. Replace this string with the url that you wrote down in the last step and then save the file.\n",
    "\n",
    "Now, if you open `index.html` on your local computer, your browser will behave as a local web server and you can use the provided site to interact with your SageMaker model.\n",
    "\n",
    "If you'd like to go further, you can host this html file anywhere you'd like, for example using github or hosting a static site on Amazon's S3. Once you have done this you can share the link with anyone you'd like and have them play with it too!\n",
    "\n",
    "> **Important Note** In order for the web app to communicate with the SageMaker endpoint, the endpoint has to actually be deployed and running. This means that you are paying for it. Make sure that the endpoint is running when you want to use the web app but that you shut it down when you don't need it, otherwise you will end up with a surprisingly large AWS bill."
   ]
  },
  {
   "cell_type": "markdown",
   "metadata": {},
   "source": [
    "### Delete the endpoint\n",
    "\n",
    "Remember to always shut down your endpoint if you are no longer using it. You are charged for the length of time that the endpoint is running so if you forget and leave it on you could end up with an unexpectedly large bill."
   ]
  },
  {
   "cell_type": "code",
   "execution_count": 58,
   "metadata": {},
   "outputs": [],
   "source": [
    "xgb_predictor.delete_endpoint()"
   ]
  },
  {
   "cell_type": "markdown",
   "metadata": {},
   "source": [
    "## Optional: Clean up\n",
    "\n",
    "The default notebook instance on SageMaker doesn't have a lot of excess disk space available. As you continue to complete and execute notebooks you will eventually fill up this disk space, leading to errors which can be difficult to diagnose. Once you are completely finished using a notebook it is a good idea to remove the files that you created along the way. Of course, you can do this from the terminal or from the notebook hub if you would like. The cell below contains some commands to clean up the created files from within the notebook."
   ]
  },
  {
   "cell_type": "code",
   "execution_count": 59,
   "metadata": {},
   "outputs": [
    {
     "ename": "OSError",
     "evalue": "[Errno 12] Cannot allocate memory",
     "output_type": "error",
     "traceback": [
      "\u001b[0;31m---------------------------------------------------------------------------\u001b[0m",
      "\u001b[0;31mOSError\u001b[0m                                   Traceback (most recent call last)",
      "\u001b[0;32m<ipython-input-59-2c87d8eefdf2>\u001b[0m in \u001b[0;36m<module>\u001b[0;34m()\u001b[0m\n\u001b[1;32m      1\u001b[0m \u001b[0;31m# First we will remove all of the files contained in the data_dir directory\u001b[0m\u001b[0;34m\u001b[0m\u001b[0;34m\u001b[0m\u001b[0m\n\u001b[0;32m----> 2\u001b[0;31m \u001b[0mget_ipython\u001b[0m\u001b[0;34m(\u001b[0m\u001b[0;34m)\u001b[0m\u001b[0;34m.\u001b[0m\u001b[0msystem\u001b[0m\u001b[0;34m(\u001b[0m\u001b[0;34m'rm $data_dir/*'\u001b[0m\u001b[0;34m)\u001b[0m\u001b[0;34m\u001b[0m\u001b[0m\n\u001b[0m\u001b[1;32m      3\u001b[0m \u001b[0;34m\u001b[0m\u001b[0m\n\u001b[1;32m      4\u001b[0m \u001b[0;31m# And then we delete the directory itself\u001b[0m\u001b[0;34m\u001b[0m\u001b[0;34m\u001b[0m\u001b[0m\n\u001b[1;32m      5\u001b[0m \u001b[0mget_ipython\u001b[0m\u001b[0;34m(\u001b[0m\u001b[0;34m)\u001b[0m\u001b[0;34m.\u001b[0m\u001b[0msystem\u001b[0m\u001b[0;34m(\u001b[0m\u001b[0;34m'rmdir $data_dir'\u001b[0m\u001b[0;34m)\u001b[0m\u001b[0;34m\u001b[0m\u001b[0m\n",
      "\u001b[0;32m~/anaconda3/envs/python3/lib/python3.6/site-packages/IPython/core/interactiveshell.py\u001b[0m in \u001b[0;36msystem_piped\u001b[0;34m(self, cmd)\u001b[0m\n\u001b[1;32m   2259\u001b[0m         \u001b[0;31m# a non-None value would trigger :func:`sys.displayhook` calls.\u001b[0m\u001b[0;34m\u001b[0m\u001b[0;34m\u001b[0m\u001b[0m\n\u001b[1;32m   2260\u001b[0m         \u001b[0;31m# Instead, we store the exit_code in user_ns.\u001b[0m\u001b[0;34m\u001b[0m\u001b[0;34m\u001b[0m\u001b[0m\n\u001b[0;32m-> 2261\u001b[0;31m         \u001b[0mself\u001b[0m\u001b[0;34m.\u001b[0m\u001b[0muser_ns\u001b[0m\u001b[0;34m[\u001b[0m\u001b[0;34m'_exit_code'\u001b[0m\u001b[0;34m]\u001b[0m \u001b[0;34m=\u001b[0m \u001b[0msystem\u001b[0m\u001b[0;34m(\u001b[0m\u001b[0mself\u001b[0m\u001b[0;34m.\u001b[0m\u001b[0mvar_expand\u001b[0m\u001b[0;34m(\u001b[0m\u001b[0mcmd\u001b[0m\u001b[0;34m,\u001b[0m \u001b[0mdepth\u001b[0m\u001b[0;34m=\u001b[0m\u001b[0;36m1\u001b[0m\u001b[0;34m)\u001b[0m\u001b[0;34m)\u001b[0m\u001b[0;34m\u001b[0m\u001b[0m\n\u001b[0m\u001b[1;32m   2262\u001b[0m \u001b[0;34m\u001b[0m\u001b[0m\n\u001b[1;32m   2263\u001b[0m     \u001b[0;32mdef\u001b[0m \u001b[0msystem_raw\u001b[0m\u001b[0;34m(\u001b[0m\u001b[0mself\u001b[0m\u001b[0;34m,\u001b[0m \u001b[0mcmd\u001b[0m\u001b[0;34m)\u001b[0m\u001b[0;34m:\u001b[0m\u001b[0;34m\u001b[0m\u001b[0m\n",
      "\u001b[0;32m~/anaconda3/envs/python3/lib/python3.6/site-packages/IPython/utils/_process_posix.py\u001b[0m in \u001b[0;36msystem\u001b[0;34m(self, cmd)\u001b[0m\n\u001b[1;32m    154\u001b[0m                 \u001b[0mchild\u001b[0m \u001b[0;34m=\u001b[0m \u001b[0mpexpect\u001b[0m\u001b[0;34m.\u001b[0m\u001b[0mspawnb\u001b[0m\u001b[0;34m(\u001b[0m\u001b[0mself\u001b[0m\u001b[0;34m.\u001b[0m\u001b[0msh\u001b[0m\u001b[0;34m,\u001b[0m \u001b[0margs\u001b[0m\u001b[0;34m=\u001b[0m\u001b[0;34m[\u001b[0m\u001b[0;34m'-c'\u001b[0m\u001b[0;34m,\u001b[0m \u001b[0mcmd\u001b[0m\u001b[0;34m]\u001b[0m\u001b[0;34m)\u001b[0m \u001b[0;31m# Pexpect-U\u001b[0m\u001b[0;34m\u001b[0m\u001b[0m\n\u001b[1;32m    155\u001b[0m             \u001b[0;32melse\u001b[0m\u001b[0;34m:\u001b[0m\u001b[0;34m\u001b[0m\u001b[0m\n\u001b[0;32m--> 156\u001b[0;31m                 \u001b[0mchild\u001b[0m \u001b[0;34m=\u001b[0m \u001b[0mpexpect\u001b[0m\u001b[0;34m.\u001b[0m\u001b[0mspawn\u001b[0m\u001b[0;34m(\u001b[0m\u001b[0mself\u001b[0m\u001b[0;34m.\u001b[0m\u001b[0msh\u001b[0m\u001b[0;34m,\u001b[0m \u001b[0margs\u001b[0m\u001b[0;34m=\u001b[0m\u001b[0;34m[\u001b[0m\u001b[0;34m'-c'\u001b[0m\u001b[0;34m,\u001b[0m \u001b[0mcmd\u001b[0m\u001b[0;34m]\u001b[0m\u001b[0;34m)\u001b[0m  \u001b[0;31m# Vanilla Pexpect\u001b[0m\u001b[0;34m\u001b[0m\u001b[0m\n\u001b[0m\u001b[1;32m    157\u001b[0m             \u001b[0mflush\u001b[0m \u001b[0;34m=\u001b[0m \u001b[0msys\u001b[0m\u001b[0;34m.\u001b[0m\u001b[0mstdout\u001b[0m\u001b[0;34m.\u001b[0m\u001b[0mflush\u001b[0m\u001b[0;34m\u001b[0m\u001b[0m\n\u001b[1;32m    158\u001b[0m             \u001b[0;32mwhile\u001b[0m \u001b[0;32mTrue\u001b[0m\u001b[0;34m:\u001b[0m\u001b[0;34m\u001b[0m\u001b[0m\n",
      "\u001b[0;32m~/anaconda3/envs/python3/lib/python3.6/site-packages/pexpect/pty_spawn.py\u001b[0m in \u001b[0;36m__init__\u001b[0;34m(self, command, args, timeout, maxread, searchwindowsize, logfile, cwd, env, ignore_sighup, echo, preexec_fn, encoding, codec_errors, dimensions, use_poll)\u001b[0m\n\u001b[1;32m    202\u001b[0m             \u001b[0mself\u001b[0m\u001b[0;34m.\u001b[0m\u001b[0mname\u001b[0m \u001b[0;34m=\u001b[0m \u001b[0;34m'<pexpect factory incomplete>'\u001b[0m\u001b[0;34m\u001b[0m\u001b[0m\n\u001b[1;32m    203\u001b[0m         \u001b[0;32melse\u001b[0m\u001b[0;34m:\u001b[0m\u001b[0;34m\u001b[0m\u001b[0m\n\u001b[0;32m--> 204\u001b[0;31m             \u001b[0mself\u001b[0m\u001b[0;34m.\u001b[0m\u001b[0m_spawn\u001b[0m\u001b[0;34m(\u001b[0m\u001b[0mcommand\u001b[0m\u001b[0;34m,\u001b[0m \u001b[0margs\u001b[0m\u001b[0;34m,\u001b[0m \u001b[0mpreexec_fn\u001b[0m\u001b[0;34m,\u001b[0m \u001b[0mdimensions\u001b[0m\u001b[0;34m)\u001b[0m\u001b[0;34m\u001b[0m\u001b[0m\n\u001b[0m\u001b[1;32m    205\u001b[0m         \u001b[0mself\u001b[0m\u001b[0;34m.\u001b[0m\u001b[0muse_poll\u001b[0m \u001b[0;34m=\u001b[0m \u001b[0muse_poll\u001b[0m\u001b[0;34m\u001b[0m\u001b[0m\n\u001b[1;32m    206\u001b[0m \u001b[0;34m\u001b[0m\u001b[0m\n",
      "\u001b[0;32m~/anaconda3/envs/python3/lib/python3.6/site-packages/pexpect/pty_spawn.py\u001b[0m in \u001b[0;36m_spawn\u001b[0;34m(self, command, args, preexec_fn, dimensions)\u001b[0m\n\u001b[1;32m    301\u001b[0m \u001b[0;34m\u001b[0m\u001b[0m\n\u001b[1;32m    302\u001b[0m         self.ptyproc = self._spawnpty(self.args, env=self.env,\n\u001b[0;32m--> 303\u001b[0;31m                                      cwd=self.cwd, **kwargs)\n\u001b[0m\u001b[1;32m    304\u001b[0m \u001b[0;34m\u001b[0m\u001b[0m\n\u001b[1;32m    305\u001b[0m         \u001b[0mself\u001b[0m\u001b[0;34m.\u001b[0m\u001b[0mpid\u001b[0m \u001b[0;34m=\u001b[0m \u001b[0mself\u001b[0m\u001b[0;34m.\u001b[0m\u001b[0mptyproc\u001b[0m\u001b[0;34m.\u001b[0m\u001b[0mpid\u001b[0m\u001b[0;34m\u001b[0m\u001b[0m\n",
      "\u001b[0;32m~/anaconda3/envs/python3/lib/python3.6/site-packages/pexpect/pty_spawn.py\u001b[0m in \u001b[0;36m_spawnpty\u001b[0;34m(self, args, **kwargs)\u001b[0m\n\u001b[1;32m    312\u001b[0m     \u001b[0;32mdef\u001b[0m \u001b[0m_spawnpty\u001b[0m\u001b[0;34m(\u001b[0m\u001b[0mself\u001b[0m\u001b[0;34m,\u001b[0m \u001b[0margs\u001b[0m\u001b[0;34m,\u001b[0m \u001b[0;34m**\u001b[0m\u001b[0mkwargs\u001b[0m\u001b[0;34m)\u001b[0m\u001b[0;34m:\u001b[0m\u001b[0;34m\u001b[0m\u001b[0m\n\u001b[1;32m    313\u001b[0m         \u001b[0;34m'''Spawn a pty and return an instance of PtyProcess.'''\u001b[0m\u001b[0;34m\u001b[0m\u001b[0m\n\u001b[0;32m--> 314\u001b[0;31m         \u001b[0;32mreturn\u001b[0m \u001b[0mptyprocess\u001b[0m\u001b[0;34m.\u001b[0m\u001b[0mPtyProcess\u001b[0m\u001b[0;34m.\u001b[0m\u001b[0mspawn\u001b[0m\u001b[0;34m(\u001b[0m\u001b[0margs\u001b[0m\u001b[0;34m,\u001b[0m \u001b[0;34m**\u001b[0m\u001b[0mkwargs\u001b[0m\u001b[0;34m)\u001b[0m\u001b[0;34m\u001b[0m\u001b[0m\n\u001b[0m\u001b[1;32m    315\u001b[0m \u001b[0;34m\u001b[0m\u001b[0m\n\u001b[1;32m    316\u001b[0m     \u001b[0;32mdef\u001b[0m \u001b[0mclose\u001b[0m\u001b[0;34m(\u001b[0m\u001b[0mself\u001b[0m\u001b[0;34m,\u001b[0m \u001b[0mforce\u001b[0m\u001b[0;34m=\u001b[0m\u001b[0;32mTrue\u001b[0m\u001b[0;34m)\u001b[0m\u001b[0;34m:\u001b[0m\u001b[0;34m\u001b[0m\u001b[0m\n",
      "\u001b[0;32m~/anaconda3/envs/python3/lib/python3.6/site-packages/ptyprocess/ptyprocess.py\u001b[0m in \u001b[0;36mspawn\u001b[0;34m(cls, argv, cwd, env, echo, preexec_fn, dimensions)\u001b[0m\n\u001b[1;32m    220\u001b[0m \u001b[0;34m\u001b[0m\u001b[0m\n\u001b[1;32m    221\u001b[0m         \u001b[0;32mif\u001b[0m \u001b[0muse_native_pty_fork\u001b[0m\u001b[0;34m:\u001b[0m\u001b[0;34m\u001b[0m\u001b[0m\n\u001b[0;32m--> 222\u001b[0;31m             \u001b[0mpid\u001b[0m\u001b[0;34m,\u001b[0m \u001b[0mfd\u001b[0m \u001b[0;34m=\u001b[0m \u001b[0mpty\u001b[0m\u001b[0;34m.\u001b[0m\u001b[0mfork\u001b[0m\u001b[0;34m(\u001b[0m\u001b[0;34m)\u001b[0m\u001b[0;34m\u001b[0m\u001b[0m\n\u001b[0m\u001b[1;32m    223\u001b[0m         \u001b[0;32melse\u001b[0m\u001b[0;34m:\u001b[0m\u001b[0;34m\u001b[0m\u001b[0m\n\u001b[1;32m    224\u001b[0m             \u001b[0;31m# Use internal fork_pty, for Solaris\u001b[0m\u001b[0;34m\u001b[0m\u001b[0;34m\u001b[0m\u001b[0m\n",
      "\u001b[0;32m~/anaconda3/envs/python3/lib/python3.6/pty.py\u001b[0m in \u001b[0;36mfork\u001b[0;34m()\u001b[0m\n\u001b[1;32m     95\u001b[0m \u001b[0;34m\u001b[0m\u001b[0m\n\u001b[1;32m     96\u001b[0m     \u001b[0mmaster_fd\u001b[0m\u001b[0;34m,\u001b[0m \u001b[0mslave_fd\u001b[0m \u001b[0;34m=\u001b[0m \u001b[0mopenpty\u001b[0m\u001b[0;34m(\u001b[0m\u001b[0;34m)\u001b[0m\u001b[0;34m\u001b[0m\u001b[0m\n\u001b[0;32m---> 97\u001b[0;31m     \u001b[0mpid\u001b[0m \u001b[0;34m=\u001b[0m \u001b[0mos\u001b[0m\u001b[0;34m.\u001b[0m\u001b[0mfork\u001b[0m\u001b[0;34m(\u001b[0m\u001b[0;34m)\u001b[0m\u001b[0;34m\u001b[0m\u001b[0m\n\u001b[0m\u001b[1;32m     98\u001b[0m     \u001b[0;32mif\u001b[0m \u001b[0mpid\u001b[0m \u001b[0;34m==\u001b[0m \u001b[0mCHILD\u001b[0m\u001b[0;34m:\u001b[0m\u001b[0;34m\u001b[0m\u001b[0m\n\u001b[1;32m     99\u001b[0m         \u001b[0;31m# Establish a new session.\u001b[0m\u001b[0;34m\u001b[0m\u001b[0;34m\u001b[0m\u001b[0m\n",
      "\u001b[0;31mOSError\u001b[0m: [Errno 12] Cannot allocate memory"
     ]
    }
   ],
   "source": [
    "# First we will remove all of the files contained in the data_dir directory\n",
    "!rm $data_dir/*\n",
    "\n",
    "# And then we delete the directory itself\n",
    "!rmdir $data_dir\n",
    "\n",
    "# Similarly we remove the files in the cache_dir directory and the directory itself\n",
    "!rm $cache_dir/*\n",
    "!rmdir $cache_dir"
   ]
  },
  {
   "cell_type": "code",
   "execution_count": null,
   "metadata": {},
   "outputs": [],
   "source": []
  }
 ],
 "metadata": {
  "kernelspec": {
   "display_name": "conda_python3",
   "language": "python",
   "name": "conda_python3"
  },
  "language_info": {
   "codemirror_mode": {
    "name": "ipython",
    "version": 3
   },
   "file_extension": ".py",
   "mimetype": "text/x-python",
   "name": "python",
   "nbconvert_exporter": "python",
   "pygments_lexer": "ipython3",
   "version": "3.6.5"
  }
 },
 "nbformat": 4,
 "nbformat_minor": 4
}
