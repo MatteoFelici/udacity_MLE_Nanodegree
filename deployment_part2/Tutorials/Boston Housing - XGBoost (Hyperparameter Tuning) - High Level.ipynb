{
 "cells": [
  {
   "cell_type": "markdown",
   "metadata": {},
   "source": [
    "# Predicting Boston Housing Prices\n",
    "\n",
    "## Using XGBoost in SageMaker (Hyperparameter Tuning)\n",
    "\n",
    "_Deep Learning Nanodegree Program | Deployment_\n",
    "\n",
    "---\n",
    "\n",
    "As an introduction to using SageMaker's High Level Python API for hyperparameter tuning, we will look again at the [Boston Housing Dataset](https://www.cs.toronto.edu/~delve/data/boston/bostonDetail.html) to predict the median value of a home in the area of Boston Mass.\n",
    "\n",
    "The documentation for the high level API can be found on the [ReadTheDocs page](http://sagemaker.readthedocs.io/en/latest/)\n",
    "\n",
    "## General Outline\n",
    "\n",
    "Typically, when using a notebook instance with SageMaker, you will proceed through the following steps. Of course, not every step will need to be done with each project. Also, there is quite a lot of room for variation in many of the steps, as you will see throughout these lessons.\n",
    "\n",
    "1. Download or otherwise retrieve the data.\n",
    "2. Process / Prepare the data.\n",
    "3. Upload the processed data to S3.\n",
    "4. Train a chosen model.\n",
    "5. Test the trained model (typically using a batch transform job).\n",
    "6. Deploy the trained model.\n",
    "7. Use the deployed model.\n",
    "\n",
    "In this notebook we will only be covering steps 1 through 5 as we are only interested in creating a tuned model and testing its performance."
   ]
  },
  {
   "cell_type": "markdown",
   "metadata": {},
   "source": [
    "## Step 0: Setting up the notebook\n",
    "\n",
    "We begin by setting up all of the necessary bits required to run our notebook. To start that means loading all of the Python modules we will need."
   ]
  },
  {
   "cell_type": "code",
   "execution_count": 1,
   "metadata": {},
   "outputs": [],
   "source": [
    "%matplotlib inline\n",
    "\n",
    "import os\n",
    "\n",
    "import numpy as np\n",
    "import pandas as pd\n",
    "\n",
    "import matplotlib.pyplot as plt\n",
    "\n",
    "from sklearn.datasets import load_boston\n",
    "import sklearn.model_selection"
   ]
  },
  {
   "cell_type": "markdown",
   "metadata": {},
   "source": [
    "In addition to the modules above, we need to import the various bits of SageMaker that we will be using. "
   ]
  },
  {
   "cell_type": "code",
   "execution_count": 2,
   "metadata": {},
   "outputs": [],
   "source": [
    "import sagemaker\n",
    "from sagemaker import get_execution_role\n",
    "from sagemaker.amazon.amazon_estimator import get_image_uri\n",
    "from sagemaker.predictor import csv_serializer\n",
    "\n",
    "# This is an object that represents the SageMaker session that we are currently operating in. This\n",
    "# object contains some useful information that we will need to access later such as our region.\n",
    "session = sagemaker.Session()\n",
    "\n",
    "# This is an object that represents the IAM role that we are currently assigned. When we construct\n",
    "# and launch the training job later we will need to tell it what IAM role it should have. Since our\n",
    "# use case is relatively simple we will simply assign the training job the role we currently have.\n",
    "role = get_execution_role()"
   ]
  },
  {
   "cell_type": "markdown",
   "metadata": {},
   "source": [
    "## Step 1: Downloading the data\n",
    "\n",
    "Fortunately, this dataset can be retrieved using sklearn and so this step is relatively straightforward."
   ]
  },
  {
   "cell_type": "code",
   "execution_count": 5,
   "metadata": {},
   "outputs": [],
   "source": [
    "boston = load_boston()"
   ]
  },
  {
   "cell_type": "markdown",
   "metadata": {},
   "source": [
    "## Step 2: Preparing and splitting the data\n",
    "\n",
    "Given that this is clean tabular data, we don't need to do any processing. However, we do need to split the rows in the dataset up into train, test and validation sets."
   ]
  },
  {
   "cell_type": "code",
   "execution_count": 6,
   "metadata": {},
   "outputs": [],
   "source": [
    "# First we package up the input data and the target variable (the median value) as pandas dataframes. This\n",
    "# will make saving the data to a file a little easier later on.\n",
    "\n",
    "X_bos_pd = pd.DataFrame(boston.data, columns=boston.feature_names)\n",
    "Y_bos_pd = pd.DataFrame(boston.target)\n",
    "\n",
    "# We split the dataset into 2/3 training and 1/3 testing sets.\n",
    "X_train, X_test, Y_train, Y_test = sklearn.model_selection.train_test_split(X_bos_pd, Y_bos_pd, test_size=0.33)\n",
    "\n",
    "# Then we split the training set further into 2/3 training and 1/3 validation sets.\n",
    "X_train, X_val, Y_train, Y_val = sklearn.model_selection.train_test_split(X_train, Y_train, test_size=0.33)"
   ]
  },
  {
   "cell_type": "markdown",
   "metadata": {},
   "source": [
    "## Step 3: Uploading the data files to S3\n",
    "\n",
    "When a training job is constructed using SageMaker, a container is executed which performs the training operation. This container is given access to data that is stored in S3. This means that we need to upload the data we want to use for training to S3. In addition, when we perform a batch transform job, SageMaker expects the input data to be stored on S3. We can use the SageMaker API to do this and hide some of the details.\n",
    "\n",
    "### Save the data locally\n",
    "\n",
    "First we need to create the test, train and validation csv files which we will then upload to S3."
   ]
  },
  {
   "cell_type": "code",
   "execution_count": 3,
   "metadata": {},
   "outputs": [],
   "source": [
    "# This is our local data directory. We need to make sure that it exists.\n",
    "data_dir = '../data/boston'\n",
    "if not os.path.exists(data_dir):\n",
    "    os.makedirs(data_dir)"
   ]
  },
  {
   "cell_type": "code",
   "execution_count": 7,
   "metadata": {},
   "outputs": [],
   "source": [
    "# We use pandas to save our test, train and validation data to csv files. Note that we make sure not to include header\n",
    "# information or an index as this is required by the built in algorithms provided by Amazon. Also, for the train and\n",
    "# validation data, it is assumed that the first entry in each row is the target variable.\n",
    "\n",
    "X_test.to_csv(os.path.join(data_dir, 'test.csv'), header=False, index=False)\n",
    "\n",
    "pd.concat([Y_val, X_val], axis=1).to_csv(os.path.join(data_dir, 'validation.csv'), header=False, index=False)\n",
    "pd.concat([Y_train, X_train], axis=1).to_csv(os.path.join(data_dir, 'train.csv'), header=False, index=False)"
   ]
  },
  {
   "cell_type": "markdown",
   "metadata": {},
   "source": [
    "### Upload to S3\n",
    "\n",
    "Since we are currently running inside of a SageMaker session, we can use the object which represents this session to upload our data to the 'default' S3 bucket. Note that it is good practice to provide a custom prefix (essentially an S3 folder) to make sure that you don't accidentally interfere with data uploaded from some other notebook or project."
   ]
  },
  {
   "cell_type": "code",
   "execution_count": 8,
   "metadata": {},
   "outputs": [],
   "source": [
    "prefix = 'boston-xgboost-tuning-HL'\n",
    "\n",
    "test_location = session.upload_data(os.path.join(data_dir, 'test.csv'), key_prefix=prefix)\n",
    "val_location = session.upload_data(os.path.join(data_dir, 'validation.csv'), key_prefix=prefix)\n",
    "train_location = session.upload_data(os.path.join(data_dir, 'train.csv'), key_prefix=prefix)"
   ]
  },
  {
   "cell_type": "markdown",
   "metadata": {},
   "source": [
    "## Step 4: Train the XGBoost model\n",
    "\n",
    "Now that we have the training and validation data uploaded to S3, we can construct our XGBoost model and train it. Unlike in the previous notebooks, instead of training a single model, we will use SageMaker's hyperparameter tuning functionality to train multiple models and use the one that performs the best on the validation set.\n",
    "\n",
    "To begin with, as in the previous approaches, we will need to construct an estimator object."
   ]
  },
  {
   "cell_type": "code",
   "execution_count": 9,
   "metadata": {},
   "outputs": [],
   "source": [
    "# As stated above, we use this utility method to construct the image name for the training container.\n",
    "container = get_image_uri(session.boto_region_name, 'xgboost', '0.90-1')\n",
    "\n",
    "# Now that we know which container to use, we can construct the estimator object.\n",
    "xgb = sagemaker.estimator.Estimator(container, # The name of the training container\n",
    "                                    role,      # The IAM role to use (our current role in this case)\n",
    "                                    train_instance_count=1, # The number of instances to use for training\n",
    "                                    train_instance_type='ml.m4.xlarge', # The type of instance ot use for training\n",
    "                                    output_path='s3://{}/{}/output'.format(session.default_bucket(), prefix),\n",
    "                                                                        # Where to save the output (the model artifacts)\n",
    "                                    sagemaker_session=session) # The current SageMaker session"
   ]
  },
  {
   "cell_type": "markdown",
   "metadata": {},
   "source": [
    "Before beginning the hyperparameter tuning, we should make sure to set any model specific hyperparameters that we wish to have default values. There are quite a few that can be set when using the XGBoost algorithm, below are just a few of them. If you would like to change the hyperparameters below or modify additional ones you can find additional information on the [XGBoost hyperparameter page](https://docs.aws.amazon.com/sagemaker/latest/dg/xgboost_hyperparameters.html)"
   ]
  },
  {
   "cell_type": "code",
   "execution_count": 10,
   "metadata": {},
   "outputs": [],
   "source": [
    "xgb.set_hyperparameters(max_depth=5,\n",
    "                        eta=0.2,\n",
    "                        gamma=4,\n",
    "                        min_child_weight=6,\n",
    "                        subsample=0.8,\n",
    "                        objective='reg:linear',\n",
    "                        early_stopping_rounds=10,\n",
    "                        num_round=200)"
   ]
  },
  {
   "cell_type": "markdown",
   "metadata": {},
   "source": [
    "Now that we have our estimator object completely set up, it is time to create the hyperparameter tuner. To do this we need to construct a new object which contains each of the parameters we want SageMaker to tune. In this case, we wish to find the best values for the `max_depth`, `eta`, `min_child_weight`, `subsample`, and `gamma` parameters. Note that for each parameter that we want SageMaker to tune we need to specify both the *type* of the parameter and the *range* of values that parameter may take on.\n",
    "\n",
    "In addition, we specify the *number* of models to construct (`max_jobs`) and the number of those that can be trained in parallel (`max_parallel_jobs`). In the cell below we have chosen to train `20` models, of which we ask that SageMaker train `3` at a time in parallel. Note that this results in a total of `20` training jobs being executed which can take some time, in this case almost a half hour. With more complicated models this can take even longer so be aware!"
   ]
  },
  {
   "cell_type": "code",
   "execution_count": 11,
   "metadata": {},
   "outputs": [],
   "source": [
    "from sagemaker.tuner import IntegerParameter, ContinuousParameter, HyperparameterTuner\n",
    "\n",
    "xgb_hyperparameter_tuner = HyperparameterTuner(estimator = xgb, # The estimator object to use as the basis for the training jobs.\n",
    "                                               objective_metric_name = 'validation:rmse', # The metric used to compare trained models.\n",
    "                                               objective_type = 'Minimize', # Whether we wish to minimize or maximize the metric.\n",
    "                                               max_jobs = 20, # The total number of models to train\n",
    "                                               max_parallel_jobs = 3, # The number of models to train in parallel\n",
    "                                               hyperparameter_ranges = {\n",
    "                                                    'max_depth': IntegerParameter(3, 10),\n",
    "                                                    'eta'      : ContinuousParameter(0.01, 0.5),\n",
    "                                                    'min_child_weight': IntegerParameter(2, 8),\n",
    "                                                    'subsample': ContinuousParameter(0.5, 0.9),\n",
    "                                                    'gamma': ContinuousParameter(0, 10),\n",
    "                                               })"
   ]
  },
  {
   "cell_type": "markdown",
   "metadata": {},
   "source": [
    "Now that we have our hyperparameter tuner object completely set up, it is time to train it. To do this we make sure that SageMaker knows our input data is in csv format and then execute the `fit` method."
   ]
  },
  {
   "cell_type": "code",
   "execution_count": 12,
   "metadata": {},
   "outputs": [],
   "source": [
    "# This is a wrapper around the location of our train and validation data, to make sure that SageMaker\n",
    "# knows our data is in csv format.\n",
    "s3_input_train = sagemaker.s3_input(s3_data=train_location, content_type='csv')\n",
    "s3_input_validation = sagemaker.s3_input(s3_data=val_location, content_type='csv')\n",
    "\n",
    "xgb_hyperparameter_tuner.fit({'train': s3_input_train, 'validation': s3_input_validation})"
   ]
  },
  {
   "cell_type": "markdown",
   "metadata": {},
   "source": [
    "As in many of the examples we have seen so far, the `fit()` method takes care of setting up and fitting a number of different models, each with different hyperparameters. If we wish to wait for this process to finish, we can call the `wait()` method."
   ]
  },
  {
   "cell_type": "code",
   "execution_count": 13,
   "metadata": {},
   "outputs": [
    {
     "name": "stdout",
     "output_type": "stream",
     "text": [
      "..................................................................................................................................................................................................................................................................!\n"
     ]
    }
   ],
   "source": [
    "xgb_hyperparameter_tuner.wait()"
   ]
  },
  {
   "cell_type": "markdown",
   "metadata": {},
   "source": [
    "Once the hyperamater tuner has finished, we can retrieve information about the best performing model. "
   ]
  },
  {
   "cell_type": "code",
   "execution_count": 14,
   "metadata": {},
   "outputs": [
    {
     "data": {
      "text/plain": [
       "'sagemaker-xgboost-191110-1613-016-cbc69477'"
      ]
     },
     "execution_count": 14,
     "metadata": {},
     "output_type": "execute_result"
    }
   ],
   "source": [
    "xgb_hyperparameter_tuner.best_training_job()"
   ]
  },
  {
   "cell_type": "markdown",
   "metadata": {},
   "source": [
    "In addition, since we'd like to set up a batch transform job to test the best model, we can construct a new estimator object from the results of the best training job. The `xgb_attached` object below can now be used as though we constructed an estimator with the best performing hyperparameters and then fit it to our training data."
   ]
  },
  {
   "cell_type": "code",
   "execution_count": 16,
   "metadata": {
    "scrolled": true
   },
   "outputs": [
    {
     "name": "stdout",
     "output_type": "stream",
     "text": [
      "2019-11-10 16:31:10 Starting - Preparing the instances for training\n",
      "2019-11-10 16:31:10 Downloading - Downloading input data\n",
      "2019-11-10 16:31:10 Training - Training image download completed. Training in progress.\n",
      "2019-11-10 16:31:10 Uploading - Uploading generated training model\n",
      "2019-11-10 16:31:10 Completed - Training job completed\u001b[31mINFO:sagemaker-containers:Imported framework sagemaker_xgboost_container.training\u001b[0m\n",
      "\u001b[31mINFO:sagemaker-containers:Failed to parse hyperparameter _tuning_objective_metric value validation:rmse to Json.\u001b[0m\n",
      "\u001b[31mReturning the value itself\u001b[0m\n",
      "\u001b[31mINFO:sagemaker-containers:Failed to parse hyperparameter objective value reg:linear to Json.\u001b[0m\n",
      "\u001b[31mReturning the value itself\u001b[0m\n",
      "\u001b[31mINFO:sagemaker-containers:No GPUs detected (normal if no gpus installed)\u001b[0m\n",
      "\u001b[31mINFO:sagemaker_xgboost_container.training:Running XGBoost Sagemaker in algorithm mode\u001b[0m\n",
      "\u001b[31mINFO:root:Determined delimiter of CSV input is ','\u001b[0m\n",
      "\u001b[31mINFO:root:Determined delimiter of CSV input is ','\u001b[0m\n",
      "\u001b[31mINFO:root:Determined delimiter of CSV input is ','\u001b[0m\n",
      "\u001b[31m[16:30:59] 227x13 matrix with 2951 entries loaded from /opt/ml/input/data/train?format=csv&label_column=0&delimiter=,\u001b[0m\n",
      "\u001b[31mINFO:root:Determined delimiter of CSV input is ','\u001b[0m\n",
      "\u001b[31m[16:30:59] 112x13 matrix with 1456 entries loaded from /opt/ml/input/data/validation?format=csv&label_column=0&delimiter=,\u001b[0m\n",
      "\u001b[31mINFO:root:Single node training.\u001b[0m\n",
      "\u001b[31mINFO:root:Setting up HPO optimized metric to be : rmse\u001b[0m\n",
      "\u001b[31mINFO:root:Train matrix has 227 rows\u001b[0m\n",
      "\u001b[31mINFO:root:Validation matrix has 112 rows\u001b[0m\n",
      "\u001b[31m[16:30:59] WARNING: /workspace/src/objective/regression_obj.cu:152: reg:linear is now deprecated in favor of reg:squarederror.\u001b[0m\n",
      "\u001b[31m[0]#011train-rmse:21.8859#011validation-rmse:21.6959\u001b[0m\n",
      "\u001b[31m[1]#011train-rmse:20.1821#011validation-rmse:19.9975\u001b[0m\n",
      "\u001b[31m[2]#011train-rmse:18.6477#011validation-rmse:18.4768\u001b[0m\n",
      "\u001b[31m[3]#011train-rmse:17.2824#011validation-rmse:17.135\u001b[0m\n",
      "\u001b[31m[4]#011train-rmse:15.9791#011validation-rmse:15.8386\u001b[0m\n",
      "\u001b[31m[5]#011train-rmse:14.7799#011validation-rmse:14.6563\u001b[0m\n",
      "\u001b[31m[6]#011train-rmse:13.7139#011validation-rmse:13.6058\u001b[0m\n",
      "\u001b[31m[7]#011train-rmse:12.7009#011validation-rmse:12.5857\u001b[0m\n",
      "\u001b[31m[8]#011train-rmse:11.7815#011validation-rmse:11.7325\u001b[0m\n",
      "\u001b[31m[9]#011train-rmse:10.914#011validation-rmse:10.866\u001b[0m\n",
      "\u001b[31m[10]#011train-rmse:10.1439#011validation-rmse:10.0942\u001b[0m\n",
      "\u001b[31m[11]#011train-rmse:9.44369#011validation-rmse:9.39693\u001b[0m\n",
      "\u001b[31m[12]#011train-rmse:8.79058#011validation-rmse:8.77885\u001b[0m\n",
      "\u001b[31m[13]#011train-rmse:8.19401#011validation-rmse:8.20364\u001b[0m\n",
      "\u001b[31m[14]#011train-rmse:7.66935#011validation-rmse:7.68808\u001b[0m\n",
      "\u001b[31m[15]#011train-rmse:7.21377#011validation-rmse:7.27469\u001b[0m\n",
      "\u001b[31m[16]#011train-rmse:6.75404#011validation-rmse:6.818\u001b[0m\n",
      "\u001b[31m[17]#011train-rmse:6.36039#011validation-rmse:6.43526\u001b[0m\n",
      "\u001b[31m[18]#011train-rmse:5.97463#011validation-rmse:6.07833\u001b[0m\n",
      "\u001b[31m[19]#011train-rmse:5.61813#011validation-rmse:5.75593\u001b[0m\n",
      "\u001b[31m[20]#011train-rmse:5.26542#011validation-rmse:5.42134\u001b[0m\n",
      "\u001b[31m[21]#011train-rmse:4.94347#011validation-rmse:5.13682\u001b[0m\n",
      "\u001b[31m[22]#011train-rmse:4.66137#011validation-rmse:4.88614\u001b[0m\n",
      "\u001b[31m[23]#011train-rmse:4.4048#011validation-rmse:4.69038\u001b[0m\n",
      "\u001b[31m[24]#011train-rmse:4.14709#011validation-rmse:4.48855\u001b[0m\n",
      "\u001b[31m[25]#011train-rmse:3.92709#011validation-rmse:4.32232\u001b[0m\n",
      "\u001b[31m[26]#011train-rmse:3.69789#011validation-rmse:4.16635\u001b[0m\n",
      "\u001b[31m[27]#011train-rmse:3.50507#011validation-rmse:4.00275\u001b[0m\n",
      "\u001b[31m[28]#011train-rmse:3.30318#011validation-rmse:3.86206\u001b[0m\n",
      "\u001b[31m[29]#011train-rmse:3.11088#011validation-rmse:3.7516\u001b[0m\n",
      "\u001b[31m[30]#011train-rmse:2.9735#011validation-rmse:3.65163\u001b[0m\n",
      "\u001b[31m[31]#011train-rmse:2.8348#011validation-rmse:3.53676\u001b[0m\n",
      "\u001b[31m[32]#011train-rmse:2.6823#011validation-rmse:3.45682\u001b[0m\n",
      "\u001b[31m[33]#011train-rmse:2.53885#011validation-rmse:3.38284\u001b[0m\n",
      "\u001b[31m[34]#011train-rmse:2.44216#011validation-rmse:3.30614\u001b[0m\n",
      "\u001b[31m[35]#011train-rmse:2.31945#011validation-rmse:3.24962\u001b[0m\n",
      "\u001b[31m[36]#011train-rmse:2.23103#011validation-rmse:3.20307\u001b[0m\n",
      "\u001b[31m[37]#011train-rmse:2.11553#011validation-rmse:3.16727\u001b[0m\n",
      "\u001b[31m[38]#011train-rmse:2.03091#011validation-rmse:3.12276\u001b[0m\n",
      "\u001b[31m[39]#011train-rmse:1.93485#011validation-rmse:3.0831\u001b[0m\n",
      "\u001b[31m[40]#011train-rmse:1.84408#011validation-rmse:3.04759\u001b[0m\n",
      "\u001b[31m[41]#011train-rmse:1.77531#011validation-rmse:3.01726\u001b[0m\n",
      "\u001b[31m[42]#011train-rmse:1.70938#011validation-rmse:2.99223\u001b[0m\n",
      "\u001b[31m[43]#011train-rmse:1.62943#011validation-rmse:2.96008\u001b[0m\n",
      "\u001b[31m[44]#011train-rmse:1.57675#011validation-rmse:2.93742\u001b[0m\n",
      "\u001b[31m[45]#011train-rmse:1.50583#011validation-rmse:2.91235\u001b[0m\n",
      "\u001b[31m[46]#011train-rmse:1.45154#011validation-rmse:2.88586\u001b[0m\n",
      "\u001b[31m[47]#011train-rmse:1.40513#011validation-rmse:2.86348\u001b[0m\n",
      "\u001b[31m[48]#011train-rmse:1.34599#011validation-rmse:2.85241\u001b[0m\n",
      "\u001b[31m[49]#011train-rmse:1.29202#011validation-rmse:2.8441\u001b[0m\n",
      "\u001b[31m[50]#011train-rmse:1.23831#011validation-rmse:2.82169\u001b[0m\n",
      "\u001b[31m[51]#011train-rmse:1.20594#011validation-rmse:2.80177\u001b[0m\n",
      "\u001b[31m[52]#011train-rmse:1.17199#011validation-rmse:2.79779\u001b[0m\n",
      "\u001b[31m[53]#011train-rmse:1.12574#011validation-rmse:2.78891\u001b[0m\n",
      "\u001b[31m[54]#011train-rmse:1.09778#011validation-rmse:2.7812\u001b[0m\n",
      "\u001b[31m[55]#011train-rmse:1.06631#011validation-rmse:2.77434\u001b[0m\n",
      "\u001b[31m[56]#011train-rmse:1.05691#011validation-rmse:2.77063\u001b[0m\n",
      "\u001b[31m[57]#011train-rmse:1.03878#011validation-rmse:2.76459\u001b[0m\n",
      "\u001b[31m[58]#011train-rmse:0.996624#011validation-rmse:2.75305\u001b[0m\n",
      "\u001b[31m[59]#011train-rmse:0.975134#011validation-rmse:2.74643\u001b[0m\n",
      "\u001b[31m[60]#011train-rmse:0.939113#011validation-rmse:2.74643\u001b[0m\n",
      "\u001b[31m[61]#011train-rmse:0.920883#011validation-rmse:2.74592\u001b[0m\n",
      "\u001b[31m[62]#011train-rmse:0.888963#011validation-rmse:2.74638\u001b[0m\n",
      "\u001b[31m[63]#011train-rmse:0.858616#011validation-rmse:2.73588\u001b[0m\n",
      "\u001b[31m[64]#011train-rmse:0.829047#011validation-rmse:2.73116\u001b[0m\n",
      "\u001b[31m[65]#011train-rmse:0.797055#011validation-rmse:2.72343\u001b[0m\n",
      "\u001b[31m[66]#011train-rmse:0.771314#011validation-rmse:2.71266\u001b[0m\n",
      "\u001b[31m[67]#011train-rmse:0.755957#011validation-rmse:2.71343\u001b[0m\n",
      "\u001b[31m[68]#011train-rmse:0.737046#011validation-rmse:2.71444\u001b[0m\n",
      "\u001b[31m[69]#011train-rmse:0.722215#011validation-rmse:2.71194\u001b[0m\n",
      "\u001b[31m[70]#011train-rmse:0.704058#011validation-rmse:2.71502\u001b[0m\n",
      "\u001b[31m[71]#011train-rmse:0.688702#011validation-rmse:2.71435\u001b[0m\n",
      "\u001b[31m[72]#011train-rmse:0.677655#011validation-rmse:2.71597\u001b[0m\n",
      "\u001b[31m[73]#011train-rmse:0.667987#011validation-rmse:2.70665\u001b[0m\n",
      "\u001b[31m[74]#011train-rmse:0.650452#011validation-rmse:2.69715\u001b[0m\n",
      "\u001b[31m[75]#011train-rmse:0.640841#011validation-rmse:2.6884\u001b[0m\n",
      "\u001b[31m[76]#011train-rmse:0.635395#011validation-rmse:2.69083\u001b[0m\n",
      "\u001b[31m[77]#011train-rmse:0.618097#011validation-rmse:2.6823\u001b[0m\n",
      "\u001b[31m[78]#011train-rmse:0.6137#011validation-rmse:2.68164\u001b[0m\n",
      "\u001b[31m[79]#011train-rmse:0.609994#011validation-rmse:2.67583\u001b[0m\n",
      "\u001b[31m[80]#011train-rmse:0.599933#011validation-rmse:2.6772\u001b[0m\n",
      "\u001b[31m[81]#011train-rmse:0.595894#011validation-rmse:2.66952\u001b[0m\n",
      "\u001b[31m[82]#011train-rmse:0.58934#011validation-rmse:2.6686\u001b[0m\n",
      "\u001b[31m[83]#011train-rmse:0.583078#011validation-rmse:2.66817\u001b[0m\n",
      "\u001b[31m[84]#011train-rmse:0.569771#011validation-rmse:2.66854\u001b[0m\n",
      "\u001b[31m[85]#011train-rmse:0.556703#011validation-rmse:2.66613\u001b[0m\n",
      "\u001b[31m[86]#011train-rmse:0.548046#011validation-rmse:2.67114\u001b[0m\n",
      "\u001b[31m[87]#011train-rmse:0.541441#011validation-rmse:2.66864\u001b[0m\n",
      "\u001b[31m[88]#011train-rmse:0.529301#011validation-rmse:2.66823\u001b[0m\n",
      "\u001b[31m[89]#011train-rmse:0.519503#011validation-rmse:2.66799\u001b[0m\n",
      "\u001b[31m[90]#011train-rmse:0.504959#011validation-rmse:2.66759\u001b[0m\n",
      "\u001b[31m[91]#011train-rmse:0.494071#011validation-rmse:2.6617\u001b[0m\n",
      "\u001b[31m[92]#011train-rmse:0.490996#011validation-rmse:2.66288\u001b[0m\n",
      "\u001b[31m[93]#011train-rmse:0.486705#011validation-rmse:2.65991\u001b[0m\n",
      "\u001b[31m[94]#011train-rmse:0.485699#011validation-rmse:2.66049\u001b[0m\n",
      "\u001b[31m[95]#011train-rmse:0.475047#011validation-rmse:2.65877\u001b[0m\n",
      "\u001b[31m[96]#011train-rmse:0.471216#011validation-rmse:2.6621\u001b[0m\n",
      "\u001b[31m[97]#011train-rmse:0.463244#011validation-rmse:2.65956\u001b[0m\n",
      "\u001b[31m[98]#011train-rmse:0.452963#011validation-rmse:2.65689\u001b[0m\n",
      "\u001b[31m[99]#011train-rmse:0.442328#011validation-rmse:2.65588\u001b[0m\n",
      "\u001b[31m[100]#011train-rmse:0.440987#011validation-rmse:2.65667\u001b[0m\n",
      "\u001b[31m[101]#011train-rmse:0.432528#011validation-rmse:2.65195\u001b[0m\n",
      "\u001b[31m[102]#011train-rmse:0.430588#011validation-rmse:2.65237\u001b[0m\n",
      "\u001b[31m[103]#011train-rmse:0.421463#011validation-rmse:2.65162\u001b[0m\n",
      "\u001b[31m[104]#011train-rmse:0.419241#011validation-rmse:2.65192\u001b[0m\n",
      "\u001b[31m[105]#011train-rmse:0.416461#011validation-rmse:2.65355\u001b[0m\n",
      "\u001b[31m[106]#011train-rmse:0.416338#011validation-rmse:2.65433\u001b[0m\n",
      "\u001b[31m[107]#011train-rmse:0.413907#011validation-rmse:2.65322\u001b[0m\n",
      "\u001b[31m[108]#011train-rmse:0.407123#011validation-rmse:2.65222\u001b[0m\n",
      "\u001b[31m[109]#011train-rmse:0.403872#011validation-rmse:2.64988\u001b[0m\n",
      "\u001b[31m[110]#011train-rmse:0.394584#011validation-rmse:2.64954\u001b[0m\n",
      "\u001b[31m[111]#011train-rmse:0.392547#011validation-rmse:2.64971\u001b[0m\n",
      "\u001b[31m[112]#011train-rmse:0.388558#011validation-rmse:2.65059\u001b[0m\n",
      "\u001b[31m[113]#011train-rmse:0.38258#011validation-rmse:2.65045\u001b[0m\n",
      "\u001b[31m[114]#011train-rmse:0.380064#011validation-rmse:2.64739\u001b[0m\n",
      "\u001b[31m[115]#011train-rmse:0.372454#011validation-rmse:2.64807\u001b[0m\n",
      "\u001b[31m[116]#011train-rmse:0.364448#011validation-rmse:2.64854\u001b[0m\n",
      "\u001b[31m[117]#011train-rmse:0.357609#011validation-rmse:2.6459\u001b[0m\n",
      "\u001b[31m[118]#011train-rmse:0.35415#011validation-rmse:2.64743\u001b[0m\n",
      "\u001b[31m[119]#011train-rmse:0.347095#011validation-rmse:2.64766\u001b[0m\n",
      "\u001b[31m[120]#011train-rmse:0.345682#011validation-rmse:2.64882\u001b[0m\n",
      "\u001b[31m[121]#011train-rmse:0.344139#011validation-rmse:2.64843\u001b[0m\n",
      "\u001b[31m[122]#011train-rmse:0.343023#011validation-rmse:2.6468\u001b[0m\n",
      "\u001b[31m[123]#011train-rmse:0.341144#011validation-rmse:2.64705\u001b[0m\n",
      "\u001b[31m[124]#011train-rmse:0.340411#011validation-rmse:2.64804\u001b[0m\n",
      "\u001b[31m[125]#011train-rmse:0.33883#011validation-rmse:2.64802\u001b[0m\n",
      "\u001b[31m[126]#011train-rmse:0.336435#011validation-rmse:2.6474\u001b[0m\n",
      "\u001b[31m[127]#011train-rmse:0.336635#011validation-rmse:2.64739\u001b[0m\n",
      "Training seconds: 55\n",
      "Billable seconds: 55\n"
     ]
    }
   ],
   "source": [
    "xgb_attached = sagemaker.estimator.Estimator.attach(xgb_hyperparameter_tuner.best_training_job())"
   ]
  },
  {
   "cell_type": "markdown",
   "metadata": {},
   "source": [
    "## Step 5: Test the model\n",
    "\n",
    "Now that we have our best performing model, we can test it. To do this we will use the batch transform functionality. To start with, we need to build a transformer object from our fit model."
   ]
  },
  {
   "cell_type": "code",
   "execution_count": 17,
   "metadata": {},
   "outputs": [],
   "source": [
    "xgb_transformer = xgb_attached.transformer(instance_count = 1, instance_type = 'ml.m4.xlarge')"
   ]
  },
  {
   "cell_type": "markdown",
   "metadata": {},
   "source": [
    "Next we ask SageMaker to begin a batch transform job using our trained model and applying it to the test data we previous stored in S3. We need to make sure to provide SageMaker with the type of data that we are providing to our model, in our case `text/csv`, so that it knows how to serialize our data. In addition, we need to make sure to let SageMaker know how to split our data up into chunks if the entire data set happens to be too large to send to our model all at once.\n",
    "\n",
    "Note that when we ask SageMaker to do this it will execute the batch transform job in the background. Since we need to wait for the results of this job before we can continue, we use the `wait()` method. An added benefit of this is that we get some output from our batch transform job which lets us know if anything went wrong."
   ]
  },
  {
   "cell_type": "code",
   "execution_count": 18,
   "metadata": {},
   "outputs": [],
   "source": [
    "xgb_transformer.transform(test_location, content_type='text/csv', split_type='Line')"
   ]
  },
  {
   "cell_type": "code",
   "execution_count": 19,
   "metadata": {},
   "outputs": [
    {
     "name": "stdout",
     "output_type": "stream",
     "text": [
      ".....................\n",
      "\u001b[31m[2019-11-10 16:40:55 +0000] [15] [INFO] Starting gunicorn 19.9.0\u001b[0m\n",
      "\u001b[31m[2019-11-10 16:40:55 +0000] [15] [INFO] Listening at: unix:/tmp/gunicorn.sock (15)\u001b[0m\n",
      "\u001b[31m[2019-11-10 16:40:55 +0000] [15] [INFO] Using worker: gevent\u001b[0m\n",
      "\u001b[31m[2019-11-10 16:40:55 +0000] [22] [INFO] Booting worker with pid: 22\u001b[0m\n",
      "\u001b[31m[2019-11-10 16:40:55 +0000] [23] [INFO] Booting worker with pid: 23\u001b[0m\n",
      "\u001b[31m[2019-11-10 16:40:55 +0000] [27] [INFO] Booting worker with pid: 27\u001b[0m\n",
      "\u001b[31m[2019-11-10 16:40:55 +0000] [28] [INFO] Booting worker with pid: 28\u001b[0m\n",
      "\u001b[31m[2019-11-10:16:41:14:INFO] No GPUs detected (normal if no gpus installed)\u001b[0m\n",
      "\u001b[31m169.254.255.130 - - [10/Nov/2019:16:41:14 +0000] \"GET /ping HTTP/1.1\" 200 0 \"-\" \"Go-http-client/1.1\"\u001b[0m\n",
      "\u001b[31m[2019-11-10:16:41:14:INFO] No GPUs detected (normal if no gpus installed)\u001b[0m\n",
      "\u001b[31m169.254.255.130 - - [10/Nov/2019:16:41:14 +0000] \"GET /execution-parameters HTTP/1.1\" 200 84 \"-\" \"Go-http-client/1.1\"\u001b[0m\n",
      "\u001b[31m[2019-11-10:16:41:14:INFO] No GPUs detected (normal if no gpus installed)\u001b[0m\n",
      "\u001b[31m[2019-11-10:16:41:14:INFO] Determined delimiter of CSV input is ','\u001b[0m\n",
      "\u001b[31m[16:41:14] WARNING: /workspace/src/objective/regression_obj.cu:152: reg:linear is now deprecated in favor of reg:squarederror.\u001b[0m\n",
      "\u001b[31m169.254.255.130 - - [10/Nov/2019:16:41:14 +0000] \"POST /invocations HTTP/1.1\" 200 3093 \"-\" \"Go-http-client/1.1\"\u001b[0m\n",
      "\u001b[32m[2019-11-10:16:41:14:INFO] No GPUs detected (normal if no gpus installed)\u001b[0m\n",
      "\u001b[32m169.254.255.130 - - [10/Nov/2019:16:41:14 +0000] \"GET /ping HTTP/1.1\" 200 0 \"-\" \"Go-http-client/1.1\"\u001b[0m\n",
      "\u001b[32m[2019-11-10:16:41:14:INFO] No GPUs detected (normal if no gpus installed)\u001b[0m\n",
      "\u001b[32m169.254.255.130 - - [10/Nov/2019:16:41:14 +0000] \"GET /execution-parameters HTTP/1.1\" 200 84 \"-\" \"Go-http-client/1.1\"\u001b[0m\n",
      "\u001b[32m[2019-11-10:16:41:14:INFO] No GPUs detected (normal if no gpus installed)\u001b[0m\n",
      "\u001b[32m[2019-11-10:16:41:14:INFO] Determined delimiter of CSV input is ','\u001b[0m\n",
      "\u001b[32m[16:41:14] WARNING: /workspace/src/objective/regression_obj.cu:152: reg:linear is now deprecated in favor of reg:squarederror.\u001b[0m\n",
      "\u001b[32m169.254.255.130 - - [10/Nov/2019:16:41:14 +0000] \"POST /invocations HTTP/1.1\" 200 3093 \"-\" \"Go-http-client/1.1\"\u001b[0m\n",
      "\u001b[33m2019-11-10T16:41:14.603:[sagemaker logs]: MaxConcurrentTransforms=4, MaxPayloadInMB=6, BatchStrategy=MULTI_RECORD\u001b[0m\n"
     ]
    }
   ],
   "source": [
    "xgb_transformer.wait()"
   ]
  },
  {
   "cell_type": "markdown",
   "metadata": {},
   "source": [
    "Now that the batch transform job has finished, the resulting output is stored on S3. Since we wish to analyze the output inside of our notebook we can use a bit of notebook magic to copy the output file from its S3 location and save it locally."
   ]
  },
  {
   "cell_type": "code",
   "execution_count": 20,
   "metadata": {},
   "outputs": [
    {
     "name": "stdout",
     "output_type": "stream",
     "text": [
      "download: s3://sagemaker-eu-central-1-601949536922/sagemaker-xgboost-191110-1613-016-cbc69-2019-11-10-16-37-47-167/test.csv.out to ../data/boston/test.csv.out\n"
     ]
    }
   ],
   "source": [
    "!aws s3 cp --recursive $xgb_transformer.output_path $data_dir"
   ]
  },
  {
   "cell_type": "markdown",
   "metadata": {},
   "source": [
    "To see how well our model works we can create a simple scatter plot between the predicted and actual values. If the model was completely accurate the resulting scatter plot would look like the line $x=y$. As we can see, our model seems to have done okay but there is room for improvement."
   ]
  },
  {
   "cell_type": "code",
   "execution_count": 21,
   "metadata": {},
   "outputs": [],
   "source": [
    "Y_pred = pd.read_csv(os.path.join(data_dir, 'test.csv.out'), header=None)"
   ]
  },
  {
   "cell_type": "code",
   "execution_count": 22,
   "metadata": {},
   "outputs": [
    {
     "data": {
      "text/plain": [
       "Text(0.5, 1.0, 'Median Price vs Predicted Price')"
      ]
     },
     "execution_count": 22,
     "metadata": {},
     "output_type": "execute_result"
    },
    {
     "data": {
      "image/png": "[encoded data removed]",
      "text/plain": [
       "<Figure size 432x288 with 1 Axes>"
      ]
     },
     "metadata": {},
     "output_type": "display_data"
    }
   ],
   "source": [
    "plt.scatter(Y_test, Y_pred)\n",
    "plt.xlabel(\"Median Price\")\n",
    "plt.ylabel(\"Predicted Price\")\n",
    "plt.title(\"Median Price vs Predicted Price\")"
   ]
  },
  {
   "cell_type": "markdown",
   "metadata": {},
   "source": [
    "## Optional: Clean up\n",
    "\n",
    "The default notebook instance on SageMaker doesn't have a lot of excess disk space available. As you continue to complete and execute notebooks you will eventually fill up this disk space, leading to errors which can be difficult to diagnose. Once you are completely finished using a notebook it is a good idea to remove the files that you created along the way. Of course, you can do this from the terminal or from the notebook hub if you would like. The cell below contains some commands to clean up the created files from within the notebook."
   ]
  },
  {
   "cell_type": "code",
   "execution_count": 23,
   "metadata": {},
   "outputs": [],
   "source": [
    "# First we will remove all of the files contained in the data_dir directory\n",
    "!rm $data_dir/*\n",
    "\n",
    "# And then we delete the directory itself\n",
    "!rmdir $data_dir"
   ]
  },
  {
   "cell_type": "code",
   "execution_count": null,
   "metadata": {},
   "outputs": [],
   "source": []
  }
 ],
 "metadata": {
  "kernelspec": {
   "display_name": "conda_pytorch_p36",
   "language": "python",
   "name": "conda_pytorch_p36"
  },
  "language_info": {
   "codemirror_mode": {
    "name": "ipython",
    "version": 3
   },
   "file_extension": ".py",
   "mimetype": "text/x-python",
   "name": "python",
   "nbconvert_exporter": "python",
   "pygments_lexer": "ipython3",
   "version": "3.6.5"
  }
 },
 "nbformat": 4,
 "nbformat_minor": 4
}
