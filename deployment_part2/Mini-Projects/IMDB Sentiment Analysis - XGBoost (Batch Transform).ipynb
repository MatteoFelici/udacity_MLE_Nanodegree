{
 "cells": [
  {
   "cell_type": "markdown",
   "metadata": {},
   "source": [
    "# Sentiment Analysis\n",
    "\n",
    "## Using XGBoost in SageMaker\n",
    "\n",
    "_Deep Learning Nanodegree Program | Deployment_\n",
    "\n",
    "---\n",
    "\n",
    "As our first example of using Amazon's SageMaker service we will construct a random tree model to predict the sentiment of a movie review. You may have seen a version of this example in a pervious lesson although it would have been done using the sklearn package. Instead, we will be using the XGBoost package as it is provided to us by Amazon.\n",
    "\n",
    "## Instructions\n",
    "\n",
    "Some template code has already been provided for you, and you will need to implement additional functionality to successfully complete this notebook. You will not need to modify the included code beyond what is requested. Sections that begin with '**TODO**' in the header indicate that you need to complete or implement some portion within them. Instructions will be provided for each section and the specifics of the implementation are marked in the code block with a `# TODO: ...` comment. Please be sure to read the instructions carefully!\n",
    "\n",
    "In addition to implementing code, there may be questions for you to answer which relate to the task and your implementation. Each section where you will answer a question is preceded by a '**Question:**' header. Carefully read each question and provide your answer below the '**Answer:**' header by editing the Markdown cell.\n",
    "\n",
    "> **Note**: Code and Markdown cells can be executed using the **Shift+Enter** keyboard shortcut. In addition, a cell can be edited by typically clicking it (double-click for Markdown cells) or by pressing **Enter** while it is highlighted."
   ]
  },
  {
   "cell_type": "markdown",
   "metadata": {},
   "source": [
    "## Step 1: Downloading the data\n",
    "\n",
    "The dataset we are going to use is very popular among researchers in Natural Language Processing, usually referred to as the [IMDb dataset](http://ai.stanford.edu/~amaas/data/sentiment/). It consists of movie reviews from the website [imdb.com](http://www.imdb.com/), each labeled as either '**pos**itive', if the reviewer enjoyed the film, or '**neg**ative' otherwise.\n",
    "\n",
    "> Maas, Andrew L., et al. [Learning Word Vectors for Sentiment Analysis](http://ai.stanford.edu/~amaas/data/sentiment/). In _Proceedings of the 49th Annual Meeting of the Association for Computational Linguistics: Human Language Technologies_. Association for Computational Linguistics, 2011.\n",
    "\n",
    "We begin by using some Jupyter Notebook magic to download and extract the dataset."
   ]
  },
  {
   "cell_type": "code",
   "execution_count": 1,
   "metadata": {},
   "outputs": [
    {
     "name": "stdout",
     "output_type": "stream",
     "text": [
      "mkdir: cannot create directory ‘../data’: File exists\n",
      "--2019-11-09 09:39:46--  http://ai.stanford.edu/~amaas/data/sentiment/aclImdb_v1.tar.gz\n",
      "Resolving ai.stanford.edu (ai.stanford.edu)... 171.64.68.10\n",
      "Connecting to ai.stanford.edu (ai.stanford.edu)|171.64.68.10|:80... connected.\n",
      "HTTP request sent, awaiting response... 200 OK\n",
      "Length: 84125825 (80M) [application/x-gzip]\n",
      "Saving to: ‘../data/aclImdb_v1.tar.gz’\n",
      "\n",
      "../data/aclImdb_v1. 100%[===================>]  80.23M  10.4MB/s    in 11s     \n",
      "\n",
      "2019-11-09 09:39:57 (7.51 MB/s) - ‘../data/aclImdb_v1.tar.gz’ saved [84125825/84125825]\n",
      "\n"
     ]
    }
   ],
   "source": [
    "%mkdir ../data\n",
    "!wget -O ../data/aclImdb_v1.tar.gz http://ai.stanford.edu/~amaas/data/sentiment/aclImdb_v1.tar.gz\n",
    "!tar -zxf ../data/aclImdb_v1.tar.gz -C ../data"
   ]
  },
  {
   "cell_type": "markdown",
   "metadata": {},
   "source": [
    "## Step 2: Preparing the data\n",
    "\n",
    "The data we have downloaded is split into various files, each of which contains a single review. It will be much easier going forward if we combine these individual files into two large files, one for training and one for testing."
   ]
  },
  {
   "cell_type": "code",
   "execution_count": 2,
   "metadata": {},
   "outputs": [],
   "source": [
    "import os\n",
    "import glob\n",
    "\n",
    "def read_imdb_data(data_dir='../data/aclImdb'):\n",
    "    data = {}\n",
    "    labels = {}\n",
    "    \n",
    "    for data_type in ['train', 'test']:\n",
    "        data[data_type] = {}\n",
    "        labels[data_type] = {}\n",
    "        \n",
    "        for sentiment in ['pos', 'neg']:\n",
    "            data[data_type][sentiment] = []\n",
    "            labels[data_type][sentiment] = []\n",
    "            \n",
    "            path = os.path.join(data_dir, data_type, sentiment, '*.txt')\n",
    "            files = glob.glob(path)\n",
    "            \n",
    "            for f in files:\n",
    "                with open(f) as review:\n",
    "                    data[data_type][sentiment].append(review.read())\n",
    "                    # Here we represent a positive review by '1' and a negative review by '0'\n",
    "                    labels[data_type][sentiment].append(1 if sentiment == 'pos' else 0)\n",
    "                    \n",
    "            assert len(data[data_type][sentiment]) == len(labels[data_type][sentiment]), \\\n",
    "                    \"{}/{} data size does not match labels size\".format(data_type, sentiment)\n",
    "                \n",
    "    return data, labels"
   ]
  },
  {
   "cell_type": "code",
   "execution_count": 43,
   "metadata": {},
   "outputs": [
    {
     "name": "stdout",
     "output_type": "stream",
     "text": [
      "IMDB reviews: train = 12500 pos / 12500 neg, test = 12500 pos / 12500 neg\n"
     ]
    }
   ],
   "source": [
    "data, labels = read_imdb_data()\n",
    "print(\"IMDB reviews: train = {} pos / {} neg, test = {} pos / {} neg\".format(\n",
    "            len(data['train']['pos']), len(data['train']['neg']),\n",
    "            len(data['test']['pos']), len(data['test']['neg'])))"
   ]
  },
  {
   "cell_type": "code",
   "execution_count": 4,
   "metadata": {},
   "outputs": [],
   "source": [
    "from sklearn.utils import shuffle\n",
    "\n",
    "def prepare_imdb_data(data, labels):\n",
    "    \"\"\"Prepare training and test sets from IMDb movie reviews.\"\"\"\n",
    "    \n",
    "    #Combine positive and negative reviews and labels\n",
    "    data_train = data['train']['pos'] + data['train']['neg']\n",
    "    data_test = data['test']['pos'] + data['test']['neg']\n",
    "    labels_train = labels['train']['pos'] + labels['train']['neg']\n",
    "    labels_test = labels['test']['pos'] + labels['test']['neg']\n",
    "    \n",
    "    #Shuffle reviews and corresponding labels within training and test sets\n",
    "    data_train, labels_train = shuffle(data_train, labels_train)\n",
    "    data_test, labels_test = shuffle(data_test, labels_test)\n",
    "    \n",
    "    # Return a unified training data, test data, training labels, test labets\n",
    "    return data_train, data_test, labels_train, labels_test"
   ]
  },
  {
   "cell_type": "code",
   "execution_count": 44,
   "metadata": {},
   "outputs": [
    {
     "name": "stdout",
     "output_type": "stream",
     "text": [
      "IMDb reviews (combined): train = 25000, test = 25000\n"
     ]
    }
   ],
   "source": [
    "train_X, test_X, train_y, test_y = prepare_imdb_data(data, labels)\n",
    "print(\"IMDb reviews (combined): train = {}, test = {}\".format(len(train_X), len(test_X)))"
   ]
  },
  {
   "cell_type": "code",
   "execution_count": 6,
   "metadata": {},
   "outputs": [
    {
     "data": {
      "text/plain": [
       "\"He-he-hello!! This is a really fun movie. Basically, in Party Girl, you have your fun-lovin', independent, early 90's New Yorker chick. Along with her party friends, she meets a mature Turkish Vendor. It is a comming of age story for those new adults who are searching for what they want to do. It is comforting to see a female slacker develop into a mature woman. Hope is given to all of us slackers who might feel like their only skills are being able to maintain while hammered and a nack for throwing good parties.<br /><br />On a side note, Parker Posey makes this movie great. I have never been a great fan of her, but this movie makes me just want to watch all of her movies. There are subtle manerisms that perfected her character. If you want good laughs and a fun time, make sure to watch this movie. Repeated viewings are a must.\""
      ]
     },
     "execution_count": 6,
     "metadata": {},
     "output_type": "execute_result"
    }
   ],
   "source": [
    "train_X[100]"
   ]
  },
  {
   "cell_type": "markdown",
   "metadata": {},
   "source": [
    "## Step 3: Processing the data\n",
    "\n",
    "Now that we have our training and testing datasets merged and ready to use, we need to start processing the raw data into something that will be useable by our machine learning algorithm. To begin with, we remove any html formatting that may appear in the reviews and perform some standard natural language processing in order to homogenize the data."
   ]
  },
  {
   "cell_type": "code",
   "execution_count": 7,
   "metadata": {},
   "outputs": [
    {
     "name": "stdout",
     "output_type": "stream",
     "text": [
      "[nltk_data] Downloading package stopwords to\n",
      "[nltk_data]     /home/ec2-user/nltk_data...\n",
      "[nltk_data]   Package stopwords is already up-to-date!\n"
     ]
    }
   ],
   "source": [
    "import nltk\n",
    "nltk.download(\"stopwords\")\n",
    "from nltk.corpus import stopwords\n",
    "from nltk.stem.porter import *\n",
    "stemmer = PorterStemmer()"
   ]
  },
  {
   "cell_type": "code",
   "execution_count": 8,
   "metadata": {},
   "outputs": [],
   "source": [
    "import re\n",
    "from bs4 import BeautifulSoup\n",
    "\n",
    "def review_to_words(review, i):\n",
    "    if i % 100 == 0:\n",
    "        print(i)\n",
    "    text = BeautifulSoup(review, \"html.parser\").get_text() # Remove HTML tags\n",
    "    text = re.sub(r\"[^a-zA-Z0-9]\", \" \", text.lower()) # Convert to lower case\n",
    "    words = text.split() # Split string into words\n",
    "    words = [w for w in words if w not in stopwords.words(\"english\")] # Remove stopwords\n",
    "    words = [PorterStemmer().stem(w) for w in words] # stem\n",
    "    \n",
    "    return words"
   ]
  },
  {
   "cell_type": "code",
   "execution_count": 9,
   "metadata": {},
   "outputs": [],
   "source": [
    "import pickle\n",
    "\n",
    "cache_dir = os.path.join(\"../cache\", \"sentiment_analysis\")  # where to store cache files\n",
    "os.makedirs(cache_dir, exist_ok=True)  # ensure cache directory exists\n",
    "\n",
    "def preprocess_data(data_train, data_test, labels_train, labels_test,\n",
    "                    cache_dir=cache_dir, cache_file=\"preprocessed_data.pkl\"):\n",
    "    \"\"\"Convert each review to words; read from cache if available.\"\"\"\n",
    "\n",
    "    # If cache_file is not None, try to read from it first\n",
    "    cache_data = None\n",
    "    if cache_file is not None:\n",
    "        try:\n",
    "            with open(os.path.join(cache_dir, cache_file), \"rb\") as f:\n",
    "                cache_data = pickle.load(f)\n",
    "            print(\"Read preprocessed data from cache file:\", cache_file)\n",
    "        except:\n",
    "            pass  # unable to read from cache, but that's okay\n",
    "    \n",
    "    # If cache is missing, then do the heavy lifting\n",
    "    if cache_data is None:\n",
    "        # Preprocess training and test data to obtain words for each review\n",
    "        #words_train = list(map(review_to_words, data_train))\n",
    "        #words_test = list(map(review_to_words, data_test))\n",
    "        words_train = [review_to_words(review, i) for i, review in enumerate(data_train)]\n",
    "        words_test = [review_to_words(review, i) for i, review in enumerate(data_test)]\n",
    "        \n",
    "        # Write to cache file for future runs\n",
    "        if cache_file is not None:\n",
    "            cache_data = dict(words_train=words_train, words_test=words_test,\n",
    "                              labels_train=labels_train, labels_test=labels_test)\n",
    "            with open(os.path.join(cache_dir, cache_file), \"wb\") as f:\n",
    "                pickle.dump(cache_data, f)\n",
    "            print(\"Wrote preprocessed data to cache file:\", cache_file)\n",
    "    else:\n",
    "        # Unpack data loaded from cache file\n",
    "        words_train, words_test, labels_train, labels_test = (cache_data['words_train'],\n",
    "                cache_data['words_test'], cache_data['labels_train'], cache_data['labels_test'])\n",
    "    \n",
    "    return words_train, words_test, labels_train, labels_test"
   ]
  },
  {
   "cell_type": "code",
   "execution_count": 45,
   "metadata": {
    "scrolled": true
   },
   "outputs": [
    {
     "name": "stdout",
     "output_type": "stream",
     "text": [
      "Read preprocessed data from cache file: preprocessed_data.pkl\n"
     ]
    }
   ],
   "source": [
    "# Preprocess data\n",
    "train_X, test_X, train_y, test_y = preprocess_data(train_X, test_X, train_y, test_y)"
   ]
  },
  {
   "cell_type": "markdown",
   "metadata": {},
   "source": [
    "### Extract Bag-of-Words features\n",
    "\n",
    "For the model we will be implementing, rather than using the reviews directly, we are going to transform each review into a Bag-of-Words feature representation. Keep in mind that 'in the wild' we will only have access to the training set so our transformer can only use the training set to construct a representation."
   ]
  },
  {
   "cell_type": "code",
   "execution_count": 11,
   "metadata": {},
   "outputs": [],
   "source": [
    "import numpy as np\n",
    "from sklearn.feature_extraction.text import CountVectorizer\n",
    "from sklearn.externals import joblib\n",
    "# joblib is an enhanced version of pickle that is more efficient for storing NumPy arrays\n",
    "\n",
    "def extract_BoW_features(words_train, words_test, vocabulary_size=5000,\n",
    "                         cache_dir=cache_dir, cache_file=\"bow_features.pkl\"):\n",
    "    \"\"\"Extract Bag-of-Words for a given set of documents, already preprocessed into words.\"\"\"\n",
    "    \n",
    "    # If cache_file is not None, try to read from it first\n",
    "    cache_data = None\n",
    "    if cache_file is not None:\n",
    "        try:\n",
    "            with open(os.path.join(cache_dir, cache_file), \"rb\") as f:\n",
    "                cache_data = joblib.load(f)\n",
    "            print(\"Read features from cache file:\", cache_file)\n",
    "        except:\n",
    "            pass  # unable to read from cache, but that's okay\n",
    "    \n",
    "    # If cache is missing, then do the heavy lifting\n",
    "    if cache_data is None:\n",
    "        # Fit a vectorizer to training documents and use it to transform them\n",
    "        # NOTE: Training documents have already been preprocessed and tokenized into words;\n",
    "        #       pass in dummy functions to skip those steps, e.g. preprocessor=lambda x: x\n",
    "        vectorizer = CountVectorizer(max_features=vocabulary_size,\n",
    "                preprocessor=lambda x: x, tokenizer=lambda x: x)  # already preprocessed\n",
    "        features_train = vectorizer.fit_transform(words_train).toarray()\n",
    "\n",
    "        # Apply the same vectorizer to transform the test documents (ignore unknown words)\n",
    "        features_test = vectorizer.transform(words_test).toarray()\n",
    "        \n",
    "        # NOTE: Remember to convert the features using .toarray() for a compact representation\n",
    "        \n",
    "        # Write to cache file for future runs (store vocabulary as well)\n",
    "        if cache_file is not None:\n",
    "            vocabulary = vectorizer.vocabulary_\n",
    "            cache_data = dict(features_train=features_train, features_test=features_test,\n",
    "                             vocabulary=vocabulary)\n",
    "            with open(os.path.join(cache_dir, cache_file), \"wb\") as f:\n",
    "                joblib.dump(cache_data, f)\n",
    "            print(\"Wrote features to cache file:\", cache_file)\n",
    "    else:\n",
    "        # Unpack data loaded from cache file\n",
    "        features_train, features_test, vocabulary = (cache_data['features_train'],\n",
    "                cache_data['features_test'], cache_data['vocabulary'])\n",
    "    \n",
    "    # Return both the extracted features as well as the vocabulary\n",
    "    return features_train, features_test, vocabulary"
   ]
  },
  {
   "cell_type": "code",
   "execution_count": 12,
   "metadata": {},
   "outputs": [
    {
     "name": "stdout",
     "output_type": "stream",
     "text": [
      "Read features from cache file: bow_features.pkl\n"
     ]
    }
   ],
   "source": [
    "# Extract Bag of Words features for both training and test datasets\n",
    "train_X, test_X, vocabulary = extract_BoW_features(train_X, test_X)"
   ]
  },
  {
   "cell_type": "markdown",
   "metadata": {},
   "source": [
    "## Step 4: Classification using XGBoost\n",
    "\n",
    "Now that we have created the feature representation of our training (and testing) data, it is time to start setting up and using the XGBoost classifier provided by SageMaker.\n",
    "\n",
    "### (TODO) Writing the dataset\n",
    "\n",
    "The XGBoost classifier that we will be using requires the dataset to be written to a file and stored using Amazon S3. To do this, we will start by splitting the training dataset into two parts, the data we will train the model with and a validation set. Then, we will write those datasets to a file and upload the files to S3. In addition, we will write the test set input to a file and upload the file to S3. This is so that we can use SageMakers Batch Transform functionality to test our model once we've fit it."
   ]
  },
  {
   "cell_type": "code",
   "execution_count": 13,
   "metadata": {},
   "outputs": [],
   "source": [
    "import pandas as pd\n",
    "\n",
    "# TODO: Split the train_X and train_y arrays into the DataFrames val_X, train_X and val_y, train_y. Make sure that\n",
    "#       val_X and val_y contain 10 000 entires while train_X and train_y contain the remaining 15 000 entries.\n",
    "from sklearn.model_selection import train_test_split\n",
    "\n",
    "train_X, val_X, train_y, val_y = train_test_split(train_X, train_y, test_size=10000, random_state=1123)"
   ]
  },
  {
   "cell_type": "markdown",
   "metadata": {},
   "source": [
    "The documentation for the XGBoost algorithm in SageMaker requires that the saved datasets should contain no headers or index and that for the training and validation data, the label should occur first for each sample.\n",
    "\n",
    "For more information about this and other algorithms, the SageMaker developer documentation can be found on __[Amazon's website.](https://docs.aws.amazon.com/sagemaker/latest/dg/)__"
   ]
  },
  {
   "cell_type": "code",
   "execution_count": 14,
   "metadata": {},
   "outputs": [],
   "source": [
    "# First we make sure that the local directory in which we'd like to store the training and validation csv files exists.\n",
    "data_dir = '../data/xgboost'\n",
    "if not os.path.exists(data_dir):\n",
    "    os.makedirs(data_dir)"
   ]
  },
  {
   "cell_type": "code",
   "execution_count": 19,
   "metadata": {},
   "outputs": [],
   "source": [
    "# First, save the test data to test.csv in the data_dir directory. Note that we do not save the associated ground truth\n",
    "# labels, instead we will use them later to compare with our model output.\n",
    "\n",
    "pd.DataFrame(test_X).to_csv(os.path.join(data_dir, 'test.csv'), header=False, index=False)"
   ]
  },
  {
   "cell_type": "code",
   "execution_count": 15,
   "metadata": {},
   "outputs": [],
   "source": [
    "# TODO: Save the training and validation data to train.csv and validation.csv in the data_dir directory.\n",
    "#       Make sure that the files you create are in the correct format.\n",
    "train = pd.DataFrame(np.concatenate([np.array(train_y).reshape(-1, 1), train_X], axis=1))\n",
    "val = pd.DataFrame(np.concatenate([np.array(val_y).reshape(-1, 1), val_X], axis=1))"
   ]
  },
  {
   "cell_type": "code",
   "execution_count": 21,
   "metadata": {},
   "outputs": [],
   "source": [
    "train.to_csv(os.path.join(data_dir, 'train.csv'), header=False, index=False)"
   ]
  },
  {
   "cell_type": "code",
   "execution_count": 22,
   "metadata": {},
   "outputs": [],
   "source": [
    "val.to_csv(os.path.join(data_dir, 'val.csv'), header=False, index=False)"
   ]
  },
  {
   "cell_type": "code",
   "execution_count": 23,
   "metadata": {},
   "outputs": [],
   "source": [
    "# To save a bit of memory we can set text_X, train_X, val_X, train_y and val_y to None.\n",
    "\n",
    "test_X = train_X = val_X = train_y = val_y = None"
   ]
  },
  {
   "cell_type": "markdown",
   "metadata": {},
   "source": [
    "### (TODO) Uploading Training / Validation files to S3\n",
    "\n",
    "Amazon's S3 service allows us to store files that can be access by both the built-in training models such as the XGBoost model we will be using as well as custom models such as the one we will see a little later.\n",
    "\n",
    "For this, and most other tasks we will be doing using SageMaker, there are two methods we could use. The first is to use the low level functionality of SageMaker which requires knowing each of the objects involved in the SageMaker environment. The second is to use the high level functionality in which certain choices have been made on the user's behalf. The low level approach benefits from allowing the user a great deal of flexibility while the high level approach makes development much quicker. For our purposes we will opt to use the high level approach although using the low-level approach is certainly an option.\n",
    "\n",
    "Recall the method `upload_data()` which is a member of object representing our current SageMaker session. What this method does is upload the data to the default bucket (which is created if it does not exist) into the path described by the key_prefix variable. To see this for yourself, once you have uploaded the data files, go to the S3 console and look to see where the files have been uploaded.\n",
    "\n",
    "For additional resources, see the __[SageMaker API documentation](http://sagemaker.readthedocs.io/en/latest/)__ and in addition the __[SageMaker Developer Guide.](https://docs.aws.amazon.com/sagemaker/latest/dg/)__"
   ]
  },
  {
   "cell_type": "code",
   "execution_count": 24,
   "metadata": {},
   "outputs": [],
   "source": [
    "import sagemaker\n",
    "\n",
    "session = sagemaker.Session() # Store the current SageMaker session\n",
    "\n",
    "# S3 prefix (which folder will we use)\n",
    "prefix = 'sentiment-xgboost'"
   ]
  },
  {
   "cell_type": "code",
   "execution_count": 25,
   "metadata": {},
   "outputs": [],
   "source": [
    "# TODO: Upload the test.csv, train.csv and validation.csv files which are contained in data_dir to S3 using sess.upload_data().\n",
    "test_location = session.upload_data(os.path.join(data_dir, 'test.csv'), key_prefix=prefix)\n",
    "val_location = session.upload_data(os.path.join(data_dir, 'val.csv'), key_prefix=prefix)\n",
    "train_location = session.upload_data(os.path.join(data_dir, 'train.csv'), key_prefix=prefix)"
   ]
  },
  {
   "cell_type": "markdown",
   "metadata": {},
   "source": [
    "### (TODO) Creating the XGBoost model\n",
    "\n",
    "Now that the data has been uploaded it is time to create the XGBoost model. To begin with, we need to do some setup. At this point it is worth discussing what a model is in SageMaker. It is easiest to think of a model of comprising three different objects in the SageMaker ecosystem, which interact with one another.\n",
    "\n",
    "- Model Artifacts\n",
    "- Training Code (Container)\n",
    "- Inference Code (Container)\n",
    "\n",
    "The Model Artifacts are what you might think of as the actual model itself. For example, if you were building a neural network, the model artifacts would be the weights of the various layers. In our case, for an XGBoost model, the artifacts are the actual trees that are created during training.\n",
    "\n",
    "The other two objects, the training code and the inference code are then used the manipulate the training artifacts. More precisely, the training code uses the training data that is provided and creates the model artifacts, while the inference code uses the model artifacts to make predictions on new data.\n",
    "\n",
    "The way that SageMaker runs the training and inference code is by making use of Docker containers. For now, think of a container as being a way of packaging code up so that dependencies aren't an issue."
   ]
  },
  {
   "cell_type": "code",
   "execution_count": 26,
   "metadata": {},
   "outputs": [],
   "source": [
    "from sagemaker import get_execution_role\n",
    "\n",
    "# Our current execution role is require when creating the model as the training\n",
    "# and inference code will need to access the model artifacts.\n",
    "role = get_execution_role()"
   ]
  },
  {
   "cell_type": "code",
   "execution_count": 28,
   "metadata": {},
   "outputs": [],
   "source": [
    "# We need to retrieve the location of the container which is provided by Amazon for using XGBoost.\n",
    "# As a matter of convenience, the training and inference code both use the same container.\n",
    "from sagemaker.amazon.amazon_estimator import get_image_uri\n",
    "\n",
    "container = get_image_uri(session.boto_region_name, 'xgboost', '0.90-1')"
   ]
  },
  {
   "cell_type": "code",
   "execution_count": 33,
   "metadata": {},
   "outputs": [],
   "source": [
    "# TODO: Create a SageMaker estimator using the container location determined in the previous cell.\n",
    "#       It is recommended that you use a single training instance of type ml.m4.xlarge. It is also\n",
    "#       recommended that you use 's3://{}/{}/output'.format(session.default_bucket(), prefix) as the\n",
    "#       output path.\n",
    "\n",
    "xgb = sagemaker.estimator.Estimator(container,\n",
    "                                    role,\n",
    "                                    train_instance_count=1,\n",
    "                                    train_instance_type='ml.m4.xlarge',\n",
    "                                    output_path='s3://{}/{}/output'.format(session.default_bucket(), prefix),\n",
    "                                    sagemaker_session=session)\n",
    "\n",
    "\n",
    "# TODO: Set the XGBoost hyperparameters in the xgb object. Don't forget that in this case we have a binary\n",
    "#       label so we should be using the 'binary:logistic' objective.\n",
    "xgb.set_hyperparameters(objective='binary:logistic',\n",
    "                        num_round=200,\n",
    "                        eta=0.1,\n",
    "                        max_depth=5,\n",
    "                        subsample=0.3,\n",
    "                        gamma=4,\n",
    "                        min_child_weight=6,\n",
    "                        early_stopping_rounds=10,\n",
    "                        seed=1123)"
   ]
  },
  {
   "cell_type": "markdown",
   "metadata": {},
   "source": [
    "### Fit the XGBoost model\n",
    "\n",
    "Now that our model has been set up we simply need to attach the training and validation datasets and then ask SageMaker to set up the computation."
   ]
  },
  {
   "cell_type": "code",
   "execution_count": 34,
   "metadata": {},
   "outputs": [],
   "source": [
    "s3_input_train = sagemaker.s3_input(s3_data=train_location, content_type='csv')\n",
    "s3_input_validation = sagemaker.s3_input(s3_data=val_location, content_type='csv')"
   ]
  },
  {
   "cell_type": "code",
   "execution_count": 35,
   "metadata": {
    "scrolled": true
   },
   "outputs": [
    {
     "name": "stdout",
     "output_type": "stream",
     "text": [
      "2019-11-09 11:28:40 Starting - Starting the training job...\n",
      "2019-11-09 11:28:56 Starting - Launching requested ML instances......\n",
      "2019-11-09 11:29:55 Starting - Preparing the instances for training......\n",
      "2019-11-09 11:31:00 Downloading - Downloading input data\n",
      "2019-11-09 11:31:00 Training - Downloading the training image...\n",
      "2019-11-09 11:31:25 Training - Training image download completed. Training in progress..\u001b[31mINFO:sagemaker-containers:Imported framework sagemaker_xgboost_container.training\u001b[0m\n",
      "\u001b[31mINFO:sagemaker-containers:Failed to parse hyperparameter objective value binary:logistic to Json.\u001b[0m\n",
      "\u001b[31mReturning the value itself\u001b[0m\n",
      "\u001b[31mINFO:sagemaker-containers:No GPUs detected (normal if no gpus installed)\u001b[0m\n",
      "\u001b[31mINFO:sagemaker_xgboost_container.training:Running XGBoost Sagemaker in algorithm mode\u001b[0m\n",
      "\u001b[31mINFO:root:Determined delimiter of CSV input is ','\u001b[0m\n",
      "\u001b[31mINFO:root:Determined delimiter of CSV input is ','\u001b[0m\n",
      "\u001b[31mINFO:root:Determined delimiter of CSV input is ','\u001b[0m\n",
      "\u001b[31m[11:31:29] 15000x5000 matrix with 75000000 entries loaded from /opt/ml/input/data/train?format=csv&label_column=0&delimiter=,\u001b[0m\n",
      "\u001b[31mINFO:root:Determined delimiter of CSV input is ','\u001b[0m\n",
      "\u001b[31m[11:31:30] 10000x5000 matrix with 50000000 entries loaded from /opt/ml/input/data/validation?format=csv&label_column=0&delimiter=,\u001b[0m\n",
      "\u001b[31mINFO:root:Single node training.\u001b[0m\n",
      "\u001b[31mINFO:root:Train matrix has 15000 rows\u001b[0m\n",
      "\u001b[31mINFO:root:Validation matrix has 10000 rows\u001b[0m\n",
      "\u001b[31m[0]#011train-error:0.288#011validation-error:0.2867\u001b[0m\n",
      "\u001b[31m[1]#011train-error:0.285133#011validation-error:0.2836\u001b[0m\n",
      "\u001b[31m[2]#011train-error:0.2842#011validation-error:0.2797\u001b[0m\n",
      "\u001b[31m[3]#011train-error:0.283133#011validation-error:0.2813\u001b[0m\n",
      "\u001b[31m[4]#011train-error:0.278533#011validation-error:0.2772\u001b[0m\n",
      "\u001b[31m[5]#011train-error:0.277067#011validation-error:0.2749\u001b[0m\n",
      "\u001b[31m[6]#011train-error:0.275533#011validation-error:0.2741\u001b[0m\n",
      "\u001b[31m[7]#011train-error:0.270733#011validation-error:0.2728\u001b[0m\n",
      "\u001b[31m[8]#011train-error:0.269733#011validation-error:0.2714\u001b[0m\n",
      "\u001b[31m[9]#011train-error:0.2692#011validation-error:0.2694\u001b[0m\n",
      "\u001b[31m[10]#011train-error:0.264067#011validation-error:0.2656\u001b[0m\n",
      "\u001b[31m[11]#011train-error:0.258467#011validation-error:0.2604\u001b[0m\n",
      "\u001b[31m[12]#011train-error:0.2492#011validation-error:0.2539\u001b[0m\n",
      "\u001b[31m[13]#011train-error:0.247533#011validation-error:0.2511\u001b[0m\n",
      "\u001b[31m[14]#011train-error:0.2388#011validation-error:0.2445\u001b[0m\n",
      "\u001b[31m[15]#011train-error:0.2364#011validation-error:0.2393\u001b[0m\n",
      "\u001b[31m[16]#011train-error:0.233733#011validation-error:0.2387\u001b[0m\n",
      "\u001b[31m[17]#011train-error:0.229867#011validation-error:0.2353\u001b[0m\n",
      "\u001b[31m[18]#011train-error:0.228067#011validation-error:0.2323\u001b[0m\n",
      "\u001b[31m[19]#011train-error:0.228733#011validation-error:0.2352\u001b[0m\n",
      "\u001b[31m[20]#011train-error:0.223933#011validation-error:0.2319\u001b[0m\n",
      "\u001b[31m[21]#011train-error:0.221533#011validation-error:0.2302\u001b[0m\n",
      "\u001b[31m[22]#011train-error:0.219467#011validation-error:0.2294\u001b[0m\n",
      "\u001b[31m[23]#011train-error:0.216933#011validation-error:0.2265\u001b[0m\n",
      "\u001b[31m[24]#011train-error:0.214267#011validation-error:0.2257\u001b[0m\n",
      "\u001b[31m[25]#011train-error:0.214533#011validation-error:0.2241\u001b[0m\n",
      "\u001b[31m[26]#011train-error:0.2108#011validation-error:0.2217\u001b[0m\n",
      "\u001b[31m[27]#011train-error:0.2096#011validation-error:0.2194\u001b[0m\n",
      "\u001b[31m[28]#011train-error:0.208733#011validation-error:0.2191\u001b[0m\n",
      "\u001b[31m[29]#011train-error:0.206933#011validation-error:0.2176\u001b[0m\n",
      "\u001b[31m[30]#011train-error:0.204533#011validation-error:0.2151\u001b[0m\n",
      "\u001b[31m[31]#011train-error:0.203867#011validation-error:0.2133\u001b[0m\n",
      "\u001b[31m[32]#011train-error:0.2016#011validation-error:0.21\u001b[0m\n",
      "\u001b[31m[33]#011train-error:0.198067#011validation-error:0.209\u001b[0m\n",
      "\u001b[31m[34]#011train-error:0.195333#011validation-error:0.2068\u001b[0m\n",
      "\u001b[31m[35]#011train-error:0.194#011validation-error:0.2049\u001b[0m\n",
      "\u001b[31m[36]#011train-error:0.193#011validation-error:0.2036\u001b[0m\n",
      "\u001b[31m[37]#011train-error:0.191067#011validation-error:0.203\u001b[0m\n",
      "\u001b[31m[38]#011train-error:0.1898#011validation-error:0.2029\u001b[0m\n",
      "\u001b[31m[39]#011train-error:0.1892#011validation-error:0.2011\u001b[0m\n",
      "\u001b[31m[40]#011train-error:0.188133#011validation-error:0.1996\u001b[0m\n",
      "\u001b[31m[41]#011train-error:0.1872#011validation-error:0.1994\u001b[0m\n",
      "\u001b[31m[42]#011train-error:0.186133#011validation-error:0.1985\u001b[0m\n",
      "\u001b[31m[43]#011train-error:0.184933#011validation-error:0.1978\u001b[0m\n",
      "\u001b[31m[44]#011train-error:0.1836#011validation-error:0.1973\u001b[0m\n",
      "\u001b[31m[45]#011train-error:0.181667#011validation-error:0.1966\u001b[0m\n",
      "\u001b[31m[46]#011train-error:0.180267#011validation-error:0.1951\u001b[0m\n",
      "\u001b[31m[47]#011train-error:0.178333#011validation-error:0.1943\u001b[0m\n",
      "\u001b[31m[48]#011train-error:0.1776#011validation-error:0.1935\u001b[0m\n",
      "\u001b[31m[49]#011train-error:0.1766#011validation-error:0.1932\u001b[0m\n",
      "\u001b[31m[50]#011train-error:0.176133#011validation-error:0.1914\u001b[0m\n",
      "\u001b[31m[51]#011train-error:0.175267#011validation-error:0.1903\u001b[0m\n",
      "\u001b[31m[52]#011train-error:0.1734#011validation-error:0.1899\u001b[0m\n",
      "\u001b[31m[53]#011train-error:0.173267#011validation-error:0.1899\u001b[0m\n",
      "\u001b[31m[54]#011train-error:0.1718#011validation-error:0.1887\u001b[0m\n",
      "\u001b[31m[55]#011train-error:0.171133#011validation-error:0.1874\u001b[0m\n",
      "\u001b[31m[56]#011train-error:0.170467#011validation-error:0.1867\u001b[0m\n",
      "\u001b[31m[57]#011train-error:0.169133#011validation-error:0.1868\u001b[0m\n",
      "\u001b[31m[58]#011train-error:0.168067#011validation-error:0.1868\u001b[0m\n",
      "\u001b[31m[59]#011train-error:0.167667#011validation-error:0.1857\u001b[0m\n",
      "\u001b[31m[60]#011train-error:0.167#011validation-error:0.1852\u001b[0m\n",
      "\u001b[31m[61]#011train-error:0.1658#011validation-error:0.1849\u001b[0m\n",
      "\u001b[31m[62]#011train-error:0.1644#011validation-error:0.182\u001b[0m\n",
      "\u001b[31m[63]#011train-error:0.163933#011validation-error:0.181\u001b[0m\n",
      "\u001b[31m[64]#011train-error:0.162933#011validation-error:0.1797\u001b[0m\n",
      "\u001b[31m[65]#011train-error:0.162533#011validation-error:0.1795\u001b[0m\n",
      "\u001b[31m[66]#011train-error:0.161267#011validation-error:0.1779\u001b[0m\n",
      "\u001b[31m[67]#011train-error:0.160933#011validation-error:0.1783\u001b[0m\n",
      "\u001b[31m[68]#011train-error:0.160467#011validation-error:0.1771\u001b[0m\n",
      "\u001b[31m[69]#011train-error:0.160467#011validation-error:0.1778\u001b[0m\n",
      "\u001b[31m[70]#011train-error:0.161067#011validation-error:0.1789\u001b[0m\n",
      "\u001b[31m[71]#011train-error:0.159267#011validation-error:0.1782\u001b[0m\n",
      "\u001b[31m[72]#011train-error:0.1588#011validation-error:0.1771\u001b[0m\n",
      "\u001b[31m[73]#011train-error:0.157933#011validation-error:0.1774\u001b[0m\n",
      "\u001b[31m[74]#011train-error:0.157#011validation-error:0.1767\u001b[0m\n",
      "\u001b[31m[75]#011train-error:0.156533#011validation-error:0.1764\u001b[0m\n",
      "\u001b[31m[76]#011train-error:0.154867#011validation-error:0.1772\u001b[0m\n",
      "\u001b[31m[77]#011train-error:0.154533#011validation-error:0.1772\u001b[0m\n",
      "\u001b[31m[78]#011train-error:0.153867#011validation-error:0.1764\u001b[0m\n",
      "\u001b[31m[79]#011train-error:0.1534#011validation-error:0.1758\u001b[0m\n",
      "\u001b[31m[80]#011train-error:0.1536#011validation-error:0.1745\u001b[0m\n",
      "\u001b[31m[81]#011train-error:0.153#011validation-error:0.1753\u001b[0m\n",
      "\u001b[31m[82]#011train-error:0.153067#011validation-error:0.1753\u001b[0m\n",
      "\u001b[31m[83]#011train-error:0.153533#011validation-error:0.176\u001b[0m\n",
      "\u001b[31m[84]#011train-error:0.153733#011validation-error:0.1765\u001b[0m\n",
      "\u001b[31m[85]#011train-error:0.152533#011validation-error:0.1759\u001b[0m\n",
      "\u001b[31m[86]#011train-error:0.151733#011validation-error:0.1757\u001b[0m\n",
      "\u001b[31m[87]#011train-error:0.151667#011validation-error:0.1743\u001b[0m\n",
      "\u001b[31m[88]#011train-error:0.1506#011validation-error:0.1747\u001b[0m\n",
      "\u001b[31m[89]#011train-error:0.150067#011validation-error:0.174\u001b[0m\n",
      "\u001b[31m[90]#011train-error:0.148733#011validation-error:0.1734\u001b[0m\n",
      "\u001b[31m[91]#011train-error:0.148733#011validation-error:0.173\u001b[0m\n",
      "\u001b[31m[92]#011train-error:0.148#011validation-error:0.1727\u001b[0m\n",
      "\u001b[31m[93]#011train-error:0.147733#011validation-error:0.1727\u001b[0m\n",
      "\u001b[31m[94]#011train-error:0.1468#011validation-error:0.1709\u001b[0m\n",
      "\u001b[31m[95]#011train-error:0.146333#011validation-error:0.1709\u001b[0m\n",
      "\u001b[31m[96]#011train-error:0.1462#011validation-error:0.1711\u001b[0m\n",
      "\u001b[31m[97]#011train-error:0.1468#011validation-error:0.1705\u001b[0m\n",
      "\u001b[31m[98]#011train-error:0.146867#011validation-error:0.1698\u001b[0m\n",
      "\u001b[31m[99]#011train-error:0.146267#011validation-error:0.1705\u001b[0m\n",
      "\u001b[31m[100]#011train-error:0.145733#011validation-error:0.1707\u001b[0m\n",
      "\u001b[31m[101]#011train-error:0.1456#011validation-error:0.1713\u001b[0m\n",
      "\u001b[31m[102]#011train-error:0.145267#011validation-error:0.1704\u001b[0m\n",
      "\u001b[31m[103]#011train-error:0.144533#011validation-error:0.1698\u001b[0m\n",
      "\u001b[31m[104]#011train-error:0.1448#011validation-error:0.1696\u001b[0m\n",
      "\u001b[31m[105]#011train-error:0.143533#011validation-error:0.1693\u001b[0m\n",
      "\u001b[31m[106]#011train-error:0.142933#011validation-error:0.1692\u001b[0m\n",
      "\u001b[31m[107]#011train-error:0.142933#011validation-error:0.1683\u001b[0m\n",
      "\u001b[31m[108]#011train-error:0.1422#011validation-error:0.1674\u001b[0m\n",
      "\u001b[31m[109]#011train-error:0.141667#011validation-error:0.1668\u001b[0m\n",
      "\u001b[31m[110]#011train-error:0.1412#011validation-error:0.1672\u001b[0m\n",
      "\u001b[31m[111]#011train-error:0.139933#011validation-error:0.1682\u001b[0m\n",
      "\u001b[31m[112]#011train-error:0.139933#011validation-error:0.1686\u001b[0m\n",
      "\u001b[31m[113]#011train-error:0.139067#011validation-error:0.1688\u001b[0m\n",
      "\u001b[31m[114]#011train-error:0.1396#011validation-error:0.1677\u001b[0m\n",
      "\u001b[31m[115]#011train-error:0.139133#011validation-error:0.1673\u001b[0m\n",
      "\u001b[31m[116]#011train-error:0.1392#011validation-error:0.1661\u001b[0m\n",
      "\u001b[31m[117]#011train-error:0.138467#011validation-error:0.1661\u001b[0m\n",
      "\u001b[31m[118]#011train-error:0.138467#011validation-error:0.1657\u001b[0m\n",
      "\u001b[31m[119]#011train-error:0.138533#011validation-error:0.1656\u001b[0m\n",
      "\u001b[31m[120]#011train-error:0.138133#011validation-error:0.1655\u001b[0m\n",
      "\u001b[31m[121]#011train-error:0.1374#011validation-error:0.1644\u001b[0m\n",
      "\u001b[31m[122]#011train-error:0.136867#011validation-error:0.165\u001b[0m\n",
      "\u001b[31m[123]#011train-error:0.1368#011validation-error:0.1651\u001b[0m\n",
      "\u001b[31m[124]#011train-error:0.136667#011validation-error:0.165\u001b[0m\n",
      "\u001b[31m[125]#011train-error:0.137#011validation-error:0.1653\u001b[0m\n",
      "\u001b[31m[126]#011train-error:0.136067#011validation-error:0.1645\u001b[0m\n",
      "\u001b[31m[127]#011train-error:0.135267#011validation-error:0.1635\u001b[0m\n",
      "\u001b[31m[128]#011train-error:0.134667#011validation-error:0.1636\u001b[0m\n",
      "\u001b[31m[129]#011train-error:0.1348#011validation-error:0.1638\u001b[0m\n",
      "\u001b[31m[130]#011train-error:0.1344#011validation-error:0.1636\u001b[0m\n",
      "\u001b[31m[131]#011train-error:0.1336#011validation-error:0.1624\u001b[0m\n",
      "\u001b[31m[132]#011train-error:0.133267#011validation-error:0.1634\u001b[0m\n",
      "\u001b[31m[133]#011train-error:0.1332#011validation-error:0.162\u001b[0m\n",
      "\u001b[31m[134]#011train-error:0.132067#011validation-error:0.1625\u001b[0m\n",
      "\u001b[31m[135]#011train-error:0.131667#011validation-error:0.1614\u001b[0m\n",
      "\u001b[31m[136]#011train-error:0.1322#011validation-error:0.1626\u001b[0m\n",
      "\u001b[31m[137]#011train-error:0.1318#011validation-error:0.1624\u001b[0m\n",
      "\u001b[31m[138]#011train-error:0.131333#011validation-error:0.1623\u001b[0m\n",
      "\u001b[31m[139]#011train-error:0.1312#011validation-error:0.1619\u001b[0m\n",
      "\u001b[31m[140]#011train-error:0.130467#011validation-error:0.1625\u001b[0m\n",
      "\u001b[31m[141]#011train-error:0.13#011validation-error:0.1615\u001b[0m\n",
      "\u001b[31m[142]#011train-error:0.1304#011validation-error:0.162\u001b[0m\n",
      "\u001b[31m[143]#011train-error:0.129933#011validation-error:0.1617\u001b[0m\n",
      "\u001b[31m[144]#011train-error:0.130133#011validation-error:0.1607\u001b[0m\n",
      "\u001b[31m[145]#011train-error:0.1304#011validation-error:0.1606\u001b[0m\n",
      "\u001b[31m[146]#011train-error:0.130267#011validation-error:0.1608\u001b[0m\n",
      "\u001b[31m[147]#011train-error:0.130867#011validation-error:0.1594\u001b[0m\n",
      "\u001b[31m[148]#011train-error:0.130133#011validation-error:0.1587\u001b[0m\n",
      "\u001b[31m[149]#011train-error:0.129867#011validation-error:0.1587\u001b[0m\n",
      "\u001b[31m[150]#011train-error:0.129#011validation-error:0.1586\u001b[0m\n",
      "\u001b[31m[151]#011train-error:0.129067#011validation-error:0.1577\u001b[0m\n",
      "\u001b[31m[152]#011train-error:0.129#011validation-error:0.1582\u001b[0m\n",
      "\u001b[31m[153]#011train-error:0.128133#011validation-error:0.1577\u001b[0m\n",
      "\u001b[31m[154]#011train-error:0.127533#011validation-error:0.1572\u001b[0m\n",
      "\u001b[31m[155]#011train-error:0.127467#011validation-error:0.1572\u001b[0m\n",
      "\u001b[31m[156]#011train-error:0.126533#011validation-error:0.1566\u001b[0m\n",
      "\u001b[31m[157]#011train-error:0.126067#011validation-error:0.1556\u001b[0m\n",
      "\u001b[31m[158]#011train-error:0.125533#011validation-error:0.1551\u001b[0m\n",
      "\u001b[31m[159]#011train-error:0.126133#011validation-error:0.155\u001b[0m\n",
      "\u001b[31m[160]#011train-error:0.126133#011validation-error:0.1562\u001b[0m\n",
      "\u001b[31m[161]#011train-error:0.125533#011validation-error:0.1553\u001b[0m\n",
      "\u001b[31m[162]#011train-error:0.1252#011validation-error:0.1547\u001b[0m\n",
      "\u001b[31m[163]#011train-error:0.1254#011validation-error:0.155\u001b[0m\n",
      "\u001b[31m[164]#011train-error:0.1254#011validation-error:0.155\u001b[0m\n",
      "\u001b[31m[165]#011train-error:0.125067#011validation-error:0.1537\u001b[0m\n",
      "\u001b[31m[166]#011train-error:0.123867#011validation-error:0.1536\u001b[0m\n",
      "\u001b[31m[167]#011train-error:0.123667#011validation-error:0.1535\u001b[0m\n",
      "\u001b[31m[168]#011train-error:0.123533#011validation-error:0.1531\u001b[0m\n",
      "\u001b[31m[169]#011train-error:0.124067#011validation-error:0.1529\u001b[0m\n",
      "\u001b[31m[170]#011train-error:0.123533#011validation-error:0.1534\u001b[0m\n",
      "\u001b[31m[171]#011train-error:0.123133#011validation-error:0.1529\u001b[0m\n",
      "\u001b[31m[172]#011train-error:0.123333#011validation-error:0.1527\u001b[0m\n",
      "\u001b[31m[173]#011train-error:0.123133#011validation-error:0.1537\u001b[0m\n",
      "\u001b[31m[174]#011train-error:0.123067#011validation-error:0.1541\u001b[0m\n",
      "\u001b[31m[175]#011train-error:0.122533#011validation-error:0.1533\u001b[0m\n",
      "\u001b[31m[176]#011train-error:0.122267#011validation-error:0.1528\u001b[0m\n",
      "\u001b[31m[177]#011train-error:0.1226#011validation-error:0.1523\u001b[0m\n",
      "\u001b[31m[178]#011train-error:0.1218#011validation-error:0.152\u001b[0m\n",
      "\u001b[31m[179]#011train-error:0.121733#011validation-error:0.1519\u001b[0m\n",
      "\u001b[31m[180]#011train-error:0.121333#011validation-error:0.1518\u001b[0m\n",
      "\u001b[31m[181]#011train-error:0.121533#011validation-error:0.1506\u001b[0m\n",
      "\u001b[31m[182]#011train-error:0.120933#011validation-error:0.1503\u001b[0m\n",
      "\u001b[31m[183]#011train-error:0.1208#011validation-error:0.1501\u001b[0m\n",
      "\u001b[31m[184]#011train-error:0.1202#011validation-error:0.15\u001b[0m\n",
      "\u001b[31m[185]#011train-error:0.121067#011validation-error:0.1502\u001b[0m\n",
      "\n",
      "2019-11-09 11:34:41 Uploading - Uploading generated training model\u001b[31m[186]#011train-error:0.120533#011validation-error:0.1505\u001b[0m\n",
      "\u001b[31m[187]#011train-error:0.12#011validation-error:0.1504\u001b[0m\n",
      "\u001b[31m[188]#011train-error:0.120133#011validation-error:0.1511\u001b[0m\n",
      "\u001b[31m[189]#011train-error:0.1198#011validation-error:0.1502\u001b[0m\n",
      "\u001b[31m[190]#011train-error:0.1188#011validation-error:0.1501\u001b[0m\n",
      "\u001b[31m[191]#011train-error:0.118933#011validation-error:0.1496\u001b[0m\n",
      "\u001b[31m[192]#011train-error:0.118667#011validation-error:0.1496\u001b[0m\n",
      "\u001b[31m[193]#011train-error:0.118#011validation-error:0.1493\u001b[0m\n",
      "\u001b[31m[194]#011train-error:0.117467#011validation-error:0.1492\u001b[0m\n",
      "\u001b[31m[195]#011train-error:0.1172#011validation-error:0.1489\u001b[0m\n",
      "\u001b[31m[196]#011train-error:0.116933#011validation-error:0.1483\u001b[0m\n",
      "\u001b[31m[197]#011train-error:0.117067#011validation-error:0.1481\u001b[0m\n",
      "\u001b[31m[198]#011train-error:0.1172#011validation-error:0.1475\u001b[0m\n",
      "\u001b[31m[199]#011train-error:0.116933#011validation-error:0.1472\u001b[0m\n",
      "\n",
      "2019-11-09 11:34:47 Completed - Training job completed\n",
      "Training seconds: 244\n",
      "Billable seconds: 244\n"
     ]
    }
   ],
   "source": [
    "xgb.fit({'train': s3_input_train, 'validation': s3_input_validation})"
   ]
  },
  {
   "cell_type": "markdown",
   "metadata": {},
   "source": [
    "### (TODO) Testing the model\n",
    "\n",
    "Now that we've fit our XGBoost model, it's time to see how well it performs. To do this we will use SageMakers Batch Transform functionality. Batch Transform is a convenient way to perform inference on a large dataset in a way that is not realtime. That is, we don't necessarily need to use our model's results immediately and instead we can peform inference on a large number of samples. An example of this in industry might be peforming an end of month report. This method of inference can also be useful to us as it means to can perform inference on our entire test set. \n",
    "\n",
    "To perform a Batch Transformation we need to first create a transformer objects from our trained estimator object."
   ]
  },
  {
   "cell_type": "code",
   "execution_count": 36,
   "metadata": {},
   "outputs": [],
   "source": [
    "# TODO: Create a transformer object from the trained model. Using an instance count of 1 and an instance type of ml.m4.xlarge\n",
    "#       should be more than enough.\n",
    "xgb_transformer = xgb.transformer(instance_count=1,\n",
    "                                  instance_type='ml.m4.xlarge')"
   ]
  },
  {
   "cell_type": "markdown",
   "metadata": {},
   "source": [
    "Next we actually perform the transform job. When doing so we need to make sure to specify the type of data we are sending so that it is serialized correctly in the background. In our case we are providing our model with csv data so we specify `text/csv`. Also, if the test data that we have provided is too large to process all at once then we need to specify how the data file should be split up. Since each line is a single entry in our data set we tell SageMaker that it can split the input on each line."
   ]
  },
  {
   "cell_type": "code",
   "execution_count": 37,
   "metadata": {},
   "outputs": [],
   "source": [
    "# TODO: Start the transform job. Make sure to specify the content type and the split type of the test data.\n",
    "xgb_transformer.transform(test_location, content_type='text/csv', split_type='Line')"
   ]
  },
  {
   "cell_type": "markdown",
   "metadata": {},
   "source": [
    "Currently the transform job is running but it is doing so in the background. Since we wish to wait until the transform job is done and we would like a bit of feedback we can run the `wait()` method."
   ]
  },
  {
   "cell_type": "code",
   "execution_count": 38,
   "metadata": {},
   "outputs": [
    {
     "name": "stdout",
     "output_type": "stream",
     "text": [
      ".....................\u001b[31m[2019-11-09 11:41:54 +0000] [15] [INFO] Starting gunicorn 19.9.0\u001b[0m\n",
      "\u001b[31m[2019-11-09 11:41:54 +0000] [15] [INFO] Listening at: unix:/tmp/gunicorn.sock (15)\u001b[0m\n",
      "\u001b[31m[2019-11-09 11:41:54 +0000] [15] [INFO] Using worker: gevent\u001b[0m\n",
      "\u001b[31m[2019-11-09 11:41:54 +0000] [22] [INFO] Booting worker with pid: 22\u001b[0m\n",
      "\u001b[31m[2019-11-09 11:41:54 +0000] [23] [INFO] Booting worker with pid: 23\u001b[0m\n",
      "\u001b[31m[2019-11-09 11:41:54 +0000] [24] [INFO] Booting worker with pid: 24\u001b[0m\n",
      "\u001b[31m[2019-11-09 11:41:54 +0000] [25] [INFO] Booting worker with pid: 25\u001b[0m\n",
      "\u001b[31m[2019-11-09:11:42:18:INFO] No GPUs detected (normal if no gpus installed)\u001b[0m\n",
      "\u001b[31m169.254.255.130 - - [09/Nov/2019:11:42:18 +0000] \"GET /ping HTTP/1.1\" 200 0 \"-\" \"Go-http-client/1.1\"\u001b[0m\n",
      "\u001b[31m[2019-11-09:11:42:18:INFO] No GPUs detected (normal if no gpus installed)\u001b[0m\n",
      "\u001b[31m169.254.255.130 - - [09/Nov/2019:11:42:18 +0000] \"GET /execution-parameters HTTP/1.1\" 200 84 \"-\" \"Go-http-client/1.1\"\u001b[0m\n",
      "\u001b[31m[2019-11-09:11:42:21:INFO] No GPUs detected (normal if no gpus installed)\u001b[0m\n",
      "\u001b[31m[2019-11-09:11:42:21:INFO] Determined delimiter of CSV input is ','\u001b[0m\n",
      "\u001b[31m[2019-11-09:11:42:21:INFO] Determined delimiter of CSV input is ','\u001b[0m\n",
      "\u001b[31m[2019-11-09:11:42:21:INFO] No GPUs detected (normal if no gpus installed)\u001b[0m\n",
      "\u001b[31m[2019-11-09:11:42:21:INFO] Determined delimiter of CSV input is ','\u001b[0m\n",
      "\u001b[31m[2019-11-09:11:42:21:INFO] Determined delimiter of CSV input is ','\u001b[0m\n",
      "\u001b[33m2019-11-09T11:42:18.518:[sagemaker logs]: MaxConcurrentTransforms=4, MaxPayloadInMB=6, BatchStrategy=MULTI_RECORD\u001b[0m\n",
      "\u001b[31m169.254.255.130 - - [09/Nov/2019:11:42:24 +0000] \"POST /invocations HTTP/1.1\" 200 12184 \"-\" \"Go-http-client/1.1\"\u001b[0m\n",
      "\u001b[31m169.254.255.130 - - [09/Nov/2019:11:42:24 +0000] \"POST /invocations HTTP/1.1\" 200 12188 \"-\" \"Go-http-client/1.1\"\u001b[0m\n",
      "\u001b[32m169.254.255.130 - - [09/Nov/2019:11:42:24 +0000] \"POST /invocations HTTP/1.1\" 200 12184 \"-\" \"Go-http-client/1.1\"\u001b[0m\n",
      "\u001b[32m169.254.255.130 - - [09/Nov/2019:11:42:24 +0000] \"POST /invocations HTTP/1.1\" 200 12188 \"-\" \"Go-http-client/1.1\"\u001b[0m\n",
      "\u001b[31m169.254.255.130 - - [09/Nov/2019:11:42:24 +0000] \"POST /invocations HTTP/1.1\" 200 12181 \"-\" \"Go-http-client/1.1\"\u001b[0m\n",
      "\u001b[31m169.254.255.130 - - [09/Nov/2019:11:42:25 +0000] \"POST /invocations HTTP/1.1\" 200 12180 \"-\" \"Go-http-client/1.1\"\u001b[0m\n",
      "\u001b[31m[2019-11-09:11:42:25:INFO] Determined delimiter of CSV input is ','\u001b[0m\n",
      "\u001b[31m[2019-11-09:11:42:25:INFO] Determined delimiter of CSV input is ','\u001b[0m\n",
      "\u001b[31m[2019-11-09:11:42:25:INFO] Determined delimiter of CSV input is ','\u001b[0m\n",
      "\u001b[31m[2019-11-09:11:42:25:INFO] Determined delimiter of CSV input is ','\u001b[0m\n",
      "\u001b[32m169.254.255.130 - - [09/Nov/2019:11:42:24 +0000] \"POST /invocations HTTP/1.1\" 200 12181 \"-\" \"Go-http-client/1.1\"\u001b[0m\n",
      "\u001b[32m169.254.255.130 - - [09/Nov/2019:11:42:25 +0000] \"POST /invocations HTTP/1.1\" 200 12180 \"-\" \"Go-http-client/1.1\"\u001b[0m\n",
      "\u001b[32m[2019-11-09:11:42:25:INFO] Determined delimiter of CSV input is ','\u001b[0m\n",
      "\u001b[32m[2019-11-09:11:42:25:INFO] Determined delimiter of CSV input is ','\u001b[0m\n",
      "\u001b[32m[2019-11-09:11:42:25:INFO] Determined delimiter of CSV input is ','\u001b[0m\n",
      "\u001b[32m[2019-11-09:11:42:25:INFO] Determined delimiter of CSV input is ','\u001b[0m\n",
      "\u001b[31m169.254.255.130 - - [09/Nov/2019:11:42:28 +0000] \"POST /invocations HTTP/1.1\" 200 12213 \"-\" \"Go-http-client/1.1\"\u001b[0m\n",
      "\u001b[31m169.254.255.130 - - [09/Nov/2019:11:42:28 +0000] \"POST /invocations HTTP/1.1\" 200 12158 \"-\" \"Go-http-client/1.1\"\u001b[0m\n",
      "\u001b[31m169.254.255.130 - - [09/Nov/2019:11:42:28 +0000] \"POST /invocations HTTP/1.1\" 200 12203 \"-\" \"Go-http-client/1.1\"\u001b[0m\n",
      "\u001b[31m[2019-11-09:11:42:28:INFO] Determined delimiter of CSV input is ','\u001b[0m\n",
      "\u001b[32m169.254.255.130 - - [09/Nov/2019:11:42:28 +0000] \"POST /invocations HTTP/1.1\" 200 12213 \"-\" \"Go-http-client/1.1\"\u001b[0m\n",
      "\u001b[32m169.254.255.130 - - [09/Nov/2019:11:42:28 +0000] \"POST /invocations HTTP/1.1\" 200 12158 \"-\" \"Go-http-client/1.1\"\u001b[0m\n",
      "\u001b[32m169.254.255.130 - - [09/Nov/2019:11:42:28 +0000] \"POST /invocations HTTP/1.1\" 200 12203 \"-\" \"Go-http-client/1.1\"\u001b[0m\n",
      "\u001b[32m[2019-11-09:11:42:28:INFO] Determined delimiter of CSV input is ','\u001b[0m\n",
      "\u001b[31m169.254.255.130 - - [09/Nov/2019:11:42:28 +0000] \"POST /invocations HTTP/1.1\" 200 12223 \"-\" \"Go-http-client/1.1\"\u001b[0m\n",
      "\u001b[31m[2019-11-09:11:42:28:INFO] Determined delimiter of CSV input is ','\u001b[0m\n",
      "\u001b[31m[2019-11-09:11:42:28:INFO] Determined delimiter of CSV input is ','\u001b[0m\n",
      "\u001b[32m169.254.255.130 - - [09/Nov/2019:11:42:28 +0000] \"POST /invocations HTTP/1.1\" 200 12223 \"-\" \"Go-http-client/1.1\"\u001b[0m\n",
      "\u001b[32m[2019-11-09:11:42:28:INFO] Determined delimiter of CSV input is ','\u001b[0m\n",
      "\u001b[32m[2019-11-09:11:42:28:INFO] Determined delimiter of CSV input is ','\u001b[0m\n",
      "\u001b[31m[2019-11-09:11:42:28:INFO] Determined delimiter of CSV input is ','\u001b[0m\n",
      "\u001b[32m[2019-11-09:11:42:28:INFO] Determined delimiter of CSV input is ','\u001b[0m\n",
      "\u001b[31m169.254.255.130 - - [09/Nov/2019:11:42:31 +0000] \"POST /invocations HTTP/1.1\" 200 12189 \"-\" \"Go-http-client/1.1\"\u001b[0m\n",
      "\u001b[31m169.254.255.130 - - [09/Nov/2019:11:42:32 +0000] \"POST /invocations HTTP/1.1\" 200 12191 \"-\" \"Go-http-client/1.1\"\u001b[0m\n",
      "\u001b[31m169.254.255.130 - - [09/Nov/2019:11:42:32 +0000] \"POST /invocations HTTP/1.1\" 200 12189 \"-\" \"Go-http-client/1.1\"\u001b[0m\n",
      "\u001b[31m[2019-11-09:11:42:32:INFO] Determined delimiter of CSV input is ','\u001b[0m\n",
      "\u001b[31m[2019-11-09:11:42:32:INFO] Determined delimiter of CSV input is ','\u001b[0m\n",
      "\u001b[31m169.254.255.130 - - [09/Nov/2019:11:42:32 +0000] \"POST /invocations HTTP/1.1\" 200 12172 \"-\" \"Go-http-client/1.1\"\u001b[0m\n",
      "\u001b[31m[2019-11-09:11:42:32:INFO] Determined delimiter of CSV input is ','\u001b[0m\n",
      "\u001b[31m[2019-11-09:11:42:32:INFO] Determined delimiter of CSV input is ','\u001b[0m\n",
      "\u001b[32m169.254.255.130 - - [09/Nov/2019:11:42:31 +0000] \"POST /invocations HTTP/1.1\" 200 12189 \"-\" \"Go-http-client/1.1\"\u001b[0m\n",
      "\u001b[32m169.254.255.130 - - [09/Nov/2019:11:42:32 +0000] \"POST /invocations HTTP/1.1\" 200 12191 \"-\" \"Go-http-client/1.1\"\u001b[0m\n",
      "\u001b[32m169.254.255.130 - - [09/Nov/2019:11:42:32 +0000] \"POST /invocations HTTP/1.1\" 200 12189 \"-\" \"Go-http-client/1.1\"\u001b[0m\n",
      "\u001b[32m[2019-11-09:11:42:32:INFO] Determined delimiter of CSV input is ','\u001b[0m\n",
      "\u001b[32m[2019-11-09:11:42:32:INFO] Determined delimiter of CSV input is ','\u001b[0m\n",
      "\u001b[32m169.254.255.130 - - [09/Nov/2019:11:42:32 +0000] \"POST /invocations HTTP/1.1\" 200 12172 \"-\" \"Go-http-client/1.1\"\u001b[0m\n",
      "\u001b[32m[2019-11-09:11:42:32:INFO] Determined delimiter of CSV input is ','\u001b[0m\n",
      "\u001b[32m[2019-11-09:11:42:32:INFO] Determined delimiter of CSV input is ','\u001b[0m\n",
      "\u001b[31m169.254.255.130 - - [09/Nov/2019:11:42:39 +0000] \"POST /invocations HTTP/1.1\" 200 12191 \"-\" \"Go-http-client/1.1\"\u001b[0m\n",
      "\u001b[31m169.254.255.130 - - [09/Nov/2019:11:42:39 +0000] \"POST /invocations HTTP/1.1\" 200 12182 \"-\" \"Go-http-client/1.1\"\u001b[0m\n",
      "\u001b[31m[2019-11-09:11:42:39:INFO] Determined delimiter of CSV input is ','\u001b[0m\n",
      "\u001b[31m169.254.255.130 - - [09/Nov/2019:11:42:39 +0000] \"POST /invocations HTTP/1.1\" 200 12172 \"-\" \"Go-http-client/1.1\"\u001b[0m\n",
      "\u001b[31m[2019-11-09:11:42:39:INFO] Determined delimiter of CSV input is ','\u001b[0m\n",
      "\u001b[31m169.254.255.130 - - [09/Nov/2019:11:42:39 +0000] \"POST /invocations HTTP/1.1\" 200 12184 \"-\" \"Go-http-client/1.1\"\u001b[0m\n",
      "\u001b[31m[2019-11-09:11:42:39:INFO] Determined delimiter of CSV input is ','\u001b[0m\n",
      "\u001b[31m[2019-11-09:11:42:39:INFO] Determined delimiter of CSV input is ','\u001b[0m\n",
      "\u001b[32m169.254.255.130 - - [09/Nov/2019:11:42:39 +0000] \"POST /invocations HTTP/1.1\" 200 12191 \"-\" \"Go-http-client/1.1\"\u001b[0m\n",
      "\u001b[32m169.254.255.130 - - [09/Nov/2019:11:42:39 +0000] \"POST /invocations HTTP/1.1\" 200 12182 \"-\" \"Go-http-client/1.1\"\u001b[0m\n",
      "\u001b[32m[2019-11-09:11:42:39:INFO] Determined delimiter of CSV input is ','\u001b[0m\n",
      "\u001b[32m169.254.255.130 - - [09/Nov/2019:11:42:39 +0000] \"POST /invocations HTTP/1.1\" 200 12172 \"-\" \"Go-http-client/1.1\"\u001b[0m\n",
      "\u001b[32m[2019-11-09:11:42:39:INFO] Determined delimiter of CSV input is ','\u001b[0m\n",
      "\u001b[32m169.254.255.130 - - [09/Nov/2019:11:42:39 +0000] \"POST /invocations HTTP/1.1\" 200 12184 \"-\" \"Go-http-client/1.1\"\u001b[0m\n",
      "\u001b[32m[2019-11-09:11:42:39:INFO] Determined delimiter of CSV input is ','\u001b[0m\n",
      "\u001b[32m[2019-11-09:11:42:39:INFO] Determined delimiter of CSV input is ','\u001b[0m\n",
      "\u001b[31m169.254.255.130 - - [09/Nov/2019:11:42:42 +0000] \"POST /invocations HTTP/1.1\" 200 12196 \"-\" \"Go-http-client/1.1\"\u001b[0m\n",
      "\u001b[31m169.254.255.130 - - [09/Nov/2019:11:42:42 +0000] \"POST /invocations HTTP/1.1\" 200 12201 \"-\" \"Go-http-client/1.1\"\u001b[0m\n",
      "\u001b[31m[2019-11-09:11:42:42:INFO] Determined delimiter of CSV input is ','\u001b[0m\n",
      "\u001b[31m169.254.255.130 - - [09/Nov/2019:11:42:42 +0000] \"POST /invocations HTTP/1.1\" 200 12176 \"-\" \"Go-http-client/1.1\"\u001b[0m\n",
      "\u001b[32m169.254.255.130 - - [09/Nov/2019:11:42:42 +0000] \"POST /invocations HTTP/1.1\" 200 12196 \"-\" \"Go-http-client/1.1\"\u001b[0m\n",
      "\u001b[32m169.254.255.130 - - [09/Nov/2019:11:42:42 +0000] \"POST /invocations HTTP/1.1\" 200 12201 \"-\" \"Go-http-client/1.1\"\u001b[0m\n",
      "\u001b[32m[2019-11-09:11:42:42:INFO] Determined delimiter of CSV input is ','\u001b[0m\n",
      "\u001b[32m169.254.255.130 - - [09/Nov/2019:11:42:42 +0000] \"POST /invocations HTTP/1.1\" 200 12176 \"-\" \"Go-http-client/1.1\"\u001b[0m\n",
      "\u001b[31m[2019-11-09:11:42:42:INFO] Determined delimiter of CSV input is ','\u001b[0m\n",
      "\u001b[32m[2019-11-09:11:42:42:INFO] Determined delimiter of CSV input is ','\u001b[0m\n",
      "\u001b[31m169.254.255.130 - - [09/Nov/2019:11:42:42 +0000] \"POST /invocations HTTP/1.1\" 200 12174 \"-\" \"Go-http-client/1.1\"\u001b[0m\n",
      "\u001b[31m[2019-11-09:11:42:42:INFO] Determined delimiter of CSV input is ','\u001b[0m\n",
      "\u001b[31m[2019-11-09:11:42:43:INFO] Determined delimiter of CSV input is ','\u001b[0m\n",
      "\u001b[32m169.254.255.130 - - [09/Nov/2019:11:42:42 +0000] \"POST /invocations HTTP/1.1\" 200 12174 \"-\" \"Go-http-client/1.1\"\u001b[0m\n",
      "\u001b[32m[2019-11-09:11:42:42:INFO] Determined delimiter of CSV input is ','\u001b[0m\n",
      "\u001b[32m[2019-11-09:11:42:43:INFO] Determined delimiter of CSV input is ','\u001b[0m\n",
      "\u001b[31m169.254.255.130 - - [09/Nov/2019:11:42:46 +0000] \"POST /invocations HTTP/1.1\" 200 12178 \"-\" \"Go-http-client/1.1\"\u001b[0m\n",
      "\u001b[31m169.254.255.130 - - [09/Nov/2019:11:42:46 +0000] \"POST /invocations HTTP/1.1\" 200 12177 \"-\" \"Go-http-client/1.1\"\u001b[0m\n",
      "\u001b[31m169.254.255.130 - - [09/Nov/2019:11:42:46 +0000] \"POST /invocations HTTP/1.1\" 200 12174 \"-\" \"Go-http-client/1.1\"\u001b[0m\n",
      "\u001b[31m[2019-11-09:11:42:46:INFO] Determined delimiter of CSV input is ','\u001b[0m\n",
      "\u001b[32m169.254.255.130 - - [09/Nov/2019:11:42:46 +0000] \"POST /invocations HTTP/1.1\" 200 12178 \"-\" \"Go-http-client/1.1\"\u001b[0m\n",
      "\u001b[32m169.254.255.130 - - [09/Nov/2019:11:42:46 +0000] \"POST /invocations HTTP/1.1\" 200 12177 \"-\" \"Go-http-client/1.1\"\u001b[0m\n",
      "\u001b[32m169.254.255.130 - - [09/Nov/2019:11:42:46 +0000] \"POST /invocations HTTP/1.1\" 200 12174 \"-\" \"Go-http-client/1.1\"\u001b[0m\n",
      "\u001b[32m[2019-11-09:11:42:46:INFO] Determined delimiter of CSV input is ','\u001b[0m\n",
      "\u001b[31m[2019-11-09:11:42:46:INFO] Determined delimiter of CSV input is ','\u001b[0m\n",
      "\u001b[31m169.254.255.130 - - [09/Nov/2019:11:42:46 +0000] \"POST /invocations HTTP/1.1\" 200 12195 \"-\" \"Go-http-client/1.1\"\u001b[0m\n",
      "\u001b[31m[2019-11-09:11:42:46:INFO] Determined delimiter of CSV input is ','\u001b[0m\n",
      "\u001b[31m[2019-11-09:11:42:46:INFO] Determined delimiter of CSV input is ','\u001b[0m\n",
      "\u001b[32m[2019-11-09:11:42:46:INFO] Determined delimiter of CSV input is ','\u001b[0m\n",
      "\u001b[32m169.254.255.130 - - [09/Nov/2019:11:42:46 +0000] \"POST /invocations HTTP/1.1\" 200 12195 \"-\" \"Go-http-client/1.1\"\u001b[0m\n",
      "\u001b[32m[2019-11-09:11:42:46:INFO] Determined delimiter of CSV input is ','\u001b[0m\n",
      "\u001b[32m[2019-11-09:11:42:46:INFO] Determined delimiter of CSV input is ','\u001b[0m\n",
      "\u001b[31m169.254.255.130 - - [09/Nov/2019:11:42:49 +0000] \"POST /invocations HTTP/1.1\" 200 12167 \"-\" \"Go-http-client/1.1\"\u001b[0m\n",
      "\u001b[31m[2019-11-09:11:42:49:INFO] Determined delimiter of CSV input is ','\u001b[0m\n",
      "\u001b[32m169.254.255.130 - - [09/Nov/2019:11:42:49 +0000] \"POST /invocations HTTP/1.1\" 200 12167 \"-\" \"Go-http-client/1.1\"\u001b[0m\n",
      "\u001b[32m[2019-11-09:11:42:49:INFO] Determined delimiter of CSV input is ','\u001b[0m\n",
      "\u001b[31m[2019-11-09:11:42:50:INFO] Determined delimiter of CSV input is ','\u001b[0m\n",
      "\u001b[32m[2019-11-09:11:42:50:INFO] Determined delimiter of CSV input is ','\u001b[0m\n",
      "\u001b[31m[2019-11-09:11:42:50:INFO] Determined delimiter of CSV input is ','\u001b[0m\n",
      "\u001b[32m[2019-11-09:11:42:50:INFO] Determined delimiter of CSV input is ','\u001b[0m\n",
      "\u001b[31m169.254.255.130 - - [09/Nov/2019:11:42:53 +0000] \"POST /invocations HTTP/1.1\" 200 12198 \"-\" \"Go-http-client/1.1\"\u001b[0m\n",
      "\u001b[32m169.254.255.130 - - [09/Nov/2019:11:42:53 +0000] \"POST /invocations HTTP/1.1\" 200 12198 \"-\" \"Go-http-client/1.1\"\u001b[0m\n",
      "\u001b[31m169.254.255.130 - - [09/Nov/2019:11:42:53 +0000] \"POST /invocations HTTP/1.1\" 200 12156 \"-\" \"Go-http-client/1.1\"\u001b[0m\n",
      "\u001b[31m[2019-11-09:11:42:53:INFO] Determined delimiter of CSV input is ','\u001b[0m\n",
      "\u001b[31m169.254.255.130 - - [09/Nov/2019:11:42:53 +0000] \"POST /invocations HTTP/1.1\" 200 12184 \"-\" \"Go-http-client/1.1\"\u001b[0m\n",
      "\u001b[31m[2019-11-09:11:42:53:INFO] Determined delimiter of CSV input is ','\u001b[0m\n",
      "\u001b[31m169.254.255.130 - - [09/Nov/2019:11:42:53 +0000] \"POST /invocations HTTP/1.1\" 200 12196 \"-\" \"Go-http-client/1.1\"\u001b[0m\n",
      "\u001b[31m[2019-11-09:11:42:53:INFO] Determined delimiter of CSV input is ','\u001b[0m\n",
      "\u001b[31m[2019-11-09:11:42:53:INFO] Determined delimiter of CSV input is ','\u001b[0m\n",
      "\u001b[32m169.254.255.130 - - [09/Nov/2019:11:42:53 +0000] \"POST /invocations HTTP/1.1\" 200 12156 \"-\" \"Go-http-client/1.1\"\u001b[0m\n",
      "\u001b[32m[2019-11-09:11:42:53:INFO] Determined delimiter of CSV input is ','\u001b[0m\n",
      "\u001b[32m169.254.255.130 - - [09/Nov/2019:11:42:53 +0000] \"POST /invocations HTTP/1.1\" 200 12184 \"-\" \"Go-http-client/1.1\"\u001b[0m\n",
      "\u001b[32m[2019-11-09:11:42:53:INFO] Determined delimiter of CSV input is ','\u001b[0m\n",
      "\u001b[32m169.254.255.130 - - [09/Nov/2019:11:42:53 +0000] \"POST /invocations HTTP/1.1\" 200 12196 \"-\" \"Go-http-client/1.1\"\u001b[0m\n",
      "\u001b[32m[2019-11-09:11:42:53:INFO] Determined delimiter of CSV input is ','\u001b[0m\n",
      "\u001b[32m[2019-11-09:11:42:53:INFO] Determined delimiter of CSV input is ','\u001b[0m\n",
      "\n"
     ]
    }
   ],
   "source": [
    "xgb_transformer.wait()"
   ]
  },
  {
   "cell_type": "markdown",
   "metadata": {},
   "source": [
    "Now the transform job has executed and the result, the estimated sentiment of each review, has been saved on S3. Since we would rather work on this file locally we can perform a bit of notebook magic to copy the file to the `data_dir`."
   ]
  },
  {
   "cell_type": "code",
   "execution_count": 40,
   "metadata": {},
   "outputs": [
    {
     "name": "stdout",
     "output_type": "stream",
     "text": [
      "download: s3://sagemaker-eu-central-1-601949536922/sagemaker-xgboost-2019-11-09-11-38-46-024/test.csv.out to ../data/xgboost/test.csv.out\n"
     ]
    }
   ],
   "source": [
    "!aws s3 cp --recursive $xgb_transformer.output_path $data_dir"
   ]
  },
  {
   "cell_type": "markdown",
   "metadata": {},
   "source": [
    "The last step is now to read in the output from our model, convert the output to something a little more usable, in this case we want the sentiment to be either `1` (positive) or `0` (negative), and then compare to the ground truth labels."
   ]
  },
  {
   "cell_type": "code",
   "execution_count": 41,
   "metadata": {},
   "outputs": [],
   "source": [
    "predictions = pd.read_csv(os.path.join(data_dir, 'test.csv.out'), header=None)\n",
    "predictions = [round(num) for num in predictions.squeeze().values]"
   ]
  },
  {
   "cell_type": "code",
   "execution_count": 46,
   "metadata": {},
   "outputs": [
    {
     "data": {
      "text/plain": [
       "0.8556"
      ]
     },
     "execution_count": 46,
     "metadata": {},
     "output_type": "execute_result"
    }
   ],
   "source": [
    "from sklearn.metrics import accuracy_score\n",
    "accuracy_score(test_y, predictions)"
   ]
  },
  {
   "cell_type": "markdown",
   "metadata": {},
   "source": [
    "## Optional: Clean up\n",
    "\n",
    "The default notebook instance on SageMaker doesn't have a lot of excess disk space available. As you continue to complete and execute notebooks you will eventually fill up this disk space, leading to errors which can be difficult to diagnose. Once you are completely finished using a notebook it is a good idea to remove the files that you created along the way. Of course, you can do this from the terminal or from the notebook hub if you would like. The cell below contains some commands to clean up the created files from within the notebook."
   ]
  },
  {
   "cell_type": "code",
   "execution_count": null,
   "metadata": {},
   "outputs": [],
   "source": [
    "# First we will remove all of the files contained in the data_dir directory\n",
    "!rm $data_dir/*\n",
    "\n",
    "# And then we delete the directory itself\n",
    "!rmdir $data_dir\n",
    "\n",
    "# Similarly we will remove the files in the cache_dir directory and the directory itself\n",
    "!rm $cache_dir/*\n",
    "!rmdir $cache_dir"
   ]
  },
  {
   "cell_type": "code",
   "execution_count": null,
   "metadata": {},
   "outputs": [],
   "source": []
  }
 ],
 "metadata": {
  "kernelspec": {
   "display_name": "conda_python3",
   "language": "python",
   "name": "conda_python3"
  },
  "language_info": {
   "codemirror_mode": {
    "name": "ipython",
    "version": 3
   },
   "file_extension": ".py",
   "mimetype": "text/x-python",
   "name": "python",
   "nbconvert_exporter": "python",
   "pygments_lexer": "ipython3",
   "version": "3.6.5"
  }
 },
 "nbformat": 4,
 "nbformat_minor": 4
}
